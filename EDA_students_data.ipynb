{
  "nbformat": 4,
  "nbformat_minor": 0,
  "metadata": {
    "colab": {
      "provenance": []
    },
    "kernelspec": {
      "name": "python3",
      "display_name": "Python 3"
    },
    "language_info": {
      "name": "python"
    }
  },
  "cells": [
    {
      "cell_type": "code",
      "metadata": {
        "id": "ZG-5bfCMNunN"
      },
      "source": [
        "import pandas as pd"
      ],
      "execution_count": null,
      "outputs": []
    },
    {
      "cell_type": "code",
      "metadata": {
        "id": "tJWCw6ZGMPFo"
      },
      "source": [
        "import plotly.express as px\n",
        "import plotly.graph_objects as go\n"
      ],
      "execution_count": null,
      "outputs": []
    },
    {
      "cell_type": "code",
      "metadata": {
        "id": "Rr9B47SVGt9r",
        "colab": {
          "base_uri": "https://localhost:8080/"
        },
        "outputId": "fc23eecd-12fe-439c-8bf8-845346f36d24"
      },
      "source": [
        "from google.colab import drive\n",
        "drive.mount('/content/drive')"
      ],
      "execution_count": null,
      "outputs": [
        {
          "output_type": "stream",
          "name": "stdout",
          "text": [
            "Drive already mounted at /content/drive; to attempt to forcibly remount, call drive.mount(\"/content/drive\", force_remount=True).\n"
          ]
        }
      ]
    },
    {
      "cell_type": "code",
      "metadata": {
        "id": "EyjM1lmTOMi-"
      },
      "source": [
        "data = pd.read_csv(\"/content/students_data.csv\")"
      ],
      "execution_count": null,
      "outputs": []
    },
    {
      "cell_type": "code",
      "metadata": {
        "id": "88AcNdSZNH6c"
      },
      "source": [
        "data=data.iloc[:,1:]"
      ],
      "execution_count": null,
      "outputs": []
    },
    {
      "cell_type": "code",
      "metadata": {
        "id": "VPQRSrrMbRgj",
        "colab": {
          "base_uri": "https://localhost:8080/",
          "height": 437
        },
        "outputId": "df271b3b-6f2b-4e03-bd42-59979e46af64"
      },
      "source": [
        "data"
      ],
      "execution_count": null,
      "outputs": [
        {
          "output_type": "execute_result",
          "data": {
            "text/html": [
              "<div>\n",
              "<style scoped>\n",
              "    .dataframe tbody tr th:only-of-type {\n",
              "        vertical-align: middle;\n",
              "    }\n",
              "\n",
              "    .dataframe tbody tr th {\n",
              "        vertical-align: top;\n",
              "    }\n",
              "\n",
              "    .dataframe thead th {\n",
              "        text-align: right;\n",
              "    }\n",
              "</style>\n",
              "<table border=\"1\" class=\"dataframe\">\n",
              "  <thead>\n",
              "    <tr style=\"text-align: right;\">\n",
              "      <th></th>\n",
              "      <th>school</th>\n",
              "      <th>sex</th>\n",
              "      <th>age</th>\n",
              "      <th>address</th>\n",
              "      <th>famsize</th>\n",
              "      <th>Pstatus</th>\n",
              "      <th>Medu</th>\n",
              "      <th>Fedu</th>\n",
              "      <th>Mjob</th>\n",
              "      <th>Fjob</th>\n",
              "      <th>reason</th>\n",
              "      <th>guardian</th>\n",
              "      <th>traveltime</th>\n",
              "      <th>studytime</th>\n",
              "      <th>failures</th>\n",
              "      <th>schoolsup</th>\n",
              "      <th>famsup</th>\n",
              "      <th>paid</th>\n",
              "      <th>activities</th>\n",
              "      <th>nursery</th>\n",
              "      <th>higher</th>\n",
              "      <th>internet</th>\n",
              "      <th>romantic</th>\n",
              "      <th>famrel</th>\n",
              "      <th>freetime</th>\n",
              "      <th>goout</th>\n",
              "      <th>Dalc</th>\n",
              "      <th>Walc</th>\n",
              "      <th>health</th>\n",
              "      <th>absences</th>\n",
              "      <th>G1</th>\n",
              "      <th>G2</th>\n",
              "      <th>G3</th>\n",
              "      <th>Subject</th>\n",
              "    </tr>\n",
              "  </thead>\n",
              "  <tbody>\n",
              "    <tr>\n",
              "      <th>0</th>\n",
              "      <td>GP</td>\n",
              "      <td>F</td>\n",
              "      <td>18</td>\n",
              "      <td>U</td>\n",
              "      <td>GT3</td>\n",
              "      <td>A</td>\n",
              "      <td>4</td>\n",
              "      <td>4</td>\n",
              "      <td>at_home</td>\n",
              "      <td>teacher</td>\n",
              "      <td>course</td>\n",
              "      <td>mother</td>\n",
              "      <td>2</td>\n",
              "      <td>2</td>\n",
              "      <td>0</td>\n",
              "      <td>yes</td>\n",
              "      <td>no</td>\n",
              "      <td>no</td>\n",
              "      <td>no</td>\n",
              "      <td>yes</td>\n",
              "      <td>yes</td>\n",
              "      <td>no</td>\n",
              "      <td>no</td>\n",
              "      <td>4</td>\n",
              "      <td>3</td>\n",
              "      <td>4</td>\n",
              "      <td>1</td>\n",
              "      <td>1</td>\n",
              "      <td>3</td>\n",
              "      <td>6</td>\n",
              "      <td>5</td>\n",
              "      <td>6</td>\n",
              "      <td>6</td>\n",
              "      <td>Math</td>\n",
              "    </tr>\n",
              "    <tr>\n",
              "      <th>1</th>\n",
              "      <td>GP</td>\n",
              "      <td>F</td>\n",
              "      <td>17</td>\n",
              "      <td>U</td>\n",
              "      <td>GT3</td>\n",
              "      <td>T</td>\n",
              "      <td>1</td>\n",
              "      <td>1</td>\n",
              "      <td>at_home</td>\n",
              "      <td>other</td>\n",
              "      <td>course</td>\n",
              "      <td>father</td>\n",
              "      <td>1</td>\n",
              "      <td>2</td>\n",
              "      <td>0</td>\n",
              "      <td>no</td>\n",
              "      <td>yes</td>\n",
              "      <td>no</td>\n",
              "      <td>no</td>\n",
              "      <td>no</td>\n",
              "      <td>yes</td>\n",
              "      <td>yes</td>\n",
              "      <td>no</td>\n",
              "      <td>5</td>\n",
              "      <td>3</td>\n",
              "      <td>3</td>\n",
              "      <td>1</td>\n",
              "      <td>1</td>\n",
              "      <td>3</td>\n",
              "      <td>4</td>\n",
              "      <td>5</td>\n",
              "      <td>5</td>\n",
              "      <td>6</td>\n",
              "      <td>Math</td>\n",
              "    </tr>\n",
              "    <tr>\n",
              "      <th>2</th>\n",
              "      <td>GP</td>\n",
              "      <td>F</td>\n",
              "      <td>15</td>\n",
              "      <td>U</td>\n",
              "      <td>LE3</td>\n",
              "      <td>T</td>\n",
              "      <td>1</td>\n",
              "      <td>1</td>\n",
              "      <td>at_home</td>\n",
              "      <td>other</td>\n",
              "      <td>other</td>\n",
              "      <td>mother</td>\n",
              "      <td>1</td>\n",
              "      <td>2</td>\n",
              "      <td>3</td>\n",
              "      <td>yes</td>\n",
              "      <td>no</td>\n",
              "      <td>yes</td>\n",
              "      <td>no</td>\n",
              "      <td>yes</td>\n",
              "      <td>yes</td>\n",
              "      <td>yes</td>\n",
              "      <td>no</td>\n",
              "      <td>4</td>\n",
              "      <td>3</td>\n",
              "      <td>2</td>\n",
              "      <td>2</td>\n",
              "      <td>3</td>\n",
              "      <td>3</td>\n",
              "      <td>10</td>\n",
              "      <td>7</td>\n",
              "      <td>8</td>\n",
              "      <td>10</td>\n",
              "      <td>Math</td>\n",
              "    </tr>\n",
              "    <tr>\n",
              "      <th>3</th>\n",
              "      <td>GP</td>\n",
              "      <td>F</td>\n",
              "      <td>15</td>\n",
              "      <td>U</td>\n",
              "      <td>GT3</td>\n",
              "      <td>T</td>\n",
              "      <td>4</td>\n",
              "      <td>2</td>\n",
              "      <td>health</td>\n",
              "      <td>services</td>\n",
              "      <td>home</td>\n",
              "      <td>mother</td>\n",
              "      <td>1</td>\n",
              "      <td>3</td>\n",
              "      <td>0</td>\n",
              "      <td>no</td>\n",
              "      <td>yes</td>\n",
              "      <td>yes</td>\n",
              "      <td>yes</td>\n",
              "      <td>yes</td>\n",
              "      <td>yes</td>\n",
              "      <td>yes</td>\n",
              "      <td>yes</td>\n",
              "      <td>3</td>\n",
              "      <td>2</td>\n",
              "      <td>2</td>\n",
              "      <td>1</td>\n",
              "      <td>1</td>\n",
              "      <td>5</td>\n",
              "      <td>2</td>\n",
              "      <td>15</td>\n",
              "      <td>14</td>\n",
              "      <td>15</td>\n",
              "      <td>Math</td>\n",
              "    </tr>\n",
              "    <tr>\n",
              "      <th>4</th>\n",
              "      <td>GP</td>\n",
              "      <td>F</td>\n",
              "      <td>16</td>\n",
              "      <td>U</td>\n",
              "      <td>GT3</td>\n",
              "      <td>T</td>\n",
              "      <td>3</td>\n",
              "      <td>3</td>\n",
              "      <td>other</td>\n",
              "      <td>other</td>\n",
              "      <td>home</td>\n",
              "      <td>father</td>\n",
              "      <td>1</td>\n",
              "      <td>2</td>\n",
              "      <td>0</td>\n",
              "      <td>no</td>\n",
              "      <td>yes</td>\n",
              "      <td>yes</td>\n",
              "      <td>no</td>\n",
              "      <td>yes</td>\n",
              "      <td>yes</td>\n",
              "      <td>no</td>\n",
              "      <td>no</td>\n",
              "      <td>4</td>\n",
              "      <td>3</td>\n",
              "      <td>2</td>\n",
              "      <td>1</td>\n",
              "      <td>2</td>\n",
              "      <td>5</td>\n",
              "      <td>4</td>\n",
              "      <td>6</td>\n",
              "      <td>10</td>\n",
              "      <td>10</td>\n",
              "      <td>Math</td>\n",
              "    </tr>\n",
              "    <tr>\n",
              "      <th>...</th>\n",
              "      <td>...</td>\n",
              "      <td>...</td>\n",
              "      <td>...</td>\n",
              "      <td>...</td>\n",
              "      <td>...</td>\n",
              "      <td>...</td>\n",
              "      <td>...</td>\n",
              "      <td>...</td>\n",
              "      <td>...</td>\n",
              "      <td>...</td>\n",
              "      <td>...</td>\n",
              "      <td>...</td>\n",
              "      <td>...</td>\n",
              "      <td>...</td>\n",
              "      <td>...</td>\n",
              "      <td>...</td>\n",
              "      <td>...</td>\n",
              "      <td>...</td>\n",
              "      <td>...</td>\n",
              "      <td>...</td>\n",
              "      <td>...</td>\n",
              "      <td>...</td>\n",
              "      <td>...</td>\n",
              "      <td>...</td>\n",
              "      <td>...</td>\n",
              "      <td>...</td>\n",
              "      <td>...</td>\n",
              "      <td>...</td>\n",
              "      <td>...</td>\n",
              "      <td>...</td>\n",
              "      <td>...</td>\n",
              "      <td>...</td>\n",
              "      <td>...</td>\n",
              "      <td>...</td>\n",
              "    </tr>\n",
              "    <tr>\n",
              "      <th>1039</th>\n",
              "      <td>MS</td>\n",
              "      <td>F</td>\n",
              "      <td>19</td>\n",
              "      <td>R</td>\n",
              "      <td>GT3</td>\n",
              "      <td>T</td>\n",
              "      <td>2</td>\n",
              "      <td>3</td>\n",
              "      <td>services</td>\n",
              "      <td>other</td>\n",
              "      <td>course</td>\n",
              "      <td>mother</td>\n",
              "      <td>1</td>\n",
              "      <td>3</td>\n",
              "      <td>1</td>\n",
              "      <td>no</td>\n",
              "      <td>no</td>\n",
              "      <td>no</td>\n",
              "      <td>yes</td>\n",
              "      <td>no</td>\n",
              "      <td>yes</td>\n",
              "      <td>yes</td>\n",
              "      <td>no</td>\n",
              "      <td>5</td>\n",
              "      <td>4</td>\n",
              "      <td>2</td>\n",
              "      <td>1</td>\n",
              "      <td>2</td>\n",
              "      <td>5</td>\n",
              "      <td>4</td>\n",
              "      <td>10</td>\n",
              "      <td>11</td>\n",
              "      <td>10</td>\n",
              "      <td>Por</td>\n",
              "    </tr>\n",
              "    <tr>\n",
              "      <th>1040</th>\n",
              "      <td>MS</td>\n",
              "      <td>F</td>\n",
              "      <td>18</td>\n",
              "      <td>U</td>\n",
              "      <td>LE3</td>\n",
              "      <td>T</td>\n",
              "      <td>3</td>\n",
              "      <td>1</td>\n",
              "      <td>teacher</td>\n",
              "      <td>services</td>\n",
              "      <td>course</td>\n",
              "      <td>mother</td>\n",
              "      <td>1</td>\n",
              "      <td>2</td>\n",
              "      <td>0</td>\n",
              "      <td>no</td>\n",
              "      <td>yes</td>\n",
              "      <td>no</td>\n",
              "      <td>no</td>\n",
              "      <td>yes</td>\n",
              "      <td>yes</td>\n",
              "      <td>yes</td>\n",
              "      <td>no</td>\n",
              "      <td>4</td>\n",
              "      <td>3</td>\n",
              "      <td>4</td>\n",
              "      <td>1</td>\n",
              "      <td>1</td>\n",
              "      <td>1</td>\n",
              "      <td>4</td>\n",
              "      <td>15</td>\n",
              "      <td>15</td>\n",
              "      <td>16</td>\n",
              "      <td>Por</td>\n",
              "    </tr>\n",
              "    <tr>\n",
              "      <th>1041</th>\n",
              "      <td>MS</td>\n",
              "      <td>F</td>\n",
              "      <td>18</td>\n",
              "      <td>U</td>\n",
              "      <td>GT3</td>\n",
              "      <td>T</td>\n",
              "      <td>1</td>\n",
              "      <td>1</td>\n",
              "      <td>other</td>\n",
              "      <td>other</td>\n",
              "      <td>course</td>\n",
              "      <td>mother</td>\n",
              "      <td>2</td>\n",
              "      <td>2</td>\n",
              "      <td>0</td>\n",
              "      <td>no</td>\n",
              "      <td>no</td>\n",
              "      <td>no</td>\n",
              "      <td>yes</td>\n",
              "      <td>yes</td>\n",
              "      <td>yes</td>\n",
              "      <td>no</td>\n",
              "      <td>no</td>\n",
              "      <td>1</td>\n",
              "      <td>1</td>\n",
              "      <td>1</td>\n",
              "      <td>1</td>\n",
              "      <td>1</td>\n",
              "      <td>5</td>\n",
              "      <td>6</td>\n",
              "      <td>11</td>\n",
              "      <td>12</td>\n",
              "      <td>9</td>\n",
              "      <td>Por</td>\n",
              "    </tr>\n",
              "    <tr>\n",
              "      <th>1042</th>\n",
              "      <td>MS</td>\n",
              "      <td>M</td>\n",
              "      <td>17</td>\n",
              "      <td>U</td>\n",
              "      <td>LE3</td>\n",
              "      <td>T</td>\n",
              "      <td>3</td>\n",
              "      <td>1</td>\n",
              "      <td>services</td>\n",
              "      <td>services</td>\n",
              "      <td>course</td>\n",
              "      <td>mother</td>\n",
              "      <td>2</td>\n",
              "      <td>1</td>\n",
              "      <td>0</td>\n",
              "      <td>no</td>\n",
              "      <td>no</td>\n",
              "      <td>no</td>\n",
              "      <td>no</td>\n",
              "      <td>no</td>\n",
              "      <td>yes</td>\n",
              "      <td>yes</td>\n",
              "      <td>no</td>\n",
              "      <td>2</td>\n",
              "      <td>4</td>\n",
              "      <td>5</td>\n",
              "      <td>3</td>\n",
              "      <td>4</td>\n",
              "      <td>2</td>\n",
              "      <td>6</td>\n",
              "      <td>10</td>\n",
              "      <td>10</td>\n",
              "      <td>10</td>\n",
              "      <td>Por</td>\n",
              "    </tr>\n",
              "    <tr>\n",
              "      <th>1043</th>\n",
              "      <td>MS</td>\n",
              "      <td>M</td>\n",
              "      <td>18</td>\n",
              "      <td>R</td>\n",
              "      <td>LE3</td>\n",
              "      <td>T</td>\n",
              "      <td>3</td>\n",
              "      <td>2</td>\n",
              "      <td>services</td>\n",
              "      <td>other</td>\n",
              "      <td>course</td>\n",
              "      <td>mother</td>\n",
              "      <td>3</td>\n",
              "      <td>1</td>\n",
              "      <td>0</td>\n",
              "      <td>no</td>\n",
              "      <td>no</td>\n",
              "      <td>no</td>\n",
              "      <td>no</td>\n",
              "      <td>no</td>\n",
              "      <td>yes</td>\n",
              "      <td>yes</td>\n",
              "      <td>no</td>\n",
              "      <td>4</td>\n",
              "      <td>4</td>\n",
              "      <td>1</td>\n",
              "      <td>3</td>\n",
              "      <td>4</td>\n",
              "      <td>5</td>\n",
              "      <td>4</td>\n",
              "      <td>10</td>\n",
              "      <td>11</td>\n",
              "      <td>11</td>\n",
              "      <td>Por</td>\n",
              "    </tr>\n",
              "  </tbody>\n",
              "</table>\n",
              "<p>1044 rows × 34 columns</p>\n",
              "</div>"
            ],
            "text/plain": [
              "     school sex  age address famsize  ... absences  G1  G2  G3 Subject\n",
              "0        GP   F   18       U     GT3  ...        6   5   6   6    Math\n",
              "1        GP   F   17       U     GT3  ...        4   5   5   6    Math\n",
              "2        GP   F   15       U     LE3  ...       10   7   8  10    Math\n",
              "3        GP   F   15       U     GT3  ...        2  15  14  15    Math\n",
              "4        GP   F   16       U     GT3  ...        4   6  10  10    Math\n",
              "...     ...  ..  ...     ...     ...  ...      ...  ..  ..  ..     ...\n",
              "1039     MS   F   19       R     GT3  ...        4  10  11  10     Por\n",
              "1040     MS   F   18       U     LE3  ...        4  15  15  16     Por\n",
              "1041     MS   F   18       U     GT3  ...        6  11  12   9     Por\n",
              "1042     MS   M   17       U     LE3  ...        6  10  10  10     Por\n",
              "1043     MS   M   18       R     LE3  ...        4  10  11  11     Por\n",
              "\n",
              "[1044 rows x 34 columns]"
            ]
          },
          "metadata": {},
          "execution_count": 480
        }
      ]
    },
    {
      "cell_type": "markdown",
      "metadata": {
        "id": "w59MeGy9_QKJ"
      },
      "source": [
        "**Задание 1**\n",
        "Для каждого признака определите, к какому типу он относится."
      ]
    },
    {
      "cell_type": "code",
      "metadata": {
        "id": "CEoAqIlsbXt-",
        "colab": {
          "base_uri": "https://localhost:8080/"
        },
        "outputId": "7d240079-db68-4eb7-d6f4-335c89d1018b"
      },
      "source": [
        "data.dtypes"
      ],
      "execution_count": null,
      "outputs": [
        {
          "output_type": "execute_result",
          "data": {
            "text/plain": [
              "school        object\n",
              "sex           object\n",
              "age            int64\n",
              "address       object\n",
              "famsize       object\n",
              "Pstatus       object\n",
              "Medu           int64\n",
              "Fedu           int64\n",
              "Mjob          object\n",
              "Fjob          object\n",
              "reason        object\n",
              "guardian      object\n",
              "traveltime     int64\n",
              "studytime      int64\n",
              "failures       int64\n",
              "schoolsup     object\n",
              "famsup        object\n",
              "paid          object\n",
              "activities    object\n",
              "nursery       object\n",
              "higher        object\n",
              "internet      object\n",
              "romantic      object\n",
              "famrel         int64\n",
              "freetime       int64\n",
              "goout          int64\n",
              "Dalc           int64\n",
              "Walc           int64\n",
              "health         int64\n",
              "absences       int64\n",
              "G1             int64\n",
              "G2             int64\n",
              "G3             int64\n",
              "Subject       object\n",
              "dtype: object"
            ]
          },
          "metadata": {},
          "execution_count": 481
        }
      ]
    },
    {
      "cell_type": "markdown",
      "metadata": {
        "id": "tz6XnhAX_WFx"
      },
      "source": [
        "Проверьте значения признаков на наличие опечаток и ошибок, исправьте их.\n",
        "Note: Исправлять ошибки нужно программно, модифицировать руками исходный файл нельзя."
      ]
    },
    {
      "cell_type": "code",
      "metadata": {
        "id": "6q3NWZWKhr-g",
        "colab": {
          "base_uri": "https://localhost:8080/"
        },
        "outputId": "fd0f554f-ee25-44db-857e-e844151b6af8"
      },
      "source": [
        "for i in data.columns:  #выводим уникальные значения для каждого столбца\n",
        "  print(set(data[i]))"
      ],
      "execution_count": null,
      "outputs": [
        {
          "output_type": "stream",
          "name": "stdout",
          "text": [
            "{'GP', 'MS'}\n",
            "{'F', 'M'}\n",
            "{15, 16, 17, 18, 19, 20, 21, 22}\n",
            "{'R', 'U'}\n",
            "{'LE3', 'GT3'}\n",
            "{'T', 'A'}\n",
            "{0, 1, 2, 3, 4}\n",
            "{0, 1, 2, 3, 4}\n",
            "{'services', 'at_home', 'other', 'health', 'teacher'}\n",
            "{'services', 'at_home', 'other', 'health', 'teacher'}\n",
            "{'course', 'other', 'home', 'reputation'}\n",
            "{'father', 'other', 'mother'}\n",
            "{1, 2, 3, 4}\n",
            "{1, 2, 3, 4}\n",
            "{0, 1, 2, 3}\n",
            "{'no', 'yes'}\n",
            "{'yes', 'no'}\n",
            "{'yes', 'no'}\n",
            "{'yes', 'no'}\n",
            "{'no', 'yes'}\n",
            "{'no', 'yes'}\n",
            "{'yes', 'no'}\n",
            "{'yes', 'no'}\n",
            "{1, 2, 3, 4, 5}\n",
            "{1, 2, 3, 4, 5}\n",
            "{1, 2, 3, 4, 5}\n",
            "{1, 2, 3, 4, 5}\n",
            "{1, 2, 3, 4, 5}\n",
            "{1, 2, 3, 4, 5}\n",
            "{0, 1, 2, 3, 4, 5, 6, 7, 8, 9, 10, 11, 12, 13, 14, 15, 16, 17, 18, 19, 20, 21, 22, 23, 24, 25, 26, 28, 30, 32, 38, 40, 54, 56, 75}\n",
            "{0, 3, 4, 5, 6, 7, 8, 9, 10, 11, 12, 13, 14, 15, 16, 17, 18, 19}\n",
            "{0, 4, 5, 6, 7, 8, 9, 10, 11, 12, 13, 14, 15, 16, 17, 18, 19}\n",
            "{0, 1, 4, 5, 6, 7, 8, 9, 10, 11, 12, 13, 14, 15, 16, 17, 18, 19, 20}\n",
            "{'Por', 'Math'}\n"
          ]
        }
      ]
    },
    {
      "cell_type": "markdown",
      "metadata": {
        "id": "wvjGjbw-gPKS"
      },
      "source": [
        "Эти данные можно сравнить с данными блокнота, что мы и сделали. **Вывод:** в столбце failure есть опечатки, в виде значений 0 и 3\n"
      ]
    },
    {
      "cell_type": "code",
      "metadata": {
        "id": "XXkoowDiyu2N"
      },
      "source": [
        "# failures - number of past class failures (numeric: n if 1<=n<3, else 4)\n",
        "# в failures должны быть значения 1,2,4. Поэтому можно выкинуть (drop) данные с ошибкой, но мы это не сделали, хотя могли, так как это испортит наши графики и их анализ\n",
        "# data.drop(data.loc[data['failures'] == 0].index, axis=0, inplace=True)   #выкидываем ошибочные значения из таблицы\n",
        "# data.drop(data.loc[data['failures'] == 3].index, axis=0, inplace=True)\n",
        "# могли также поменять на эти значения 4\n",
        "# data['failure'] = data['failure'].str.replace('0', '4')\n",
        "# data['failure'] = data['failure'].str.replace('3', '4')\n"
      ],
      "execution_count": null,
      "outputs": []
    },
    {
      "cell_type": "markdown",
      "metadata": {
        "id": "C75XJQlMgnsF"
      },
      "source": [
        "При необходимости, приведите признак к определенному вами типу\n",
        "\n",
        "**Ответ:** такой необходимости нет, но можем показать, что умеем менять тип)\n",
        "\n"
      ]
    },
    {
      "cell_type": "code",
      "metadata": {
        "colab": {
          "base_uri": "https://localhost:8080/"
        },
        "id": "gk9TbuuviGHs",
        "outputId": "1cafb4a2-d1e1-424d-b4b3-1a7a7c14cc46"
      },
      "source": [
        "data['studytime'].astype('float64')  #меняем типо с целочисленного на дробный"
      ],
      "execution_count": null,
      "outputs": [
        {
          "output_type": "execute_result",
          "data": {
            "text/plain": [
              "0       2.0\n",
              "1       2.0\n",
              "2       2.0\n",
              "3       3.0\n",
              "4       2.0\n",
              "       ... \n",
              "1039    3.0\n",
              "1040    2.0\n",
              "1041    2.0\n",
              "1042    1.0\n",
              "1043    1.0\n",
              "Name: studytime, Length: 1044, dtype: float64"
            ]
          },
          "metadata": {},
          "execution_count": 484
        }
      ]
    },
    {
      "cell_type": "markdown",
      "metadata": {
        "id": "1sewkDLCEwMf"
      },
      "source": [
        "**Задание 2**\n",
        "\n",
        "Проверьте, присутствуют ли в данных пропущенные значения. Сколько? В каких признаках?"
      ]
    },
    {
      "cell_type": "code",
      "metadata": {
        "colab": {
          "base_uri": "https://localhost:8080/"
        },
        "id": "qGvOXVZGHxLK",
        "outputId": "30f8f59a-852a-4346-c2d4-2f7a58621e95"
      },
      "source": [
        "data.isnull().sum()   #считаем сумму пропусков"
      ],
      "execution_count": null,
      "outputs": [
        {
          "output_type": "execute_result",
          "data": {
            "text/plain": [
              "school        0\n",
              "sex           0\n",
              "age           0\n",
              "address       0\n",
              "famsize       0\n",
              "Pstatus       0\n",
              "Medu          0\n",
              "Fedu          0\n",
              "Mjob          0\n",
              "Fjob          0\n",
              "reason        0\n",
              "guardian      0\n",
              "traveltime    0\n",
              "studytime     0\n",
              "failures      0\n",
              "schoolsup     0\n",
              "famsup        0\n",
              "paid          0\n",
              "activities    0\n",
              "nursery       0\n",
              "higher        0\n",
              "internet      0\n",
              "romantic      0\n",
              "famrel        0\n",
              "freetime      0\n",
              "goout         0\n",
              "Dalc          0\n",
              "Walc          0\n",
              "health        0\n",
              "absences      0\n",
              "G1            0\n",
              "G2            0\n",
              "G3            0\n",
              "Subject       0\n",
              "dtype: int64"
            ]
          },
          "metadata": {},
          "execution_count": 485
        }
      ]
    },
    {
      "cell_type": "markdown",
      "metadata": {
        "id": "ky8idzIafB08"
      },
      "source": [
        "Пропущенных значений нет"
      ]
    },
    {
      "cell_type": "markdown",
      "metadata": {
        "id": "FR-JSs__E_1n"
      },
      "source": [
        "**Задание 3**\n",
        "Посчитайте базовые статистики для числовых признаков. Дайте комментарий.\n"
      ]
    },
    {
      "cell_type": "code",
      "metadata": {
        "colab": {
          "base_uri": "https://localhost:8080/",
          "height": 315
        },
        "id": "6-bu-yToB1p3",
        "outputId": "22c05275-b220-4ae1-f030-18e09b658669"
      },
      "source": [
        "data.describe()"
      ],
      "execution_count": null,
      "outputs": [
        {
          "output_type": "execute_result",
          "data": {
            "text/html": [
              "<div>\n",
              "<style scoped>\n",
              "    .dataframe tbody tr th:only-of-type {\n",
              "        vertical-align: middle;\n",
              "    }\n",
              "\n",
              "    .dataframe tbody tr th {\n",
              "        vertical-align: top;\n",
              "    }\n",
              "\n",
              "    .dataframe thead th {\n",
              "        text-align: right;\n",
              "    }\n",
              "</style>\n",
              "<table border=\"1\" class=\"dataframe\">\n",
              "  <thead>\n",
              "    <tr style=\"text-align: right;\">\n",
              "      <th></th>\n",
              "      <th>age</th>\n",
              "      <th>Medu</th>\n",
              "      <th>Fedu</th>\n",
              "      <th>traveltime</th>\n",
              "      <th>studytime</th>\n",
              "      <th>failures</th>\n",
              "      <th>famrel</th>\n",
              "      <th>freetime</th>\n",
              "      <th>goout</th>\n",
              "      <th>Dalc</th>\n",
              "      <th>Walc</th>\n",
              "      <th>health</th>\n",
              "      <th>absences</th>\n",
              "      <th>G1</th>\n",
              "      <th>G2</th>\n",
              "      <th>G3</th>\n",
              "    </tr>\n",
              "  </thead>\n",
              "  <tbody>\n",
              "    <tr>\n",
              "      <th>count</th>\n",
              "      <td>1044.000000</td>\n",
              "      <td>1044.000000</td>\n",
              "      <td>1044.000000</td>\n",
              "      <td>1044.000000</td>\n",
              "      <td>1044.000000</td>\n",
              "      <td>1044.000000</td>\n",
              "      <td>1044.000000</td>\n",
              "      <td>1044.000000</td>\n",
              "      <td>1044.000000</td>\n",
              "      <td>1044.000000</td>\n",
              "      <td>1044.000000</td>\n",
              "      <td>1044.000000</td>\n",
              "      <td>1044.000000</td>\n",
              "      <td>1044.000000</td>\n",
              "      <td>1044.000000</td>\n",
              "      <td>1044.000000</td>\n",
              "    </tr>\n",
              "    <tr>\n",
              "      <th>mean</th>\n",
              "      <td>16.726054</td>\n",
              "      <td>2.603448</td>\n",
              "      <td>2.387931</td>\n",
              "      <td>1.522989</td>\n",
              "      <td>1.970307</td>\n",
              "      <td>0.264368</td>\n",
              "      <td>3.935824</td>\n",
              "      <td>3.201149</td>\n",
              "      <td>3.156130</td>\n",
              "      <td>1.494253</td>\n",
              "      <td>2.284483</td>\n",
              "      <td>3.543103</td>\n",
              "      <td>4.434866</td>\n",
              "      <td>11.213602</td>\n",
              "      <td>11.246169</td>\n",
              "      <td>11.341954</td>\n",
              "    </tr>\n",
              "    <tr>\n",
              "      <th>std</th>\n",
              "      <td>1.239975</td>\n",
              "      <td>1.124907</td>\n",
              "      <td>1.099938</td>\n",
              "      <td>0.731727</td>\n",
              "      <td>0.834353</td>\n",
              "      <td>0.656142</td>\n",
              "      <td>0.933401</td>\n",
              "      <td>1.031507</td>\n",
              "      <td>1.152575</td>\n",
              "      <td>0.911714</td>\n",
              "      <td>1.285105</td>\n",
              "      <td>1.424703</td>\n",
              "      <td>6.210017</td>\n",
              "      <td>2.983394</td>\n",
              "      <td>3.285071</td>\n",
              "      <td>3.864796</td>\n",
              "    </tr>\n",
              "    <tr>\n",
              "      <th>min</th>\n",
              "      <td>15.000000</td>\n",
              "      <td>0.000000</td>\n",
              "      <td>0.000000</td>\n",
              "      <td>1.000000</td>\n",
              "      <td>1.000000</td>\n",
              "      <td>0.000000</td>\n",
              "      <td>1.000000</td>\n",
              "      <td>1.000000</td>\n",
              "      <td>1.000000</td>\n",
              "      <td>1.000000</td>\n",
              "      <td>1.000000</td>\n",
              "      <td>1.000000</td>\n",
              "      <td>0.000000</td>\n",
              "      <td>0.000000</td>\n",
              "      <td>0.000000</td>\n",
              "      <td>0.000000</td>\n",
              "    </tr>\n",
              "    <tr>\n",
              "      <th>25%</th>\n",
              "      <td>16.000000</td>\n",
              "      <td>2.000000</td>\n",
              "      <td>1.000000</td>\n",
              "      <td>1.000000</td>\n",
              "      <td>1.000000</td>\n",
              "      <td>0.000000</td>\n",
              "      <td>4.000000</td>\n",
              "      <td>3.000000</td>\n",
              "      <td>2.000000</td>\n",
              "      <td>1.000000</td>\n",
              "      <td>1.000000</td>\n",
              "      <td>3.000000</td>\n",
              "      <td>0.000000</td>\n",
              "      <td>9.000000</td>\n",
              "      <td>9.000000</td>\n",
              "      <td>10.000000</td>\n",
              "    </tr>\n",
              "    <tr>\n",
              "      <th>50%</th>\n",
              "      <td>17.000000</td>\n",
              "      <td>3.000000</td>\n",
              "      <td>2.000000</td>\n",
              "      <td>1.000000</td>\n",
              "      <td>2.000000</td>\n",
              "      <td>0.000000</td>\n",
              "      <td>4.000000</td>\n",
              "      <td>3.000000</td>\n",
              "      <td>3.000000</td>\n",
              "      <td>1.000000</td>\n",
              "      <td>2.000000</td>\n",
              "      <td>4.000000</td>\n",
              "      <td>2.000000</td>\n",
              "      <td>11.000000</td>\n",
              "      <td>11.000000</td>\n",
              "      <td>11.000000</td>\n",
              "    </tr>\n",
              "    <tr>\n",
              "      <th>75%</th>\n",
              "      <td>18.000000</td>\n",
              "      <td>4.000000</td>\n",
              "      <td>3.000000</td>\n",
              "      <td>2.000000</td>\n",
              "      <td>2.000000</td>\n",
              "      <td>0.000000</td>\n",
              "      <td>5.000000</td>\n",
              "      <td>4.000000</td>\n",
              "      <td>4.000000</td>\n",
              "      <td>2.000000</td>\n",
              "      <td>3.000000</td>\n",
              "      <td>5.000000</td>\n",
              "      <td>6.000000</td>\n",
              "      <td>13.000000</td>\n",
              "      <td>13.000000</td>\n",
              "      <td>14.000000</td>\n",
              "    </tr>\n",
              "    <tr>\n",
              "      <th>max</th>\n",
              "      <td>22.000000</td>\n",
              "      <td>4.000000</td>\n",
              "      <td>4.000000</td>\n",
              "      <td>4.000000</td>\n",
              "      <td>4.000000</td>\n",
              "      <td>3.000000</td>\n",
              "      <td>5.000000</td>\n",
              "      <td>5.000000</td>\n",
              "      <td>5.000000</td>\n",
              "      <td>5.000000</td>\n",
              "      <td>5.000000</td>\n",
              "      <td>5.000000</td>\n",
              "      <td>75.000000</td>\n",
              "      <td>19.000000</td>\n",
              "      <td>19.000000</td>\n",
              "      <td>20.000000</td>\n",
              "    </tr>\n",
              "  </tbody>\n",
              "</table>\n",
              "</div>"
            ],
            "text/plain": [
              "               age         Medu  ...           G2           G3\n",
              "count  1044.000000  1044.000000  ...  1044.000000  1044.000000\n",
              "mean     16.726054     2.603448  ...    11.246169    11.341954\n",
              "std       1.239975     1.124907  ...     3.285071     3.864796\n",
              "min      15.000000     0.000000  ...     0.000000     0.000000\n",
              "25%      16.000000     2.000000  ...     9.000000    10.000000\n",
              "50%      17.000000     3.000000  ...    11.000000    11.000000\n",
              "75%      18.000000     4.000000  ...    13.000000    14.000000\n",
              "max      22.000000     4.000000  ...    19.000000    20.000000\n",
              "\n",
              "[8 rows x 16 columns]"
            ]
          },
          "metadata": {},
          "execution_count": 486
        }
      ]
    },
    {
      "cell_type": "markdown",
      "metadata": {
        "id": "4iKFdBRcFEhG"
      },
      "source": [
        "в значениях absences максимальное значние пропусков равно75, а среднее значение 4.5\n",
        "\n",
        "Это значит, что существует большой разброс в значениях столбика и максимум сильно отличается от других значений.\n",
        "\n",
        "Можем удалить это max значение, чтобы было удобнее (в целом просто, чтобы показать, что мы знаем, как удалять ).\n",
        "\n",
        "п.с. А также это значение может быть ошибкой(но не является, мы проверили))\n"
      ]
    },
    {
      "cell_type": "code",
      "metadata": {
        "id": "SSJbDmjDYovS"
      },
      "source": [
        "data2=data.drop(data.loc[data['absences'] == 75].index, axis=0) #удаляем значение"
      ],
      "execution_count": null,
      "outputs": []
    },
    {
      "cell_type": "code",
      "metadata": {
        "colab": {
          "base_uri": "https://localhost:8080/",
          "height": 315
        },
        "id": "1AGgnesFZUVr",
        "outputId": "2fa58aab-b765-405a-b85d-013cbb5c91b0"
      },
      "source": [
        "data2.describe() #новые базовые статистики для новой таблицы"
      ],
      "execution_count": null,
      "outputs": [
        {
          "output_type": "execute_result",
          "data": {
            "text/html": [
              "<div>\n",
              "<style scoped>\n",
              "    .dataframe tbody tr th:only-of-type {\n",
              "        vertical-align: middle;\n",
              "    }\n",
              "\n",
              "    .dataframe tbody tr th {\n",
              "        vertical-align: top;\n",
              "    }\n",
              "\n",
              "    .dataframe thead th {\n",
              "        text-align: right;\n",
              "    }\n",
              "</style>\n",
              "<table border=\"1\" class=\"dataframe\">\n",
              "  <thead>\n",
              "    <tr style=\"text-align: right;\">\n",
              "      <th></th>\n",
              "      <th>age</th>\n",
              "      <th>Medu</th>\n",
              "      <th>Fedu</th>\n",
              "      <th>traveltime</th>\n",
              "      <th>studytime</th>\n",
              "      <th>failures</th>\n",
              "      <th>famrel</th>\n",
              "      <th>freetime</th>\n",
              "      <th>goout</th>\n",
              "      <th>Dalc</th>\n",
              "      <th>Walc</th>\n",
              "      <th>health</th>\n",
              "      <th>absences</th>\n",
              "      <th>G1</th>\n",
              "      <th>G2</th>\n",
              "      <th>G3</th>\n",
              "    </tr>\n",
              "  </thead>\n",
              "  <tbody>\n",
              "    <tr>\n",
              "      <th>count</th>\n",
              "      <td>1043.000000</td>\n",
              "      <td>1043.000000</td>\n",
              "      <td>1043.000000</td>\n",
              "      <td>1043.000000</td>\n",
              "      <td>1043.000000</td>\n",
              "      <td>1043.000000</td>\n",
              "      <td>1043.000000</td>\n",
              "      <td>1043.000000</td>\n",
              "      <td>1043.000000</td>\n",
              "      <td>1043.000000</td>\n",
              "      <td>1043.000000</td>\n",
              "      <td>1043.000000</td>\n",
              "      <td>1043.000000</td>\n",
              "      <td>1043.000000</td>\n",
              "      <td>1043.000000</td>\n",
              "      <td>1043.000000</td>\n",
              "    </tr>\n",
              "    <tr>\n",
              "      <th>mean</th>\n",
              "      <td>16.724832</td>\n",
              "      <td>2.603068</td>\n",
              "      <td>2.388303</td>\n",
              "      <td>1.522531</td>\n",
              "      <td>1.970278</td>\n",
              "      <td>0.264621</td>\n",
              "      <td>3.935762</td>\n",
              "      <td>3.203260</td>\n",
              "      <td>3.158198</td>\n",
              "      <td>1.494727</td>\n",
              "      <td>2.285714</td>\n",
              "      <td>3.541707</td>\n",
              "      <td>4.367210</td>\n",
              "      <td>11.214765</td>\n",
              "      <td>11.248322</td>\n",
              "      <td>11.344199</td>\n",
              "    </tr>\n",
              "    <tr>\n",
              "      <th>std</th>\n",
              "      <td>1.239941</td>\n",
              "      <td>1.125379</td>\n",
              "      <td>1.100400</td>\n",
              "      <td>0.731929</td>\n",
              "      <td>0.834753</td>\n",
              "      <td>0.656405</td>\n",
              "      <td>0.933846</td>\n",
              "      <td>1.029744</td>\n",
              "      <td>1.151190</td>\n",
              "      <td>0.912023</td>\n",
              "      <td>1.285105</td>\n",
              "      <td>1.424671</td>\n",
              "      <td>5.815325</td>\n",
              "      <td>2.984588</td>\n",
              "      <td>3.285910</td>\n",
              "      <td>3.865969</td>\n",
              "    </tr>\n",
              "    <tr>\n",
              "      <th>min</th>\n",
              "      <td>15.000000</td>\n",
              "      <td>0.000000</td>\n",
              "      <td>0.000000</td>\n",
              "      <td>1.000000</td>\n",
              "      <td>1.000000</td>\n",
              "      <td>0.000000</td>\n",
              "      <td>1.000000</td>\n",
              "      <td>1.000000</td>\n",
              "      <td>1.000000</td>\n",
              "      <td>1.000000</td>\n",
              "      <td>1.000000</td>\n",
              "      <td>1.000000</td>\n",
              "      <td>0.000000</td>\n",
              "      <td>0.000000</td>\n",
              "      <td>0.000000</td>\n",
              "      <td>0.000000</td>\n",
              "    </tr>\n",
              "    <tr>\n",
              "      <th>25%</th>\n",
              "      <td>16.000000</td>\n",
              "      <td>2.000000</td>\n",
              "      <td>1.000000</td>\n",
              "      <td>1.000000</td>\n",
              "      <td>1.000000</td>\n",
              "      <td>0.000000</td>\n",
              "      <td>4.000000</td>\n",
              "      <td>3.000000</td>\n",
              "      <td>2.000000</td>\n",
              "      <td>1.000000</td>\n",
              "      <td>1.000000</td>\n",
              "      <td>3.000000</td>\n",
              "      <td>0.000000</td>\n",
              "      <td>9.000000</td>\n",
              "      <td>9.000000</td>\n",
              "      <td>10.000000</td>\n",
              "    </tr>\n",
              "    <tr>\n",
              "      <th>50%</th>\n",
              "      <td>17.000000</td>\n",
              "      <td>3.000000</td>\n",
              "      <td>2.000000</td>\n",
              "      <td>1.000000</td>\n",
              "      <td>2.000000</td>\n",
              "      <td>0.000000</td>\n",
              "      <td>4.000000</td>\n",
              "      <td>3.000000</td>\n",
              "      <td>3.000000</td>\n",
              "      <td>1.000000</td>\n",
              "      <td>2.000000</td>\n",
              "      <td>4.000000</td>\n",
              "      <td>2.000000</td>\n",
              "      <td>11.000000</td>\n",
              "      <td>11.000000</td>\n",
              "      <td>11.000000</td>\n",
              "    </tr>\n",
              "    <tr>\n",
              "      <th>75%</th>\n",
              "      <td>18.000000</td>\n",
              "      <td>4.000000</td>\n",
              "      <td>3.000000</td>\n",
              "      <td>2.000000</td>\n",
              "      <td>2.000000</td>\n",
              "      <td>0.000000</td>\n",
              "      <td>5.000000</td>\n",
              "      <td>4.000000</td>\n",
              "      <td>4.000000</td>\n",
              "      <td>2.000000</td>\n",
              "      <td>3.000000</td>\n",
              "      <td>5.000000</td>\n",
              "      <td>6.000000</td>\n",
              "      <td>13.000000</td>\n",
              "      <td>13.000000</td>\n",
              "      <td>14.000000</td>\n",
              "    </tr>\n",
              "    <tr>\n",
              "      <th>max</th>\n",
              "      <td>22.000000</td>\n",
              "      <td>4.000000</td>\n",
              "      <td>4.000000</td>\n",
              "      <td>4.000000</td>\n",
              "      <td>4.000000</td>\n",
              "      <td>3.000000</td>\n",
              "      <td>5.000000</td>\n",
              "      <td>5.000000</td>\n",
              "      <td>5.000000</td>\n",
              "      <td>5.000000</td>\n",
              "      <td>5.000000</td>\n",
              "      <td>5.000000</td>\n",
              "      <td>56.000000</td>\n",
              "      <td>19.000000</td>\n",
              "      <td>19.000000</td>\n",
              "      <td>20.000000</td>\n",
              "    </tr>\n",
              "  </tbody>\n",
              "</table>\n",
              "</div>"
            ],
            "text/plain": [
              "               age         Medu  ...           G2           G3\n",
              "count  1043.000000  1043.000000  ...  1043.000000  1043.000000\n",
              "mean     16.724832     2.603068  ...    11.248322    11.344199\n",
              "std       1.239941     1.125379  ...     3.285910     3.865969\n",
              "min      15.000000     0.000000  ...     0.000000     0.000000\n",
              "25%      16.000000     2.000000  ...     9.000000    10.000000\n",
              "50%      17.000000     3.000000  ...    11.000000    11.000000\n",
              "75%      18.000000     4.000000  ...    13.000000    14.000000\n",
              "max      22.000000     4.000000  ...    19.000000    20.000000\n",
              "\n",
              "[8 rows x 16 columns]"
            ]
          },
          "metadata": {},
          "execution_count": 488
        }
      ]
    },
    {
      "cell_type": "markdown",
      "metadata": {
        "id": "AEQw3k3I_iXx"
      },
      "source": [
        "Сколько студентов посещают каждую из школ?"
      ]
    },
    {
      "cell_type": "code",
      "metadata": {
        "colab": {
          "base_uri": "https://localhost:8080/"
        },
        "id": "kD2z9o5MB1nV",
        "outputId": "2fd201e3-18a0-476e-8d08-4a6631cd7ed1"
      },
      "source": [
        "data['school'].value_counts()"
      ],
      "execution_count": null,
      "outputs": [
        {
          "output_type": "execute_result",
          "data": {
            "text/plain": [
              "GP    772\n",
              "MS    272\n",
              "Name: school, dtype: int64"
            ]
          },
          "metadata": {},
          "execution_count": 489
        }
      ]
    },
    {
      "cell_type": "code",
      "metadata": {
        "colab": {
          "base_uri": "https://localhost:8080/",
          "height": 542
        },
        "id": "l2YLJlv1LtNa",
        "outputId": "bf0cfdfc-6d81-4e85-c2a9-81c6f413f0f7"
      },
      "source": [
        "fig1 = px.histogram(data_frame = data, x = 'school', color='school') # график по школам, который отражает, где большее кол-во\n",
        "fig1.show()\n"
      ],
      "execution_count": null,
      "outputs": [
        {
          "output_type": "display_data",
          "data": {
            "text/html": [
              "<html>\n",
              "<head><meta charset=\"utf-8\" /></head>\n",
              "<body>\n",
              "    <div>\n",
              "            <script src=\"https://cdnjs.cloudflare.com/ajax/libs/mathjax/2.7.5/MathJax.js?config=TeX-AMS-MML_SVG\"></script><script type=\"text/javascript\">if (window.MathJax) {MathJax.Hub.Config({SVG: {font: \"STIX-Web\"}});}</script>\n",
              "                <script type=\"text/javascript\">window.PlotlyConfig = {MathJaxConfig: 'local'};</script>\n",
              "        <script src=\"https://cdn.plot.ly/plotly-latest.min.js\"></script>    \n",
              "            <div id=\"89402072-7a3e-4c29-a06d-897426d260cc\" class=\"plotly-graph-div\" style=\"height:525px; width:100%;\"></div>\n",
              "            <script type=\"text/javascript\">\n",
              "                \n",
              "                    window.PLOTLYENV=window.PLOTLYENV || {};\n",
              "                    \n",
              "                if (document.getElementById(\"89402072-7a3e-4c29-a06d-897426d260cc\")) {\n",
              "                    Plotly.newPlot(\n",
              "                        '89402072-7a3e-4c29-a06d-897426d260cc',\n",
              "                        [{\"alignmentgroup\": \"True\", \"bingroup\": \"x\", \"hoverlabel\": {\"namelength\": 0}, \"hovertemplate\": \"school=%{x}<br>count=%{y}\", \"legendgroup\": \"school=GP\", \"marker\": {\"color\": \"#636efa\"}, \"name\": \"school=GP\", \"offsetgroup\": \"school=GP\", \"orientation\": \"v\", \"showlegend\": true, \"type\": \"histogram\", \"x\": [\"GP\", \"GP\", \"GP\", \"GP\", \"GP\", \"GP\", \"GP\", \"GP\", \"GP\", \"GP\", \"GP\", \"GP\", \"GP\", \"GP\", \"GP\", \"GP\", \"GP\", \"GP\", \"GP\", \"GP\", \"GP\", \"GP\", \"GP\", \"GP\", \"GP\", \"GP\", \"GP\", \"GP\", \"GP\", \"GP\", \"GP\", \"GP\", \"GP\", \"GP\", \"GP\", \"GP\", \"GP\", \"GP\", \"GP\", \"GP\", \"GP\", \"GP\", \"GP\", \"GP\", \"GP\", \"GP\", \"GP\", \"GP\", \"GP\", \"GP\", \"GP\", \"GP\", \"GP\", \"GP\", \"GP\", \"GP\", \"GP\", \"GP\", \"GP\", \"GP\", \"GP\", \"GP\", \"GP\", \"GP\", \"GP\", \"GP\", \"GP\", \"GP\", \"GP\", \"GP\", \"GP\", \"GP\", \"GP\", \"GP\", \"GP\", \"GP\", \"GP\", \"GP\", \"GP\", \"GP\", \"GP\", \"GP\", \"GP\", \"GP\", \"GP\", \"GP\", \"GP\", \"GP\", \"GP\", \"GP\", \"GP\", \"GP\", \"GP\", \"GP\", \"GP\", \"GP\", \"GP\", \"GP\", \"GP\", \"GP\", \"GP\", \"GP\", \"GP\", \"GP\", \"GP\", \"GP\", \"GP\", \"GP\", \"GP\", \"GP\", \"GP\", \"GP\", \"GP\", \"GP\", \"GP\", \"GP\", \"GP\", \"GP\", \"GP\", \"GP\", \"GP\", \"GP\", \"GP\", \"GP\", \"GP\", \"GP\", \"GP\", \"GP\", \"GP\", \"GP\", \"GP\", \"GP\", \"GP\", \"GP\", \"GP\", \"GP\", \"GP\", \"GP\", \"GP\", \"GP\", \"GP\", \"GP\", \"GP\", \"GP\", \"GP\", \"GP\", \"GP\", \"GP\", \"GP\", \"GP\", \"GP\", \"GP\", \"GP\", \"GP\", \"GP\", \"GP\", \"GP\", \"GP\", \"GP\", \"GP\", \"GP\", \"GP\", \"GP\", \"GP\", \"GP\", \"GP\", \"GP\", \"GP\", \"GP\", \"GP\", \"GP\", \"GP\", \"GP\", \"GP\", \"GP\", \"GP\", \"GP\", \"GP\", \"GP\", \"GP\", \"GP\", \"GP\", \"GP\", \"GP\", \"GP\", \"GP\", \"GP\", \"GP\", \"GP\", \"GP\", \"GP\", \"GP\", \"GP\", \"GP\", \"GP\", \"GP\", \"GP\", \"GP\", \"GP\", \"GP\", \"GP\", \"GP\", \"GP\", \"GP\", \"GP\", \"GP\", \"GP\", \"GP\", \"GP\", \"GP\", \"GP\", \"GP\", \"GP\", \"GP\", \"GP\", \"GP\", \"GP\", \"GP\", \"GP\", \"GP\", \"GP\", \"GP\", \"GP\", \"GP\", \"GP\", \"GP\", \"GP\", \"GP\", \"GP\", \"GP\", \"GP\", \"GP\", \"GP\", \"GP\", \"GP\", \"GP\", \"GP\", \"GP\", \"GP\", \"GP\", \"GP\", \"GP\", \"GP\", \"GP\", \"GP\", \"GP\", \"GP\", \"GP\", \"GP\", \"GP\", \"GP\", \"GP\", \"GP\", \"GP\", \"GP\", \"GP\", \"GP\", \"GP\", \"GP\", \"GP\", \"GP\", \"GP\", \"GP\", \"GP\", \"GP\", \"GP\", \"GP\", \"GP\", \"GP\", \"GP\", \"GP\", \"GP\", \"GP\", \"GP\", \"GP\", \"GP\", \"GP\", \"GP\", \"GP\", \"GP\", \"GP\", \"GP\", \"GP\", \"GP\", \"GP\", \"GP\", \"GP\", \"GP\", \"GP\", \"GP\", \"GP\", \"GP\", \"GP\", \"GP\", \"GP\", \"GP\", \"GP\", \"GP\", \"GP\", \"GP\", \"GP\", \"GP\", \"GP\", \"GP\", \"GP\", \"GP\", \"GP\", \"GP\", \"GP\", \"GP\", \"GP\", \"GP\", \"GP\", \"GP\", \"GP\", \"GP\", \"GP\", \"GP\", \"GP\", \"GP\", \"GP\", \"GP\", \"GP\", \"GP\", \"GP\", \"GP\", \"GP\", \"GP\", \"GP\", \"GP\", \"GP\", \"GP\", \"GP\", \"GP\", \"GP\", \"GP\", \"GP\", \"GP\", \"GP\", \"GP\", \"GP\", \"GP\", \"GP\", \"GP\", \"GP\", \"GP\", \"GP\", \"GP\", \"GP\", \"GP\", \"GP\", \"GP\", \"GP\", \"GP\", \"GP\", \"GP\", \"GP\", \"GP\", \"GP\", \"GP\", \"GP\", \"GP\", \"GP\", \"GP\", \"GP\", \"GP\", \"GP\", \"GP\", \"GP\", \"GP\", \"GP\", \"GP\", \"GP\", \"GP\", \"GP\", \"GP\", \"GP\", \"GP\", \"GP\", \"GP\", \"GP\", \"GP\", \"GP\", \"GP\", \"GP\", \"GP\", \"GP\", \"GP\", \"GP\", \"GP\", \"GP\", \"GP\", \"GP\", \"GP\", \"GP\", \"GP\", \"GP\", \"GP\", \"GP\", \"GP\", \"GP\", \"GP\", \"GP\", \"GP\", \"GP\", \"GP\", \"GP\", \"GP\", \"GP\", \"GP\", \"GP\", \"GP\", \"GP\", \"GP\", \"GP\", \"GP\", \"GP\", \"GP\", \"GP\", \"GP\", \"GP\", \"GP\", \"GP\", \"GP\", \"GP\", \"GP\", \"GP\", \"GP\", \"GP\", \"GP\", \"GP\", \"GP\", \"GP\", \"GP\", \"GP\", \"GP\", \"GP\", \"GP\", \"GP\", \"GP\", \"GP\", \"GP\", \"GP\", \"GP\", \"GP\", \"GP\", \"GP\", \"GP\", \"GP\", \"GP\", \"GP\", \"GP\", \"GP\", \"GP\", \"GP\", \"GP\", \"GP\", \"GP\", \"GP\", \"GP\", \"GP\", \"GP\", \"GP\", \"GP\", \"GP\", \"GP\", \"GP\", \"GP\", \"GP\", \"GP\", \"GP\", \"GP\", \"GP\", \"GP\", \"GP\", \"GP\", \"GP\", \"GP\", \"GP\", \"GP\", \"GP\", \"GP\", \"GP\", \"GP\", \"GP\", \"GP\", \"GP\", \"GP\", \"GP\", \"GP\", \"GP\", \"GP\", \"GP\", \"GP\", \"GP\", \"GP\", \"GP\", \"GP\", \"GP\", \"GP\", \"GP\", \"GP\", \"GP\", \"GP\", \"GP\", \"GP\", \"GP\", \"GP\", \"GP\", \"GP\", \"GP\", \"GP\", \"GP\", \"GP\", \"GP\", \"GP\", \"GP\", \"GP\", \"GP\", \"GP\", \"GP\", \"GP\", \"GP\", \"GP\", \"GP\", \"GP\", \"GP\", \"GP\", \"GP\", \"GP\", \"GP\", \"GP\", \"GP\", \"GP\", \"GP\", \"GP\", \"GP\", \"GP\", \"GP\", \"GP\", \"GP\", \"GP\", \"GP\", \"GP\", \"GP\", \"GP\", \"GP\", \"GP\", \"GP\", \"GP\", \"GP\", \"GP\", \"GP\", \"GP\", \"GP\", \"GP\", \"GP\", \"GP\", \"GP\", \"GP\", \"GP\", \"GP\", \"GP\", \"GP\", \"GP\", \"GP\", \"GP\", \"GP\", \"GP\", \"GP\", \"GP\", \"GP\", \"GP\", \"GP\", \"GP\", \"GP\", \"GP\", \"GP\", \"GP\", \"GP\", \"GP\", \"GP\", \"GP\", \"GP\", \"GP\", \"GP\", \"GP\", \"GP\", \"GP\", \"GP\", \"GP\", \"GP\", \"GP\", \"GP\", \"GP\", \"GP\", \"GP\", \"GP\", \"GP\", \"GP\", \"GP\", \"GP\", \"GP\", \"GP\", \"GP\", \"GP\", \"GP\", \"GP\", \"GP\", \"GP\", \"GP\", \"GP\", \"GP\", \"GP\", \"GP\", \"GP\", \"GP\", \"GP\", \"GP\", \"GP\", \"GP\", \"GP\", \"GP\", \"GP\", \"GP\", \"GP\", \"GP\", \"GP\", \"GP\", \"GP\", \"GP\", \"GP\", \"GP\", \"GP\", \"GP\", \"GP\", \"GP\", \"GP\", \"GP\", \"GP\", \"GP\", \"GP\", \"GP\", \"GP\", \"GP\", \"GP\", \"GP\", \"GP\", \"GP\", \"GP\", \"GP\", \"GP\", \"GP\", \"GP\", \"GP\", \"GP\", \"GP\", \"GP\", \"GP\", \"GP\", \"GP\", \"GP\", \"GP\", \"GP\", \"GP\", \"GP\", \"GP\", \"GP\", \"GP\", \"GP\", \"GP\", \"GP\", \"GP\", \"GP\", \"GP\", \"GP\", \"GP\", \"GP\", \"GP\", \"GP\", \"GP\", \"GP\", \"GP\", \"GP\", \"GP\", \"GP\", \"GP\", \"GP\", \"GP\", \"GP\", \"GP\", \"GP\", \"GP\", \"GP\", \"GP\", \"GP\", \"GP\", \"GP\", \"GP\", \"GP\", \"GP\", \"GP\", \"GP\", \"GP\", \"GP\", \"GP\", \"GP\", \"GP\", \"GP\", \"GP\", \"GP\", \"GP\", \"GP\", \"GP\", \"GP\", \"GP\", \"GP\", \"GP\", \"GP\", \"GP\", \"GP\", \"GP\", \"GP\", \"GP\", \"GP\", \"GP\", \"GP\", \"GP\", \"GP\", \"GP\", \"GP\", \"GP\", \"GP\", \"GP\", \"GP\", \"GP\", \"GP\", \"GP\", \"GP\", \"GP\", \"GP\", \"GP\", \"GP\", \"GP\", \"GP\", \"GP\", \"GP\", \"GP\", \"GP\", \"GP\", \"GP\", \"GP\", \"GP\", \"GP\", \"GP\", \"GP\", \"GP\", \"GP\", \"GP\", \"GP\", \"GP\", \"GP\", \"GP\", \"GP\", \"GP\", \"GP\", \"GP\", \"GP\", \"GP\", \"GP\", \"GP\", \"GP\"], \"xaxis\": \"x\", \"yaxis\": \"y\"}, {\"alignmentgroup\": \"True\", \"bingroup\": \"x\", \"hoverlabel\": {\"namelength\": 0}, \"hovertemplate\": \"school=%{x}<br>count=%{y}\", \"legendgroup\": \"school=MS\", \"marker\": {\"color\": \"#EF553B\"}, \"name\": \"school=MS\", \"offsetgroup\": \"school=MS\", \"orientation\": \"v\", \"showlegend\": true, \"type\": \"histogram\", \"x\": [\"MS\", \"MS\", \"MS\", \"MS\", \"MS\", \"MS\", \"MS\", \"MS\", \"MS\", \"MS\", \"MS\", \"MS\", \"MS\", \"MS\", \"MS\", \"MS\", \"MS\", \"MS\", \"MS\", \"MS\", \"MS\", \"MS\", \"MS\", \"MS\", \"MS\", \"MS\", \"MS\", \"MS\", \"MS\", \"MS\", \"MS\", \"MS\", \"MS\", \"MS\", \"MS\", \"MS\", \"MS\", \"MS\", \"MS\", \"MS\", \"MS\", \"MS\", \"MS\", \"MS\", \"MS\", \"MS\", \"MS\", \"MS\", \"MS\", \"MS\", \"MS\", \"MS\", \"MS\", \"MS\", \"MS\", \"MS\", \"MS\", \"MS\", \"MS\", \"MS\", \"MS\", \"MS\", \"MS\", \"MS\", \"MS\", \"MS\", \"MS\", \"MS\", \"MS\", \"MS\", \"MS\", \"MS\", \"MS\", \"MS\", \"MS\", \"MS\", \"MS\", \"MS\", \"MS\", \"MS\", \"MS\", \"MS\", \"MS\", \"MS\", \"MS\", \"MS\", \"MS\", \"MS\", \"MS\", \"MS\", \"MS\", \"MS\", \"MS\", \"MS\", \"MS\", \"MS\", \"MS\", \"MS\", \"MS\", \"MS\", \"MS\", \"MS\", \"MS\", \"MS\", \"MS\", \"MS\", \"MS\", \"MS\", \"MS\", \"MS\", \"MS\", \"MS\", \"MS\", \"MS\", \"MS\", \"MS\", \"MS\", \"MS\", \"MS\", \"MS\", \"MS\", \"MS\", \"MS\", \"MS\", \"MS\", \"MS\", \"MS\", \"MS\", \"MS\", \"MS\", \"MS\", \"MS\", \"MS\", \"MS\", \"MS\", \"MS\", \"MS\", \"MS\", \"MS\", \"MS\", \"MS\", \"MS\", \"MS\", \"MS\", \"MS\", \"MS\", \"MS\", \"MS\", \"MS\", \"MS\", \"MS\", \"MS\", \"MS\", \"MS\", \"MS\", \"MS\", \"MS\", \"MS\", \"MS\", \"MS\", \"MS\", \"MS\", \"MS\", \"MS\", \"MS\", \"MS\", \"MS\", \"MS\", \"MS\", \"MS\", \"MS\", \"MS\", \"MS\", \"MS\", \"MS\", \"MS\", \"MS\", \"MS\", \"MS\", \"MS\", \"MS\", \"MS\", \"MS\", \"MS\", \"MS\", \"MS\", \"MS\", \"MS\", \"MS\", \"MS\", \"MS\", \"MS\", \"MS\", \"MS\", \"MS\", \"MS\", \"MS\", \"MS\", \"MS\", \"MS\", \"MS\", \"MS\", \"MS\", \"MS\", \"MS\", \"MS\", \"MS\", \"MS\", \"MS\", \"MS\", \"MS\", \"MS\", \"MS\", \"MS\", \"MS\", \"MS\", \"MS\", \"MS\", \"MS\", \"MS\", \"MS\", \"MS\", \"MS\", \"MS\", \"MS\", \"MS\", \"MS\", \"MS\", \"MS\", \"MS\", \"MS\", \"MS\", \"MS\", \"MS\", \"MS\", \"MS\", \"MS\", \"MS\", \"MS\", \"MS\", \"MS\", \"MS\", \"MS\", \"MS\", \"MS\", \"MS\", \"MS\", \"MS\", \"MS\", \"MS\", \"MS\", \"MS\", \"MS\", \"MS\", \"MS\", \"MS\", \"MS\", \"MS\", \"MS\", \"MS\", \"MS\", \"MS\", \"MS\", \"MS\", \"MS\", \"MS\", \"MS\", \"MS\", \"MS\", \"MS\", \"MS\", \"MS\"], \"xaxis\": \"x\", \"yaxis\": \"y\"}],\n",
              "                        {\"barmode\": \"relative\", \"legend\": {\"tracegroupgap\": 0}, \"margin\": {\"t\": 60}, \"template\": {\"data\": {\"bar\": [{\"error_x\": {\"color\": \"#2a3f5f\"}, \"error_y\": {\"color\": \"#2a3f5f\"}, \"marker\": {\"line\": {\"color\": \"#E5ECF6\", \"width\": 0.5}}, \"type\": \"bar\"}], \"barpolar\": [{\"marker\": {\"line\": {\"color\": \"#E5ECF6\", \"width\": 0.5}}, \"type\": \"barpolar\"}], \"carpet\": [{\"aaxis\": {\"endlinecolor\": \"#2a3f5f\", \"gridcolor\": \"white\", \"linecolor\": \"white\", \"minorgridcolor\": \"white\", \"startlinecolor\": \"#2a3f5f\"}, \"baxis\": {\"endlinecolor\": \"#2a3f5f\", \"gridcolor\": \"white\", \"linecolor\": \"white\", \"minorgridcolor\": \"white\", \"startlinecolor\": \"#2a3f5f\"}, \"type\": \"carpet\"}], \"choropleth\": [{\"colorbar\": {\"outlinewidth\": 0, \"ticks\": \"\"}, \"type\": \"choropleth\"}], \"contour\": [{\"colorbar\": {\"outlinewidth\": 0, \"ticks\": \"\"}, \"colorscale\": [[0.0, \"#0d0887\"], [0.1111111111111111, \"#46039f\"], [0.2222222222222222, \"#7201a8\"], [0.3333333333333333, \"#9c179e\"], [0.4444444444444444, \"#bd3786\"], [0.5555555555555556, \"#d8576b\"], [0.6666666666666666, \"#ed7953\"], [0.7777777777777778, \"#fb9f3a\"], [0.8888888888888888, \"#fdca26\"], [1.0, \"#f0f921\"]], \"type\": \"contour\"}], \"contourcarpet\": [{\"colorbar\": {\"outlinewidth\": 0, \"ticks\": \"\"}, \"type\": \"contourcarpet\"}], \"heatmap\": [{\"colorbar\": {\"outlinewidth\": 0, \"ticks\": \"\"}, \"colorscale\": [[0.0, \"#0d0887\"], [0.1111111111111111, \"#46039f\"], [0.2222222222222222, \"#7201a8\"], [0.3333333333333333, \"#9c179e\"], [0.4444444444444444, \"#bd3786\"], [0.5555555555555556, \"#d8576b\"], [0.6666666666666666, \"#ed7953\"], [0.7777777777777778, \"#fb9f3a\"], [0.8888888888888888, \"#fdca26\"], [1.0, \"#f0f921\"]], \"type\": \"heatmap\"}], \"heatmapgl\": [{\"colorbar\": {\"outlinewidth\": 0, \"ticks\": \"\"}, \"colorscale\": [[0.0, \"#0d0887\"], [0.1111111111111111, \"#46039f\"], [0.2222222222222222, \"#7201a8\"], [0.3333333333333333, \"#9c179e\"], [0.4444444444444444, \"#bd3786\"], [0.5555555555555556, \"#d8576b\"], [0.6666666666666666, \"#ed7953\"], [0.7777777777777778, \"#fb9f3a\"], [0.8888888888888888, \"#fdca26\"], [1.0, \"#f0f921\"]], \"type\": \"heatmapgl\"}], \"histogram\": [{\"marker\": {\"colorbar\": {\"outlinewidth\": 0, \"ticks\": \"\"}}, \"type\": \"histogram\"}], \"histogram2d\": [{\"colorbar\": {\"outlinewidth\": 0, \"ticks\": \"\"}, \"colorscale\": [[0.0, \"#0d0887\"], [0.1111111111111111, \"#46039f\"], [0.2222222222222222, \"#7201a8\"], [0.3333333333333333, \"#9c179e\"], [0.4444444444444444, \"#bd3786\"], [0.5555555555555556, \"#d8576b\"], [0.6666666666666666, \"#ed7953\"], [0.7777777777777778, \"#fb9f3a\"], [0.8888888888888888, \"#fdca26\"], [1.0, \"#f0f921\"]], \"type\": \"histogram2d\"}], \"histogram2dcontour\": [{\"colorbar\": {\"outlinewidth\": 0, \"ticks\": \"\"}, \"colorscale\": [[0.0, \"#0d0887\"], [0.1111111111111111, \"#46039f\"], [0.2222222222222222, \"#7201a8\"], [0.3333333333333333, \"#9c179e\"], [0.4444444444444444, \"#bd3786\"], [0.5555555555555556, \"#d8576b\"], [0.6666666666666666, \"#ed7953\"], [0.7777777777777778, \"#fb9f3a\"], [0.8888888888888888, \"#fdca26\"], [1.0, \"#f0f921\"]], \"type\": \"histogram2dcontour\"}], \"mesh3d\": [{\"colorbar\": {\"outlinewidth\": 0, \"ticks\": \"\"}, \"type\": \"mesh3d\"}], \"parcoords\": [{\"line\": {\"colorbar\": {\"outlinewidth\": 0, \"ticks\": \"\"}}, \"type\": \"parcoords\"}], \"pie\": [{\"automargin\": true, \"type\": \"pie\"}], \"scatter\": [{\"marker\": {\"colorbar\": {\"outlinewidth\": 0, \"ticks\": \"\"}}, \"type\": \"scatter\"}], \"scatter3d\": [{\"line\": {\"colorbar\": {\"outlinewidth\": 0, \"ticks\": \"\"}}, \"marker\": {\"colorbar\": {\"outlinewidth\": 0, \"ticks\": \"\"}}, \"type\": \"scatter3d\"}], \"scattercarpet\": [{\"marker\": {\"colorbar\": {\"outlinewidth\": 0, \"ticks\": \"\"}}, \"type\": \"scattercarpet\"}], \"scattergeo\": [{\"marker\": {\"colorbar\": {\"outlinewidth\": 0, \"ticks\": \"\"}}, \"type\": \"scattergeo\"}], \"scattergl\": [{\"marker\": {\"colorbar\": {\"outlinewidth\": 0, \"ticks\": \"\"}}, \"type\": \"scattergl\"}], \"scattermapbox\": [{\"marker\": {\"colorbar\": {\"outlinewidth\": 0, \"ticks\": \"\"}}, \"type\": \"scattermapbox\"}], \"scatterpolar\": [{\"marker\": {\"colorbar\": {\"outlinewidth\": 0, \"ticks\": \"\"}}, \"type\": \"scatterpolar\"}], \"scatterpolargl\": [{\"marker\": {\"colorbar\": {\"outlinewidth\": 0, \"ticks\": \"\"}}, \"type\": \"scatterpolargl\"}], \"scatterternary\": [{\"marker\": {\"colorbar\": {\"outlinewidth\": 0, \"ticks\": \"\"}}, \"type\": \"scatterternary\"}], \"surface\": [{\"colorbar\": {\"outlinewidth\": 0, \"ticks\": \"\"}, \"colorscale\": [[0.0, \"#0d0887\"], [0.1111111111111111, \"#46039f\"], [0.2222222222222222, \"#7201a8\"], [0.3333333333333333, \"#9c179e\"], [0.4444444444444444, \"#bd3786\"], [0.5555555555555556, \"#d8576b\"], [0.6666666666666666, \"#ed7953\"], [0.7777777777777778, \"#fb9f3a\"], [0.8888888888888888, \"#fdca26\"], [1.0, \"#f0f921\"]], \"type\": \"surface\"}], \"table\": [{\"cells\": {\"fill\": {\"color\": \"#EBF0F8\"}, \"line\": {\"color\": \"white\"}}, \"header\": {\"fill\": {\"color\": \"#C8D4E3\"}, \"line\": {\"color\": \"white\"}}, \"type\": \"table\"}]}, \"layout\": {\"annotationdefaults\": {\"arrowcolor\": \"#2a3f5f\", \"arrowhead\": 0, \"arrowwidth\": 1}, \"coloraxis\": {\"colorbar\": {\"outlinewidth\": 0, \"ticks\": \"\"}}, \"colorscale\": {\"diverging\": [[0, \"#8e0152\"], [0.1, \"#c51b7d\"], [0.2, \"#de77ae\"], [0.3, \"#f1b6da\"], [0.4, \"#fde0ef\"], [0.5, \"#f7f7f7\"], [0.6, \"#e6f5d0\"], [0.7, \"#b8e186\"], [0.8, \"#7fbc41\"], [0.9, \"#4d9221\"], [1, \"#276419\"]], \"sequential\": [[0.0, \"#0d0887\"], [0.1111111111111111, \"#46039f\"], [0.2222222222222222, \"#7201a8\"], [0.3333333333333333, \"#9c179e\"], [0.4444444444444444, \"#bd3786\"], [0.5555555555555556, \"#d8576b\"], [0.6666666666666666, \"#ed7953\"], [0.7777777777777778, \"#fb9f3a\"], [0.8888888888888888, \"#fdca26\"], [1.0, \"#f0f921\"]], \"sequentialminus\": [[0.0, \"#0d0887\"], [0.1111111111111111, \"#46039f\"], [0.2222222222222222, \"#7201a8\"], [0.3333333333333333, \"#9c179e\"], [0.4444444444444444, \"#bd3786\"], [0.5555555555555556, \"#d8576b\"], [0.6666666666666666, \"#ed7953\"], [0.7777777777777778, \"#fb9f3a\"], [0.8888888888888888, \"#fdca26\"], [1.0, \"#f0f921\"]]}, \"colorway\": [\"#636efa\", \"#EF553B\", \"#00cc96\", \"#ab63fa\", \"#FFA15A\", \"#19d3f3\", \"#FF6692\", \"#B6E880\", \"#FF97FF\", \"#FECB52\"], \"font\": {\"color\": \"#2a3f5f\"}, \"geo\": {\"bgcolor\": \"white\", \"lakecolor\": \"white\", \"landcolor\": \"#E5ECF6\", \"showlakes\": true, \"showland\": true, \"subunitcolor\": \"white\"}, \"hoverlabel\": {\"align\": \"left\"}, \"hovermode\": \"closest\", \"mapbox\": {\"style\": \"light\"}, \"paper_bgcolor\": \"white\", \"plot_bgcolor\": \"#E5ECF6\", \"polar\": {\"angularaxis\": {\"gridcolor\": \"white\", \"linecolor\": \"white\", \"ticks\": \"\"}, \"bgcolor\": \"#E5ECF6\", \"radialaxis\": {\"gridcolor\": \"white\", \"linecolor\": \"white\", \"ticks\": \"\"}}, \"scene\": {\"xaxis\": {\"backgroundcolor\": \"#E5ECF6\", \"gridcolor\": \"white\", \"gridwidth\": 2, \"linecolor\": \"white\", \"showbackground\": true, \"ticks\": \"\", \"zerolinecolor\": \"white\"}, \"yaxis\": {\"backgroundcolor\": \"#E5ECF6\", \"gridcolor\": \"white\", \"gridwidth\": 2, \"linecolor\": \"white\", \"showbackground\": true, \"ticks\": \"\", \"zerolinecolor\": \"white\"}, \"zaxis\": {\"backgroundcolor\": \"#E5ECF6\", \"gridcolor\": \"white\", \"gridwidth\": 2, \"linecolor\": \"white\", \"showbackground\": true, \"ticks\": \"\", \"zerolinecolor\": \"white\"}}, \"shapedefaults\": {\"line\": {\"color\": \"#2a3f5f\"}}, \"ternary\": {\"aaxis\": {\"gridcolor\": \"white\", \"linecolor\": \"white\", \"ticks\": \"\"}, \"baxis\": {\"gridcolor\": \"white\", \"linecolor\": \"white\", \"ticks\": \"\"}, \"bgcolor\": \"#E5ECF6\", \"caxis\": {\"gridcolor\": \"white\", \"linecolor\": \"white\", \"ticks\": \"\"}}, \"title\": {\"x\": 0.05}, \"xaxis\": {\"automargin\": true, \"gridcolor\": \"white\", \"linecolor\": \"white\", \"ticks\": \"\", \"title\": {\"standoff\": 15}, \"zerolinecolor\": \"white\", \"zerolinewidth\": 2}, \"yaxis\": {\"automargin\": true, \"gridcolor\": \"white\", \"linecolor\": \"white\", \"ticks\": \"\", \"title\": {\"standoff\": 15}, \"zerolinecolor\": \"white\", \"zerolinewidth\": 2}}}, \"xaxis\": {\"anchor\": \"y\", \"categoryarray\": [\"GP\", \"MS\"], \"categoryorder\": \"array\", \"domain\": [0.0, 1.0], \"title\": {\"text\": \"school\"}}, \"yaxis\": {\"anchor\": \"x\", \"domain\": [0.0, 1.0], \"title\": {\"text\": \"count\"}}},\n",
              "                        {\"responsive\": true}\n",
              "                    ).then(function(){\n",
              "                            \n",
              "var gd = document.getElementById('89402072-7a3e-4c29-a06d-897426d260cc');\n",
              "var x = new MutationObserver(function (mutations, observer) {{\n",
              "        var display = window.getComputedStyle(gd).display;\n",
              "        if (!display || display === 'none') {{\n",
              "            console.log([gd, 'removed!']);\n",
              "            Plotly.purge(gd);\n",
              "            observer.disconnect();\n",
              "        }}\n",
              "}});\n",
              "\n",
              "// Listen for the removal of the full notebook cells\n",
              "var notebookContainer = gd.closest('#notebook-container');\n",
              "if (notebookContainer) {{\n",
              "    x.observe(notebookContainer, {childList: true});\n",
              "}}\n",
              "\n",
              "// Listen for the clearing of the current output cell\n",
              "var outputEl = gd.closest('.output');\n",
              "if (outputEl) {{\n",
              "    x.observe(outputEl, {childList: true});\n",
              "}}\n",
              "\n",
              "                        })\n",
              "                };\n",
              "                \n",
              "            </script>\n",
              "        </div>\n",
              "</body>\n",
              "</html>"
            ]
          },
          "metadata": {}
        }
      ]
    },
    {
      "cell_type": "code",
      "metadata": {
        "colab": {
          "base_uri": "https://localhost:8080/"
        },
        "id": "eFqg37aNOIKy",
        "outputId": "fc82a27f-9524-4609-f598-e12b48a8eb3e"
      },
      "source": [
        "data.groupby('school')['Subject'].count()  #если нужно использовать groupby"
      ],
      "execution_count": null,
      "outputs": [
        {
          "output_type": "execute_result",
          "data": {
            "text/plain": [
              "school\n",
              "GP    772\n",
              "MS    272\n",
              "Name: Subject, dtype: int64"
            ]
          },
          "metadata": {},
          "execution_count": 491
        }
      ]
    },
    {
      "cell_type": "markdown",
      "metadata": {
        "id": "b4rSV17O_nKF"
      },
      "source": [
        "Сколько студентов посещают математику, сколько - португальский?"
      ]
    },
    {
      "cell_type": "code",
      "metadata": {
        "colab": {
          "base_uri": "https://localhost:8080/"
        },
        "id": "nVfpEec8B1mY",
        "outputId": "e9ecfc80-2e66-46b8-aea0-b79d78c6dba3"
      },
      "source": [
        "data['Subject'].value_counts()"
      ],
      "execution_count": null,
      "outputs": [
        {
          "output_type": "execute_result",
          "data": {
            "text/plain": [
              "Por     649\n",
              "Math    395\n",
              "Name: Subject, dtype: int64"
            ]
          },
          "metadata": {},
          "execution_count": 492
        }
      ]
    },
    {
      "cell_type": "code",
      "metadata": {
        "colab": {
          "base_uri": "https://localhost:8080/",
          "height": 542
        },
        "id": "XRVeqXVBWRCf",
        "outputId": "54182298-1eec-453a-b497-72e5e97f6689"
      },
      "source": [
        "fig1 = px.histogram(data_frame = data, x = 'Subject', color='Subject')\n",
        "fig1.show()"
      ],
      "execution_count": null,
      "outputs": [
        {
          "output_type": "display_data",
          "data": {
            "text/html": [
              "<html>\n",
              "<head><meta charset=\"utf-8\" /></head>\n",
              "<body>\n",
              "    <div>\n",
              "            <script src=\"https://cdnjs.cloudflare.com/ajax/libs/mathjax/2.7.5/MathJax.js?config=TeX-AMS-MML_SVG\"></script><script type=\"text/javascript\">if (window.MathJax) {MathJax.Hub.Config({SVG: {font: \"STIX-Web\"}});}</script>\n",
              "                <script type=\"text/javascript\">window.PlotlyConfig = {MathJaxConfig: 'local'};</script>\n",
              "        <script src=\"https://cdn.plot.ly/plotly-latest.min.js\"></script>    \n",
              "            <div id=\"1d35954e-3696-462d-9e02-369f06a3ba62\" class=\"plotly-graph-div\" style=\"height:525px; width:100%;\"></div>\n",
              "            <script type=\"text/javascript\">\n",
              "                \n",
              "                    window.PLOTLYENV=window.PLOTLYENV || {};\n",
              "                    \n",
              "                if (document.getElementById(\"1d35954e-3696-462d-9e02-369f06a3ba62\")) {\n",
              "                    Plotly.newPlot(\n",
              "                        '1d35954e-3696-462d-9e02-369f06a3ba62',\n",
              "                        [{\"alignmentgroup\": \"True\", \"bingroup\": \"x\", \"hoverlabel\": {\"namelength\": 0}, \"hovertemplate\": \"Subject=%{x}<br>count=%{y}\", \"legendgroup\": \"Subject=Math\", \"marker\": {\"color\": \"#636efa\"}, \"name\": \"Subject=Math\", \"offsetgroup\": \"Subject=Math\", \"orientation\": \"v\", \"showlegend\": true, \"type\": \"histogram\", \"x\": [\"Math\", \"Math\", \"Math\", \"Math\", \"Math\", \"Math\", \"Math\", \"Math\", \"Math\", \"Math\", \"Math\", \"Math\", \"Math\", \"Math\", \"Math\", \"Math\", \"Math\", \"Math\", \"Math\", \"Math\", \"Math\", \"Math\", \"Math\", \"Math\", \"Math\", \"Math\", \"Math\", \"Math\", \"Math\", \"Math\", \"Math\", \"Math\", \"Math\", \"Math\", \"Math\", \"Math\", \"Math\", \"Math\", \"Math\", \"Math\", \"Math\", \"Math\", \"Math\", \"Math\", \"Math\", \"Math\", \"Math\", \"Math\", \"Math\", \"Math\", \"Math\", \"Math\", \"Math\", \"Math\", \"Math\", \"Math\", \"Math\", \"Math\", \"Math\", \"Math\", \"Math\", \"Math\", \"Math\", \"Math\", \"Math\", \"Math\", \"Math\", \"Math\", \"Math\", \"Math\", \"Math\", \"Math\", \"Math\", \"Math\", \"Math\", \"Math\", \"Math\", \"Math\", \"Math\", \"Math\", \"Math\", \"Math\", \"Math\", \"Math\", \"Math\", \"Math\", \"Math\", \"Math\", \"Math\", \"Math\", \"Math\", \"Math\", \"Math\", \"Math\", \"Math\", \"Math\", \"Math\", \"Math\", \"Math\", \"Math\", \"Math\", \"Math\", \"Math\", \"Math\", \"Math\", \"Math\", \"Math\", \"Math\", \"Math\", \"Math\", \"Math\", \"Math\", \"Math\", \"Math\", \"Math\", \"Math\", \"Math\", \"Math\", \"Math\", \"Math\", \"Math\", \"Math\", \"Math\", \"Math\", \"Math\", \"Math\", \"Math\", \"Math\", \"Math\", \"Math\", \"Math\", \"Math\", \"Math\", \"Math\", \"Math\", \"Math\", \"Math\", \"Math\", \"Math\", \"Math\", \"Math\", \"Math\", \"Math\", \"Math\", \"Math\", \"Math\", \"Math\", \"Math\", \"Math\", \"Math\", \"Math\", \"Math\", \"Math\", \"Math\", \"Math\", \"Math\", \"Math\", \"Math\", \"Math\", \"Math\", \"Math\", \"Math\", \"Math\", \"Math\", \"Math\", \"Math\", \"Math\", \"Math\", \"Math\", \"Math\", \"Math\", \"Math\", \"Math\", \"Math\", \"Math\", \"Math\", \"Math\", \"Math\", \"Math\", \"Math\", \"Math\", \"Math\", \"Math\", \"Math\", \"Math\", \"Math\", \"Math\", \"Math\", \"Math\", \"Math\", \"Math\", \"Math\", \"Math\", \"Math\", \"Math\", \"Math\", \"Math\", \"Math\", \"Math\", \"Math\", \"Math\", \"Math\", \"Math\", \"Math\", \"Math\", \"Math\", \"Math\", \"Math\", \"Math\", \"Math\", \"Math\", \"Math\", \"Math\", \"Math\", \"Math\", \"Math\", \"Math\", \"Math\", \"Math\", \"Math\", \"Math\", \"Math\", \"Math\", \"Math\", \"Math\", \"Math\", \"Math\", \"Math\", \"Math\", \"Math\", \"Math\", \"Math\", \"Math\", \"Math\", \"Math\", \"Math\", \"Math\", \"Math\", \"Math\", \"Math\", \"Math\", \"Math\", \"Math\", \"Math\", \"Math\", \"Math\", \"Math\", \"Math\", \"Math\", \"Math\", \"Math\", \"Math\", \"Math\", \"Math\", \"Math\", \"Math\", \"Math\", \"Math\", \"Math\", \"Math\", \"Math\", \"Math\", \"Math\", \"Math\", \"Math\", \"Math\", \"Math\", \"Math\", \"Math\", \"Math\", \"Math\", \"Math\", \"Math\", \"Math\", \"Math\", \"Math\", \"Math\", \"Math\", \"Math\", \"Math\", \"Math\", \"Math\", \"Math\", \"Math\", \"Math\", \"Math\", \"Math\", \"Math\", \"Math\", \"Math\", \"Math\", \"Math\", \"Math\", \"Math\", \"Math\", \"Math\", \"Math\", \"Math\", \"Math\", \"Math\", \"Math\", \"Math\", \"Math\", \"Math\", \"Math\", \"Math\", \"Math\", \"Math\", \"Math\", \"Math\", \"Math\", \"Math\", \"Math\", \"Math\", \"Math\", \"Math\", \"Math\", \"Math\", \"Math\", \"Math\", \"Math\", \"Math\", \"Math\", \"Math\", \"Math\", \"Math\", \"Math\", \"Math\", \"Math\", \"Math\", \"Math\", \"Math\", \"Math\", \"Math\", \"Math\", \"Math\", \"Math\", \"Math\", \"Math\", \"Math\", \"Math\", \"Math\", \"Math\", \"Math\", \"Math\", \"Math\", \"Math\", \"Math\", \"Math\", \"Math\", \"Math\", \"Math\", \"Math\", \"Math\", \"Math\", \"Math\", \"Math\", \"Math\", \"Math\", \"Math\", \"Math\", \"Math\", \"Math\", \"Math\", \"Math\", \"Math\", \"Math\", \"Math\", \"Math\", \"Math\", \"Math\", \"Math\", \"Math\", \"Math\", \"Math\", \"Math\", \"Math\", \"Math\", \"Math\", \"Math\", \"Math\", \"Math\", \"Math\", \"Math\", \"Math\", \"Math\", \"Math\", \"Math\", \"Math\", \"Math\", \"Math\", \"Math\", \"Math\", \"Math\", \"Math\"], \"xaxis\": \"x\", \"yaxis\": \"y\"}, {\"alignmentgroup\": \"True\", \"bingroup\": \"x\", \"hoverlabel\": {\"namelength\": 0}, \"hovertemplate\": \"Subject=%{x}<br>count=%{y}\", \"legendgroup\": \"Subject=Por\", \"marker\": {\"color\": \"#EF553B\"}, \"name\": \"Subject=Por\", \"offsetgroup\": \"Subject=Por\", \"orientation\": \"v\", \"showlegend\": true, \"type\": \"histogram\", \"x\": [\"Por\", \"Por\", \"Por\", \"Por\", \"Por\", \"Por\", \"Por\", \"Por\", \"Por\", \"Por\", \"Por\", \"Por\", \"Por\", \"Por\", \"Por\", \"Por\", \"Por\", \"Por\", \"Por\", \"Por\", \"Por\", \"Por\", \"Por\", \"Por\", \"Por\", \"Por\", \"Por\", \"Por\", \"Por\", \"Por\", \"Por\", \"Por\", \"Por\", \"Por\", \"Por\", \"Por\", \"Por\", \"Por\", \"Por\", \"Por\", \"Por\", \"Por\", \"Por\", \"Por\", \"Por\", \"Por\", \"Por\", \"Por\", \"Por\", \"Por\", \"Por\", \"Por\", \"Por\", \"Por\", \"Por\", \"Por\", \"Por\", \"Por\", \"Por\", \"Por\", \"Por\", \"Por\", \"Por\", \"Por\", \"Por\", \"Por\", \"Por\", \"Por\", \"Por\", \"Por\", \"Por\", \"Por\", \"Por\", \"Por\", \"Por\", \"Por\", \"Por\", \"Por\", \"Por\", \"Por\", \"Por\", \"Por\", \"Por\", \"Por\", \"Por\", \"Por\", \"Por\", \"Por\", \"Por\", \"Por\", \"Por\", \"Por\", \"Por\", \"Por\", \"Por\", \"Por\", \"Por\", \"Por\", \"Por\", \"Por\", \"Por\", \"Por\", \"Por\", \"Por\", \"Por\", \"Por\", \"Por\", \"Por\", \"Por\", \"Por\", \"Por\", \"Por\", \"Por\", \"Por\", \"Por\", \"Por\", \"Por\", \"Por\", \"Por\", \"Por\", \"Por\", \"Por\", \"Por\", \"Por\", \"Por\", \"Por\", \"Por\", \"Por\", \"Por\", \"Por\", \"Por\", \"Por\", \"Por\", \"Por\", \"Por\", \"Por\", \"Por\", \"Por\", \"Por\", \"Por\", \"Por\", \"Por\", \"Por\", \"Por\", \"Por\", \"Por\", \"Por\", \"Por\", \"Por\", \"Por\", \"Por\", \"Por\", \"Por\", \"Por\", \"Por\", \"Por\", \"Por\", \"Por\", \"Por\", \"Por\", \"Por\", \"Por\", \"Por\", \"Por\", \"Por\", \"Por\", \"Por\", \"Por\", \"Por\", \"Por\", \"Por\", \"Por\", \"Por\", \"Por\", \"Por\", \"Por\", \"Por\", \"Por\", \"Por\", \"Por\", \"Por\", \"Por\", \"Por\", \"Por\", \"Por\", \"Por\", \"Por\", \"Por\", \"Por\", \"Por\", \"Por\", \"Por\", \"Por\", \"Por\", \"Por\", \"Por\", \"Por\", \"Por\", \"Por\", \"Por\", \"Por\", \"Por\", \"Por\", \"Por\", \"Por\", \"Por\", \"Por\", \"Por\", \"Por\", \"Por\", \"Por\", \"Por\", \"Por\", \"Por\", \"Por\", \"Por\", \"Por\", \"Por\", \"Por\", \"Por\", \"Por\", \"Por\", \"Por\", \"Por\", \"Por\", \"Por\", \"Por\", \"Por\", \"Por\", \"Por\", \"Por\", \"Por\", \"Por\", \"Por\", \"Por\", \"Por\", \"Por\", \"Por\", \"Por\", \"Por\", \"Por\", \"Por\", \"Por\", \"Por\", \"Por\", \"Por\", \"Por\", \"Por\", \"Por\", \"Por\", \"Por\", \"Por\", \"Por\", \"Por\", \"Por\", \"Por\", \"Por\", \"Por\", \"Por\", \"Por\", \"Por\", \"Por\", \"Por\", \"Por\", \"Por\", \"Por\", \"Por\", \"Por\", \"Por\", \"Por\", \"Por\", \"Por\", \"Por\", \"Por\", \"Por\", \"Por\", \"Por\", \"Por\", \"Por\", \"Por\", \"Por\", \"Por\", \"Por\", \"Por\", \"Por\", \"Por\", \"Por\", \"Por\", \"Por\", \"Por\", \"Por\", \"Por\", \"Por\", \"Por\", \"Por\", \"Por\", \"Por\", \"Por\", \"Por\", \"Por\", \"Por\", \"Por\", \"Por\", \"Por\", \"Por\", \"Por\", \"Por\", \"Por\", \"Por\", \"Por\", \"Por\", \"Por\", \"Por\", \"Por\", \"Por\", \"Por\", \"Por\", \"Por\", \"Por\", \"Por\", \"Por\", \"Por\", \"Por\", \"Por\", \"Por\", \"Por\", \"Por\", \"Por\", \"Por\", \"Por\", \"Por\", \"Por\", \"Por\", \"Por\", \"Por\", \"Por\", \"Por\", \"Por\", \"Por\", \"Por\", \"Por\", \"Por\", \"Por\", \"Por\", \"Por\", \"Por\", \"Por\", \"Por\", \"Por\", \"Por\", \"Por\", \"Por\", \"Por\", \"Por\", \"Por\", \"Por\", \"Por\", \"Por\", \"Por\", \"Por\", \"Por\", \"Por\", \"Por\", \"Por\", \"Por\", \"Por\", \"Por\", \"Por\", \"Por\", \"Por\", \"Por\", \"Por\", \"Por\", \"Por\", \"Por\", \"Por\", \"Por\", \"Por\", \"Por\", \"Por\", \"Por\", \"Por\", \"Por\", \"Por\", \"Por\", \"Por\", \"Por\", \"Por\", \"Por\", \"Por\", \"Por\", \"Por\", \"Por\", \"Por\", \"Por\", \"Por\", \"Por\", \"Por\", \"Por\", \"Por\", \"Por\", \"Por\", \"Por\", \"Por\", \"Por\", \"Por\", \"Por\", \"Por\", \"Por\", \"Por\", \"Por\", \"Por\", \"Por\", \"Por\", \"Por\", \"Por\", \"Por\", \"Por\", \"Por\", \"Por\", \"Por\", \"Por\", \"Por\", \"Por\", \"Por\", \"Por\", \"Por\", \"Por\", \"Por\", \"Por\", \"Por\", \"Por\", \"Por\", \"Por\", \"Por\", \"Por\", \"Por\", \"Por\", \"Por\", \"Por\", \"Por\", \"Por\", \"Por\", \"Por\", \"Por\", \"Por\", \"Por\", \"Por\", \"Por\", \"Por\", \"Por\", \"Por\", \"Por\", \"Por\", \"Por\", \"Por\", \"Por\", \"Por\", \"Por\", \"Por\", \"Por\", \"Por\", \"Por\", \"Por\", \"Por\", \"Por\", \"Por\", \"Por\", \"Por\", \"Por\", \"Por\", \"Por\", \"Por\", \"Por\", \"Por\", \"Por\", \"Por\", \"Por\", \"Por\", \"Por\", \"Por\", \"Por\", \"Por\", \"Por\", \"Por\", \"Por\", \"Por\", \"Por\", \"Por\", \"Por\", \"Por\", \"Por\", \"Por\", \"Por\", \"Por\", \"Por\", \"Por\", \"Por\", \"Por\", \"Por\", \"Por\", \"Por\", \"Por\", \"Por\", \"Por\", \"Por\", \"Por\", \"Por\", \"Por\", \"Por\", \"Por\", \"Por\", \"Por\", \"Por\", \"Por\", \"Por\", \"Por\", \"Por\", \"Por\", \"Por\", \"Por\", \"Por\", \"Por\", \"Por\", \"Por\", \"Por\", \"Por\", \"Por\", \"Por\", \"Por\", \"Por\", \"Por\", \"Por\", \"Por\", \"Por\", \"Por\", \"Por\", \"Por\", \"Por\", \"Por\", \"Por\", \"Por\", \"Por\", \"Por\", \"Por\", \"Por\", \"Por\", \"Por\", \"Por\", \"Por\", \"Por\", \"Por\", \"Por\", \"Por\", \"Por\", \"Por\", \"Por\", \"Por\", \"Por\", \"Por\", \"Por\", \"Por\", \"Por\", \"Por\", \"Por\", \"Por\", \"Por\", \"Por\", \"Por\", \"Por\", \"Por\", \"Por\", \"Por\", \"Por\", \"Por\", \"Por\", \"Por\", \"Por\", \"Por\", \"Por\", \"Por\", \"Por\", \"Por\", \"Por\", \"Por\", \"Por\", \"Por\", \"Por\", \"Por\", \"Por\", \"Por\", \"Por\", \"Por\", \"Por\", \"Por\", \"Por\", \"Por\", \"Por\", \"Por\", \"Por\", \"Por\", \"Por\", \"Por\", \"Por\", \"Por\", \"Por\", \"Por\", \"Por\", \"Por\", \"Por\", \"Por\", \"Por\", \"Por\", \"Por\", \"Por\", \"Por\", \"Por\", \"Por\", \"Por\", \"Por\", \"Por\", \"Por\", \"Por\", \"Por\", \"Por\", \"Por\", \"Por\", \"Por\", \"Por\", \"Por\", \"Por\", \"Por\", \"Por\", \"Por\", \"Por\", \"Por\", \"Por\", \"Por\", \"Por\", \"Por\", \"Por\", \"Por\", \"Por\", \"Por\", \"Por\", \"Por\", \"Por\", \"Por\", \"Por\"], \"xaxis\": \"x\", \"yaxis\": \"y\"}],\n",
              "                        {\"barmode\": \"relative\", \"legend\": {\"tracegroupgap\": 0}, \"margin\": {\"t\": 60}, \"template\": {\"data\": {\"bar\": [{\"error_x\": {\"color\": \"#2a3f5f\"}, \"error_y\": {\"color\": \"#2a3f5f\"}, \"marker\": {\"line\": {\"color\": \"#E5ECF6\", \"width\": 0.5}}, \"type\": \"bar\"}], \"barpolar\": [{\"marker\": {\"line\": {\"color\": \"#E5ECF6\", \"width\": 0.5}}, \"type\": \"barpolar\"}], \"carpet\": [{\"aaxis\": {\"endlinecolor\": \"#2a3f5f\", \"gridcolor\": \"white\", \"linecolor\": \"white\", \"minorgridcolor\": \"white\", \"startlinecolor\": \"#2a3f5f\"}, \"baxis\": {\"endlinecolor\": \"#2a3f5f\", \"gridcolor\": \"white\", \"linecolor\": \"white\", \"minorgridcolor\": \"white\", \"startlinecolor\": \"#2a3f5f\"}, \"type\": \"carpet\"}], \"choropleth\": [{\"colorbar\": {\"outlinewidth\": 0, \"ticks\": \"\"}, \"type\": \"choropleth\"}], \"contour\": [{\"colorbar\": {\"outlinewidth\": 0, \"ticks\": \"\"}, \"colorscale\": [[0.0, \"#0d0887\"], [0.1111111111111111, \"#46039f\"], [0.2222222222222222, \"#7201a8\"], [0.3333333333333333, \"#9c179e\"], [0.4444444444444444, \"#bd3786\"], [0.5555555555555556, \"#d8576b\"], [0.6666666666666666, \"#ed7953\"], [0.7777777777777778, \"#fb9f3a\"], [0.8888888888888888, \"#fdca26\"], [1.0, \"#f0f921\"]], \"type\": \"contour\"}], \"contourcarpet\": [{\"colorbar\": {\"outlinewidth\": 0, \"ticks\": \"\"}, \"type\": \"contourcarpet\"}], \"heatmap\": [{\"colorbar\": {\"outlinewidth\": 0, \"ticks\": \"\"}, \"colorscale\": [[0.0, \"#0d0887\"], [0.1111111111111111, \"#46039f\"], [0.2222222222222222, \"#7201a8\"], [0.3333333333333333, \"#9c179e\"], [0.4444444444444444, \"#bd3786\"], [0.5555555555555556, \"#d8576b\"], [0.6666666666666666, \"#ed7953\"], [0.7777777777777778, \"#fb9f3a\"], [0.8888888888888888, \"#fdca26\"], [1.0, \"#f0f921\"]], \"type\": \"heatmap\"}], \"heatmapgl\": [{\"colorbar\": {\"outlinewidth\": 0, \"ticks\": \"\"}, \"colorscale\": [[0.0, \"#0d0887\"], [0.1111111111111111, \"#46039f\"], [0.2222222222222222, \"#7201a8\"], [0.3333333333333333, \"#9c179e\"], [0.4444444444444444, \"#bd3786\"], [0.5555555555555556, \"#d8576b\"], [0.6666666666666666, \"#ed7953\"], [0.7777777777777778, \"#fb9f3a\"], [0.8888888888888888, \"#fdca26\"], [1.0, \"#f0f921\"]], \"type\": \"heatmapgl\"}], \"histogram\": [{\"marker\": {\"colorbar\": {\"outlinewidth\": 0, \"ticks\": \"\"}}, \"type\": \"histogram\"}], \"histogram2d\": [{\"colorbar\": {\"outlinewidth\": 0, \"ticks\": \"\"}, \"colorscale\": [[0.0, \"#0d0887\"], [0.1111111111111111, \"#46039f\"], [0.2222222222222222, \"#7201a8\"], [0.3333333333333333, \"#9c179e\"], [0.4444444444444444, \"#bd3786\"], [0.5555555555555556, \"#d8576b\"], [0.6666666666666666, \"#ed7953\"], [0.7777777777777778, \"#fb9f3a\"], [0.8888888888888888, \"#fdca26\"], [1.0, \"#f0f921\"]], \"type\": \"histogram2d\"}], \"histogram2dcontour\": [{\"colorbar\": {\"outlinewidth\": 0, \"ticks\": \"\"}, \"colorscale\": [[0.0, \"#0d0887\"], [0.1111111111111111, \"#46039f\"], [0.2222222222222222, \"#7201a8\"], [0.3333333333333333, \"#9c179e\"], [0.4444444444444444, \"#bd3786\"], [0.5555555555555556, \"#d8576b\"], [0.6666666666666666, \"#ed7953\"], [0.7777777777777778, \"#fb9f3a\"], [0.8888888888888888, \"#fdca26\"], [1.0, \"#f0f921\"]], \"type\": \"histogram2dcontour\"}], \"mesh3d\": [{\"colorbar\": {\"outlinewidth\": 0, \"ticks\": \"\"}, \"type\": \"mesh3d\"}], \"parcoords\": [{\"line\": {\"colorbar\": {\"outlinewidth\": 0, \"ticks\": \"\"}}, \"type\": \"parcoords\"}], \"pie\": [{\"automargin\": true, \"type\": \"pie\"}], \"scatter\": [{\"marker\": {\"colorbar\": {\"outlinewidth\": 0, \"ticks\": \"\"}}, \"type\": \"scatter\"}], \"scatter3d\": [{\"line\": {\"colorbar\": {\"outlinewidth\": 0, \"ticks\": \"\"}}, \"marker\": {\"colorbar\": {\"outlinewidth\": 0, \"ticks\": \"\"}}, \"type\": \"scatter3d\"}], \"scattercarpet\": [{\"marker\": {\"colorbar\": {\"outlinewidth\": 0, \"ticks\": \"\"}}, \"type\": \"scattercarpet\"}], \"scattergeo\": [{\"marker\": {\"colorbar\": {\"outlinewidth\": 0, \"ticks\": \"\"}}, \"type\": \"scattergeo\"}], \"scattergl\": [{\"marker\": {\"colorbar\": {\"outlinewidth\": 0, \"ticks\": \"\"}}, \"type\": \"scattergl\"}], \"scattermapbox\": [{\"marker\": {\"colorbar\": {\"outlinewidth\": 0, \"ticks\": \"\"}}, \"type\": \"scattermapbox\"}], \"scatterpolar\": [{\"marker\": {\"colorbar\": {\"outlinewidth\": 0, \"ticks\": \"\"}}, \"type\": \"scatterpolar\"}], \"scatterpolargl\": [{\"marker\": {\"colorbar\": {\"outlinewidth\": 0, \"ticks\": \"\"}}, \"type\": \"scatterpolargl\"}], \"scatterternary\": [{\"marker\": {\"colorbar\": {\"outlinewidth\": 0, \"ticks\": \"\"}}, \"type\": \"scatterternary\"}], \"surface\": [{\"colorbar\": {\"outlinewidth\": 0, \"ticks\": \"\"}, \"colorscale\": [[0.0, \"#0d0887\"], [0.1111111111111111, \"#46039f\"], [0.2222222222222222, \"#7201a8\"], [0.3333333333333333, \"#9c179e\"], [0.4444444444444444, \"#bd3786\"], [0.5555555555555556, \"#d8576b\"], [0.6666666666666666, \"#ed7953\"], [0.7777777777777778, \"#fb9f3a\"], [0.8888888888888888, \"#fdca26\"], [1.0, \"#f0f921\"]], \"type\": \"surface\"}], \"table\": [{\"cells\": {\"fill\": {\"color\": \"#EBF0F8\"}, \"line\": {\"color\": \"white\"}}, \"header\": {\"fill\": {\"color\": \"#C8D4E3\"}, \"line\": {\"color\": \"white\"}}, \"type\": \"table\"}]}, \"layout\": {\"annotationdefaults\": {\"arrowcolor\": \"#2a3f5f\", \"arrowhead\": 0, \"arrowwidth\": 1}, \"coloraxis\": {\"colorbar\": {\"outlinewidth\": 0, \"ticks\": \"\"}}, \"colorscale\": {\"diverging\": [[0, \"#8e0152\"], [0.1, \"#c51b7d\"], [0.2, \"#de77ae\"], [0.3, \"#f1b6da\"], [0.4, \"#fde0ef\"], [0.5, \"#f7f7f7\"], [0.6, \"#e6f5d0\"], [0.7, \"#b8e186\"], [0.8, \"#7fbc41\"], [0.9, \"#4d9221\"], [1, \"#276419\"]], \"sequential\": [[0.0, \"#0d0887\"], [0.1111111111111111, \"#46039f\"], [0.2222222222222222, \"#7201a8\"], [0.3333333333333333, \"#9c179e\"], [0.4444444444444444, \"#bd3786\"], [0.5555555555555556, \"#d8576b\"], [0.6666666666666666, \"#ed7953\"], [0.7777777777777778, \"#fb9f3a\"], [0.8888888888888888, \"#fdca26\"], [1.0, \"#f0f921\"]], \"sequentialminus\": [[0.0, \"#0d0887\"], [0.1111111111111111, \"#46039f\"], [0.2222222222222222, \"#7201a8\"], [0.3333333333333333, \"#9c179e\"], [0.4444444444444444, \"#bd3786\"], [0.5555555555555556, \"#d8576b\"], [0.6666666666666666, \"#ed7953\"], [0.7777777777777778, \"#fb9f3a\"], [0.8888888888888888, \"#fdca26\"], [1.0, \"#f0f921\"]]}, \"colorway\": [\"#636efa\", \"#EF553B\", \"#00cc96\", \"#ab63fa\", \"#FFA15A\", \"#19d3f3\", \"#FF6692\", \"#B6E880\", \"#FF97FF\", \"#FECB52\"], \"font\": {\"color\": \"#2a3f5f\"}, \"geo\": {\"bgcolor\": \"white\", \"lakecolor\": \"white\", \"landcolor\": \"#E5ECF6\", \"showlakes\": true, \"showland\": true, \"subunitcolor\": \"white\"}, \"hoverlabel\": {\"align\": \"left\"}, \"hovermode\": \"closest\", \"mapbox\": {\"style\": \"light\"}, \"paper_bgcolor\": \"white\", \"plot_bgcolor\": \"#E5ECF6\", \"polar\": {\"angularaxis\": {\"gridcolor\": \"white\", \"linecolor\": \"white\", \"ticks\": \"\"}, \"bgcolor\": \"#E5ECF6\", \"radialaxis\": {\"gridcolor\": \"white\", \"linecolor\": \"white\", \"ticks\": \"\"}}, \"scene\": {\"xaxis\": {\"backgroundcolor\": \"#E5ECF6\", \"gridcolor\": \"white\", \"gridwidth\": 2, \"linecolor\": \"white\", \"showbackground\": true, \"ticks\": \"\", \"zerolinecolor\": \"white\"}, \"yaxis\": {\"backgroundcolor\": \"#E5ECF6\", \"gridcolor\": \"white\", \"gridwidth\": 2, \"linecolor\": \"white\", \"showbackground\": true, \"ticks\": \"\", \"zerolinecolor\": \"white\"}, \"zaxis\": {\"backgroundcolor\": \"#E5ECF6\", \"gridcolor\": \"white\", \"gridwidth\": 2, \"linecolor\": \"white\", \"showbackground\": true, \"ticks\": \"\", \"zerolinecolor\": \"white\"}}, \"shapedefaults\": {\"line\": {\"color\": \"#2a3f5f\"}}, \"ternary\": {\"aaxis\": {\"gridcolor\": \"white\", \"linecolor\": \"white\", \"ticks\": \"\"}, \"baxis\": {\"gridcolor\": \"white\", \"linecolor\": \"white\", \"ticks\": \"\"}, \"bgcolor\": \"#E5ECF6\", \"caxis\": {\"gridcolor\": \"white\", \"linecolor\": \"white\", \"ticks\": \"\"}}, \"title\": {\"x\": 0.05}, \"xaxis\": {\"automargin\": true, \"gridcolor\": \"white\", \"linecolor\": \"white\", \"ticks\": \"\", \"title\": {\"standoff\": 15}, \"zerolinecolor\": \"white\", \"zerolinewidth\": 2}, \"yaxis\": {\"automargin\": true, \"gridcolor\": \"white\", \"linecolor\": \"white\", \"ticks\": \"\", \"title\": {\"standoff\": 15}, \"zerolinecolor\": \"white\", \"zerolinewidth\": 2}}}, \"xaxis\": {\"anchor\": \"y\", \"categoryarray\": [\"Math\", \"Por\"], \"categoryorder\": \"array\", \"domain\": [0.0, 1.0], \"title\": {\"text\": \"Subject\"}}, \"yaxis\": {\"anchor\": \"x\", \"domain\": [0.0, 1.0], \"title\": {\"text\": \"count\"}}},\n",
              "                        {\"responsive\": true}\n",
              "                    ).then(function(){\n",
              "                            \n",
              "var gd = document.getElementById('1d35954e-3696-462d-9e02-369f06a3ba62');\n",
              "var x = new MutationObserver(function (mutations, observer) {{\n",
              "        var display = window.getComputedStyle(gd).display;\n",
              "        if (!display || display === 'none') {{\n",
              "            console.log([gd, 'removed!']);\n",
              "            Plotly.purge(gd);\n",
              "            observer.disconnect();\n",
              "        }}\n",
              "}});\n",
              "\n",
              "// Listen for the removal of the full notebook cells\n",
              "var notebookContainer = gd.closest('#notebook-container');\n",
              "if (notebookContainer) {{\n",
              "    x.observe(notebookContainer, {childList: true});\n",
              "}}\n",
              "\n",
              "// Listen for the clearing of the current output cell\n",
              "var outputEl = gd.closest('.output');\n",
              "if (outputEl) {{\n",
              "    x.observe(outputEl, {childList: true});\n",
              "}}\n",
              "\n",
              "                        })\n",
              "                };\n",
              "                \n",
              "            </script>\n",
              "        </div>\n",
              "</body>\n",
              "</html>"
            ]
          },
          "metadata": {}
        }
      ]
    },
    {
      "cell_type": "code",
      "metadata": {
        "colab": {
          "base_uri": "https://localhost:8080/"
        },
        "id": "d94ab_hgM5w1",
        "outputId": "8261ef57-b522-422d-f185-4de8f494d4e9"
      },
      "source": [
        "data.groupby('Subject')['school'].count()     #если нужно использовать groupby"
      ],
      "execution_count": null,
      "outputs": [
        {
          "output_type": "execute_result",
          "data": {
            "text/plain": [
              "Subject\n",
              "Math    395\n",
              "Por     649\n",
              "Name: school, dtype: int64"
            ]
          },
          "metadata": {},
          "execution_count": 494
        }
      ]
    },
    {
      "cell_type": "markdown",
      "metadata": {
        "id": "tLco9LoA_tkl"
      },
      "source": [
        "Какой предмет заваливают чаще?"
      ]
    },
    {
      "cell_type": "code",
      "metadata": {
        "colab": {
          "base_uri": "https://localhost:8080/"
        },
        "id": "CMhXgdSoB1kr",
        "outputId": "102b2d2f-5a19-48eb-9c92-7ba874369279"
      },
      "source": [
        "data.groupby('Subject')['failures'].sum().sort_values(ascending=False).head(1)\n",
        "#с учетом сортировки от большего к меньшему, выводит максимальное значение, которому соответствует португальский язык\n"
      ],
      "execution_count": null,
      "outputs": [
        {
          "output_type": "execute_result",
          "data": {
            "text/plain": [
              "Subject\n",
              "Por    144\n",
              "Name: failures, dtype: int64"
            ]
          },
          "metadata": {},
          "execution_count": 495
        }
      ]
    },
    {
      "cell_type": "markdown",
      "metadata": {
        "id": "Upgjo4RV_uyF"
      },
      "source": [
        "Сколько в среднем времени в неделю уходит на учебу по каждому предмету?"
      ]
    },
    {
      "cell_type": "code",
      "metadata": {
        "colab": {
          "base_uri": "https://localhost:8080/"
        },
        "id": "Ir8BavgNQCrH",
        "outputId": "80a39507-3703-45f9-f43c-acb5ea255820"
      },
      "source": [
        "data.groupby('Subject')['studytime'].mean() #группируем по предметам и времени на учёбу и считаем среднее значение"
      ],
      "execution_count": null,
      "outputs": [
        {
          "output_type": "execute_result",
          "data": {
            "text/plain": [
              "Subject\n",
              "Math    2.035443\n",
              "Por     1.930663\n",
              "Name: studytime, dtype: float64"
            ]
          },
          "metadata": {},
          "execution_count": 496
        }
      ]
    },
    {
      "cell_type": "markdown",
      "metadata": {
        "id": "SaageoQT_xXY"
      },
      "source": [
        "На что чаще обращают внимание при выборе школы?"
      ]
    },
    {
      "cell_type": "code",
      "metadata": {
        "colab": {
          "base_uri": "https://localhost:8080/"
        },
        "id": "BpfjF3rzUxQu",
        "outputId": "e7b50390-46e4-4c3b-c2a0-d7d7b4f3670a"
      },
      "source": [
        "data.groupby('reason')['school'].count().sort_values(ascending=False).head(1)\n",
        "#с учетом сортировки от большего к меньшему, выводит максимальное значение, которому соответствует причина course\n"
      ],
      "execution_count": null,
      "outputs": [
        {
          "output_type": "execute_result",
          "data": {
            "text/plain": [
              "reason\n",
              "course    430\n",
              "Name: school, dtype: int64"
            ]
          },
          "metadata": {},
          "execution_count": 497
        }
      ]
    },
    {
      "cell_type": "markdown",
      "metadata": {
        "id": "vWcz8qM3Ve5D"
      },
      "source": [
        "**Задание 4**\n",
        "\n",
        "Оцените распределение оценок (отдельно для G1, G2 и G3). Сравните распределения для разных предметов - математики и португальского языка. Сделайте выводы.\n",
        "\n",
        "Tip: Для выполнения задания постройте и опишите гистограммы.\n",
        "\n"
      ]
    },
    {
      "cell_type": "code",
      "metadata": {
        "colab": {
          "base_uri": "https://localhost:8080/",
          "height": 803
        },
        "id": "Z7GnXVD9bNuQ",
        "outputId": "5564ce37-206d-4fdf-f5f4-a72b79abadbf"
      },
      "source": [
        "for i in ['G1', 'G2', 'G3']:\n",
        "    fig4 = pd.crosstab(data[i], data['Subject'])   #создаём крос таблицу\n",
        "    fig4.plot(kind = 'bar', rot = 0)\n",
        "    fig4\n"
      ],
      "execution_count": null,
      "outputs": [
        {
          "output_type": "display_data",
          "data": {
            "image/png": "[encoded data removed]",
            "text/plain": [
              "<Figure size 432x288 with 1 Axes>"
            ]
          },
          "metadata": {
            "needs_background": "light"
          }
        },
        {
          "output_type": "display_data",
          "data": {
            "image/png": "[encoded data removed]",
            "text/plain": [
              "<Figure size 432x288 with 1 Axes>"
            ]
          },
          "metadata": {
            "needs_background": "light"
          }
        },
        {
          "output_type": "display_data",
          "data": {
            "image/png": "[encoded data removed]",
            "text/plain": [
              "<Figure size 432x288 with 1 Axes>"
            ]
          },
          "metadata": {
            "needs_background": "light"
          }
        }
      ]
    },
    {
      "cell_type": "markdown",
      "metadata": {
        "id": "esIIRTKqZqnK"
      },
      "source": [
        "Распределение является нормальным. Оценки и по португальскому и по математике концнтрируются в среднем диапазоне. Посмотрев на оценки относительно медианы(10), можно сказать, что оценок выше среднего больше, однако в последнем графики по математике можно увидеть относительно большое отклонение(многие получили 0, наверное, было что-то сложное)."
      ]
    },
    {
      "cell_type": "markdown",
      "metadata": {
        "id": "X37Uawz-cXPx"
      },
      "source": [
        "**Задание 5**\n",
        "Оцените, есть ли разница в употреблении алкоголя между парнями и девушками. Кто пьет больше?\n",
        "\n",
        "\n"
      ]
    },
    {
      "cell_type": "code",
      "metadata": {
        "id": "IZ8P80QkcqnJ"
      },
      "source": [
        "data['AllAlc'] = data['Dalc']+data['Walc'] #создаём столбик с значениями потребления алкоголя в целом (и в будни и в выходные)"
      ],
      "execution_count": null,
      "outputs": []
    },
    {
      "cell_type": "code",
      "metadata": {
        "colab": {
          "base_uri": "https://localhost:8080/"
        },
        "id": "SMe9dTafxD1e",
        "outputId": "07023dea-fb3a-4ff1-a5f1-753b9f112f01"
      },
      "source": [
        "data.groupby('sex')['AllAlc'].sum()"
      ],
      "execution_count": null,
      "outputs": [
        {
          "output_type": "execute_result",
          "data": {
            "text/plain": [
              "sex\n",
              "F    1902\n",
              "M    2043\n",
              "Name: AllAlc, dtype: int64"
            ]
          },
          "metadata": {},
          "execution_count": 501
        }
      ]
    },
    {
      "cell_type": "code",
      "metadata": {
        "colab": {
          "base_uri": "https://localhost:8080/",
          "height": 142
        },
        "id": "LMchdOcfxKNd",
        "outputId": "99146021-edb1-4ccb-a87f-b86d32080e98"
      },
      "source": [
        "data.groupby('sex')['AllAlc'].describe()"
      ],
      "execution_count": null,
      "outputs": [
        {
          "output_type": "execute_result",
          "data": {
            "text/html": [
              "<div>\n",
              "<style scoped>\n",
              "    .dataframe tbody tr th:only-of-type {\n",
              "        vertical-align: middle;\n",
              "    }\n",
              "\n",
              "    .dataframe tbody tr th {\n",
              "        vertical-align: top;\n",
              "    }\n",
              "\n",
              "    .dataframe thead th {\n",
              "        text-align: right;\n",
              "    }\n",
              "</style>\n",
              "<table border=\"1\" class=\"dataframe\">\n",
              "  <thead>\n",
              "    <tr style=\"text-align: right;\">\n",
              "      <th></th>\n",
              "      <th>count</th>\n",
              "      <th>mean</th>\n",
              "      <th>std</th>\n",
              "      <th>min</th>\n",
              "      <th>25%</th>\n",
              "      <th>50%</th>\n",
              "      <th>75%</th>\n",
              "      <th>max</th>\n",
              "    </tr>\n",
              "    <tr>\n",
              "      <th>sex</th>\n",
              "      <th></th>\n",
              "      <th></th>\n",
              "      <th></th>\n",
              "      <th></th>\n",
              "      <th></th>\n",
              "      <th></th>\n",
              "      <th></th>\n",
              "      <th></th>\n",
              "    </tr>\n",
              "  </thead>\n",
              "  <tbody>\n",
              "    <tr>\n",
              "      <th>F</th>\n",
              "      <td>591.0</td>\n",
              "      <td>3.218274</td>\n",
              "      <td>1.467641</td>\n",
              "      <td>2.0</td>\n",
              "      <td>2.0</td>\n",
              "      <td>3.0</td>\n",
              "      <td>4.0</td>\n",
              "      <td>10.0</td>\n",
              "    </tr>\n",
              "    <tr>\n",
              "      <th>M</th>\n",
              "      <td>453.0</td>\n",
              "      <td>4.509934</td>\n",
              "      <td>2.316355</td>\n",
              "      <td>2.0</td>\n",
              "      <td>2.0</td>\n",
              "      <td>4.0</td>\n",
              "      <td>6.0</td>\n",
              "      <td>10.0</td>\n",
              "    </tr>\n",
              "  </tbody>\n",
              "</table>\n",
              "</div>"
            ],
            "text/plain": [
              "     count      mean       std  min  25%  50%  75%   max\n",
              "sex                                                     \n",
              "F    591.0  3.218274  1.467641  2.0  2.0  3.0  4.0  10.0\n",
              "M    453.0  4.509934  2.316355  2.0  2.0  4.0  6.0  10.0"
            ]
          },
          "metadata": {},
          "execution_count": 502
        }
      ]
    },
    {
      "cell_type": "code",
      "metadata": {
        "colab": {
          "base_uri": "https://localhost:8080/"
        },
        "id": "ldLHeRwOcW6V",
        "outputId": "dc524d6a-44a1-43e5-a06b-8eaa63866701"
      },
      "source": [
        "data.groupby('sex')['AllAlc'].sum().sort_values(ascending=False).head(1)\n",
        "#группируем столбцы пол и кол-во алкоголя, вычисляем сумму(объёмы, потребляемого алкоголя), сортируем и берём самое большое значние"
      ],
      "execution_count": null,
      "outputs": [
        {
          "output_type": "execute_result",
          "data": {
            "text/plain": [
              "sex\n",
              "M    2043\n",
              "Name: AllAlc, dtype: int64"
            ]
          },
          "metadata": {},
          "execution_count": 503
        }
      ]
    },
    {
      "cell_type": "code",
      "metadata": {
        "colab": {
          "base_uri": "https://localhost:8080/"
        },
        "id": "yPWuoYQbkNh4",
        "outputId": "ba63193a-568b-4df0-c601-0e7283f9a397"
      },
      "source": [
        "data.groupby('sex')['AllAlc'].count().sort_values(ascending=False).head(1)\n",
        "#группируем столбцы пол и кол-во алкоголя, вычисляем кол-во(как часто потребляют алкоголь), сортируем и берём самое большое значние"
      ],
      "execution_count": null,
      "outputs": [
        {
          "output_type": "execute_result",
          "data": {
            "text/plain": [
              "sex\n",
              "F    591\n",
              "Name: AllAlc, dtype: int64"
            ]
          },
          "metadata": {},
          "execution_count": 504
        }
      ]
    },
    {
      "cell_type": "code",
      "metadata": {
        "colab": {
          "base_uri": "https://localhost:8080/",
          "height": 619
        },
        "id": "WwL1pnoejeC1",
        "outputId": "fc7c8d42-fcf9-49a0-9d20-6a81048a686e"
      },
      "source": [
        "fig5 = pd.crosstab(data['AllAlc'],data['sex'])  #сторим график, показывающий по y-кол-во людей, употребляющих алкоголь в объёме х за неделю.\n",
        "fig5.plot(kind = 'bar', rot = 0)\n",
        "fig5\n"
      ],
      "execution_count": null,
      "outputs": [
        {
          "output_type": "execute_result",
          "data": {
            "text/html": [
              "<div>\n",
              "<style scoped>\n",
              "    .dataframe tbody tr th:only-of-type {\n",
              "        vertical-align: middle;\n",
              "    }\n",
              "\n",
              "    .dataframe tbody tr th {\n",
              "        vertical-align: top;\n",
              "    }\n",
              "\n",
              "    .dataframe thead th {\n",
              "        text-align: right;\n",
              "    }\n",
              "</style>\n",
              "<table border=\"1\" class=\"dataframe\">\n",
              "  <thead>\n",
              "    <tr style=\"text-align: right;\">\n",
              "      <th>sex</th>\n",
              "      <th>F</th>\n",
              "      <th>M</th>\n",
              "    </tr>\n",
              "    <tr>\n",
              "      <th>AllAlc</th>\n",
              "      <th></th>\n",
              "      <th></th>\n",
              "    </tr>\n",
              "  </thead>\n",
              "  <tbody>\n",
              "    <tr>\n",
              "      <th>2</th>\n",
              "      <td>266</td>\n",
              "      <td>125</td>\n",
              "    </tr>\n",
              "    <tr>\n",
              "      <th>3</th>\n",
              "      <td>125</td>\n",
              "      <td>57</td>\n",
              "    </tr>\n",
              "    <tr>\n",
              "      <th>4</th>\n",
              "      <td>82</td>\n",
              "      <td>77</td>\n",
              "    </tr>\n",
              "    <tr>\n",
              "      <th>5</th>\n",
              "      <td>71</td>\n",
              "      <td>47</td>\n",
              "    </tr>\n",
              "    <tr>\n",
              "      <th>6</th>\n",
              "      <td>28</td>\n",
              "      <td>57</td>\n",
              "    </tr>\n",
              "    <tr>\n",
              "      <th>7</th>\n",
              "      <td>12</td>\n",
              "      <td>37</td>\n",
              "    </tr>\n",
              "    <tr>\n",
              "      <th>8</th>\n",
              "      <td>5</td>\n",
              "      <td>21</td>\n",
              "    </tr>\n",
              "    <tr>\n",
              "      <th>9</th>\n",
              "      <td>0</td>\n",
              "      <td>10</td>\n",
              "    </tr>\n",
              "    <tr>\n",
              "      <th>10</th>\n",
              "      <td>2</td>\n",
              "      <td>22</td>\n",
              "    </tr>\n",
              "  </tbody>\n",
              "</table>\n",
              "</div>"
            ],
            "text/plain": [
              "sex       F    M\n",
              "AllAlc          \n",
              "2       266  125\n",
              "3       125   57\n",
              "4        82   77\n",
              "5        71   47\n",
              "6        28   57\n",
              "7        12   37\n",
              "8         5   21\n",
              "9         0   10\n",
              "10        2   22"
            ]
          },
          "metadata": {},
          "execution_count": 505
        },
        {
          "output_type": "display_data",
          "data": {
            "image/png": "[encoded data removed]",
            "text/plain": [
              "<Figure size 432x288 with 1 Axes>"
            ]
          },
          "metadata": {
            "needs_background": "light"
          }
        }
      ]
    },
    {
      "cell_type": "markdown",
      "metadata": {
        "id": "ZANU9QvGkihi"
      },
      "source": [
        "**Вывод:** Женщины пьют чаще, а мужчины больше по объёму"
      ]
    },
    {
      "cell_type": "markdown",
      "metadata": {
        "id": "cDTv0KsyKeIC"
      },
      "source": [
        "Оцените связь употребления алкоголя с признаками: address, Pstatus, higher, romantic, freetime. (Используйте метод groupby). Дайте комментарий.\n"
      ]
    },
    {
      "cell_type": "code",
      "metadata": {
        "colab": {
          "base_uri": "https://localhost:8080/"
        },
        "id": "mjgJTlpOy1nP",
        "outputId": "1b1dcf37-d36b-4a81-df99-c8960244d89b"
      },
      "source": [
        "priz=['address', 'Pstatus', 'higher', 'romantic', 'freetime']\n",
        "for i in priz:\n",
        "  print(data.groupby(i)['AllAlc'].describe())"
      ],
      "execution_count": null,
      "outputs": [
        {
          "output_type": "stream",
          "name": "stdout",
          "text": [
            "         count      mean       std  min  25%  50%  75%   max\n",
            "address                                                     \n",
            "R        285.0  3.964912  2.013729  2.0  2.0  3.0  5.0  10.0\n",
            "U        759.0  3.708827  1.975660  2.0  2.0  3.0  5.0  10.0\n",
            "         count      mean       std  min  25%  50%  75%   max\n",
            "Pstatus                                                     \n",
            "A        121.0  3.570248  2.052748  2.0  2.0  3.0  5.0  10.0\n",
            "T        923.0  3.806067  1.979364  2.0  2.0  3.0  5.0  10.0\n",
            "        count      mean       std  min  25%  50%  75%   max\n",
            "higher                                                     \n",
            "no       89.0  4.483146  2.340903  2.0  2.0  4.0  6.0  10.0\n",
            "yes     955.0  3.713089  1.940787  2.0  2.0  3.0  5.0  10.0\n",
            "          count      mean       std  min  25%  50%  75%   max\n",
            "romantic                                                     \n",
            "no        673.0  3.763744  1.935506  2.0  2.0  3.0  5.0  10.0\n",
            "yes       371.0  3.805930  2.083414  2.0  2.0  3.0  5.0  10.0\n",
            "          count      mean       std  min  25%  50%  75%   max\n",
            "freetime                                                     \n",
            "1          64.0  3.468750  2.092835  2.0  2.0  2.0  4.0  10.0\n",
            "2         171.0  3.502924  1.565715  2.0  2.0  3.0  4.0   8.0\n",
            "3         408.0  3.546569  1.811182  2.0  2.0  3.0  5.0  10.0\n",
            "4         293.0  4.078498  2.109336  2.0  2.0  4.0  6.0  10.0\n",
            "5         108.0  4.462963  2.518811  2.0  2.0  4.0  6.0  10.0\n"
          ]
        }
      ]
    },
    {
      "cell_type": "code",
      "metadata": {
        "colab": {
          "base_uri": "https://localhost:8080/",
          "height": 542
        },
        "id": "8XNxRzBgV9Bp",
        "outputId": "0fe00b7f-f2b6-4c07-8fa6-4af7b1b32ca1"
      },
      "source": [
        "fig3=px.box(data_frame=data,   #строим ящик с усами для значений потребления алкоголя людьми, с разным объёмом свободного времени\n",
        "              x='freetime',\n",
        "              y='AllAlc',\n",
        "              title=\"Boxplot\",\n",
        "              labels={'AllAlc':'alcohol', 'freetime':'free time after school'}\n",
        "              )\n",
        "fig3"
      ],
      "execution_count": null,
      "outputs": [
        {
          "output_type": "display_data",
          "data": {
            "text/html": [
              "<html>\n",
              "<head><meta charset=\"utf-8\" /></head>\n",
              "<body>\n",
              "    <div>\n",
              "            <script src=\"https://cdnjs.cloudflare.com/ajax/libs/mathjax/2.7.5/MathJax.js?config=TeX-AMS-MML_SVG\"></script><script type=\"text/javascript\">if (window.MathJax) {MathJax.Hub.Config({SVG: {font: \"STIX-Web\"}});}</script>\n",
              "                <script type=\"text/javascript\">window.PlotlyConfig = {MathJaxConfig: 'local'};</script>\n",
              "        <script src=\"https://cdn.plot.ly/plotly-latest.min.js\"></script>    \n",
              "            <div id=\"fc0c5634-aeae-499b-95c3-88e5349ddb94\" class=\"plotly-graph-div\" style=\"height:525px; width:100%;\"></div>\n",
              "            <script type=\"text/javascript\">\n",
              "                \n",
              "                    window.PLOTLYENV=window.PLOTLYENV || {};\n",
              "                    \n",
              "                if (document.getElementById(\"fc0c5634-aeae-499b-95c3-88e5349ddb94\")) {\n",
              "                    Plotly.newPlot(\n",
              "                        'fc0c5634-aeae-499b-95c3-88e5349ddb94',\n",
              "                        [{\"alignmentgroup\": \"True\", \"hoverlabel\": {\"namelength\": 0}, \"hovertemplate\": \"free time after school=%{x}<br>alcohol=%{y}\", \"legendgroup\": \"\", \"marker\": {\"color\": \"#636efa\"}, \"name\": \"\", \"notched\": false, \"offsetgroup\": \"\", \"orientation\": \"v\", \"showlegend\": false, \"type\": \"box\", \"x\": [3, 3, 3, 2, 3, 4, 4, 1, 2, 5, 3, 2, 3, 4, 5, 4, 2, 3, 5, 1, 4, 4, 5, 4, 3, 2, 2, 2, 3, 4, 4, 3, 5, 3, 4, 5, 4, 4, 3, 3, 3, 4, 3, 4, 3, 2, 3, 2, 3, 4, 3, 3, 5, 3, 3, 3, 3, 2, 3, 2, 4, 5, 4, 4, 4, 4, 3, 3, 1, 4, 3, 3, 3, 3, 3, 3, 4, 2, 5, 4, 2, 3, 4, 3, 3, 4, 3, 3, 4, 1, 3, 5, 3, 3, 3, 1, 3, 3, 3, 3, 5, 4, 3, 3, 4, 3, 1, 3, 3, 4, 5, 1, 1, 5, 4, 4, 4, 4, 2, 4, 2, 5, 2, 4, 4, 5, 3, 4, 3, 5, 2, 3, 4, 2, 3, 3, 4, 3, 4, 3, 2, 3, 2, 4, 4, 4, 3, 3, 3, 5, 3, 4, 2, 5, 2, 4, 2, 2, 2, 5, 3, 4, 4, 3, 3, 5, 3, 2, 1, 4, 4, 3, 4, 3, 4, 4, 4, 3, 3, 2, 4, 2, 4, 3, 2, 3, 3, 2, 3, 1, 3, 3, 4, 3, 3, 3, 2, 3, 2, 5, 3, 4, 4, 3, 3, 4, 3, 3, 3, 4, 3, 3, 3, 4, 2, 4, 4, 2, 3, 3, 2, 3, 3, 3, 3, 3, 3, 3, 3, 2, 2, 5, 5, 2, 4, 3, 4, 5, 1, 5, 5, 3, 4, 3, 4, 3, 2, 4, 3, 3, 4, 3, 2, 3, 4, 4, 2, 3, 2, 4, 1, 3, 3, 2, 3, 2, 4, 3, 4, 3, 3, 5, 4, 5, 3, 4, 1, 2, 4, 2, 5, 4, 2, 4, 4, 3, 3, 3, 2, 4, 3, 2, 4, 1, 4, 4, 3, 4, 3, 4, 2, 1, 3, 2, 4, 4, 5, 3, 5, 4, 2, 4, 5, 2, 1, 1, 3, 3, 3, 4, 2, 2, 3, 4, 3, 3, 3, 4, 4, 3, 5, 4, 3, 3, 4, 4, 4, 3, 3, 3, 3, 3, 3, 3, 3, 4, 3, 4, 4, 5, 4, 5, 3, 4, 5, 3, 3, 2, 3, 3, 3, 4, 3, 3, 2, 3, 2, 2, 2, 2, 2, 3, 4, 5, 4, 3, 4, 4, 1, 5, 2, 4, 4, 3, 4, 3, 4, 4, 3, 1, 5, 4, 5, 4, 2, 3, 3, 3, 2, 3, 4, 4, 1, 2, 5, 3, 2, 3, 4, 5, 4, 2, 3, 5, 1, 4, 4, 5, 4, 3, 2, 2, 2, 3, 4, 4, 3, 5, 3, 4, 5, 4, 4, 3, 3, 3, 4, 3, 4, 3, 2, 3, 2, 3, 4, 3, 3, 5, 3, 3, 3, 3, 2, 3, 2, 4, 5, 4, 4, 4, 4, 3, 3, 1, 4, 3, 3, 3, 3, 3, 3, 4, 2, 5, 4, 2, 3, 4, 3, 3, 4, 3, 3, 4, 1, 3, 5, 3, 3, 3, 1, 3, 3, 3, 3, 5, 4, 3, 3, 4, 3, 1, 3, 3, 4, 5, 1, 1, 5, 4, 4, 4, 4, 2, 4, 2, 5, 2, 4, 4, 5, 3, 4, 5, 2, 2, 4, 2, 3, 4, 2, 2, 3, 3, 3, 4, 1, 3, 3, 3, 3, 4, 3, 5, 2, 3, 3, 3, 2, 4, 4, 4, 4, 3, 3, 3, 3, 5, 3, 4, 2, 5, 2, 4, 2, 2, 2, 5, 4, 3, 4, 4, 3, 3, 5, 3, 2, 1, 4, 4, 3, 4, 3, 4, 4, 4, 3, 3, 2, 4, 2, 4, 3, 2, 3, 3, 2, 3, 1, 3, 3, 4, 3, 3, 3, 2, 3, 2, 5, 3, 4, 4, 3, 3, 4, 3, 3, 3, 4, 3, 3, 3, 4, 2, 4, 4, 2, 3, 3, 2, 3, 3, 3, 3, 3, 3, 3, 3, 2, 2, 5, 5, 2, 4, 3, 4, 5, 3, 3, 3, 1, 4, 2, 4, 3, 3, 1, 5, 5, 1, 3, 3, 5, 3, 4, 3, 3, 3, 2, 3, 4, 3, 3, 2, 4, 3, 3, 4, 3, 2, 3, 4, 4, 3, 2, 3, 4, 3, 4, 2, 3, 2, 2, 4, 2, 1, 3, 3, 2, 3, 4, 2, 4, 3, 4, 3, 3, 5, 4, 5, 2, 3, 4, 1, 2, 4, 2, 3, 2, 4, 5, 4, 2, 4, 4, 3, 3, 3, 3, 2, 4, 3, 2, 1, 4, 4, 3, 4, 3, 4, 2, 1, 3, 3, 2, 3, 5, 5, 4, 3, 2, 4, 3, 2, 3, 1, 4, 4, 4, 3, 2, 3, 2, 2, 5, 3, 3, 2, 3, 4, 3, 5, 3, 3, 4, 4, 3, 2, 5, 3, 2, 4, 4, 3, 3, 4, 4, 3, 3, 3, 3, 3, 3, 3, 4, 3, 4, 4, 3, 3, 2, 1, 3, 4, 3, 3, 4, 2, 3, 2, 2, 4, 3, 1, 3, 1, 3, 1, 3, 4, 1, 4, 5, 3, 3, 4, 5, 4, 5, 2, 4, 4, 2, 5, 1, 4, 4, 3, 3, 4, 4, 3, 5, 2, 1, 5, 3, 4, 3, 3, 4, 4, 5, 3, 4, 3, 2, 2, 4, 4, 4, 2, 3, 3, 3, 5, 4, 3, 4, 2, 3, 4, 3, 4, 5, 4, 5, 2, 4, 3, 3, 4, 3, 3, 4, 2, 1, 3, 4, 4, 5, 4, 4, 3, 2, 3, 2, 3, 2, 4, 4, 3, 3, 4, 3, 3, 4, 3, 1, 1, 3, 3, 4, 3, 2, 3, 3, 3, 5, 2, 4, 2, 1, 1, 1, 1, 1, 2, 2, 1, 5, 4, 3, 3, 2, 3, 1, 3, 3, 1, 4, 2, 1, 5, 3, 1, 1, 4, 1, 5, 3, 4, 4, 5, 3, 5, 3, 4, 2, 5, 5, 3, 3, 2, 4, 4, 4, 5, 3, 4, 4, 5, 4, 5, 3, 4, 3, 4, 5, 4, 2, 5, 3, 2, 5, 4, 3, 4, 4, 3, 4, 3, 3, 1, 5, 2, 3, 4, 3, 4, 5, 2, 3, 2, 1, 5, 2, 5, 3, 3, 2, 3, 3, 3, 3, 3, 2, 3, 2, 2, 2, 2, 3, 4, 5, 4, 3, 3, 4, 1, 5, 2, 4, 4, 3, 4, 3, 5, 4, 4, 3, 1, 4, 4], \"x0\": \" \", \"xaxis\": \"x\", \"y\": [2, 2, 5, 2, 3, 3, 2, 2, 2, 2, 3, 2, 4, 3, 2, 3, 3, 2, 6, 4, 2, 2, 4, 6, 2, 4, 3, 6, 2, 10, 7, 2, 2, 2, 2, 2, 2, 2, 2, 2, 3, 6, 2, 2, 4, 2, 5, 2, 4, 2, 5, 2, 7, 5, 8, 2, 2, 2, 2, 2, 5, 10, 2, 6, 6, 3, 10, 3, 4, 5, 2, 2, 6, 4, 6, 5, 2, 4, 2, 3, 4, 3, 2, 4, 5, 5, 3, 4, 2, 8, 4, 4, 5, 2, 2, 2, 2, 2, 3, 2, 10, 2, 2, 2, 2, 2, 2, 2, 8, 2, 2, 2, 2, 2, 2, 3, 2, 2, 5, 3, 3, 3, 3, 5, 2, 5, 2, 2, 3, 7, 4, 3, 4, 5, 2, 2, 6, 2, 4, 2, 2, 4, 2, 6, 3, 3, 2, 2, 3, 7, 7, 8, 5, 2, 2, 2, 6, 6, 3, 8, 4, 5, 6, 5, 6, 2, 6, 2, 2, 2, 6, 2, 4, 2, 2, 8, 5, 5, 7, 2, 5, 3, 5, 5, 3, 5, 3, 3, 4, 6, 2, 2, 9, 7, 2, 2, 3, 8, 5, 3, 6, 4, 4, 3, 2, 7, 4, 2, 5, 2, 3, 9, 2, 6, 3, 4, 6, 6, 5, 2, 3, 2, 2, 10, 2, 2, 4, 4, 9, 3, 3, 2, 4, 6, 2, 4, 10, 2, 2, 8, 5, 5, 2, 3, 2, 2, 2, 10, 4, 6, 6, 4, 7, 4, 6, 3, 2, 2, 3, 2, 4, 2, 2, 2, 2, 7, 7, 4, 4, 3, 6, 4, 2, 4, 2, 5, 2, 5, 2, 3, 6, 7, 2, 2, 3, 3, 3, 2, 4, 2, 5, 3, 2, 2, 2, 4, 5, 3, 2, 4, 2, 4, 2, 3, 2, 2, 2, 2, 3, 4, 4, 2, 4, 3, 2, 2, 3, 2, 7, 6, 3, 2, 4, 5, 5, 4, 8, 10, 4, 3, 6, 2, 2, 2, 2, 4, 3, 5, 2, 5, 4, 4, 4, 3, 3, 5, 3, 5, 4, 10, 6, 5, 5, 6, 4, 2, 3, 3, 3, 2, 5, 5, 4, 2, 3, 6, 4, 3, 3, 6, 2, 5, 2, 4, 2, 3, 2, 7, 3, 5, 5, 4, 2, 4, 7, 4, 4, 3, 2, 2, 9, 7, 6, 7, 6, 2, 2, 5, 2, 3, 3, 2, 2, 2, 2, 3, 2, 4, 3, 2, 3, 3, 2, 6, 4, 2, 2, 4, 6, 2, 4, 3, 6, 2, 10, 7, 2, 2, 2, 2, 2, 2, 2, 2, 2, 3, 6, 2, 2, 4, 2, 5, 2, 4, 2, 5, 2, 7, 5, 8, 2, 2, 2, 2, 2, 5, 10, 2, 6, 6, 3, 10, 3, 4, 5, 2, 2, 6, 4, 6, 5, 2, 4, 2, 3, 4, 3, 2, 4, 5, 5, 3, 4, 2, 8, 4, 4, 5, 2, 2, 2, 2, 2, 3, 2, 10, 2, 2, 2, 2, 2, 2, 2, 8, 2, 2, 2, 2, 2, 2, 3, 2, 2, 5, 3, 3, 3, 3, 5, 2, 5, 2, 2, 7, 4, 4, 4, 3, 3, 4, 5, 2, 2, 2, 2, 6, 2, 9, 6, 3, 2, 4, 2, 2, 2, 5, 4, 4, 2, 6, 3, 3, 2, 2, 2, 6, 3, 7, 7, 8, 5, 2, 2, 2, 6, 6, 3, 8, 8, 4, 5, 6, 5, 6, 2, 6, 2, 2, 2, 6, 2, 4, 2, 2, 8, 5, 5, 7, 2, 5, 3, 5, 5, 3, 5, 3, 3, 4, 6, 2, 2, 9, 7, 2, 2, 3, 8, 5, 3, 6, 4, 4, 3, 2, 7, 4, 2, 5, 2, 3, 9, 2, 6, 3, 4, 6, 6, 5, 2, 3, 2, 2, 10, 2, 2, 4, 4, 9, 3, 3, 2, 4, 6, 2, 4, 10, 2, 3, 2, 2, 2, 4, 3, 2, 3, 3, 2, 2, 8, 2, 4, 2, 5, 5, 2, 3, 5, 2, 5, 2, 2, 2, 3, 2, 10, 4, 6, 6, 4, 7, 4, 6, 3, 4, 2, 2, 8, 4, 5, 2, 2, 3, 2, 2, 3, 4, 2, 2, 2, 2, 5, 7, 7, 4, 4, 3, 6, 4, 2, 4, 3, 2, 5, 2, 5, 2, 2, 7, 3, 6, 6, 7, 2, 2, 3, 2, 3, 3, 2, 4, 2, 5, 3, 2, 2, 4, 5, 3, 2, 4, 2, 4, 2, 2, 3, 2, 2, 3, 3, 3, 2, 2, 2, 5, 7, 2, 2, 6, 2, 3, 3, 2, 4, 7, 7, 2, 6, 2, 4, 5, 5, 3, 4, 8, 10, 4, 3, 7, 6, 4, 2, 2, 3, 2, 2, 2, 4, 5, 2, 5, 4, 4, 3, 3, 5, 3, 5, 4, 4, 6, 7, 2, 2, 4, 5, 4, 3, 2, 7, 4, 8, 3, 3, 9, 5, 4, 2, 3, 4, 2, 2, 5, 3, 2, 4, 2, 3, 4, 8, 2, 3, 3, 3, 4, 2, 9, 6, 3, 3, 3, 6, 2, 10, 2, 2, 3, 2, 2, 3, 3, 6, 3, 10, 2, 2, 2, 7, 3, 4, 7, 5, 4, 2, 3, 2, 2, 5, 2, 5, 8, 2, 2, 6, 2, 2, 2, 2, 4, 3, 3, 3, 5, 2, 2, 7, 2, 5, 2, 8, 4, 2, 4, 7, 2, 3, 10, 6, 8, 2, 2, 3, 6, 2, 3, 2, 2, 2, 2, 4, 5, 5, 5, 5, 4, 2, 4, 2, 3, 10, 2, 3, 3, 4, 3, 3, 10, 6, 5, 2, 7, 4, 5, 3, 4, 4, 4, 2, 5, 4, 6, 7, 2, 3, 3, 5, 4, 4, 7, 2, 4, 2, 6, 2, 8, 2, 4, 5, 2, 5, 5, 6, 5, 4, 2, 4, 6, 4, 2, 3, 6, 7, 10, 6, 5, 5, 6, 2, 2, 2, 2, 4, 4, 3, 2, 2, 4, 2, 2, 3, 3, 2, 3, 2, 10, 2, 7, 2, 5, 2, 3, 5, 4, 3, 3, 2, 5, 2, 4, 2, 3, 3, 3, 2, 5, 4, 2, 3, 6, 4, 3, 3, 6, 5, 2, 4, 2, 3, 2, 7, 3, 5, 5, 4, 2, 4, 7, 4, 2, 4, 3, 2, 2, 7, 7], \"y0\": \" \", \"yaxis\": \"y\"}],\n",
              "                        {\"boxmode\": \"group\", \"legend\": {\"tracegroupgap\": 0}, \"template\": {\"data\": {\"bar\": [{\"error_x\": {\"color\": \"#2a3f5f\"}, \"error_y\": {\"color\": \"#2a3f5f\"}, \"marker\": {\"line\": {\"color\": \"#E5ECF6\", \"width\": 0.5}}, \"type\": \"bar\"}], \"barpolar\": [{\"marker\": {\"line\": {\"color\": \"#E5ECF6\", \"width\": 0.5}}, \"type\": \"barpolar\"}], \"carpet\": [{\"aaxis\": {\"endlinecolor\": \"#2a3f5f\", \"gridcolor\": \"white\", \"linecolor\": \"white\", \"minorgridcolor\": \"white\", \"startlinecolor\": \"#2a3f5f\"}, \"baxis\": {\"endlinecolor\": \"#2a3f5f\", \"gridcolor\": \"white\", \"linecolor\": \"white\", \"minorgridcolor\": \"white\", \"startlinecolor\": \"#2a3f5f\"}, \"type\": \"carpet\"}], \"choropleth\": [{\"colorbar\": {\"outlinewidth\": 0, \"ticks\": \"\"}, \"type\": \"choropleth\"}], \"contour\": [{\"colorbar\": {\"outlinewidth\": 0, \"ticks\": \"\"}, \"colorscale\": [[0.0, \"#0d0887\"], [0.1111111111111111, \"#46039f\"], [0.2222222222222222, \"#7201a8\"], [0.3333333333333333, \"#9c179e\"], [0.4444444444444444, \"#bd3786\"], [0.5555555555555556, \"#d8576b\"], [0.6666666666666666, \"#ed7953\"], [0.7777777777777778, \"#fb9f3a\"], [0.8888888888888888, \"#fdca26\"], [1.0, \"#f0f921\"]], \"type\": \"contour\"}], \"contourcarpet\": [{\"colorbar\": {\"outlinewidth\": 0, \"ticks\": \"\"}, \"type\": \"contourcarpet\"}], \"heatmap\": [{\"colorbar\": {\"outlinewidth\": 0, \"ticks\": \"\"}, \"colorscale\": [[0.0, \"#0d0887\"], [0.1111111111111111, \"#46039f\"], [0.2222222222222222, \"#7201a8\"], [0.3333333333333333, \"#9c179e\"], [0.4444444444444444, \"#bd3786\"], [0.5555555555555556, \"#d8576b\"], [0.6666666666666666, \"#ed7953\"], [0.7777777777777778, \"#fb9f3a\"], [0.8888888888888888, \"#fdca26\"], [1.0, \"#f0f921\"]], \"type\": \"heatmap\"}], \"heatmapgl\": [{\"colorbar\": {\"outlinewidth\": 0, \"ticks\": \"\"}, \"colorscale\": [[0.0, \"#0d0887\"], [0.1111111111111111, \"#46039f\"], [0.2222222222222222, \"#7201a8\"], [0.3333333333333333, \"#9c179e\"], [0.4444444444444444, \"#bd3786\"], [0.5555555555555556, \"#d8576b\"], [0.6666666666666666, \"#ed7953\"], [0.7777777777777778, \"#fb9f3a\"], [0.8888888888888888, \"#fdca26\"], [1.0, \"#f0f921\"]], \"type\": \"heatmapgl\"}], \"histogram\": [{\"marker\": {\"colorbar\": {\"outlinewidth\": 0, \"ticks\": \"\"}}, \"type\": \"histogram\"}], \"histogram2d\": [{\"colorbar\": {\"outlinewidth\": 0, \"ticks\": \"\"}, \"colorscale\": [[0.0, \"#0d0887\"], [0.1111111111111111, \"#46039f\"], [0.2222222222222222, \"#7201a8\"], [0.3333333333333333, \"#9c179e\"], [0.4444444444444444, \"#bd3786\"], [0.5555555555555556, \"#d8576b\"], [0.6666666666666666, \"#ed7953\"], [0.7777777777777778, \"#fb9f3a\"], [0.8888888888888888, \"#fdca26\"], [1.0, \"#f0f921\"]], \"type\": \"histogram2d\"}], \"histogram2dcontour\": [{\"colorbar\": {\"outlinewidth\": 0, \"ticks\": \"\"}, \"colorscale\": [[0.0, \"#0d0887\"], [0.1111111111111111, \"#46039f\"], [0.2222222222222222, \"#7201a8\"], [0.3333333333333333, \"#9c179e\"], [0.4444444444444444, \"#bd3786\"], [0.5555555555555556, \"#d8576b\"], [0.6666666666666666, \"#ed7953\"], [0.7777777777777778, \"#fb9f3a\"], [0.8888888888888888, \"#fdca26\"], [1.0, \"#f0f921\"]], \"type\": \"histogram2dcontour\"}], \"mesh3d\": [{\"colorbar\": {\"outlinewidth\": 0, \"ticks\": \"\"}, \"type\": \"mesh3d\"}], \"parcoords\": [{\"line\": {\"colorbar\": {\"outlinewidth\": 0, \"ticks\": \"\"}}, \"type\": \"parcoords\"}], \"pie\": [{\"automargin\": true, \"type\": \"pie\"}], \"scatter\": [{\"marker\": {\"colorbar\": {\"outlinewidth\": 0, \"ticks\": \"\"}}, \"type\": \"scatter\"}], \"scatter3d\": [{\"line\": {\"colorbar\": {\"outlinewidth\": 0, \"ticks\": \"\"}}, \"marker\": {\"colorbar\": {\"outlinewidth\": 0, \"ticks\": \"\"}}, \"type\": \"scatter3d\"}], \"scattercarpet\": [{\"marker\": {\"colorbar\": {\"outlinewidth\": 0, \"ticks\": \"\"}}, \"type\": \"scattercarpet\"}], \"scattergeo\": [{\"marker\": {\"colorbar\": {\"outlinewidth\": 0, \"ticks\": \"\"}}, \"type\": \"scattergeo\"}], \"scattergl\": [{\"marker\": {\"colorbar\": {\"outlinewidth\": 0, \"ticks\": \"\"}}, \"type\": \"scattergl\"}], \"scattermapbox\": [{\"marker\": {\"colorbar\": {\"outlinewidth\": 0, \"ticks\": \"\"}}, \"type\": \"scattermapbox\"}], \"scatterpolar\": [{\"marker\": {\"colorbar\": {\"outlinewidth\": 0, \"ticks\": \"\"}}, \"type\": \"scatterpolar\"}], \"scatterpolargl\": [{\"marker\": {\"colorbar\": {\"outlinewidth\": 0, \"ticks\": \"\"}}, \"type\": \"scatterpolargl\"}], \"scatterternary\": [{\"marker\": {\"colorbar\": {\"outlinewidth\": 0, \"ticks\": \"\"}}, \"type\": \"scatterternary\"}], \"surface\": [{\"colorbar\": {\"outlinewidth\": 0, \"ticks\": \"\"}, \"colorscale\": [[0.0, \"#0d0887\"], [0.1111111111111111, \"#46039f\"], [0.2222222222222222, \"#7201a8\"], [0.3333333333333333, \"#9c179e\"], [0.4444444444444444, \"#bd3786\"], [0.5555555555555556, \"#d8576b\"], [0.6666666666666666, \"#ed7953\"], [0.7777777777777778, \"#fb9f3a\"], [0.8888888888888888, \"#fdca26\"], [1.0, \"#f0f921\"]], \"type\": \"surface\"}], \"table\": [{\"cells\": {\"fill\": {\"color\": \"#EBF0F8\"}, \"line\": {\"color\": \"white\"}}, \"header\": {\"fill\": {\"color\": \"#C8D4E3\"}, \"line\": {\"color\": \"white\"}}, \"type\": \"table\"}]}, \"layout\": {\"annotationdefaults\": {\"arrowcolor\": \"#2a3f5f\", \"arrowhead\": 0, \"arrowwidth\": 1}, \"coloraxis\": {\"colorbar\": {\"outlinewidth\": 0, \"ticks\": \"\"}}, \"colorscale\": {\"diverging\": [[0, \"#8e0152\"], [0.1, \"#c51b7d\"], [0.2, \"#de77ae\"], [0.3, \"#f1b6da\"], [0.4, \"#fde0ef\"], [0.5, \"#f7f7f7\"], [0.6, \"#e6f5d0\"], [0.7, \"#b8e186\"], [0.8, \"#7fbc41\"], [0.9, \"#4d9221\"], [1, \"#276419\"]], \"sequential\": [[0.0, \"#0d0887\"], [0.1111111111111111, \"#46039f\"], [0.2222222222222222, \"#7201a8\"], [0.3333333333333333, \"#9c179e\"], [0.4444444444444444, \"#bd3786\"], [0.5555555555555556, \"#d8576b\"], [0.6666666666666666, \"#ed7953\"], [0.7777777777777778, \"#fb9f3a\"], [0.8888888888888888, \"#fdca26\"], [1.0, \"#f0f921\"]], \"sequentialminus\": [[0.0, \"#0d0887\"], [0.1111111111111111, \"#46039f\"], [0.2222222222222222, \"#7201a8\"], [0.3333333333333333, \"#9c179e\"], [0.4444444444444444, \"#bd3786\"], [0.5555555555555556, \"#d8576b\"], [0.6666666666666666, \"#ed7953\"], [0.7777777777777778, \"#fb9f3a\"], [0.8888888888888888, \"#fdca26\"], [1.0, \"#f0f921\"]]}, \"colorway\": [\"#636efa\", \"#EF553B\", \"#00cc96\", \"#ab63fa\", \"#FFA15A\", \"#19d3f3\", \"#FF6692\", \"#B6E880\", \"#FF97FF\", \"#FECB52\"], \"font\": {\"color\": \"#2a3f5f\"}, \"geo\": {\"bgcolor\": \"white\", \"lakecolor\": \"white\", \"landcolor\": \"#E5ECF6\", \"showlakes\": true, \"showland\": true, \"subunitcolor\": \"white\"}, \"hoverlabel\": {\"align\": \"left\"}, \"hovermode\": \"closest\", \"mapbox\": {\"style\": \"light\"}, \"paper_bgcolor\": \"white\", \"plot_bgcolor\": \"#E5ECF6\", \"polar\": {\"angularaxis\": {\"gridcolor\": \"white\", \"linecolor\": \"white\", \"ticks\": \"\"}, \"bgcolor\": \"#E5ECF6\", \"radialaxis\": {\"gridcolor\": \"white\", \"linecolor\": \"white\", \"ticks\": \"\"}}, \"scene\": {\"xaxis\": {\"backgroundcolor\": \"#E5ECF6\", \"gridcolor\": \"white\", \"gridwidth\": 2, \"linecolor\": \"white\", \"showbackground\": true, \"ticks\": \"\", \"zerolinecolor\": \"white\"}, \"yaxis\": {\"backgroundcolor\": \"#E5ECF6\", \"gridcolor\": \"white\", \"gridwidth\": 2, \"linecolor\": \"white\", \"showbackground\": true, \"ticks\": \"\", \"zerolinecolor\": \"white\"}, \"zaxis\": {\"backgroundcolor\": \"#E5ECF6\", \"gridcolor\": \"white\", \"gridwidth\": 2, \"linecolor\": \"white\", \"showbackground\": true, \"ticks\": \"\", \"zerolinecolor\": \"white\"}}, \"shapedefaults\": {\"line\": {\"color\": \"#2a3f5f\"}}, \"ternary\": {\"aaxis\": {\"gridcolor\": \"white\", \"linecolor\": \"white\", \"ticks\": \"\"}, \"baxis\": {\"gridcolor\": \"white\", \"linecolor\": \"white\", \"ticks\": \"\"}, \"bgcolor\": \"#E5ECF6\", \"caxis\": {\"gridcolor\": \"white\", \"linecolor\": \"white\", \"ticks\": \"\"}}, \"title\": {\"x\": 0.05}, \"xaxis\": {\"automargin\": true, \"gridcolor\": \"white\", \"linecolor\": \"white\", \"ticks\": \"\", \"title\": {\"standoff\": 15}, \"zerolinecolor\": \"white\", \"zerolinewidth\": 2}, \"yaxis\": {\"automargin\": true, \"gridcolor\": \"white\", \"linecolor\": \"white\", \"ticks\": \"\", \"title\": {\"standoff\": 15}, \"zerolinecolor\": \"white\", \"zerolinewidth\": 2}}}, \"title\": {\"text\": \"Boxplot\"}, \"xaxis\": {\"anchor\": \"y\", \"domain\": [0.0, 1.0], \"title\": {\"text\": \"free time after school\"}}, \"yaxis\": {\"anchor\": \"x\", \"domain\": [0.0, 1.0], \"title\": {\"text\": \"alcohol\"}}},\n",
              "                        {\"responsive\": true}\n",
              "                    ).then(function(){\n",
              "                            \n",
              "var gd = document.getElementById('fc0c5634-aeae-499b-95c3-88e5349ddb94');\n",
              "var x = new MutationObserver(function (mutations, observer) {{\n",
              "        var display = window.getComputedStyle(gd).display;\n",
              "        if (!display || display === 'none') {{\n",
              "            console.log([gd, 'removed!']);\n",
              "            Plotly.purge(gd);\n",
              "            observer.disconnect();\n",
              "        }}\n",
              "}});\n",
              "\n",
              "// Listen for the removal of the full notebook cells\n",
              "var notebookContainer = gd.closest('#notebook-container');\n",
              "if (notebookContainer) {{\n",
              "    x.observe(notebookContainer, {childList: true});\n",
              "}}\n",
              "\n",
              "// Listen for the clearing of the current output cell\n",
              "var outputEl = gd.closest('.output');\n",
              "if (outputEl) {{\n",
              "    x.observe(outputEl, {childList: true});\n",
              "}}\n",
              "\n",
              "                        })\n",
              "                };\n",
              "                \n",
              "            </script>\n",
              "        </div>\n",
              "</body>\n",
              "</html>"
            ]
          },
          "metadata": {}
        }
      ]
    },
    {
      "cell_type": "markdown",
      "metadata": {
        "id": "iz_ZKFMZzPho"
      },
      "source": [
        "**Adress** в среднем в сельской местности выпивают больше и разброс данных об обоих регионах практически равен, что должно означать, что в сельской местности больше пьют. Однако, если расматривать кол-во раз потребления алкоголя, то городские жители пьют чаще.\n",
        "\n",
        "**Pstatus**  По данным видно, что больше пьют люди, чьи родители вместе. Среднее кол-во, выпитого алкоголя больше и частота потребления алкоголя в 8раз выше.\n",
        "\n",
        "**higher**  Сравнивая среднии значения,медианы и третии квартили можем сказать, что люди, нежелающие получить высшее образование в среднем пьют больше и пьют за раз больше. А основываясь на столбце count, можно сказать, что люди, желающие получать высшее образование пьют чаще.\n",
        "\n",
        "**romantic **  Практически все значения равны, можем сказать, что люди, не состоящие в отношениях пьют чаще.\n",
        "\n",
        "**freetime**  Можем сделать вывод, что чаще всего выпивают люди, у которых есть свободное время, но не очень много. Но люди, у которых свободного времени больше, хотя и пьют реже, но больше по объёмам.\n"
      ]
    },
    {
      "cell_type": "code",
      "metadata": {
        "colab": {
          "base_uri": "https://localhost:8080/"
        },
        "id": "e53RkQwUef21",
        "outputId": "b91c7d99-d0a3-4560-c7ac-a4e42b069bce"
      },
      "source": [
        "priz=['address', 'Pstatus', 'higher', 'romantic', 'freetime']\n",
        "for i in priz:\n",
        "  print(data.groupby(i)['AllAlc'].sum().sort_values(ascending=True))\n",
        "  # группируем кол-во алкоголя группируется с одним из столбцов и высчитывается сумма, выпитого алкоголя и ранжирается"
      ],
      "execution_count": null,
      "outputs": [
        {
          "output_type": "stream",
          "name": "stdout",
          "text": [
            "address\n",
            "R    1130\n",
            "U    2815\n",
            "Name: AllAlc, dtype: int64\n",
            "Pstatus\n",
            "A     432\n",
            "T    3513\n",
            "Name: AllAlc, dtype: int64\n",
            "higher\n",
            "no      399\n",
            "yes    3546\n",
            "Name: AllAlc, dtype: int64\n",
            "romantic\n",
            "yes    1412\n",
            "no     2533\n",
            "Name: AllAlc, dtype: int64\n",
            "freetime\n",
            "1     222\n",
            "5     482\n",
            "2     599\n",
            "4    1195\n",
            "3    1447\n",
            "Name: AllAlc, dtype: int64\n"
          ]
        }
      ]
    },
    {
      "cell_type": "markdown",
      "metadata": {
        "id": "-zE5Lhb4Kh9y"
      },
      "source": [
        "Сравните употребление алкоголя для 50 лучших учеников и 50 худших (по G3). Выполните сравнение отдельно для каждого предмета (Math и Por). Дайте комментарий."
      ]
    },
    {
      "cell_type": "code",
      "metadata": {
        "id": "gFycQWpTdTRl",
        "colab": {
          "base_uri": "https://localhost:8080/",
          "height": 541
        },
        "outputId": "5fcf37fc-f7cf-4d27-8082-3d5d23b0927d"
      },
      "source": [
        "direct_sorted = data.sort_values('G3', ascending = False).head(50)  #ранжирование значений итоговой оценки от большего к меньшему и оставляем 50 первых\n",
        "reverse_sorted = data.sort_values('G3', ascending = True).head(50)  #ранжирование значений итоговой оценки от меньшего к большему и оставлием 50 первых\n",
        "\n",
        "fig6 = pd.crosstab(direct_sorted['AllAlc'], direct_sorted['G3']) #сторим график для первых 50 человек\n",
        "fig6.plot(kind = 'bar', rot=0)\n",
        "fig6\n",
        "\n",
        "fig7= pd.crosstab(reverse_sorted['AllAlc'], reverse_sorted['G3'])  #сторим график для последних 50 человек\n",
        "fig7.plot(kind = 'bar', rot = 0)\n",
        "fig7\n",
        "\n",
        "group_data = data.groupby(by = 'Subject') #разделение по предметам"
      ],
      "execution_count": null,
      "outputs": [
        {
          "output_type": "display_data",
          "data": {
            "image/png": "[encoded data removed]",
            "text/plain": [
              "<Figure size 432x288 with 1 Axes>"
            ]
          },
          "metadata": {
            "needs_background": "light"
          }
        },
        {
          "output_type": "display_data",
          "data": {
            "image/png": "[encoded data removed]",
            "text/plain": [
              "<Figure size 432x288 with 1 Axes>"
            ]
          },
          "metadata": {
            "needs_background": "light"
          }
        }
      ]
    },
    {
      "cell_type": "markdown",
      "metadata": {
        "id": "xKKlx78DrLsp"
      },
      "source": [
        "**Вывод:**\n",
        "\n",
        "Судя по графикам, употребление алкоголя никак не сказывается на успеваемости студентов. Но можно заметить, что чем больше показатель кол-ва выпитого алкоголя, тем меньше студентов принадлежат этому показателю. Более того, стоит отметить, что среди студентов с наилучшей успеваимостью нет людей с показателем потребления алкоголя, равным 9 и более, а у студентов с худшей - есть.\n"
      ]
    },
    {
      "cell_type": "markdown",
      "metadata": {
        "id": "_9wy2L1XNJZx"
      },
      "source": [
        "**Задание 6**\n",
        "\n",
        "Добавьте в данные новый признак - итоговая оценка по 4-х балльной шкале:\n",
        "\n",
        "Отлично: 18 <= G3 <= 20\n",
        "\n",
        "Хорошо: 14 <= G3 <= 17\n",
        "\n",
        "Удовлетворительно: 8 <= G3 <= 13\n",
        "\n",
        "Неудовлетворительно: G3 < 8"
      ]
    },
    {
      "cell_type": "code",
      "metadata": {
        "id": "37YjZLxUefxj"
      },
      "source": [
        "grades = []   #список, который станет столбцом\n",
        "for i in data['G3']:   #сравнение всех значений столбца G3\n",
        "    if 18 <= i <= 20:\n",
        "        grades.append('5')\n",
        "    elif 14 <= i <= 17:\n",
        "        grades.append('4')\n",
        "    elif 8 <= i <= 13:\n",
        "        grades.append('3')\n",
        "    elif i < 8:\n",
        "        grades.append('2')\n",
        "\n",
        "data['G4'] = grades   #список превращаем в столбец\n"
      ],
      "execution_count": null,
      "outputs": []
    },
    {
      "cell_type": "code",
      "metadata": {
        "colab": {
          "base_uri": "https://localhost:8080/",
          "height": 437
        },
        "id": "DU1uX32uTVFi",
        "outputId": "21083815-f4be-456f-d04a-ab8ed2af27f2"
      },
      "source": [
        "data"
      ],
      "execution_count": null,
      "outputs": [
        {
          "output_type": "execute_result",
          "data": {
            "text/html": [
              "<div>\n",
              "<style scoped>\n",
              "    .dataframe tbody tr th:only-of-type {\n",
              "        vertical-align: middle;\n",
              "    }\n",
              "\n",
              "    .dataframe tbody tr th {\n",
              "        vertical-align: top;\n",
              "    }\n",
              "\n",
              "    .dataframe thead th {\n",
              "        text-align: right;\n",
              "    }\n",
              "</style>\n",
              "<table border=\"1\" class=\"dataframe\">\n",
              "  <thead>\n",
              "    <tr style=\"text-align: right;\">\n",
              "      <th></th>\n",
              "      <th>school</th>\n",
              "      <th>sex</th>\n",
              "      <th>age</th>\n",
              "      <th>address</th>\n",
              "      <th>famsize</th>\n",
              "      <th>Pstatus</th>\n",
              "      <th>Medu</th>\n",
              "      <th>Fedu</th>\n",
              "      <th>Mjob</th>\n",
              "      <th>Fjob</th>\n",
              "      <th>reason</th>\n",
              "      <th>guardian</th>\n",
              "      <th>traveltime</th>\n",
              "      <th>studytime</th>\n",
              "      <th>failures</th>\n",
              "      <th>schoolsup</th>\n",
              "      <th>famsup</th>\n",
              "      <th>paid</th>\n",
              "      <th>activities</th>\n",
              "      <th>nursery</th>\n",
              "      <th>higher</th>\n",
              "      <th>internet</th>\n",
              "      <th>romantic</th>\n",
              "      <th>famrel</th>\n",
              "      <th>freetime</th>\n",
              "      <th>goout</th>\n",
              "      <th>Dalc</th>\n",
              "      <th>Walc</th>\n",
              "      <th>health</th>\n",
              "      <th>absences</th>\n",
              "      <th>G1</th>\n",
              "      <th>G2</th>\n",
              "      <th>G3</th>\n",
              "      <th>Subject</th>\n",
              "      <th>AllAlc</th>\n",
              "      <th>G4</th>\n",
              "    </tr>\n",
              "  </thead>\n",
              "  <tbody>\n",
              "    <tr>\n",
              "      <th>0</th>\n",
              "      <td>GP</td>\n",
              "      <td>F</td>\n",
              "      <td>18</td>\n",
              "      <td>U</td>\n",
              "      <td>GT3</td>\n",
              "      <td>A</td>\n",
              "      <td>4</td>\n",
              "      <td>4</td>\n",
              "      <td>at_home</td>\n",
              "      <td>teacher</td>\n",
              "      <td>course</td>\n",
              "      <td>mother</td>\n",
              "      <td>2</td>\n",
              "      <td>2</td>\n",
              "      <td>0</td>\n",
              "      <td>yes</td>\n",
              "      <td>no</td>\n",
              "      <td>no</td>\n",
              "      <td>no</td>\n",
              "      <td>yes</td>\n",
              "      <td>yes</td>\n",
              "      <td>no</td>\n",
              "      <td>no</td>\n",
              "      <td>4</td>\n",
              "      <td>3</td>\n",
              "      <td>4</td>\n",
              "      <td>1</td>\n",
              "      <td>1</td>\n",
              "      <td>3</td>\n",
              "      <td>6</td>\n",
              "      <td>5</td>\n",
              "      <td>6</td>\n",
              "      <td>6</td>\n",
              "      <td>Math</td>\n",
              "      <td>2</td>\n",
              "      <td>2</td>\n",
              "    </tr>\n",
              "    <tr>\n",
              "      <th>1</th>\n",
              "      <td>GP</td>\n",
              "      <td>F</td>\n",
              "      <td>17</td>\n",
              "      <td>U</td>\n",
              "      <td>GT3</td>\n",
              "      <td>T</td>\n",
              "      <td>1</td>\n",
              "      <td>1</td>\n",
              "      <td>at_home</td>\n",
              "      <td>other</td>\n",
              "      <td>course</td>\n",
              "      <td>father</td>\n",
              "      <td>1</td>\n",
              "      <td>2</td>\n",
              "      <td>0</td>\n",
              "      <td>no</td>\n",
              "      <td>yes</td>\n",
              "      <td>no</td>\n",
              "      <td>no</td>\n",
              "      <td>no</td>\n",
              "      <td>yes</td>\n",
              "      <td>yes</td>\n",
              "      <td>no</td>\n",
              "      <td>5</td>\n",
              "      <td>3</td>\n",
              "      <td>3</td>\n",
              "      <td>1</td>\n",
              "      <td>1</td>\n",
              "      <td>3</td>\n",
              "      <td>4</td>\n",
              "      <td>5</td>\n",
              "      <td>5</td>\n",
              "      <td>6</td>\n",
              "      <td>Math</td>\n",
              "      <td>2</td>\n",
              "      <td>2</td>\n",
              "    </tr>\n",
              "    <tr>\n",
              "      <th>2</th>\n",
              "      <td>GP</td>\n",
              "      <td>F</td>\n",
              "      <td>15</td>\n",
              "      <td>U</td>\n",
              "      <td>LE3</td>\n",
              "      <td>T</td>\n",
              "      <td>1</td>\n",
              "      <td>1</td>\n",
              "      <td>at_home</td>\n",
              "      <td>other</td>\n",
              "      <td>other</td>\n",
              "      <td>mother</td>\n",
              "      <td>1</td>\n",
              "      <td>2</td>\n",
              "      <td>3</td>\n",
              "      <td>yes</td>\n",
              "      <td>no</td>\n",
              "      <td>yes</td>\n",
              "      <td>no</td>\n",
              "      <td>yes</td>\n",
              "      <td>yes</td>\n",
              "      <td>yes</td>\n",
              "      <td>no</td>\n",
              "      <td>4</td>\n",
              "      <td>3</td>\n",
              "      <td>2</td>\n",
              "      <td>2</td>\n",
              "      <td>3</td>\n",
              "      <td>3</td>\n",
              "      <td>10</td>\n",
              "      <td>7</td>\n",
              "      <td>8</td>\n",
              "      <td>10</td>\n",
              "      <td>Math</td>\n",
              "      <td>5</td>\n",
              "      <td>3</td>\n",
              "    </tr>\n",
              "    <tr>\n",
              "      <th>3</th>\n",
              "      <td>GP</td>\n",
              "      <td>F</td>\n",
              "      <td>15</td>\n",
              "      <td>U</td>\n",
              "      <td>GT3</td>\n",
              "      <td>T</td>\n",
              "      <td>4</td>\n",
              "      <td>2</td>\n",
              "      <td>health</td>\n",
              "      <td>services</td>\n",
              "      <td>home</td>\n",
              "      <td>mother</td>\n",
              "      <td>1</td>\n",
              "      <td>3</td>\n",
              "      <td>0</td>\n",
              "      <td>no</td>\n",
              "      <td>yes</td>\n",
              "      <td>yes</td>\n",
              "      <td>yes</td>\n",
              "      <td>yes</td>\n",
              "      <td>yes</td>\n",
              "      <td>yes</td>\n",
              "      <td>yes</td>\n",
              "      <td>3</td>\n",
              "      <td>2</td>\n",
              "      <td>2</td>\n",
              "      <td>1</td>\n",
              "      <td>1</td>\n",
              "      <td>5</td>\n",
              "      <td>2</td>\n",
              "      <td>15</td>\n",
              "      <td>14</td>\n",
              "      <td>15</td>\n",
              "      <td>Math</td>\n",
              "      <td>2</td>\n",
              "      <td>4</td>\n",
              "    </tr>\n",
              "    <tr>\n",
              "      <th>4</th>\n",
              "      <td>GP</td>\n",
              "      <td>F</td>\n",
              "      <td>16</td>\n",
              "      <td>U</td>\n",
              "      <td>GT3</td>\n",
              "      <td>T</td>\n",
              "      <td>3</td>\n",
              "      <td>3</td>\n",
              "      <td>other</td>\n",
              "      <td>other</td>\n",
              "      <td>home</td>\n",
              "      <td>father</td>\n",
              "      <td>1</td>\n",
              "      <td>2</td>\n",
              "      <td>0</td>\n",
              "      <td>no</td>\n",
              "      <td>yes</td>\n",
              "      <td>yes</td>\n",
              "      <td>no</td>\n",
              "      <td>yes</td>\n",
              "      <td>yes</td>\n",
              "      <td>no</td>\n",
              "      <td>no</td>\n",
              "      <td>4</td>\n",
              "      <td>3</td>\n",
              "      <td>2</td>\n",
              "      <td>1</td>\n",
              "      <td>2</td>\n",
              "      <td>5</td>\n",
              "      <td>4</td>\n",
              "      <td>6</td>\n",
              "      <td>10</td>\n",
              "      <td>10</td>\n",
              "      <td>Math</td>\n",
              "      <td>3</td>\n",
              "      <td>3</td>\n",
              "    </tr>\n",
              "    <tr>\n",
              "      <th>...</th>\n",
              "      <td>...</td>\n",
              "      <td>...</td>\n",
              "      <td>...</td>\n",
              "      <td>...</td>\n",
              "      <td>...</td>\n",
              "      <td>...</td>\n",
              "      <td>...</td>\n",
              "      <td>...</td>\n",
              "      <td>...</td>\n",
              "      <td>...</td>\n",
              "      <td>...</td>\n",
              "      <td>...</td>\n",
              "      <td>...</td>\n",
              "      <td>...</td>\n",
              "      <td>...</td>\n",
              "      <td>...</td>\n",
              "      <td>...</td>\n",
              "      <td>...</td>\n",
              "      <td>...</td>\n",
              "      <td>...</td>\n",
              "      <td>...</td>\n",
              "      <td>...</td>\n",
              "      <td>...</td>\n",
              "      <td>...</td>\n",
              "      <td>...</td>\n",
              "      <td>...</td>\n",
              "      <td>...</td>\n",
              "      <td>...</td>\n",
              "      <td>...</td>\n",
              "      <td>...</td>\n",
              "      <td>...</td>\n",
              "      <td>...</td>\n",
              "      <td>...</td>\n",
              "      <td>...</td>\n",
              "      <td>...</td>\n",
              "      <td>...</td>\n",
              "    </tr>\n",
              "    <tr>\n",
              "      <th>1039</th>\n",
              "      <td>MS</td>\n",
              "      <td>F</td>\n",
              "      <td>19</td>\n",
              "      <td>R</td>\n",
              "      <td>GT3</td>\n",
              "      <td>T</td>\n",
              "      <td>2</td>\n",
              "      <td>3</td>\n",
              "      <td>services</td>\n",
              "      <td>other</td>\n",
              "      <td>course</td>\n",
              "      <td>mother</td>\n",
              "      <td>1</td>\n",
              "      <td>3</td>\n",
              "      <td>1</td>\n",
              "      <td>no</td>\n",
              "      <td>no</td>\n",
              "      <td>no</td>\n",
              "      <td>yes</td>\n",
              "      <td>no</td>\n",
              "      <td>yes</td>\n",
              "      <td>yes</td>\n",
              "      <td>no</td>\n",
              "      <td>5</td>\n",
              "      <td>4</td>\n",
              "      <td>2</td>\n",
              "      <td>1</td>\n",
              "      <td>2</td>\n",
              "      <td>5</td>\n",
              "      <td>4</td>\n",
              "      <td>10</td>\n",
              "      <td>11</td>\n",
              "      <td>10</td>\n",
              "      <td>Por</td>\n",
              "      <td>3</td>\n",
              "      <td>3</td>\n",
              "    </tr>\n",
              "    <tr>\n",
              "      <th>1040</th>\n",
              "      <td>MS</td>\n",
              "      <td>F</td>\n",
              "      <td>18</td>\n",
              "      <td>U</td>\n",
              "      <td>LE3</td>\n",
              "      <td>T</td>\n",
              "      <td>3</td>\n",
              "      <td>1</td>\n",
              "      <td>teacher</td>\n",
              "      <td>services</td>\n",
              "      <td>course</td>\n",
              "      <td>mother</td>\n",
              "      <td>1</td>\n",
              "      <td>2</td>\n",
              "      <td>0</td>\n",
              "      <td>no</td>\n",
              "      <td>yes</td>\n",
              "      <td>no</td>\n",
              "      <td>no</td>\n",
              "      <td>yes</td>\n",
              "      <td>yes</td>\n",
              "      <td>yes</td>\n",
              "      <td>no</td>\n",
              "      <td>4</td>\n",
              "      <td>3</td>\n",
              "      <td>4</td>\n",
              "      <td>1</td>\n",
              "      <td>1</td>\n",
              "      <td>1</td>\n",
              "      <td>4</td>\n",
              "      <td>15</td>\n",
              "      <td>15</td>\n",
              "      <td>16</td>\n",
              "      <td>Por</td>\n",
              "      <td>2</td>\n",
              "      <td>4</td>\n",
              "    </tr>\n",
              "    <tr>\n",
              "      <th>1041</th>\n",
              "      <td>MS</td>\n",
              "      <td>F</td>\n",
              "      <td>18</td>\n",
              "      <td>U</td>\n",
              "      <td>GT3</td>\n",
              "      <td>T</td>\n",
              "      <td>1</td>\n",
              "      <td>1</td>\n",
              "      <td>other</td>\n",
              "      <td>other</td>\n",
              "      <td>course</td>\n",
              "      <td>mother</td>\n",
              "      <td>2</td>\n",
              "      <td>2</td>\n",
              "      <td>0</td>\n",
              "      <td>no</td>\n",
              "      <td>no</td>\n",
              "      <td>no</td>\n",
              "      <td>yes</td>\n",
              "      <td>yes</td>\n",
              "      <td>yes</td>\n",
              "      <td>no</td>\n",
              "      <td>no</td>\n",
              "      <td>1</td>\n",
              "      <td>1</td>\n",
              "      <td>1</td>\n",
              "      <td>1</td>\n",
              "      <td>1</td>\n",
              "      <td>5</td>\n",
              "      <td>6</td>\n",
              "      <td>11</td>\n",
              "      <td>12</td>\n",
              "      <td>9</td>\n",
              "      <td>Por</td>\n",
              "      <td>2</td>\n",
              "      <td>3</td>\n",
              "    </tr>\n",
              "    <tr>\n",
              "      <th>1042</th>\n",
              "      <td>MS</td>\n",
              "      <td>M</td>\n",
              "      <td>17</td>\n",
              "      <td>U</td>\n",
              "      <td>LE3</td>\n",
              "      <td>T</td>\n",
              "      <td>3</td>\n",
              "      <td>1</td>\n",
              "      <td>services</td>\n",
              "      <td>services</td>\n",
              "      <td>course</td>\n",
              "      <td>mother</td>\n",
              "      <td>2</td>\n",
              "      <td>1</td>\n",
              "      <td>0</td>\n",
              "      <td>no</td>\n",
              "      <td>no</td>\n",
              "      <td>no</td>\n",
              "      <td>no</td>\n",
              "      <td>no</td>\n",
              "      <td>yes</td>\n",
              "      <td>yes</td>\n",
              "      <td>no</td>\n",
              "      <td>2</td>\n",
              "      <td>4</td>\n",
              "      <td>5</td>\n",
              "      <td>3</td>\n",
              "      <td>4</td>\n",
              "      <td>2</td>\n",
              "      <td>6</td>\n",
              "      <td>10</td>\n",
              "      <td>10</td>\n",
              "      <td>10</td>\n",
              "      <td>Por</td>\n",
              "      <td>7</td>\n",
              "      <td>3</td>\n",
              "    </tr>\n",
              "    <tr>\n",
              "      <th>1043</th>\n",
              "      <td>MS</td>\n",
              "      <td>M</td>\n",
              "      <td>18</td>\n",
              "      <td>R</td>\n",
              "      <td>LE3</td>\n",
              "      <td>T</td>\n",
              "      <td>3</td>\n",
              "      <td>2</td>\n",
              "      <td>services</td>\n",
              "      <td>other</td>\n",
              "      <td>course</td>\n",
              "      <td>mother</td>\n",
              "      <td>3</td>\n",
              "      <td>1</td>\n",
              "      <td>0</td>\n",
              "      <td>no</td>\n",
              "      <td>no</td>\n",
              "      <td>no</td>\n",
              "      <td>no</td>\n",
              "      <td>no</td>\n",
              "      <td>yes</td>\n",
              "      <td>yes</td>\n",
              "      <td>no</td>\n",
              "      <td>4</td>\n",
              "      <td>4</td>\n",
              "      <td>1</td>\n",
              "      <td>3</td>\n",
              "      <td>4</td>\n",
              "      <td>5</td>\n",
              "      <td>4</td>\n",
              "      <td>10</td>\n",
              "      <td>11</td>\n",
              "      <td>11</td>\n",
              "      <td>Por</td>\n",
              "      <td>7</td>\n",
              "      <td>3</td>\n",
              "    </tr>\n",
              "  </tbody>\n",
              "</table>\n",
              "<p>1044 rows × 36 columns</p>\n",
              "</div>"
            ],
            "text/plain": [
              "     school sex  age address famsize Pstatus  ...  G1  G2  G3 Subject AllAlc G4\n",
              "0        GP   F   18       U     GT3       A  ...   5   6   6    Math      2  2\n",
              "1        GP   F   17       U     GT3       T  ...   5   5   6    Math      2  2\n",
              "2        GP   F   15       U     LE3       T  ...   7   8  10    Math      5  3\n",
              "3        GP   F   15       U     GT3       T  ...  15  14  15    Math      2  4\n",
              "4        GP   F   16       U     GT3       T  ...   6  10  10    Math      3  3\n",
              "...     ...  ..  ...     ...     ...     ...  ...  ..  ..  ..     ...    ... ..\n",
              "1039     MS   F   19       R     GT3       T  ...  10  11  10     Por      3  3\n",
              "1040     MS   F   18       U     LE3       T  ...  15  15  16     Por      2  4\n",
              "1041     MS   F   18       U     GT3       T  ...  11  12   9     Por      2  3\n",
              "1042     MS   M   17       U     LE3       T  ...  10  10  10     Por      7  3\n",
              "1043     MS   M   18       R     LE3       T  ...  10  11  11     Por      7  3\n",
              "\n",
              "[1044 rows x 36 columns]"
            ]
          },
          "metadata": {},
          "execution_count": 511
        }
      ]
    },
    {
      "cell_type": "markdown",
      "metadata": {
        "id": "Qdy3aEDSNWMP"
      },
      "source": [
        "Оцените распределение (постройте гистограммы) нового признака в зависимости от признака reason (причина выбора школы). Дайте содержательный комментарий.\n"
      ]
    },
    {
      "cell_type": "code",
      "metadata": {
        "id": "ggf3_OLDUTtC",
        "colab": {
          "base_uri": "https://localhost:8080/",
          "height": 279
        },
        "outputId": "6252d3e3-ae6b-4b2a-f573-5dcc56da5cdb"
      },
      "source": [
        "fig8 = pd.crosstab(data['reason'], data['G4'])   #график причин и кол-ва разных оценок у людей, назвавших эти причины\n",
        "fig8.plot(kind = 'bar', rot = 0)\n",
        "fig8\n",
        "group_data = data.groupby(by = 'reason')"
      ],
      "execution_count": null,
      "outputs": [
        {
          "output_type": "display_data",
          "data": {
            "image/png": "[encoded data removed]",
            "text/plain": [
              "<Figure size 432x288 with 1 Axes>"
            ]
          },
          "metadata": {
            "needs_background": "light"
          }
        }
      ]
    },
    {
      "cell_type": "code",
      "metadata": {
        "colab": {
          "base_uri": "https://localhost:8080/",
          "height": 542
        },
        "id": "cvNb9F_yyIW2",
        "outputId": "e9e20f88-9bc6-4792-8179-6b7bdb3ca4e3"
      },
      "source": [
        "fig = px.scatter(   #строим диаграмму рассеяния\n",
        "data,\n",
        "x='reason',\n",
        "y='G4',\n",
        "color='reason',  #разные цвета для разных причин для наглядности\n",
        ")\n",
        "fig.show()"
      ],
      "execution_count": null,
      "outputs": [
        {
          "output_type": "display_data",
          "data": {
            "text/html": [
              "<html>\n",
              "<head><meta charset=\"utf-8\" /></head>\n",
              "<body>\n",
              "    <div>\n",
              "            <script src=\"https://cdnjs.cloudflare.com/ajax/libs/mathjax/2.7.5/MathJax.js?config=TeX-AMS-MML_SVG\"></script><script type=\"text/javascript\">if (window.MathJax) {MathJax.Hub.Config({SVG: {font: \"STIX-Web\"}});}</script>\n",
              "                <script type=\"text/javascript\">window.PlotlyConfig = {MathJaxConfig: 'local'};</script>\n",
              "        <script src=\"https://cdn.plot.ly/plotly-latest.min.js\"></script>    \n",
              "            <div id=\"7be5d11c-9967-462b-b5f5-78834c59372e\" class=\"plotly-graph-div\" style=\"height:525px; width:100%;\"></div>\n",
              "            <script type=\"text/javascript\">\n",
              "                \n",
              "                    window.PLOTLYENV=window.PLOTLYENV || {};\n",
              "                    \n",
              "                if (document.getElementById(\"7be5d11c-9967-462b-b5f5-78834c59372e\")) {\n",
              "                    Plotly.newPlot(\n",
              "                        '7be5d11c-9967-462b-b5f5-78834c59372e',\n",
              "                        [{\"hoverlabel\": {\"namelength\": 0}, \"hovertemplate\": \"reason=%{x}<br>G4=%{y}\", \"legendgroup\": \"reason=course\", \"marker\": {\"color\": \"#636efa\", \"symbol\": \"circle\"}, \"mode\": \"markers\", \"name\": \"reason=course\", \"showlegend\": true, \"type\": \"scattergl\", \"x\": [\"course\", \"course\", \"course\", \"course\", \"course\", \"course\", \"course\", \"course\", \"course\", \"course\", \"course\", \"course\", \"course\", \"course\", \"course\", \"course\", \"course\", \"course\", \"course\", \"course\", \"course\", \"course\", \"course\", \"course\", \"course\", \"course\", \"course\", \"course\", \"course\", \"course\", \"course\", \"course\", \"course\", \"course\", \"course\", \"course\", \"course\", \"course\", \"course\", \"course\", \"course\", \"course\", \"course\", \"course\", \"course\", \"course\", \"course\", \"course\", \"course\", \"course\", \"course\", \"course\", \"course\", \"course\", \"course\", \"course\", \"course\", \"course\", \"course\", \"course\", \"course\", \"course\", \"course\", \"course\", \"course\", \"course\", \"course\", \"course\", \"course\", \"course\", \"course\", \"course\", \"course\", \"course\", \"course\", \"course\", \"course\", \"course\", \"course\", \"course\", \"course\", \"course\", \"course\", \"course\", \"course\", \"course\", \"course\", \"course\", \"course\", \"course\", \"course\", \"course\", \"course\", \"course\", \"course\", \"course\", \"course\", \"course\", \"course\", \"course\", \"course\", \"course\", \"course\", \"course\", \"course\", \"course\", \"course\", \"course\", \"course\", \"course\", \"course\", \"course\", \"course\", \"course\", \"course\", \"course\", \"course\", \"course\", \"course\", \"course\", \"course\", \"course\", \"course\", \"course\", \"course\", \"course\", \"course\", \"course\", \"course\", \"course\", \"course\", \"course\", \"course\", \"course\", \"course\", \"course\", \"course\", \"course\", \"course\", \"course\", \"course\", \"course\", \"course\", \"course\", \"course\", \"course\", \"course\", \"course\", \"course\", \"course\", \"course\", \"course\", \"course\", \"course\", \"course\", \"course\", \"course\", \"course\", \"course\", \"course\", \"course\", \"course\", \"course\", \"course\", \"course\", \"course\", \"course\", \"course\", \"course\", \"course\", \"course\", \"course\", \"course\", \"course\", \"course\", \"course\", \"course\", \"course\", \"course\", \"course\", \"course\", \"course\", \"course\", \"course\", \"course\", \"course\", \"course\", \"course\", \"course\", \"course\", \"course\", \"course\", \"course\", \"course\", \"course\", \"course\", \"course\", \"course\", \"course\", \"course\", \"course\", \"course\", \"course\", \"course\", \"course\", \"course\", \"course\", \"course\", \"course\", \"course\", \"course\", \"course\", \"course\", \"course\", \"course\", \"course\", \"course\", \"course\", \"course\", \"course\", \"course\", \"course\", \"course\", \"course\", \"course\", \"course\", \"course\", \"course\", \"course\", \"course\", \"course\", \"course\", \"course\", \"course\", \"course\", \"course\", \"course\", \"course\", \"course\", \"course\", \"course\", \"course\", \"course\", \"course\", \"course\", \"course\", \"course\", \"course\", \"course\", \"course\", \"course\", \"course\", \"course\", \"course\", \"course\", \"course\", \"course\", \"course\", \"course\", \"course\", \"course\", \"course\", \"course\", \"course\", \"course\", \"course\", \"course\", \"course\", \"course\", \"course\", \"course\", \"course\", \"course\", \"course\", \"course\", \"course\", \"course\", \"course\", \"course\", \"course\", \"course\", \"course\", \"course\", \"course\", \"course\", \"course\", \"course\", \"course\", \"course\", \"course\", \"course\", \"course\", \"course\", \"course\", \"course\", \"course\", \"course\", \"course\", \"course\", \"course\", \"course\", \"course\", \"course\", \"course\", \"course\", \"course\", \"course\", \"course\", \"course\", \"course\", \"course\", \"course\", \"course\", \"course\", \"course\", \"course\", \"course\", \"course\", \"course\", \"course\", \"course\", \"course\", \"course\", \"course\", \"course\", \"course\", \"course\", \"course\", \"course\", \"course\", \"course\", \"course\", \"course\", \"course\", \"course\", \"course\", \"course\", \"course\", \"course\", \"course\", \"course\", \"course\", \"course\", \"course\", \"course\", \"course\", \"course\", \"course\", \"course\", \"course\", \"course\", \"course\", \"course\", \"course\", \"course\", \"course\", \"course\", \"course\", \"course\", \"course\", \"course\", \"course\", \"course\", \"course\", \"course\", \"course\", \"course\", \"course\", \"course\", \"course\", \"course\", \"course\", \"course\", \"course\", \"course\", \"course\", \"course\", \"course\", \"course\", \"course\", \"course\", \"course\", \"course\", \"course\", \"course\", \"course\", \"course\", \"course\", \"course\", \"course\", \"course\", \"course\", \"course\", \"course\", \"course\", \"course\", \"course\", \"course\", \"course\", \"course\", \"course\", \"course\", \"course\", \"course\", \"course\", \"course\", \"course\", \"course\", \"course\", \"course\", \"course\", \"course\", \"course\", \"course\", \"course\", \"course\", \"course\", \"course\", \"course\", \"course\", \"course\", \"course\", \"course\", \"course\", \"course\", \"course\", \"course\", \"course\", \"course\", \"course\"], \"xaxis\": \"x\", \"y\": [\"2\", \"2\", \"4\", \"3\", \"2\", \"4\", \"3\", \"4\", \"3\", \"3\", \"5\", \"3\", \"3\", \"2\", \"3\", \"3\", \"4\", \"3\", \"4\", \"2\", \"3\", \"3\", \"2\", \"3\", \"2\", \"3\", \"3\", \"4\", \"5\", \"3\", \"5\", \"5\", \"4\", \"3\", \"4\", \"3\", \"3\", \"3\", \"5\", \"2\", \"2\", \"3\", \"3\", \"2\", \"2\", \"2\", \"2\", \"3\", \"4\", \"2\", \"3\", \"3\", \"3\", \"3\", \"2\", \"3\", \"2\", \"4\", \"3\", \"3\", \"3\", \"4\", \"3\", \"2\", \"2\", \"2\", \"3\", \"2\", \"3\", \"3\", \"2\", \"3\", \"3\", \"4\", \"3\", \"3\", \"4\", \"3\", \"2\", \"3\", \"4\", \"3\", \"3\", \"3\", \"3\", \"3\", \"3\", \"2\", \"3\", \"2\", \"5\", \"3\", \"2\", \"3\", \"3\", \"3\", \"3\", \"2\", \"3\", \"3\", \"3\", \"3\", \"3\", \"5\", \"3\", \"2\", \"3\", \"3\", \"3\", \"3\", \"3\", \"3\", \"4\", \"3\", \"3\", \"3\", \"4\", \"3\", \"4\", \"2\", \"4\", \"3\", \"4\", \"3\", \"3\", \"3\", \"3\", \"3\", \"4\", \"3\", \"4\", \"3\", \"3\", \"3\", \"2\", \"4\", \"3\", \"2\", \"3\", \"2\", \"3\", \"4\", \"2\", \"3\", \"3\", \"3\", \"3\", \"3\", \"3\", \"2\", \"4\", \"3\", \"4\", \"3\", \"3\", \"4\", \"3\", \"3\", \"3\", \"3\", \"3\", \"4\", \"4\", \"4\", \"3\", \"3\", \"3\", \"3\", \"3\", \"3\", \"3\", \"3\", \"3\", \"4\", \"3\", \"4\", \"5\", \"4\", \"3\", \"4\", \"3\", \"3\", \"3\", \"4\", \"3\", \"3\", \"3\", \"3\", \"3\", \"4\", \"3\", \"3\", \"4\", \"3\", \"3\", \"3\", \"3\", \"3\", \"3\", \"4\", \"3\", \"3\", \"3\", \"3\", \"3\", \"3\", \"3\", \"3\", \"3\", \"3\", \"2\", \"3\", \"3\", \"3\", \"3\", \"3\", \"2\", \"3\", \"3\", \"3\", \"3\", \"3\", \"3\", \"3\", \"3\", \"3\", \"3\", \"3\", \"4\", \"3\", \"3\", \"4\", \"4\", \"3\", \"3\", \"4\", \"3\", \"4\", \"3\", \"3\", \"3\", \"2\", \"3\", \"3\", \"4\", \"3\", \"3\", \"3\", \"3\", \"4\", \"4\", \"4\", \"3\", \"4\", \"4\", \"3\", \"3\", \"3\", \"4\", \"3\", \"3\", \"3\", \"2\", \"3\", \"3\", \"3\", \"3\", \"3\", \"4\", \"3\", \"3\", \"3\", \"3\", \"3\", \"3\", \"4\", \"3\", \"4\", \"4\", \"4\", \"4\", \"4\", \"4\", \"4\", \"4\", \"3\", \"3\", \"4\", \"4\", \"4\", \"3\", \"3\", \"3\", \"3\", \"3\", \"4\", \"3\", \"3\", \"3\", \"4\", \"3\", \"3\", \"3\", \"4\", \"4\", \"4\", \"4\", \"4\", \"4\", \"4\", \"4\", \"3\", \"3\", \"3\", \"4\", \"3\", \"4\", \"3\", \"3\", \"4\", \"3\", \"4\", \"3\", \"4\", \"3\", \"3\", \"3\", \"3\", \"4\", \"4\", \"3\", \"4\", \"3\", \"3\", \"3\", \"4\", \"3\", \"3\", \"3\", \"3\", \"3\", \"3\", \"3\", \"3\", \"3\", \"3\", \"3\", \"3\", \"3\", \"3\", \"3\", \"3\", \"3\", \"4\", \"4\", \"2\", \"3\", \"4\", \"3\", \"3\", \"5\", \"3\", \"2\", \"3\", \"3\", \"3\", \"3\", \"3\", \"3\", \"3\", \"4\", \"5\", \"3\", \"3\", \"3\", \"3\", \"3\", \"3\", \"3\", \"3\", \"3\", \"2\", \"3\", \"3\", \"3\", \"2\", \"3\", \"3\", \"3\", \"3\", \"2\", \"3\", \"3\", \"3\", \"3\", \"3\", \"3\", \"3\", \"2\", \"3\", \"3\", \"3\", \"3\", \"3\", \"2\", \"3\", \"5\", \"2\", \"3\", \"3\", \"3\", \"5\", \"3\", \"3\", \"2\", \"3\", \"5\", \"4\", \"4\", \"3\", \"3\", \"3\", \"3\", \"3\", \"4\", \"3\", \"4\", \"3\", \"3\", \"3\"], \"yaxis\": \"y\"}, {\"hoverlabel\": {\"namelength\": 0}, \"hovertemplate\": \"reason=%{x}<br>G4=%{y}\", \"legendgroup\": \"reason=other\", \"marker\": {\"color\": \"#EF553B\", \"symbol\": \"circle\"}, \"mode\": \"markers\", \"name\": \"reason=other\", \"showlegend\": true, \"type\": \"scattergl\", \"x\": [\"other\", \"other\", \"other\", \"other\", \"other\", \"other\", \"other\", \"other\", \"other\", \"other\", \"other\", \"other\", \"other\", \"other\", \"other\", \"other\", \"other\", \"other\", \"other\", \"other\", \"other\", \"other\", \"other\", \"other\", \"other\", \"other\", \"other\", \"other\", \"other\", \"other\", \"other\", \"other\", \"other\", \"other\", \"other\", \"other\", \"other\", \"other\", \"other\", \"other\", \"other\", \"other\", \"other\", \"other\", \"other\", \"other\", \"other\", \"other\", \"other\", \"other\", \"other\", \"other\", \"other\", \"other\", \"other\", \"other\", \"other\", \"other\", \"other\", \"other\", \"other\", \"other\", \"other\", \"other\", \"other\", \"other\", \"other\", \"other\", \"other\", \"other\", \"other\", \"other\", \"other\", \"other\", \"other\", \"other\", \"other\", \"other\", \"other\", \"other\", \"other\", \"other\", \"other\", \"other\", \"other\", \"other\", \"other\", \"other\", \"other\", \"other\", \"other\", \"other\", \"other\", \"other\", \"other\", \"other\", \"other\", \"other\", \"other\", \"other\", \"other\", \"other\", \"other\", \"other\", \"other\", \"other\", \"other\", \"other\"], \"xaxis\": \"x\", \"y\": [\"3\", \"4\", \"4\", \"2\", \"2\", \"3\", \"3\", \"3\", \"3\", \"3\", \"2\", \"4\", \"4\", \"3\", \"3\", \"3\", \"3\", \"3\", \"3\", \"4\", \"3\", \"4\", \"3\", \"3\", \"5\", \"3\", \"4\", \"3\", \"3\", \"3\", \"3\", \"3\", \"3\", \"2\", \"2\", \"3\", \"3\", \"3\", \"3\", \"3\", \"3\", \"4\", \"3\", \"3\", \"3\", \"4\", \"3\", \"4\", \"4\", \"3\", \"4\", \"3\", \"3\", \"4\", \"3\", \"4\", \"2\", \"3\", \"2\", \"3\", \"4\", \"5\", \"4\", \"3\", \"3\", \"3\", \"2\", \"3\", \"3\", \"3\", \"3\", \"4\", \"3\", \"3\", \"3\", \"3\", \"3\", \"2\", \"3\", \"3\", \"3\", \"4\", \"3\", \"3\", \"3\", \"3\", \"3\", \"4\", \"3\", \"3\", \"3\", \"3\", \"3\", \"3\", \"3\", \"2\", \"4\", \"4\", \"2\", \"3\", \"3\", \"4\", \"2\", \"3\", \"2\", \"2\", \"4\", \"3\"], \"yaxis\": \"y\"}, {\"hoverlabel\": {\"namelength\": 0}, \"hovertemplate\": \"reason=%{x}<br>G4=%{y}\", \"legendgroup\": \"reason=home\", \"marker\": {\"color\": \"#00cc96\", \"symbol\": \"circle\"}, \"mode\": \"markers\", \"name\": \"reason=home\", \"showlegend\": true, \"type\": \"scattergl\", \"x\": [\"home\", \"home\", \"home\", \"home\", \"home\", \"home\", \"home\", \"home\", \"home\", \"home\", \"home\", \"home\", \"home\", \"home\", \"home\", \"home\", \"home\", \"home\", \"home\", \"home\", \"home\", \"home\", \"home\", \"home\", \"home\", \"home\", \"home\", \"home\", \"home\", \"home\", \"home\", \"home\", \"home\", \"home\", \"home\", \"home\", \"home\", \"home\", \"home\", \"home\", \"home\", \"home\", \"home\", \"home\", \"home\", \"home\", \"home\", \"home\", \"home\", \"home\", \"home\", \"home\", \"home\", \"home\", \"home\", \"home\", \"home\", \"home\", \"home\", \"home\", \"home\", \"home\", \"home\", \"home\", \"home\", \"home\", \"home\", \"home\", \"home\", \"home\", \"home\", \"home\", \"home\", \"home\", \"home\", \"home\", \"home\", \"home\", \"home\", \"home\", \"home\", \"home\", \"home\", \"home\", \"home\", \"home\", \"home\", \"home\", \"home\", \"home\", \"home\", \"home\", \"home\", \"home\", \"home\", \"home\", \"home\", \"home\", \"home\", \"home\", \"home\", \"home\", \"home\", \"home\", \"home\", \"home\", \"home\", \"home\", \"home\", \"home\", \"home\", \"home\", \"home\", \"home\", \"home\", \"home\", \"home\", \"home\", \"home\", \"home\", \"home\", \"home\", \"home\", \"home\", \"home\", \"home\", \"home\", \"home\", \"home\", \"home\", \"home\", \"home\", \"home\", \"home\", \"home\", \"home\", \"home\", \"home\", \"home\", \"home\", \"home\", \"home\", \"home\", \"home\", \"home\", \"home\", \"home\", \"home\", \"home\", \"home\", \"home\", \"home\", \"home\", \"home\", \"home\", \"home\", \"home\", \"home\", \"home\", \"home\", \"home\", \"home\", \"home\", \"home\", \"home\", \"home\", \"home\", \"home\", \"home\", \"home\", \"home\", \"home\", \"home\", \"home\", \"home\", \"home\", \"home\", \"home\", \"home\", \"home\", \"home\", \"home\", \"home\", \"home\", \"home\", \"home\", \"home\", \"home\", \"home\", \"home\", \"home\", \"home\", \"home\", \"home\", \"home\", \"home\", \"home\", \"home\", \"home\", \"home\", \"home\", \"home\", \"home\", \"home\", \"home\", \"home\", \"home\", \"home\", \"home\", \"home\", \"home\", \"home\", \"home\", \"home\", \"home\", \"home\", \"home\", \"home\", \"home\", \"home\", \"home\", \"home\", \"home\", \"home\", \"home\", \"home\", \"home\", \"home\", \"home\", \"home\", \"home\", \"home\", \"home\", \"home\", \"home\", \"home\", \"home\", \"home\", \"home\", \"home\", \"home\", \"home\", \"home\", \"home\", \"home\", \"home\", \"home\", \"home\", \"home\", \"home\", \"home\", \"home\", \"home\", \"home\", \"home\", \"home\", \"home\", \"home\"], \"xaxis\": \"x\", \"y\": [\"4\", \"3\", \"3\", \"2\", \"5\", \"4\", \"4\", \"4\", \"3\", \"3\", \"3\", \"3\", \"3\", \"3\", \"4\", \"5\", \"3\", \"3\", \"3\", \"4\", \"3\", \"3\", \"3\", \"3\", \"3\", \"3\", \"4\", \"3\", \"3\", \"2\", \"3\", \"3\", \"2\", \"5\", \"3\", \"3\", \"3\", \"4\", \"3\", \"3\", \"3\", \"2\", \"2\", \"2\", \"4\", \"2\", \"2\", \"3\", \"3\", \"3\", \"4\", \"4\", \"3\", \"5\", \"4\", \"3\", \"3\", \"3\", \"3\", \"3\", \"3\", \"3\", \"4\", \"2\", \"3\", \"3\", \"4\", \"5\", \"3\", \"2\", \"3\", \"3\", \"4\", \"3\", \"3\", \"3\", \"3\", \"3\", \"3\", \"3\", \"3\", \"4\", \"3\", \"3\", \"3\", \"2\", \"3\", \"4\", \"2\", \"2\", \"3\", \"2\", \"4\", \"3\", \"3\", \"2\", \"4\", \"2\", \"3\", \"3\", \"3\", \"3\", \"3\", \"3\", \"3\", \"4\", \"4\", \"3\", \"2\", \"4\", \"3\", \"3\", \"3\", \"4\", \"3\", \"4\", \"4\", \"3\", \"3\", \"3\", \"3\", \"3\", \"3\", \"3\", \"4\", \"3\", \"3\", \"3\", \"3\", \"4\", \"3\", \"3\", \"3\", \"3\", \"3\", \"3\", \"3\", \"3\", \"3\", \"4\", \"3\", \"3\", \"4\", \"3\", \"3\", \"4\", \"3\", \"3\", \"3\", \"3\", \"3\", \"3\", \"2\", \"3\", \"3\", \"3\", \"5\", \"3\", \"3\", \"3\", \"3\", \"3\", \"3\", \"4\", \"3\", \"4\", \"4\", \"3\", \"3\", \"3\", \"3\", \"3\", \"3\", \"3\", \"4\", \"3\", \"4\", \"3\", \"3\", \"3\", \"4\", \"3\", \"3\", \"4\", \"3\", \"4\", \"4\", \"3\", \"3\", \"3\", \"3\", \"3\", \"5\", \"4\", \"3\", \"3\", \"3\", \"3\", \"3\", \"3\", \"4\", \"4\", \"4\", \"4\", \"4\", \"3\", \"3\", \"3\", \"4\", \"4\", \"4\", \"3\", \"3\", \"3\", \"4\", \"4\", \"4\", \"3\", \"4\", \"4\", \"3\", \"3\", \"3\", \"3\", \"3\", \"3\", \"2\", \"3\", \"3\", \"3\", \"3\", \"3\", \"4\", \"3\", \"3\", \"3\", \"4\", \"3\", \"2\", \"4\", \"3\", \"3\", \"3\", \"3\", \"3\", \"3\", \"3\", \"2\", \"3\", \"4\", \"3\", \"4\", \"3\", \"3\", \"4\", \"5\", \"4\", \"2\"], \"yaxis\": \"y\"}, {\"hoverlabel\": {\"namelength\": 0}, \"hovertemplate\": \"reason=%{x}<br>G4=%{y}\", \"legendgroup\": \"reason=reputation\", \"marker\": {\"color\": \"#ab63fa\", \"symbol\": \"circle\"}, \"mode\": \"markers\", \"name\": \"reason=reputation\", \"showlegend\": true, \"type\": \"scattergl\", \"x\": [\"reputation\", \"reputation\", \"reputation\", \"reputation\", \"reputation\", \"reputation\", \"reputation\", \"reputation\", \"reputation\", \"reputation\", \"reputation\", \"reputation\", \"reputation\", \"reputation\", \"reputation\", \"reputation\", \"reputation\", \"reputation\", \"reputation\", \"reputation\", \"reputation\", \"reputation\", \"reputation\", \"reputation\", \"reputation\", \"reputation\", \"reputation\", \"reputation\", \"reputation\", \"reputation\", \"reputation\", \"reputation\", \"reputation\", \"reputation\", \"reputation\", \"reputation\", \"reputation\", \"reputation\", \"reputation\", \"reputation\", \"reputation\", \"reputation\", \"reputation\", \"reputation\", \"reputation\", \"reputation\", \"reputation\", \"reputation\", \"reputation\", \"reputation\", \"reputation\", \"reputation\", \"reputation\", \"reputation\", \"reputation\", \"reputation\", \"reputation\", \"reputation\", \"reputation\", \"reputation\", \"reputation\", \"reputation\", \"reputation\", \"reputation\", \"reputation\", \"reputation\", \"reputation\", \"reputation\", \"reputation\", \"reputation\", \"reputation\", \"reputation\", \"reputation\", \"reputation\", \"reputation\", \"reputation\", \"reputation\", \"reputation\", \"reputation\", \"reputation\", \"reputation\", \"reputation\", \"reputation\", \"reputation\", \"reputation\", \"reputation\", \"reputation\", \"reputation\", \"reputation\", \"reputation\", \"reputation\", \"reputation\", \"reputation\", \"reputation\", \"reputation\", \"reputation\", \"reputation\", \"reputation\", \"reputation\", \"reputation\", \"reputation\", \"reputation\", \"reputation\", \"reputation\", \"reputation\", \"reputation\", \"reputation\", \"reputation\", \"reputation\", \"reputation\", \"reputation\", \"reputation\", \"reputation\", \"reputation\", \"reputation\", \"reputation\", \"reputation\", \"reputation\", \"reputation\", \"reputation\", \"reputation\", \"reputation\", \"reputation\", \"reputation\", \"reputation\", \"reputation\", \"reputation\", \"reputation\", \"reputation\", \"reputation\", \"reputation\", \"reputation\", \"reputation\", \"reputation\", \"reputation\", \"reputation\", \"reputation\", \"reputation\", \"reputation\", \"reputation\", \"reputation\", \"reputation\", \"reputation\", \"reputation\", \"reputation\", \"reputation\", \"reputation\", \"reputation\", \"reputation\", \"reputation\", \"reputation\", \"reputation\", \"reputation\", \"reputation\", \"reputation\", \"reputation\", \"reputation\", \"reputation\", \"reputation\", \"reputation\", \"reputation\", \"reputation\", \"reputation\", \"reputation\", \"reputation\", \"reputation\", \"reputation\", \"reputation\", \"reputation\", \"reputation\", \"reputation\", \"reputation\", \"reputation\", \"reputation\", \"reputation\", \"reputation\", \"reputation\", \"reputation\", \"reputation\", \"reputation\", \"reputation\", \"reputation\", \"reputation\", \"reputation\", \"reputation\", \"reputation\", \"reputation\", \"reputation\", \"reputation\", \"reputation\", \"reputation\", \"reputation\", \"reputation\", \"reputation\", \"reputation\", \"reputation\", \"reputation\", \"reputation\", \"reputation\", \"reputation\", \"reputation\", \"reputation\", \"reputation\", \"reputation\", \"reputation\", \"reputation\", \"reputation\", \"reputation\", \"reputation\", \"reputation\", \"reputation\", \"reputation\", \"reputation\", \"reputation\", \"reputation\", \"reputation\", \"reputation\", \"reputation\", \"reputation\", \"reputation\", \"reputation\", \"reputation\", \"reputation\", \"reputation\", \"reputation\", \"reputation\", \"reputation\", \"reputation\", \"reputation\", \"reputation\", \"reputation\", \"reputation\", \"reputation\", \"reputation\", \"reputation\", \"reputation\", \"reputation\", \"reputation\", \"reputation\", \"reputation\", \"reputation\", \"reputation\", \"reputation\", \"reputation\", \"reputation\", \"reputation\", \"reputation\", \"reputation\"], \"xaxis\": \"x\", \"y\": [\"4\", \"3\", \"3\", \"4\", \"3\", \"4\", \"3\", \"4\", \"4\", \"3\", \"5\", \"4\", \"4\", \"3\", \"3\", \"3\", \"3\", \"4\", \"4\", \"2\", \"4\", \"3\", \"2\", \"3\", \"4\", \"3\", \"2\", \"5\", \"4\", \"4\", \"4\", \"3\", \"3\", \"3\", \"4\", \"3\", \"2\", \"3\", \"3\", \"3\", \"4\", \"4\", \"3\", \"3\", \"3\", \"2\", \"4\", \"3\", \"3\", \"3\", \"3\", \"3\", \"3\", \"2\", \"3\", \"2\", \"3\", \"4\", \"4\", \"2\", \"2\", \"2\", \"2\", \"3\", \"4\", \"3\", \"3\", \"3\", \"2\", \"3\", \"3\", \"3\", \"4\", \"3\", \"3\", \"2\", \"4\", \"3\", \"3\", \"3\", \"3\", \"3\", \"4\", \"4\", \"4\", \"3\", \"5\", \"4\", \"2\", \"4\", \"4\", \"5\", \"3\", \"3\", \"3\", \"3\", \"3\", \"3\", \"4\", \"4\", \"3\", \"2\", \"5\", \"3\", \"2\", \"3\", \"4\", \"3\", \"4\", \"4\", \"4\", \"3\", \"4\", \"3\", \"3\", \"4\", \"4\", \"4\", \"3\", \"3\", \"3\", \"3\", \"4\", \"3\", \"3\", \"4\", \"3\", \"3\", \"3\", \"4\", \"3\", \"3\", \"3\", \"3\", \"3\", \"3\", \"3\", \"3\", \"3\", \"4\", \"4\", \"3\", \"3\", \"3\", \"3\", \"3\", \"4\", \"5\", \"3\", \"4\", \"4\", \"3\", \"4\", \"4\", \"4\", \"4\", \"3\", \"3\", \"3\", \"3\", \"3\", \"3\", \"3\", \"3\", \"4\", \"3\", \"3\", \"3\", \"3\", \"3\", \"3\", \"3\", \"4\", \"3\", \"3\", \"3\", \"4\", \"4\", \"4\", \"3\", \"4\", \"3\", \"4\", \"4\", \"3\", \"4\", \"3\", \"5\", \"4\", \"3\", \"4\", \"4\", \"4\", \"5\", \"5\", \"4\", \"3\", \"4\", \"3\", \"4\", \"5\", \"3\", \"3\", \"4\", \"4\", \"3\", \"4\", \"3\", \"3\", \"4\", \"4\", \"4\", \"4\", \"5\", \"4\", \"4\", \"3\", \"4\", \"3\", \"3\", \"3\", \"4\", \"3\", \"3\", \"3\", \"3\", \"3\", \"3\", \"3\", \"3\", \"4\", \"3\", \"4\", \"4\", \"3\", \"2\", \"4\", \"4\", \"4\", \"5\", \"4\", \"2\", \"3\", \"4\", \"3\", \"4\", \"3\", \"3\"], \"yaxis\": \"y\"}],\n",
              "                        {\"legend\": {\"tracegroupgap\": 0}, \"margin\": {\"t\": 60}, \"template\": {\"data\": {\"bar\": [{\"error_x\": {\"color\": \"#2a3f5f\"}, \"error_y\": {\"color\": \"#2a3f5f\"}, \"marker\": {\"line\": {\"color\": \"#E5ECF6\", \"width\": 0.5}}, \"type\": \"bar\"}], \"barpolar\": [{\"marker\": {\"line\": {\"color\": \"#E5ECF6\", \"width\": 0.5}}, \"type\": \"barpolar\"}], \"carpet\": [{\"aaxis\": {\"endlinecolor\": \"#2a3f5f\", \"gridcolor\": \"white\", \"linecolor\": \"white\", \"minorgridcolor\": \"white\", \"startlinecolor\": \"#2a3f5f\"}, \"baxis\": {\"endlinecolor\": \"#2a3f5f\", \"gridcolor\": \"white\", \"linecolor\": \"white\", \"minorgridcolor\": \"white\", \"startlinecolor\": \"#2a3f5f\"}, \"type\": \"carpet\"}], \"choropleth\": [{\"colorbar\": {\"outlinewidth\": 0, \"ticks\": \"\"}, \"type\": \"choropleth\"}], \"contour\": [{\"colorbar\": {\"outlinewidth\": 0, \"ticks\": \"\"}, \"colorscale\": [[0.0, \"#0d0887\"], [0.1111111111111111, \"#46039f\"], [0.2222222222222222, \"#7201a8\"], [0.3333333333333333, \"#9c179e\"], [0.4444444444444444, \"#bd3786\"], [0.5555555555555556, \"#d8576b\"], [0.6666666666666666, \"#ed7953\"], [0.7777777777777778, \"#fb9f3a\"], [0.8888888888888888, \"#fdca26\"], [1.0, \"#f0f921\"]], \"type\": \"contour\"}], \"contourcarpet\": [{\"colorbar\": {\"outlinewidth\": 0, \"ticks\": \"\"}, \"type\": \"contourcarpet\"}], \"heatmap\": [{\"colorbar\": {\"outlinewidth\": 0, \"ticks\": \"\"}, \"colorscale\": [[0.0, \"#0d0887\"], [0.1111111111111111, \"#46039f\"], [0.2222222222222222, \"#7201a8\"], [0.3333333333333333, \"#9c179e\"], [0.4444444444444444, \"#bd3786\"], [0.5555555555555556, \"#d8576b\"], [0.6666666666666666, \"#ed7953\"], [0.7777777777777778, \"#fb9f3a\"], [0.8888888888888888, \"#fdca26\"], [1.0, \"#f0f921\"]], \"type\": \"heatmap\"}], \"heatmapgl\": [{\"colorbar\": {\"outlinewidth\": 0, \"ticks\": \"\"}, \"colorscale\": [[0.0, \"#0d0887\"], [0.1111111111111111, \"#46039f\"], [0.2222222222222222, \"#7201a8\"], [0.3333333333333333, \"#9c179e\"], [0.4444444444444444, \"#bd3786\"], [0.5555555555555556, \"#d8576b\"], [0.6666666666666666, \"#ed7953\"], [0.7777777777777778, \"#fb9f3a\"], [0.8888888888888888, \"#fdca26\"], [1.0, \"#f0f921\"]], \"type\": \"heatmapgl\"}], \"histogram\": [{\"marker\": {\"colorbar\": {\"outlinewidth\": 0, \"ticks\": \"\"}}, \"type\": \"histogram\"}], \"histogram2d\": [{\"colorbar\": {\"outlinewidth\": 0, \"ticks\": \"\"}, \"colorscale\": [[0.0, \"#0d0887\"], [0.1111111111111111, \"#46039f\"], [0.2222222222222222, \"#7201a8\"], [0.3333333333333333, \"#9c179e\"], [0.4444444444444444, \"#bd3786\"], [0.5555555555555556, \"#d8576b\"], [0.6666666666666666, \"#ed7953\"], [0.7777777777777778, \"#fb9f3a\"], [0.8888888888888888, \"#fdca26\"], [1.0, \"#f0f921\"]], \"type\": \"histogram2d\"}], \"histogram2dcontour\": [{\"colorbar\": {\"outlinewidth\": 0, \"ticks\": \"\"}, \"colorscale\": [[0.0, \"#0d0887\"], [0.1111111111111111, \"#46039f\"], [0.2222222222222222, \"#7201a8\"], [0.3333333333333333, \"#9c179e\"], [0.4444444444444444, \"#bd3786\"], [0.5555555555555556, \"#d8576b\"], [0.6666666666666666, \"#ed7953\"], [0.7777777777777778, \"#fb9f3a\"], [0.8888888888888888, \"#fdca26\"], [1.0, \"#f0f921\"]], \"type\": \"histogram2dcontour\"}], \"mesh3d\": [{\"colorbar\": {\"outlinewidth\": 0, \"ticks\": \"\"}, \"type\": \"mesh3d\"}], \"parcoords\": [{\"line\": {\"colorbar\": {\"outlinewidth\": 0, \"ticks\": \"\"}}, \"type\": \"parcoords\"}], \"pie\": [{\"automargin\": true, \"type\": \"pie\"}], \"scatter\": [{\"marker\": {\"colorbar\": {\"outlinewidth\": 0, \"ticks\": \"\"}}, \"type\": \"scatter\"}], \"scatter3d\": [{\"line\": {\"colorbar\": {\"outlinewidth\": 0, \"ticks\": \"\"}}, \"marker\": {\"colorbar\": {\"outlinewidth\": 0, \"ticks\": \"\"}}, \"type\": \"scatter3d\"}], \"scattercarpet\": [{\"marker\": {\"colorbar\": {\"outlinewidth\": 0, \"ticks\": \"\"}}, \"type\": \"scattercarpet\"}], \"scattergeo\": [{\"marker\": {\"colorbar\": {\"outlinewidth\": 0, \"ticks\": \"\"}}, \"type\": \"scattergeo\"}], \"scattergl\": [{\"marker\": {\"colorbar\": {\"outlinewidth\": 0, \"ticks\": \"\"}}, \"type\": \"scattergl\"}], \"scattermapbox\": [{\"marker\": {\"colorbar\": {\"outlinewidth\": 0, \"ticks\": \"\"}}, \"type\": \"scattermapbox\"}], \"scatterpolar\": [{\"marker\": {\"colorbar\": {\"outlinewidth\": 0, \"ticks\": \"\"}}, \"type\": \"scatterpolar\"}], \"scatterpolargl\": [{\"marker\": {\"colorbar\": {\"outlinewidth\": 0, \"ticks\": \"\"}}, \"type\": \"scatterpolargl\"}], \"scatterternary\": [{\"marker\": {\"colorbar\": {\"outlinewidth\": 0, \"ticks\": \"\"}}, \"type\": \"scatterternary\"}], \"surface\": [{\"colorbar\": {\"outlinewidth\": 0, \"ticks\": \"\"}, \"colorscale\": [[0.0, \"#0d0887\"], [0.1111111111111111, \"#46039f\"], [0.2222222222222222, \"#7201a8\"], [0.3333333333333333, \"#9c179e\"], [0.4444444444444444, \"#bd3786\"], [0.5555555555555556, \"#d8576b\"], [0.6666666666666666, \"#ed7953\"], [0.7777777777777778, \"#fb9f3a\"], [0.8888888888888888, \"#fdca26\"], [1.0, \"#f0f921\"]], \"type\": \"surface\"}], \"table\": [{\"cells\": {\"fill\": {\"color\": \"#EBF0F8\"}, \"line\": {\"color\": \"white\"}}, \"header\": {\"fill\": {\"color\": \"#C8D4E3\"}, \"line\": {\"color\": \"white\"}}, \"type\": \"table\"}]}, \"layout\": {\"annotationdefaults\": {\"arrowcolor\": \"#2a3f5f\", \"arrowhead\": 0, \"arrowwidth\": 1}, \"coloraxis\": {\"colorbar\": {\"outlinewidth\": 0, \"ticks\": \"\"}}, \"colorscale\": {\"diverging\": [[0, \"#8e0152\"], [0.1, \"#c51b7d\"], [0.2, \"#de77ae\"], [0.3, \"#f1b6da\"], [0.4, \"#fde0ef\"], [0.5, \"#f7f7f7\"], [0.6, \"#e6f5d0\"], [0.7, \"#b8e186\"], [0.8, \"#7fbc41\"], [0.9, \"#4d9221\"], [1, \"#276419\"]], \"sequential\": [[0.0, \"#0d0887\"], [0.1111111111111111, \"#46039f\"], [0.2222222222222222, \"#7201a8\"], [0.3333333333333333, \"#9c179e\"], [0.4444444444444444, \"#bd3786\"], [0.5555555555555556, \"#d8576b\"], [0.6666666666666666, \"#ed7953\"], [0.7777777777777778, \"#fb9f3a\"], [0.8888888888888888, \"#fdca26\"], [1.0, \"#f0f921\"]], \"sequentialminus\": [[0.0, \"#0d0887\"], [0.1111111111111111, \"#46039f\"], [0.2222222222222222, \"#7201a8\"], [0.3333333333333333, \"#9c179e\"], [0.4444444444444444, \"#bd3786\"], [0.5555555555555556, \"#d8576b\"], [0.6666666666666666, \"#ed7953\"], [0.7777777777777778, \"#fb9f3a\"], [0.8888888888888888, \"#fdca26\"], [1.0, \"#f0f921\"]]}, \"colorway\": [\"#636efa\", \"#EF553B\", \"#00cc96\", \"#ab63fa\", \"#FFA15A\", \"#19d3f3\", \"#FF6692\", \"#B6E880\", \"#FF97FF\", \"#FECB52\"], \"font\": {\"color\": \"#2a3f5f\"}, \"geo\": {\"bgcolor\": \"white\", \"lakecolor\": \"white\", \"landcolor\": \"#E5ECF6\", \"showlakes\": true, \"showland\": true, \"subunitcolor\": \"white\"}, \"hoverlabel\": {\"align\": \"left\"}, \"hovermode\": \"closest\", \"mapbox\": {\"style\": \"light\"}, \"paper_bgcolor\": \"white\", \"plot_bgcolor\": \"#E5ECF6\", \"polar\": {\"angularaxis\": {\"gridcolor\": \"white\", \"linecolor\": \"white\", \"ticks\": \"\"}, \"bgcolor\": \"#E5ECF6\", \"radialaxis\": {\"gridcolor\": \"white\", \"linecolor\": \"white\", \"ticks\": \"\"}}, \"scene\": {\"xaxis\": {\"backgroundcolor\": \"#E5ECF6\", \"gridcolor\": \"white\", \"gridwidth\": 2, \"linecolor\": \"white\", \"showbackground\": true, \"ticks\": \"\", \"zerolinecolor\": \"white\"}, \"yaxis\": {\"backgroundcolor\": \"#E5ECF6\", \"gridcolor\": \"white\", \"gridwidth\": 2, \"linecolor\": \"white\", \"showbackground\": true, \"ticks\": \"\", \"zerolinecolor\": \"white\"}, \"zaxis\": {\"backgroundcolor\": \"#E5ECF6\", \"gridcolor\": \"white\", \"gridwidth\": 2, \"linecolor\": \"white\", \"showbackground\": true, \"ticks\": \"\", \"zerolinecolor\": \"white\"}}, \"shapedefaults\": {\"line\": {\"color\": \"#2a3f5f\"}}, \"ternary\": {\"aaxis\": {\"gridcolor\": \"white\", \"linecolor\": \"white\", \"ticks\": \"\"}, \"baxis\": {\"gridcolor\": \"white\", \"linecolor\": \"white\", \"ticks\": \"\"}, \"bgcolor\": \"#E5ECF6\", \"caxis\": {\"gridcolor\": \"white\", \"linecolor\": \"white\", \"ticks\": \"\"}}, \"title\": {\"x\": 0.05}, \"xaxis\": {\"automargin\": true, \"gridcolor\": \"white\", \"linecolor\": \"white\", \"ticks\": \"\", \"title\": {\"standoff\": 15}, \"zerolinecolor\": \"white\", \"zerolinewidth\": 2}, \"yaxis\": {\"automargin\": true, \"gridcolor\": \"white\", \"linecolor\": \"white\", \"ticks\": \"\", \"title\": {\"standoff\": 15}, \"zerolinecolor\": \"white\", \"zerolinewidth\": 2}}}, \"xaxis\": {\"anchor\": \"y\", \"categoryarray\": [\"course\", \"other\", \"home\", \"reputation\"], \"categoryorder\": \"array\", \"domain\": [0.0, 1.0], \"title\": {\"text\": \"reason\"}}, \"yaxis\": {\"anchor\": \"x\", \"domain\": [0.0, 1.0], \"title\": {\"text\": \"G4\"}}},\n",
              "                        {\"responsive\": true}\n",
              "                    ).then(function(){\n",
              "                            \n",
              "var gd = document.getElementById('7be5d11c-9967-462b-b5f5-78834c59372e');\n",
              "var x = new MutationObserver(function (mutations, observer) {{\n",
              "        var display = window.getComputedStyle(gd).display;\n",
              "        if (!display || display === 'none') {{\n",
              "            console.log([gd, 'removed!']);\n",
              "            Plotly.purge(gd);\n",
              "            observer.disconnect();\n",
              "        }}\n",
              "}});\n",
              "\n",
              "// Listen for the removal of the full notebook cells\n",
              "var notebookContainer = gd.closest('#notebook-container');\n",
              "if (notebookContainer) {{\n",
              "    x.observe(notebookContainer, {childList: true});\n",
              "}}\n",
              "\n",
              "// Listen for the clearing of the current output cell\n",
              "var outputEl = gd.closest('.output');\n",
              "if (outputEl) {{\n",
              "    x.observe(outputEl, {childList: true});\n",
              "}}\n",
              "\n",
              "                        })\n",
              "                };\n",
              "                \n",
              "            </script>\n",
              "        </div>\n",
              "</body>\n",
              "</html>"
            ]
          },
          "metadata": {}
        }
      ]
    },
    {
      "cell_type": "markdown",
      "metadata": {
        "id": "26agV9nF0ySc"
      },
      "source": [
        "Судя по графику histogramm (график №1), различия лишь в кол-ве оценок, что в целом никак не зависит от причин. Это доказывается на графике scatter(график №2), на котором видно, что точки друг от друга равноудалены и равномерно распределены, то есть, для каждой оценки *G4* есть все причины *reason*.  "
      ]
    },
    {
      "cell_type": "markdown",
      "metadata": {
        "id": "OVgr8U96Ne3i"
      },
      "source": [
        "**Задание 7 (по желанию)**\n",
        "\n",
        "Творческая часть работы. Поищите другие закономерности в данных. По возможности постройте графики. Дайте содержательный комментарий."
      ]
    },
    {
      "cell_type": "markdown",
      "metadata": {
        "id": "gaM9xrwaeWdD"
      },
      "source": [
        "Рассматриваем зависимость оценок от кол-ва свободного времени и пропусков"
      ]
    },
    {
      "cell_type": "code",
      "metadata": {
        "id": "H3OsBNrrJeZI",
        "colab": {
          "base_uri": "https://localhost:8080/",
          "height": 542
        },
        "outputId": "47951d27-376e-46ed-a156-30bea20472ab"
      },
      "source": [
        "# fig = px.scatter_3d(data, x='G4', y='freetime', z='absences',       #рассматриваем график зависимости значений трёх столбцов\n",
        "#                     color='freetime', size='absences', size_max=40)    #выбираем цвет и размер каких данных будет меняться, а также максимальный размер точек\n",
        "# fig.show()"
      ],
      "execution_count": null,
      "outputs": [
        {
          "output_type": "display_data",
          "data": {
            "text/html": [
              "<html>\n",
              "<head><meta charset=\"utf-8\" /></head>\n",
              "<body>\n",
              "    <div>\n",
              "            <script src=\"https://cdnjs.cloudflare.com/ajax/libs/mathjax/2.7.5/MathJax.js?config=TeX-AMS-MML_SVG\"></script><script type=\"text/javascript\">if (window.MathJax) {MathJax.Hub.Config({SVG: {font: \"STIX-Web\"}});}</script>\n",
              "                <script type=\"text/javascript\">window.PlotlyConfig = {MathJaxConfig: 'local'};</script>\n",
              "        <script src=\"https://cdn.plot.ly/plotly-latest.min.js\"></script>    \n",
              "            <div id=\"38fab02f-fd8b-4931-b029-04476619ffea\" class=\"plotly-graph-div\" style=\"height:525px; width:100%;\"></div>\n",
              "            <script type=\"text/javascript\">\n",
              "                \n",
              "                    window.PLOTLYENV=window.PLOTLYENV || {};\n",
              "                    \n",
              "                if (document.getElementById(\"38fab02f-fd8b-4931-b029-04476619ffea\")) {\n",
              "                    Plotly.newPlot(\n",
              "                        '38fab02f-fd8b-4931-b029-04476619ffea',\n",
              "                        [{\"hoverlabel\": {\"namelength\": 0}, \"hovertemplate\": \"G4=%{x}<br>freetime=%{marker.color}<br>absences=%{marker.size}\", \"legendgroup\": \"\", \"marker\": {\"color\": [3, 3, 3, 2, 3, 4, 4, 1, 2, 5, 3, 2, 3, 4, 5, 4, 2, 3, 5, 1, 4, 4, 5, 4, 3, 2, 2, 2, 3, 4, 4, 3, 5, 3, 4, 5, 4, 4, 3, 3, 3, 4, 3, 4, 3, 2, 3, 2, 3, 4, 3, 3, 5, 3, 3, 3, 3, 2, 3, 2, 4, 5, 4, 4, 4, 4, 3, 3, 1, 4, 3, 3, 3, 3, 3, 3, 4, 2, 5, 4, 2, 3, 4, 3, 3, 4, 3, 3, 4, 1, 3, 5, 3, 3, 3, 1, 3, 3, 3, 3, 5, 4, 3, 3, 4, 3, 1, 3, 3, 4, 5, 1, 1, 5, 4, 4, 4, 4, 2, 4, 2, 5, 2, 4, 4, 5, 3, 4, 3, 5, 2, 3, 4, 2, 3, 3, 4, 3, 4, 3, 2, 3, 2, 4, 4, 4, 3, 3, 3, 5, 3, 4, 2, 5, 2, 4, 2, 2, 2, 5, 3, 4, 4, 3, 3, 5, 3, 2, 1, 4, 4, 3, 4, 3, 4, 4, 4, 3, 3, 2, 4, 2, 4, 3, 2, 3, 3, 2, 3, 1, 3, 3, 4, 3, 3, 3, 2, 3, 2, 5, 3, 4, 4, 3, 3, 4, 3, 3, 3, 4, 3, 3, 3, 4, 2, 4, 4, 2, 3, 3, 2, 3, 3, 3, 3, 3, 3, 3, 3, 2, 2, 5, 5, 2, 4, 3, 4, 5, 1, 5, 5, 3, 4, 3, 4, 3, 2, 4, 3, 3, 4, 3, 2, 3, 4, 4, 2, 3, 2, 4, 1, 3, 3, 2, 3, 2, 4, 3, 4, 3, 3, 5, 4, 5, 3, 4, 1, 2, 4, 2, 5, 4, 2, 4, 4, 3, 3, 3, 2, 4, 3, 2, 4, 1, 4, 4, 3, 4, 3, 4, 2, 1, 3, 2, 4, 4, 5, 3, 5, 4, 2, 4, 5, 2, 1, 1, 3, 3, 3, 4, 2, 2, 3, 4, 3, 3, 3, 4, 4, 3, 5, 4, 3, 3, 4, 4, 4, 3, 3, 3, 3, 3, 3, 3, 3, 4, 3, 4, 4, 5, 4, 5, 3, 4, 5, 3, 3, 2, 3, 3, 3, 4, 3, 3, 2, 3, 2, 2, 2, 2, 2, 3, 4, 5, 4, 3, 4, 4, 1, 5, 2, 4, 4, 3, 4, 3, 4, 4, 3, 1, 5, 4, 5, 4, 2, 3, 3, 3, 2, 3, 4, 4, 1, 2, 5, 3, 2, 3, 4, 5, 4, 2, 3, 5, 1, 4, 4, 5, 4, 3, 2, 2, 2, 3, 4, 4, 3, 5, 3, 4, 5, 4, 4, 3, 3, 3, 4, 3, 4, 3, 2, 3, 2, 3, 4, 3, 3, 5, 3, 3, 3, 3, 2, 3, 2, 4, 5, 4, 4, 4, 4, 3, 3, 1, 4, 3, 3, 3, 3, 3, 3, 4, 2, 5, 4, 2, 3, 4, 3, 3, 4, 3, 3, 4, 1, 3, 5, 3, 3, 3, 1, 3, 3, 3, 3, 5, 4, 3, 3, 4, 3, 1, 3, 3, 4, 5, 1, 1, 5, 4, 4, 4, 4, 2, 4, 2, 5, 2, 4, 4, 5, 3, 4, 5, 2, 2, 4, 2, 3, 4, 2, 2, 3, 3, 3, 4, 1, 3, 3, 3, 3, 4, 3, 5, 2, 3, 3, 3, 2, 4, 4, 4, 4, 3, 3, 3, 3, 5, 3, 4, 2, 5, 2, 4, 2, 2, 2, 5, 4, 3, 4, 4, 3, 3, 5, 3, 2, 1, 4, 4, 3, 4, 3, 4, 4, 4, 3, 3, 2, 4, 2, 4, 3, 2, 3, 3, 2, 3, 1, 3, 3, 4, 3, 3, 3, 2, 3, 2, 5, 3, 4, 4, 3, 3, 4, 3, 3, 3, 4, 3, 3, 3, 4, 2, 4, 4, 2, 3, 3, 2, 3, 3, 3, 3, 3, 3, 3, 3, 2, 2, 5, 5, 2, 4, 3, 4, 5, 3, 3, 3, 1, 4, 2, 4, 3, 3, 1, 5, 5, 1, 3, 3, 5, 3, 4, 3, 3, 3, 2, 3, 4, 3, 3, 2, 4, 3, 3, 4, 3, 2, 3, 4, 4, 3, 2, 3, 4, 3, 4, 2, 3, 2, 2, 4, 2, 1, 3, 3, 2, 3, 4, 2, 4, 3, 4, 3, 3, 5, 4, 5, 2, 3, 4, 1, 2, 4, 2, 3, 2, 4, 5, 4, 2, 4, 4, 3, 3, 3, 3, 2, 4, 3, 2, 1, 4, 4, 3, 4, 3, 4, 2, 1, 3, 3, 2, 3, 5, 5, 4, 3, 2, 4, 3, 2, 3, 1, 4, 4, 4, 3, 2, 3, 2, 2, 5, 3, 3, 2, 3, 4, 3, 5, 3, 3, 4, 4, 3, 2, 5, 3, 2, 4, 4, 3, 3, 4, 4, 3, 3, 3, 3, 3, 3, 3, 4, 3, 4, 4, 3, 3, 2, 1, 3, 4, 3, 3, 4, 2, 3, 2, 2, 4, 3, 1, 3, 1, 3, 1, 3, 4, 1, 4, 5, 3, 3, 4, 5, 4, 5, 2, 4, 4, 2, 5, 1, 4, 4, 3, 3, 4, 4, 3, 5, 2, 1, 5, 3, 4, 3, 3, 4, 4, 5, 3, 4, 3, 2, 2, 4, 4, 4, 2, 3, 3, 3, 5, 4, 3, 4, 2, 3, 4, 3, 4, 5, 4, 5, 2, 4, 3, 3, 4, 3, 3, 4, 2, 1, 3, 4, 4, 5, 4, 4, 3, 2, 3, 2, 3, 2, 4, 4, 3, 3, 4, 3, 3, 4, 3, 1, 1, 3, 3, 4, 3, 2, 3, 3, 3, 5, 2, 4, 2, 1, 1, 1, 1, 1, 2, 2, 1, 5, 4, 3, 3, 2, 3, 1, 3, 3, 1, 4, 2, 1, 5, 3, 1, 1, 4, 1, 5, 3, 4, 4, 5, 3, 5, 3, 4, 2, 5, 5, 3, 3, 2, 4, 4, 4, 5, 3, 4, 4, 5, 4, 5, 3, 4, 3, 4, 5, 4, 2, 5, 3, 2, 5, 4, 3, 4, 4, 3, 4, 3, 3, 1, 5, 2, 3, 4, 3, 4, 5, 2, 3, 2, 1, 5, 2, 5, 3, 3, 2, 3, 3, 3, 3, 3, 2, 3, 2, 2, 2, 2, 3, 4, 5, 4, 3, 3, 4, 1, 5, 2, 4, 4, 3, 4, 3, 5, 4, 4, 3, 1, 4, 4], \"coloraxis\": \"coloraxis\", \"size\": [6, 4, 10, 2, 4, 10, 0, 6, 0, 0, 0, 4, 2, 2, 0, 4, 6, 4, 16, 4, 0, 0, 2, 0, 2, 14, 2, 4, 4, 16, 0, 0, 0, 0, 0, 0, 2, 7, 2, 8, 25, 8, 2, 0, 14, 8, 12, 4, 2, 2, 2, 2, 6, 0, 6, 8, 0, 4, 2, 2, 6, 6, 4, 2, 0, 2, 4, 4, 2, 12, 0, 0, 2, 2, 54, 6, 8, 0, 2, 12, 2, 4, 10, 4, 2, 6, 4, 4, 12, 18, 0, 4, 4, 0, 6, 2, 2, 2, 6, 0, 14, 0, 4, 26, 0, 10, 8, 2, 6, 4, 6, 0, 6, 10, 8, 2, 2, 0, 20, 6, 2, 6, 2, 18, 0, 0, 0, 2, 0, 8, 0, 0, 12, 16, 0, 0, 0, 0, 0, 0, 0, 8, 2, 2, 0, 0, 0, 2, 0, 0, 0, 6, 8, 0, 0, 2, 8, 6, 2, 4, 0, 6, 0, 2, 0, 16, 4, 0, 0, 0, 0, 2, 0, 0, 4, 4, 2, 4, 10, 4, 10, 2, 0, 56, 14, 12, 2, 0, 6, 4, 10, 0, 12, 8, 0, 0, 4, 8, 24, 0, 2, 6, 4, 18, 6, 28, 5, 10, 6, 6, 10, 13, 0, 15, 12, 2, 22, 13, 3, 4, 2, 0, 2, 0, 0, 16, 10, 2, 14, 10, 14, 4, 14, 2, 18, 10, 4, 20, 2, 0, 14, 2, 0, 0, 0, 6, 4, 16, 8, 0, 0, 6, 4, 0, 0, 2, 6, 12, 8, 0, 21, 2, 1, 4, 0, 13, 2, 8, 10, 0, 15, 4, 2, 2, 2, 6, 75, 22, 15, 8, 30, 19, 1, 4, 4, 2, 5, 6, 6, 9, 11, 0, 12, 6, 8, 4, 0, 10, 0, 5, 14, 0, 0, 0, 20, 8, 0, 38, 0, 18, 0, 20, 3, 22, 14, 40, 0, 9, 0, 2, 23, 12, 3, 1, 0, 3, 3, 8, 7, 4, 2, 7, 0, 0, 0, 16, 12, 0, 7, 4, 4, 0, 11, 0, 4, 7, 9, 0, 0, 10, 8, 2, 7, 4, 4, 0, 4, 2, 4, 0, 0, 2, 0, 0, 0, 4, 0, 0, 0, 10, 4, 3, 8, 14, 0, 2, 4, 4, 0, 17, 4, 5, 2, 0, 14, 2, 7, 0, 0, 0, 11, 3, 3, 0, 5, 4, 2, 6, 0, 0, 6, 0, 2, 0, 0, 2, 0, 0, 0, 0, 6, 10, 2, 2, 6, 0, 0, 0, 2, 2, 6, 8, 0, 2, 4, 0, 2, 0, 0, 4, 4, 0, 4, 2, 8, 16, 8, 0, 0, 14, 4, 6, 2, 4, 2, 0, 0, 4, 0, 0, 2, 0, 8, 0, 2, 0, 0, 0, 0, 0, 2, 0, 0, 0, 6, 2, 0, 2, 0, 4, 0, 0, 1, 0, 14, 0, 2, 4, 2, 2, 4, 6, 4, 6, 6, 2, 6, 0, 2, 2, 4, 6, 0, 4, 2, 12, 0, 2, 16, 0, 10, 4, 4, 8, 2, 4, 4, 12, 10, 4, 6, 4, 6, 14, 2, 0, 6, 2, 4, 0, 2, 0, 0, 8, 4, 0, 10, 8, 6, 2, 12, 4, 12, 2, 4, 2, 0, 2, 10, 8, 4, 0, 6, 2, 6, 24, 0, 4, 2, 4, 22, 0, 0, 2, 6, 6, 16, 0, 0, 6, 2, 6, 0, 0, 14, 6, 4, 0, 0, 8, 4, 2, 2, 0, 10, 0, 0, 0, 0, 4, 0, 0, 0, 0, 0, 0, 4, 8, 4, 4, 0, 0, 32, 8, 6, 0, 0, 10, 6, 6, 0, 16, 0, 0, 8, 4, 16, 30, 0, 2, 4, 0, 21, 6, 14, 2, 4, 2, 0, 4, 15, 0, 10, 6, 2, 16, 10, 4, 0, 0, 12, 0, 9, 4, 4, 2, 0, 2, 0, 0, 0, 0, 0, 2, 0, 0, 4, 0, 18, 16, 14, 26, 6, 4, 10, 4, 2, 14, 16, 8, 4, 4, 8, 0, 7, 4, 2, 2, 10, 10, 10, 7, 4, 2, 12, 8, 0, 8, 4, 4, 2, 0, 0, 2, 2, 0, 4, 2, 4, 4, 4, 2, 0, 2, 8, 2, 2, 2, 2, 0, 8, 6, 0, 8, 4, 12, 16, 10, 2, 2, 8, 6, 6, 15, 6, 2, 8, 0, 0, 10, 22, 18, 2, 0, 12, 10, 0, 0, 0, 0, 0, 2, 0, 0, 0, 0, 2, 0, 0, 0, 0, 0, 0, 0, 0, 0, 0, 0, 2, 2, 2, 2, 2, 8, 2, 8, 9, 0, 4, 2, 14, 0, 2, 2, 12, 2, 2, 4, 0, 0, 0, 0, 0, 0, 2, 0, 4, 2, 0, 0, 2, 0, 6, 8, 0, 6, 8, 0, 4, 0, 0, 6, 18, 0, 4, 4, 0, 0, 10, 4, 16, 6, 0, 11, 9, 0, 2, 0, 21, 8, 5, 10, 5, 13, 10, 10, 5, 4, 11, 0, 6, 4, 0, 0, 5, 0, 0, 0, 0, 4, 0, 4, 0, 2, 0, 0, 4, 0, 7, 4, 8, 0, 8, 6, 3, 2, 0, 4, 0, 3, 0, 0, 4, 0, 2, 1, 0, 0, 2, 6, 9, 0, 1, 1, 0, 4, 2, 0, 4, 2, 0, 2, 11, 0, 4, 0, 2, 0, 1, 6, 0, 1, 6, 6, 0, 4, 12, 2, 5, 0, 0, 2, 0, 0, 0, 12, 8, 2, 0, 0, 0, 8, 0, 0, 0, 0, 1, 9, 0, 2, 8, 0, 0, 8, 0, 6, 0, 4, 2, 2, 0, 1, 0, 5, 1, 8, 0, 2, 0, 0, 11, 8, 11, 2, 8, 5, 0, 1, 2, 2, 8, 0, 0, 2, 0, 0, 0, 2, 4, 3, 5, 4, 2, 0, 0, 0, 6, 0, 0, 2, 0, 2, 0, 4, 9, 6, 4, 8, 9, 12, 8, 8, 8, 4, 0, 4, 2, 0, 0, 0, 5, 0, 3, 0, 0, 3, 2, 0, 0, 0, 3, 0, 0, 8, 5, 4, 4, 0, 0, 2, 0, 0, 5, 2, 0, 0, 5, 4, 0, 2, 0, 2, 0, 0, 6, 4, 0, 0, 0, 0, 0, 0, 3, 8, 4, 0, 4, 4, 1, 1, 10, 4, 0, 4, 0, 0, 0, 0, 4, 4, 4, 6, 6, 4], \"sizemode\": \"area\", \"sizeref\": 0.046875, \"symbol\": \"circle\"}, \"mode\": \"markers\", \"name\": \"\", \"scene\": \"scene\", \"showlegend\": false, \"type\": \"scatter3d\", \"x\": [\"2\", \"2\", \"3\", \"4\", \"3\", \"4\", \"3\", \"2\", \"5\", \"4\", \"3\", \"3\", \"4\", \"3\", \"4\", \"4\", \"4\", \"3\", \"2\", \"3\", \"4\", \"4\", \"4\", \"3\", \"3\", \"3\", \"3\", \"4\", \"3\", \"3\", \"3\", \"4\", \"4\", \"3\", \"4\", \"2\", \"5\", \"4\", \"3\", \"3\", \"3\", \"3\", \"5\", \"3\", \"3\", \"2\", \"3\", \"5\", \"4\", \"2\", \"3\", \"3\", \"3\", \"3\", \"3\", \"3\", \"4\", \"4\", \"3\", \"4\", \"3\", \"3\", \"3\", \"3\", \"3\", \"4\", \"3\", \"2\", \"3\", \"4\", \"4\", \"3\", \"2\", \"4\", \"3\", \"3\", \"3\", \"3\", \"3\", \"2\", \"3\", \"3\", \"2\", \"4\", \"3\", \"3\", \"2\", \"4\", \"3\", \"2\", \"3\", \"5\", \"2\", \"3\", \"4\", \"3\", \"4\", \"3\", \"4\", \"3\", \"2\", \"4\", \"4\", \"2\", \"5\", \"3\", \"3\", \"5\", \"3\", \"4\", \"5\", \"3\", \"3\", \"5\", \"3\", \"4\", \"4\", \"3\", \"3\", \"3\", \"4\", \"4\", \"3\", \"3\", \"3\", \"3\", \"3\", \"3\", \"2\", \"5\", \"2\", \"2\", \"3\", \"3\", \"2\", \"2\", \"2\", \"2\", \"3\", \"4\", \"2\", \"3\", \"3\", \"3\", \"2\", \"3\", \"2\", \"3\", \"2\", \"3\", \"2\", \"4\", \"3\", \"2\", \"3\", \"3\", \"3\", \"3\", \"4\", \"3\", \"2\", \"2\", \"2\", \"3\", \"2\", \"3\", \"3\", \"4\", \"2\", \"4\", \"2\", \"4\", \"3\", \"2\", \"3\", \"3\", \"3\", \"2\", \"3\", \"3\", \"3\", \"3\", \"4\", \"3\", \"3\", \"3\", \"3\", \"4\", \"3\", \"3\", \"3\", \"3\", \"3\", \"3\", \"4\", \"4\", \"4\", \"3\", \"5\", \"3\", \"4\", \"3\", \"3\", \"2\", \"3\", \"3\", \"2\", \"3\", \"3\", \"2\", \"3\", \"3\", \"4\", \"3\", \"3\", \"4\", \"2\", \"3\", \"3\", \"3\", \"2\", \"2\", \"4\", \"3\", \"4\", \"2\", \"4\", \"3\", \"3\", \"3\", \"4\", \"3\", \"3\", \"3\", \"2\", \"3\", \"3\", \"3\", \"3\", \"2\", \"3\", \"3\", \"2\", \"3\", \"2\", \"5\", \"3\", \"3\", \"2\", \"4\", \"3\", \"3\", \"3\", \"3\", \"3\", \"3\", \"3\", \"3\", \"4\", \"2\", \"5\", \"3\", \"3\", \"3\", \"2\", \"4\", \"3\", \"3\", \"3\", \"2\", \"3\", \"4\", \"3\", \"4\", \"3\", \"3\", \"3\", \"3\", \"3\", \"3\", \"3\", \"3\", \"3\", \"3\", \"3\", \"3\", \"5\", \"3\", \"4\", \"4\", \"3\", \"4\", \"3\", \"5\", \"4\", \"3\", \"2\", \"3\", \"4\", \"4\", \"3\", \"3\", \"4\", \"5\", \"3\", \"3\", \"5\", \"3\", \"3\", \"3\", \"2\", \"3\", \"3\", \"3\", \"3\", \"3\", \"2\", \"3\", \"3\", \"3\", \"3\", \"3\", \"3\", \"4\", \"4\", \"3\", \"4\", \"3\", \"3\", \"4\", \"3\", \"4\", \"2\", \"2\", \"2\", \"4\", \"3\", \"2\", \"4\", \"3\", \"3\", \"2\", \"4\", \"2\", \"3\", \"4\", \"4\", \"3\", \"4\", \"3\", \"3\", \"3\", \"3\", \"3\", \"3\", \"3\", \"3\", \"3\", \"3\", \"4\", \"3\", \"3\", \"3\", \"4\", \"3\", \"3\", \"3\", \"2\", \"3\", \"3\", \"3\", \"3\", \"3\", \"2\", \"5\", \"3\", \"4\", \"3\", \"4\", \"3\", \"4\", \"2\", \"3\", \"2\", \"2\", \"3\", \"2\", \"2\", \"3\", \"2\", \"3\", \"4\", \"2\", \"3\", \"3\", \"3\", \"3\", \"3\", \"4\", \"3\", \"3\", \"3\", \"3\", \"4\", \"3\", \"4\", \"3\", \"3\", \"3\", \"4\", \"4\", \"4\", \"4\", \"2\", \"3\", \"4\", \"3\", \"4\", \"3\", \"3\", \"3\", \"3\", \"3\", \"3\", \"3\", \"3\", \"4\", \"4\", \"3\", \"3\", \"3\", \"4\", \"3\", \"3\", \"3\", \"3\", \"3\", \"4\", \"3\", \"3\", \"3\", \"3\", \"4\", \"3\", \"3\", \"3\", \"4\", \"3\", \"3\", \"3\", \"3\", \"4\", \"4\", \"4\", \"4\", \"4\", \"4\", \"3\", \"3\", \"3\", \"4\", \"3\", \"3\", \"3\", \"4\", \"3\", \"3\", \"3\", \"4\", \"3\", \"3\", \"3\", \"3\", \"3\", \"3\", \"3\", \"3\", \"3\", \"3\", \"3\", \"3\", \"3\", \"4\", \"3\", \"3\", \"3\", \"3\", \"3\", \"4\", \"3\", \"3\", \"3\", \"3\", \"3\", \"3\", \"3\", \"4\", \"3\", \"3\", \"4\", \"3\", \"3\", \"4\", \"3\", \"4\", \"4\", \"3\", \"3\", \"5\", \"3\", \"4\", \"4\", \"4\", \"3\", \"4\", \"4\", \"3\", \"3\", \"3\", \"3\", \"3\", \"3\", \"3\", \"4\", \"3\", \"3\", \"3\", \"3\", \"3\", \"3\", \"4\", \"3\", \"3\", \"3\", \"4\", \"3\", \"3\", \"3\", \"3\", \"3\", \"3\", \"3\", \"4\", \"3\", \"3\", \"3\", \"3\", \"3\", \"3\", \"3\", \"2\", \"3\", \"3\", \"3\", \"3\", \"3\", \"3\", \"3\", \"2\", \"3\", \"3\", \"3\", \"3\", \"3\", \"3\", \"3\", \"3\", \"2\", \"3\", \"3\", \"3\", \"3\", \"3\", \"3\", \"3\", \"3\", \"5\", \"3\", \"4\", \"3\", \"5\", \"3\", \"3\", \"4\", \"3\", \"4\", \"3\", \"3\", \"3\", \"3\", \"3\", \"4\", \"4\", \"4\", \"4\", \"3\", \"4\", \"4\", \"3\", \"3\", \"3\", \"3\", \"3\", \"3\", \"4\", \"4\", \"3\", \"4\", \"3\", \"4\", \"3\", \"4\", \"3\", \"3\", \"3\", \"3\", \"4\", \"3\", \"3\", \"3\", \"3\", \"3\", \"3\", \"3\", \"4\", \"3\", \"3\", \"3\", \"3\", \"3\", \"3\", \"4\", \"3\", \"4\", \"3\", \"4\", \"3\", \"3\", \"4\", \"3\", \"3\", \"3\", \"4\", \"3\", \"3\", \"4\", \"3\", \"3\", \"3\", \"3\", \"2\", \"3\", \"3\", \"4\", \"3\", \"3\", \"3\", \"3\", \"3\", \"3\", \"4\", \"4\", \"4\", \"3\", \"4\", \"4\", \"3\", \"4\", \"3\", \"3\", \"3\", \"4\", \"3\", \"3\", \"2\", \"3\", \"3\", \"2\", \"3\", \"2\", \"3\", \"3\", \"3\", \"3\", \"4\", \"3\", \"3\", \"4\", \"4\", \"3\", \"4\", \"4\", \"3\", \"3\", \"3\", \"4\", \"3\", \"3\", \"3\", \"3\", \"3\", \"4\", \"4\", \"3\", \"4\", \"3\", \"3\", \"4\", \"3\", \"5\", \"4\", \"4\", \"3\", \"3\", \"3\", \"3\", \"4\", \"3\", \"3\", \"3\", \"3\", \"3\", \"5\", \"3\", \"4\", \"4\", \"3\", \"5\", \"4\", \"4\", \"4\", \"4\", \"5\", \"5\", \"4\", \"4\", \"3\", \"4\", \"4\", \"4\", \"4\", \"3\", \"3\", \"4\", \"5\", \"3\", \"4\", \"3\", \"3\", \"4\", \"4\", \"4\", \"4\", \"4\", \"4\", \"4\", \"3\", \"3\", \"4\", \"4\", \"4\", \"3\", \"4\", \"3\", \"3\", \"3\", \"3\", \"3\", \"3\", \"4\", \"4\", \"4\", \"3\", \"4\", \"3\", \"3\", \"4\", \"3\", \"3\", \"3\", \"3\", \"4\", \"4\", \"3\", \"3\", \"4\", \"4\", \"4\", \"4\", \"4\", \"3\", \"4\", \"4\", \"4\", \"4\", \"4\", \"4\", \"3\", \"4\", \"4\", \"3\", \"3\", \"3\", \"3\", \"4\", \"4\", \"4\", \"4\", \"3\", \"4\", \"3\", \"5\", \"4\", \"4\", \"3\", \"4\", \"3\", \"3\", \"3\", \"3\", \"3\", \"3\", \"4\", \"3\", \"3\", \"3\", \"3\", \"2\", \"4\", \"3\", \"3\", \"3\", \"3\", \"3\", \"4\", \"2\", \"3\", \"4\", \"3\", \"3\", \"3\", \"3\", \"3\", \"4\", \"3\", \"4\", \"3\", \"3\", \"3\", \"3\", \"3\", \"4\", \"3\", \"3\", \"3\", \"3\", \"4\", \"4\", \"3\", \"3\", \"3\", \"3\", \"4\", \"3\", \"3\", \"3\", \"3\", \"4\", \"3\", \"3\", \"4\", \"3\", \"3\", \"3\", \"3\", \"3\", \"3\", \"3\", \"3\", \"3\", \"3\", \"3\", \"3\", \"3\", \"3\", \"3\", \"3\", \"3\", \"3\", \"3\", \"3\", \"4\", \"3\", \"4\", \"4\", \"2\", \"3\", \"3\", \"4\", \"3\", \"3\", \"3\", \"3\", \"3\", \"5\", \"4\", \"3\", \"2\", \"3\", \"2\", \"3\", \"4\", \"4\", \"3\", \"2\", \"3\", \"3\", \"3\", \"2\", \"3\", \"4\", \"4\", \"3\", \"3\", \"3\", \"3\", \"3\", \"3\", \"4\", \"3\", \"3\", \"4\", \"3\", \"3\", \"3\", \"3\", \"3\", \"3\", \"3\", \"3\", \"3\", \"4\", \"3\", \"3\", \"5\", \"3\", \"3\", \"3\", \"3\", \"3\", \"3\", \"3\", \"3\", \"3\", \"3\", \"3\", \"3\", \"3\", \"2\", \"3\", \"3\", \"3\", \"2\", \"3\", \"3\", \"3\", \"3\", \"2\", \"3\", \"3\", \"3\", \"3\", \"3\", \"3\", \"3\", \"3\", \"3\", \"2\", \"2\", \"3\", \"3\", \"2\", \"3\", \"3\", \"3\", \"2\", \"4\", \"3\", \"4\", \"5\", \"4\", \"5\", \"2\", \"3\", \"4\", \"4\", \"3\", \"3\", \"2\", \"3\", \"2\", \"5\", \"3\", \"3\", \"3\", \"2\", \"4\", \"3\", \"3\", \"3\", \"4\", \"4\", \"5\", \"4\", \"3\", \"4\", \"3\", \"3\", \"4\", \"3\", \"3\", \"2\", \"3\", \"3\", \"3\", \"4\", \"3\", \"3\", \"4\", \"4\", \"3\", \"5\", \"2\", \"4\", \"2\", \"2\", \"4\", \"3\", \"3\", \"3\", \"4\", \"3\", \"3\", \"3\"], \"y\": [3, 3, 3, 2, 3, 4, 4, 1, 2, 5, 3, 2, 3, 4, 5, 4, 2, 3, 5, 1, 4, 4, 5, 4, 3, 2, 2, 2, 3, 4, 4, 3, 5, 3, 4, 5, 4, 4, 3, 3, 3, 4, 3, 4, 3, 2, 3, 2, 3, 4, 3, 3, 5, 3, 3, 3, 3, 2, 3, 2, 4, 5, 4, 4, 4, 4, 3, 3, 1, 4, 3, 3, 3, 3, 3, 3, 4, 2, 5, 4, 2, 3, 4, 3, 3, 4, 3, 3, 4, 1, 3, 5, 3, 3, 3, 1, 3, 3, 3, 3, 5, 4, 3, 3, 4, 3, 1, 3, 3, 4, 5, 1, 1, 5, 4, 4, 4, 4, 2, 4, 2, 5, 2, 4, 4, 5, 3, 4, 3, 5, 2, 3, 4, 2, 3, 3, 4, 3, 4, 3, 2, 3, 2, 4, 4, 4, 3, 3, 3, 5, 3, 4, 2, 5, 2, 4, 2, 2, 2, 5, 3, 4, 4, 3, 3, 5, 3, 2, 1, 4, 4, 3, 4, 3, 4, 4, 4, 3, 3, 2, 4, 2, 4, 3, 2, 3, 3, 2, 3, 1, 3, 3, 4, 3, 3, 3, 2, 3, 2, 5, 3, 4, 4, 3, 3, 4, 3, 3, 3, 4, 3, 3, 3, 4, 2, 4, 4, 2, 3, 3, 2, 3, 3, 3, 3, 3, 3, 3, 3, 2, 2, 5, 5, 2, 4, 3, 4, 5, 1, 5, 5, 3, 4, 3, 4, 3, 2, 4, 3, 3, 4, 3, 2, 3, 4, 4, 2, 3, 2, 4, 1, 3, 3, 2, 3, 2, 4, 3, 4, 3, 3, 5, 4, 5, 3, 4, 1, 2, 4, 2, 5, 4, 2, 4, 4, 3, 3, 3, 2, 4, 3, 2, 4, 1, 4, 4, 3, 4, 3, 4, 2, 1, 3, 2, 4, 4, 5, 3, 5, 4, 2, 4, 5, 2, 1, 1, 3, 3, 3, 4, 2, 2, 3, 4, 3, 3, 3, 4, 4, 3, 5, 4, 3, 3, 4, 4, 4, 3, 3, 3, 3, 3, 3, 3, 3, 4, 3, 4, 4, 5, 4, 5, 3, 4, 5, 3, 3, 2, 3, 3, 3, 4, 3, 3, 2, 3, 2, 2, 2, 2, 2, 3, 4, 5, 4, 3, 4, 4, 1, 5, 2, 4, 4, 3, 4, 3, 4, 4, 3, 1, 5, 4, 5, 4, 2, 3, 3, 3, 2, 3, 4, 4, 1, 2, 5, 3, 2, 3, 4, 5, 4, 2, 3, 5, 1, 4, 4, 5, 4, 3, 2, 2, 2, 3, 4, 4, 3, 5, 3, 4, 5, 4, 4, 3, 3, 3, 4, 3, 4, 3, 2, 3, 2, 3, 4, 3, 3, 5, 3, 3, 3, 3, 2, 3, 2, 4, 5, 4, 4, 4, 4, 3, 3, 1, 4, 3, 3, 3, 3, 3, 3, 4, 2, 5, 4, 2, 3, 4, 3, 3, 4, 3, 3, 4, 1, 3, 5, 3, 3, 3, 1, 3, 3, 3, 3, 5, 4, 3, 3, 4, 3, 1, 3, 3, 4, 5, 1, 1, 5, 4, 4, 4, 4, 2, 4, 2, 5, 2, 4, 4, 5, 3, 4, 5, 2, 2, 4, 2, 3, 4, 2, 2, 3, 3, 3, 4, 1, 3, 3, 3, 3, 4, 3, 5, 2, 3, 3, 3, 2, 4, 4, 4, 4, 3, 3, 3, 3, 5, 3, 4, 2, 5, 2, 4, 2, 2, 2, 5, 4, 3, 4, 4, 3, 3, 5, 3, 2, 1, 4, 4, 3, 4, 3, 4, 4, 4, 3, 3, 2, 4, 2, 4, 3, 2, 3, 3, 2, 3, 1, 3, 3, 4, 3, 3, 3, 2, 3, 2, 5, 3, 4, 4, 3, 3, 4, 3, 3, 3, 4, 3, 3, 3, 4, 2, 4, 4, 2, 3, 3, 2, 3, 3, 3, 3, 3, 3, 3, 3, 2, 2, 5, 5, 2, 4, 3, 4, 5, 3, 3, 3, 1, 4, 2, 4, 3, 3, 1, 5, 5, 1, 3, 3, 5, 3, 4, 3, 3, 3, 2, 3, 4, 3, 3, 2, 4, 3, 3, 4, 3, 2, 3, 4, 4, 3, 2, 3, 4, 3, 4, 2, 3, 2, 2, 4, 2, 1, 3, 3, 2, 3, 4, 2, 4, 3, 4, 3, 3, 5, 4, 5, 2, 3, 4, 1, 2, 4, 2, 3, 2, 4, 5, 4, 2, 4, 4, 3, 3, 3, 3, 2, 4, 3, 2, 1, 4, 4, 3, 4, 3, 4, 2, 1, 3, 3, 2, 3, 5, 5, 4, 3, 2, 4, 3, 2, 3, 1, 4, 4, 4, 3, 2, 3, 2, 2, 5, 3, 3, 2, 3, 4, 3, 5, 3, 3, 4, 4, 3, 2, 5, 3, 2, 4, 4, 3, 3, 4, 4, 3, 3, 3, 3, 3, 3, 3, 4, 3, 4, 4, 3, 3, 2, 1, 3, 4, 3, 3, 4, 2, 3, 2, 2, 4, 3, 1, 3, 1, 3, 1, 3, 4, 1, 4, 5, 3, 3, 4, 5, 4, 5, 2, 4, 4, 2, 5, 1, 4, 4, 3, 3, 4, 4, 3, 5, 2, 1, 5, 3, 4, 3, 3, 4, 4, 5, 3, 4, 3, 2, 2, 4, 4, 4, 2, 3, 3, 3, 5, 4, 3, 4, 2, 3, 4, 3, 4, 5, 4, 5, 2, 4, 3, 3, 4, 3, 3, 4, 2, 1, 3, 4, 4, 5, 4, 4, 3, 2, 3, 2, 3, 2, 4, 4, 3, 3, 4, 3, 3, 4, 3, 1, 1, 3, 3, 4, 3, 2, 3, 3, 3, 5, 2, 4, 2, 1, 1, 1, 1, 1, 2, 2, 1, 5, 4, 3, 3, 2, 3, 1, 3, 3, 1, 4, 2, 1, 5, 3, 1, 1, 4, 1, 5, 3, 4, 4, 5, 3, 5, 3, 4, 2, 5, 5, 3, 3, 2, 4, 4, 4, 5, 3, 4, 4, 5, 4, 5, 3, 4, 3, 4, 5, 4, 2, 5, 3, 2, 5, 4, 3, 4, 4, 3, 4, 3, 3, 1, 5, 2, 3, 4, 3, 4, 5, 2, 3, 2, 1, 5, 2, 5, 3, 3, 2, 3, 3, 3, 3, 3, 2, 3, 2, 2, 2, 2, 3, 4, 5, 4, 3, 3, 4, 1, 5, 2, 4, 4, 3, 4, 3, 5, 4, 4, 3, 1, 4, 4], \"z\": [6, 4, 10, 2, 4, 10, 0, 6, 0, 0, 0, 4, 2, 2, 0, 4, 6, 4, 16, 4, 0, 0, 2, 0, 2, 14, 2, 4, 4, 16, 0, 0, 0, 0, 0, 0, 2, 7, 2, 8, 25, 8, 2, 0, 14, 8, 12, 4, 2, 2, 2, 2, 6, 0, 6, 8, 0, 4, 2, 2, 6, 6, 4, 2, 0, 2, 4, 4, 2, 12, 0, 0, 2, 2, 54, 6, 8, 0, 2, 12, 2, 4, 10, 4, 2, 6, 4, 4, 12, 18, 0, 4, 4, 0, 6, 2, 2, 2, 6, 0, 14, 0, 4, 26, 0, 10, 8, 2, 6, 4, 6, 0, 6, 10, 8, 2, 2, 0, 20, 6, 2, 6, 2, 18, 0, 0, 0, 2, 0, 8, 0, 0, 12, 16, 0, 0, 0, 0, 0, 0, 0, 8, 2, 2, 0, 0, 0, 2, 0, 0, 0, 6, 8, 0, 0, 2, 8, 6, 2, 4, 0, 6, 0, 2, 0, 16, 4, 0, 0, 0, 0, 2, 0, 0, 4, 4, 2, 4, 10, 4, 10, 2, 0, 56, 14, 12, 2, 0, 6, 4, 10, 0, 12, 8, 0, 0, 4, 8, 24, 0, 2, 6, 4, 18, 6, 28, 5, 10, 6, 6, 10, 13, 0, 15, 12, 2, 22, 13, 3, 4, 2, 0, 2, 0, 0, 16, 10, 2, 14, 10, 14, 4, 14, 2, 18, 10, 4, 20, 2, 0, 14, 2, 0, 0, 0, 6, 4, 16, 8, 0, 0, 6, 4, 0, 0, 2, 6, 12, 8, 0, 21, 2, 1, 4, 0, 13, 2, 8, 10, 0, 15, 4, 2, 2, 2, 6, 75, 22, 15, 8, 30, 19, 1, 4, 4, 2, 5, 6, 6, 9, 11, 0, 12, 6, 8, 4, 0, 10, 0, 5, 14, 0, 0, 0, 20, 8, 0, 38, 0, 18, 0, 20, 3, 22, 14, 40, 0, 9, 0, 2, 23, 12, 3, 1, 0, 3, 3, 8, 7, 4, 2, 7, 0, 0, 0, 16, 12, 0, 7, 4, 4, 0, 11, 0, 4, 7, 9, 0, 0, 10, 8, 2, 7, 4, 4, 0, 4, 2, 4, 0, 0, 2, 0, 0, 0, 4, 0, 0, 0, 10, 4, 3, 8, 14, 0, 2, 4, 4, 0, 17, 4, 5, 2, 0, 14, 2, 7, 0, 0, 0, 11, 3, 3, 0, 5, 4, 2, 6, 0, 0, 6, 0, 2, 0, 0, 2, 0, 0, 0, 0, 6, 10, 2, 2, 6, 0, 0, 0, 2, 2, 6, 8, 0, 2, 4, 0, 2, 0, 0, 4, 4, 0, 4, 2, 8, 16, 8, 0, 0, 14, 4, 6, 2, 4, 2, 0, 0, 4, 0, 0, 2, 0, 8, 0, 2, 0, 0, 0, 0, 0, 2, 0, 0, 0, 6, 2, 0, 2, 0, 4, 0, 0, 1, 0, 14, 0, 2, 4, 2, 2, 4, 6, 4, 6, 6, 2, 6, 0, 2, 2, 4, 6, 0, 4, 2, 12, 0, 2, 16, 0, 10, 4, 4, 8, 2, 4, 4, 12, 10, 4, 6, 4, 6, 14, 2, 0, 6, 2, 4, 0, 2, 0, 0, 8, 4, 0, 10, 8, 6, 2, 12, 4, 12, 2, 4, 2, 0, 2, 10, 8, 4, 0, 6, 2, 6, 24, 0, 4, 2, 4, 22, 0, 0, 2, 6, 6, 16, 0, 0, 6, 2, 6, 0, 0, 14, 6, 4, 0, 0, 8, 4, 2, 2, 0, 10, 0, 0, 0, 0, 4, 0, 0, 0, 0, 0, 0, 4, 8, 4, 4, 0, 0, 32, 8, 6, 0, 0, 10, 6, 6, 0, 16, 0, 0, 8, 4, 16, 30, 0, 2, 4, 0, 21, 6, 14, 2, 4, 2, 0, 4, 15, 0, 10, 6, 2, 16, 10, 4, 0, 0, 12, 0, 9, 4, 4, 2, 0, 2, 0, 0, 0, 0, 0, 2, 0, 0, 4, 0, 18, 16, 14, 26, 6, 4, 10, 4, 2, 14, 16, 8, 4, 4, 8, 0, 7, 4, 2, 2, 10, 10, 10, 7, 4, 2, 12, 8, 0, 8, 4, 4, 2, 0, 0, 2, 2, 0, 4, 2, 4, 4, 4, 2, 0, 2, 8, 2, 2, 2, 2, 0, 8, 6, 0, 8, 4, 12, 16, 10, 2, 2, 8, 6, 6, 15, 6, 2, 8, 0, 0, 10, 22, 18, 2, 0, 12, 10, 0, 0, 0, 0, 0, 2, 0, 0, 0, 0, 2, 0, 0, 0, 0, 0, 0, 0, 0, 0, 0, 0, 2, 2, 2, 2, 2, 8, 2, 8, 9, 0, 4, 2, 14, 0, 2, 2, 12, 2, 2, 4, 0, 0, 0, 0, 0, 0, 2, 0, 4, 2, 0, 0, 2, 0, 6, 8, 0, 6, 8, 0, 4, 0, 0, 6, 18, 0, 4, 4, 0, 0, 10, 4, 16, 6, 0, 11, 9, 0, 2, 0, 21, 8, 5, 10, 5, 13, 10, 10, 5, 4, 11, 0, 6, 4, 0, 0, 5, 0, 0, 0, 0, 4, 0, 4, 0, 2, 0, 0, 4, 0, 7, 4, 8, 0, 8, 6, 3, 2, 0, 4, 0, 3, 0, 0, 4, 0, 2, 1, 0, 0, 2, 6, 9, 0, 1, 1, 0, 4, 2, 0, 4, 2, 0, 2, 11, 0, 4, 0, 2, 0, 1, 6, 0, 1, 6, 6, 0, 4, 12, 2, 5, 0, 0, 2, 0, 0, 0, 12, 8, 2, 0, 0, 0, 8, 0, 0, 0, 0, 1, 9, 0, 2, 8, 0, 0, 8, 0, 6, 0, 4, 2, 2, 0, 1, 0, 5, 1, 8, 0, 2, 0, 0, 11, 8, 11, 2, 8, 5, 0, 1, 2, 2, 8, 0, 0, 2, 0, 0, 0, 2, 4, 3, 5, 4, 2, 0, 0, 0, 6, 0, 0, 2, 0, 2, 0, 4, 9, 6, 4, 8, 9, 12, 8, 8, 8, 4, 0, 4, 2, 0, 0, 0, 5, 0, 3, 0, 0, 3, 2, 0, 0, 0, 3, 0, 0, 8, 5, 4, 4, 0, 0, 2, 0, 0, 5, 2, 0, 0, 5, 4, 0, 2, 0, 2, 0, 0, 6, 4, 0, 0, 0, 0, 0, 0, 3, 8, 4, 0, 4, 4, 1, 1, 10, 4, 0, 4, 0, 0, 0, 0, 4, 4, 4, 6, 6, 4]}],\n",
              "                        {\"coloraxis\": {\"colorbar\": {\"title\": {\"text\": \"freetime\"}}, \"colorscale\": [[0.0, \"#0d0887\"], [0.1111111111111111, \"#46039f\"], [0.2222222222222222, \"#7201a8\"], [0.3333333333333333, \"#9c179e\"], [0.4444444444444444, \"#bd3786\"], [0.5555555555555556, \"#d8576b\"], [0.6666666666666666, \"#ed7953\"], [0.7777777777777778, \"#fb9f3a\"], [0.8888888888888888, \"#fdca26\"], [1.0, \"#f0f921\"]]}, \"legend\": {\"itemsizing\": \"constant\", \"tracegroupgap\": 0}, \"margin\": {\"t\": 60}, \"scene\": {\"domain\": {\"x\": [0.0, 1.0], \"y\": [0.0, 1.0]}, \"xaxis\": {\"title\": {\"text\": \"G4\"}}, \"yaxis\": {\"title\": {\"text\": \"freetime\"}}, \"zaxis\": {\"title\": {\"text\": \"absences\"}}}, \"template\": {\"data\": {\"bar\": [{\"error_x\": {\"color\": \"#2a3f5f\"}, \"error_y\": {\"color\": \"#2a3f5f\"}, \"marker\": {\"line\": {\"color\": \"#E5ECF6\", \"width\": 0.5}}, \"type\": \"bar\"}], \"barpolar\": [{\"marker\": {\"line\": {\"color\": \"#E5ECF6\", \"width\": 0.5}}, \"type\": \"barpolar\"}], \"carpet\": [{\"aaxis\": {\"endlinecolor\": \"#2a3f5f\", \"gridcolor\": \"white\", \"linecolor\": \"white\", \"minorgridcolor\": \"white\", \"startlinecolor\": \"#2a3f5f\"}, \"baxis\": {\"endlinecolor\": \"#2a3f5f\", \"gridcolor\": \"white\", \"linecolor\": \"white\", \"minorgridcolor\": \"white\", \"startlinecolor\": \"#2a3f5f\"}, \"type\": \"carpet\"}], \"choropleth\": [{\"colorbar\": {\"outlinewidth\": 0, \"ticks\": \"\"}, \"type\": \"choropleth\"}], \"contour\": [{\"colorbar\": {\"outlinewidth\": 0, \"ticks\": \"\"}, \"colorscale\": [[0.0, \"#0d0887\"], [0.1111111111111111, \"#46039f\"], [0.2222222222222222, \"#7201a8\"], [0.3333333333333333, \"#9c179e\"], [0.4444444444444444, \"#bd3786\"], [0.5555555555555556, \"#d8576b\"], [0.6666666666666666, \"#ed7953\"], [0.7777777777777778, \"#fb9f3a\"], [0.8888888888888888, \"#fdca26\"], [1.0, \"#f0f921\"]], \"type\": \"contour\"}], \"contourcarpet\": [{\"colorbar\": {\"outlinewidth\": 0, \"ticks\": \"\"}, \"type\": \"contourcarpet\"}], \"heatmap\": [{\"colorbar\": {\"outlinewidth\": 0, \"ticks\": \"\"}, \"colorscale\": [[0.0, \"#0d0887\"], [0.1111111111111111, \"#46039f\"], [0.2222222222222222, \"#7201a8\"], [0.3333333333333333, \"#9c179e\"], [0.4444444444444444, \"#bd3786\"], [0.5555555555555556, \"#d8576b\"], [0.6666666666666666, \"#ed7953\"], [0.7777777777777778, \"#fb9f3a\"], [0.8888888888888888, \"#fdca26\"], [1.0, \"#f0f921\"]], \"type\": \"heatmap\"}], \"heatmapgl\": [{\"colorbar\": {\"outlinewidth\": 0, \"ticks\": \"\"}, \"colorscale\": [[0.0, \"#0d0887\"], [0.1111111111111111, \"#46039f\"], [0.2222222222222222, \"#7201a8\"], [0.3333333333333333, \"#9c179e\"], [0.4444444444444444, \"#bd3786\"], [0.5555555555555556, \"#d8576b\"], [0.6666666666666666, \"#ed7953\"], [0.7777777777777778, \"#fb9f3a\"], [0.8888888888888888, \"#fdca26\"], [1.0, \"#f0f921\"]], \"type\": \"heatmapgl\"}], \"histogram\": [{\"marker\": {\"colorbar\": {\"outlinewidth\": 0, \"ticks\": \"\"}}, \"type\": \"histogram\"}], \"histogram2d\": [{\"colorbar\": {\"outlinewidth\": 0, \"ticks\": \"\"}, \"colorscale\": [[0.0, \"#0d0887\"], [0.1111111111111111, \"#46039f\"], [0.2222222222222222, \"#7201a8\"], [0.3333333333333333, \"#9c179e\"], [0.4444444444444444, \"#bd3786\"], [0.5555555555555556, \"#d8576b\"], [0.6666666666666666, \"#ed7953\"], [0.7777777777777778, \"#fb9f3a\"], [0.8888888888888888, \"#fdca26\"], [1.0, \"#f0f921\"]], \"type\": \"histogram2d\"}], \"histogram2dcontour\": [{\"colorbar\": {\"outlinewidth\": 0, \"ticks\": \"\"}, \"colorscale\": [[0.0, \"#0d0887\"], [0.1111111111111111, \"#46039f\"], [0.2222222222222222, \"#7201a8\"], [0.3333333333333333, \"#9c179e\"], [0.4444444444444444, \"#bd3786\"], [0.5555555555555556, \"#d8576b\"], [0.6666666666666666, \"#ed7953\"], [0.7777777777777778, \"#fb9f3a\"], [0.8888888888888888, \"#fdca26\"], [1.0, \"#f0f921\"]], \"type\": \"histogram2dcontour\"}], \"mesh3d\": [{\"colorbar\": {\"outlinewidth\": 0, \"ticks\": \"\"}, \"type\": \"mesh3d\"}], \"parcoords\": [{\"line\": {\"colorbar\": {\"outlinewidth\": 0, \"ticks\": \"\"}}, \"type\": \"parcoords\"}], \"pie\": [{\"automargin\": true, \"type\": \"pie\"}], \"scatter\": [{\"marker\": {\"colorbar\": {\"outlinewidth\": 0, \"ticks\": \"\"}}, \"type\": \"scatter\"}], \"scatter3d\": [{\"line\": {\"colorbar\": {\"outlinewidth\": 0, \"ticks\": \"\"}}, \"marker\": {\"colorbar\": {\"outlinewidth\": 0, \"ticks\": \"\"}}, \"type\": \"scatter3d\"}], \"scattercarpet\": [{\"marker\": {\"colorbar\": {\"outlinewidth\": 0, \"ticks\": \"\"}}, \"type\": \"scattercarpet\"}], \"scattergeo\": [{\"marker\": {\"colorbar\": {\"outlinewidth\": 0, \"ticks\": \"\"}}, \"type\": \"scattergeo\"}], \"scattergl\": [{\"marker\": {\"colorbar\": {\"outlinewidth\": 0, \"ticks\": \"\"}}, \"type\": \"scattergl\"}], \"scattermapbox\": [{\"marker\": {\"colorbar\": {\"outlinewidth\": 0, \"ticks\": \"\"}}, \"type\": \"scattermapbox\"}], \"scatterpolar\": [{\"marker\": {\"colorbar\": {\"outlinewidth\": 0, \"ticks\": \"\"}}, \"type\": \"scatterpolar\"}], \"scatterpolargl\": [{\"marker\": {\"colorbar\": {\"outlinewidth\": 0, \"ticks\": \"\"}}, \"type\": \"scatterpolargl\"}], \"scatterternary\": [{\"marker\": {\"colorbar\": {\"outlinewidth\": 0, \"ticks\": \"\"}}, \"type\": \"scatterternary\"}], \"surface\": [{\"colorbar\": {\"outlinewidth\": 0, \"ticks\": \"\"}, \"colorscale\": [[0.0, \"#0d0887\"], [0.1111111111111111, \"#46039f\"], [0.2222222222222222, \"#7201a8\"], [0.3333333333333333, \"#9c179e\"], [0.4444444444444444, \"#bd3786\"], [0.5555555555555556, \"#d8576b\"], [0.6666666666666666, \"#ed7953\"], [0.7777777777777778, \"#fb9f3a\"], [0.8888888888888888, \"#fdca26\"], [1.0, \"#f0f921\"]], \"type\": \"surface\"}], \"table\": [{\"cells\": {\"fill\": {\"color\": \"#EBF0F8\"}, \"line\": {\"color\": \"white\"}}, \"header\": {\"fill\": {\"color\": \"#C8D4E3\"}, \"line\": {\"color\": \"white\"}}, \"type\": \"table\"}]}, \"layout\": {\"annotationdefaults\": {\"arrowcolor\": \"#2a3f5f\", \"arrowhead\": 0, \"arrowwidth\": 1}, \"coloraxis\": {\"colorbar\": {\"outlinewidth\": 0, \"ticks\": \"\"}}, \"colorscale\": {\"diverging\": [[0, \"#8e0152\"], [0.1, \"#c51b7d\"], [0.2, \"#de77ae\"], [0.3, \"#f1b6da\"], [0.4, \"#fde0ef\"], [0.5, \"#f7f7f7\"], [0.6, \"#e6f5d0\"], [0.7, \"#b8e186\"], [0.8, \"#7fbc41\"], [0.9, \"#4d9221\"], [1, \"#276419\"]], \"sequential\": [[0.0, \"#0d0887\"], [0.1111111111111111, \"#46039f\"], [0.2222222222222222, \"#7201a8\"], [0.3333333333333333, \"#9c179e\"], [0.4444444444444444, \"#bd3786\"], [0.5555555555555556, \"#d8576b\"], [0.6666666666666666, \"#ed7953\"], [0.7777777777777778, \"#fb9f3a\"], [0.8888888888888888, \"#fdca26\"], [1.0, \"#f0f921\"]], \"sequentialminus\": [[0.0, \"#0d0887\"], [0.1111111111111111, \"#46039f\"], [0.2222222222222222, \"#7201a8\"], [0.3333333333333333, \"#9c179e\"], [0.4444444444444444, \"#bd3786\"], [0.5555555555555556, \"#d8576b\"], [0.6666666666666666, \"#ed7953\"], [0.7777777777777778, \"#fb9f3a\"], [0.8888888888888888, \"#fdca26\"], [1.0, \"#f0f921\"]]}, \"colorway\": [\"#636efa\", \"#EF553B\", \"#00cc96\", \"#ab63fa\", \"#FFA15A\", \"#19d3f3\", \"#FF6692\", \"#B6E880\", \"#FF97FF\", \"#FECB52\"], \"font\": {\"color\": \"#2a3f5f\"}, \"geo\": {\"bgcolor\": \"white\", \"lakecolor\": \"white\", \"landcolor\": \"#E5ECF6\", \"showlakes\": true, \"showland\": true, \"subunitcolor\": \"white\"}, \"hoverlabel\": {\"align\": \"left\"}, \"hovermode\": \"closest\", \"mapbox\": {\"style\": \"light\"}, \"paper_bgcolor\": \"white\", \"plot_bgcolor\": \"#E5ECF6\", \"polar\": {\"angularaxis\": {\"gridcolor\": \"white\", \"linecolor\": \"white\", \"ticks\": \"\"}, \"bgcolor\": \"#E5ECF6\", \"radialaxis\": {\"gridcolor\": \"white\", \"linecolor\": \"white\", \"ticks\": \"\"}}, \"scene\": {\"xaxis\": {\"backgroundcolor\": \"#E5ECF6\", \"gridcolor\": \"white\", \"gridwidth\": 2, \"linecolor\": \"white\", \"showbackground\": true, \"ticks\": \"\", \"zerolinecolor\": \"white\"}, \"yaxis\": {\"backgroundcolor\": \"#E5ECF6\", \"gridcolor\": \"white\", \"gridwidth\": 2, \"linecolor\": \"white\", \"showbackground\": true, \"ticks\": \"\", \"zerolinecolor\": \"white\"}, \"zaxis\": {\"backgroundcolor\": \"#E5ECF6\", \"gridcolor\": \"white\", \"gridwidth\": 2, \"linecolor\": \"white\", \"showbackground\": true, \"ticks\": \"\", \"zerolinecolor\": \"white\"}}, \"shapedefaults\": {\"line\": {\"color\": \"#2a3f5f\"}}, \"ternary\": {\"aaxis\": {\"gridcolor\": \"white\", \"linecolor\": \"white\", \"ticks\": \"\"}, \"baxis\": {\"gridcolor\": \"white\", \"linecolor\": \"white\", \"ticks\": \"\"}, \"bgcolor\": \"#E5ECF6\", \"caxis\": {\"gridcolor\": \"white\", \"linecolor\": \"white\", \"ticks\": \"\"}}, \"title\": {\"x\": 0.05}, \"xaxis\": {\"automargin\": true, \"gridcolor\": \"white\", \"linecolor\": \"white\", \"ticks\": \"\", \"title\": {\"standoff\": 15}, \"zerolinecolor\": \"white\", \"zerolinewidth\": 2}, \"yaxis\": {\"automargin\": true, \"gridcolor\": \"white\", \"linecolor\": \"white\", \"ticks\": \"\", \"title\": {\"standoff\": 15}, \"zerolinecolor\": \"white\", \"zerolinewidth\": 2}}}},\n",
              "                        {\"responsive\": true}\n",
              "                    ).then(function(){\n",
              "                            \n",
              "var gd = document.getElementById('38fab02f-fd8b-4931-b029-04476619ffea');\n",
              "var x = new MutationObserver(function (mutations, observer) {{\n",
              "        var display = window.getComputedStyle(gd).display;\n",
              "        if (!display || display === 'none') {{\n",
              "            console.log([gd, 'removed!']);\n",
              "            Plotly.purge(gd);\n",
              "            observer.disconnect();\n",
              "        }}\n",
              "}});\n",
              "\n",
              "// Listen for the removal of the full notebook cells\n",
              "var notebookContainer = gd.closest('#notebook-container');\n",
              "if (notebookContainer) {{\n",
              "    x.observe(notebookContainer, {childList: true});\n",
              "}}\n",
              "\n",
              "// Listen for the clearing of the current output cell\n",
              "var outputEl = gd.closest('.output');\n",
              "if (outputEl) {{\n",
              "    x.observe(outputEl, {childList: true});\n",
              "}}\n",
              "\n",
              "                        })\n",
              "                };\n",
              "                \n",
              "            </script>\n",
              "        </div>\n",
              "</body>\n",
              "</html>"
            ]
          },
          "metadata": {}
        }
      ]
    },
    {
      "cell_type": "code",
      "metadata": {
        "id": "CrTemWslsxEW"
      },
      "source": [
        "# data_new=data.drop(data.loc[data['absences'] == 75].index, axis=0)  #по графику заметили большое значение, которое нам мешает"
      ],
      "execution_count": null,
      "outputs": []
    },
    {
      "cell_type": "code",
      "metadata": {
        "colab": {
          "base_uri": "https://localhost:8080/",
          "height": 542
        },
        "id": "j6RRnzWy92bp",
        "outputId": "6323155a-3004-4add-a480-25cd39962768"
      },
      "source": [
        "# fig = px.scatter_3d(data_new, x='G4', y='freetime', z='absences', color='freetime', size='absences', size_max=40)  #график по трём переменным, но уже без мешающего значения\n",
        "# fig.show()"
      ],
      "execution_count": null,
      "outputs": [
        {
          "output_type": "display_data",
          "data": {
            "text/html": [
              "<html>\n",
              "<head><meta charset=\"utf-8\" /></head>\n",
              "<body>\n",
              "    <div>\n",
              "            <script src=\"https://cdnjs.cloudflare.com/ajax/libs/mathjax/2.7.5/MathJax.js?config=TeX-AMS-MML_SVG\"></script><script type=\"text/javascript\">if (window.MathJax) {MathJax.Hub.Config({SVG: {font: \"STIX-Web\"}});}</script>\n",
              "                <script type=\"text/javascript\">window.PlotlyConfig = {MathJaxConfig: 'local'};</script>\n",
              "        <script src=\"https://cdn.plot.ly/plotly-latest.min.js\"></script>    \n",
              "            <div id=\"3748d525-a5ef-4889-8f1e-61999c95b1fd\" class=\"plotly-graph-div\" style=\"height:525px; width:100%;\"></div>\n",
              "            <script type=\"text/javascript\">\n",
              "                \n",
              "                    window.PLOTLYENV=window.PLOTLYENV || {};\n",
              "                    \n",
              "                if (document.getElementById(\"3748d525-a5ef-4889-8f1e-61999c95b1fd\")) {\n",
              "                    Plotly.newPlot(\n",
              "                        '3748d525-a5ef-4889-8f1e-61999c95b1fd',\n",
              "                        [{\"hoverlabel\": {\"namelength\": 0}, \"hovertemplate\": \"G4=%{x}<br>freetime=%{marker.color}<br>absences=%{marker.size}\", \"legendgroup\": \"\", \"marker\": {\"color\": [3, 3, 3, 2, 3, 4, 4, 1, 2, 5, 3, 2, 3, 4, 5, 4, 2, 3, 5, 1, 4, 4, 5, 4, 3, 2, 2, 2, 3, 4, 4, 3, 5, 3, 4, 5, 4, 4, 3, 3, 3, 4, 3, 4, 3, 2, 3, 2, 3, 4, 3, 3, 5, 3, 3, 3, 3, 2, 3, 2, 4, 5, 4, 4, 4, 4, 3, 3, 1, 4, 3, 3, 3, 3, 3, 3, 4, 2, 5, 4, 2, 3, 4, 3, 3, 4, 3, 3, 4, 1, 3, 5, 3, 3, 3, 1, 3, 3, 3, 3, 5, 4, 3, 3, 4, 3, 1, 3, 3, 4, 5, 1, 1, 5, 4, 4, 4, 4, 2, 4, 2, 5, 2, 4, 4, 5, 3, 4, 3, 5, 2, 3, 4, 2, 3, 3, 4, 3, 4, 3, 2, 3, 2, 4, 4, 4, 3, 3, 3, 5, 3, 4, 2, 5, 2, 4, 2, 2, 2, 5, 3, 4, 4, 3, 3, 5, 3, 2, 1, 4, 4, 3, 4, 3, 4, 4, 4, 3, 3, 2, 4, 2, 4, 3, 2, 3, 3, 2, 3, 1, 3, 3, 4, 3, 3, 3, 2, 3, 2, 5, 3, 4, 4, 3, 3, 4, 3, 3, 3, 4, 3, 3, 3, 4, 2, 4, 4, 2, 3, 3, 2, 3, 3, 3, 3, 3, 3, 3, 3, 2, 2, 5, 5, 2, 4, 3, 4, 5, 1, 5, 5, 3, 4, 3, 4, 3, 2, 4, 3, 3, 4, 3, 2, 3, 4, 4, 2, 3, 2, 4, 1, 3, 3, 2, 3, 2, 4, 3, 4, 3, 3, 5, 4, 5, 3, 4, 2, 4, 2, 5, 4, 2, 4, 4, 3, 3, 3, 2, 4, 3, 2, 4, 1, 4, 4, 3, 4, 3, 4, 2, 1, 3, 2, 4, 4, 5, 3, 5, 4, 2, 4, 5, 2, 1, 1, 3, 3, 3, 4, 2, 2, 3, 4, 3, 3, 3, 4, 4, 3, 5, 4, 3, 3, 4, 4, 4, 3, 3, 3, 3, 3, 3, 3, 3, 4, 3, 4, 4, 5, 4, 5, 3, 4, 5, 3, 3, 2, 3, 3, 3, 4, 3, 3, 2, 3, 2, 2, 2, 2, 2, 3, 4, 5, 4, 3, 4, 4, 1, 5, 2, 4, 4, 3, 4, 3, 4, 4, 3, 1, 5, 4, 5, 4, 2, 3, 3, 3, 2, 3, 4, 4, 1, 2, 5, 3, 2, 3, 4, 5, 4, 2, 3, 5, 1, 4, 4, 5, 4, 3, 2, 2, 2, 3, 4, 4, 3, 5, 3, 4, 5, 4, 4, 3, 3, 3, 4, 3, 4, 3, 2, 3, 2, 3, 4, 3, 3, 5, 3, 3, 3, 3, 2, 3, 2, 4, 5, 4, 4, 4, 4, 3, 3, 1, 4, 3, 3, 3, 3, 3, 3, 4, 2, 5, 4, 2, 3, 4, 3, 3, 4, 3, 3, 4, 1, 3, 5, 3, 3, 3, 1, 3, 3, 3, 3, 5, 4, 3, 3, 4, 3, 1, 3, 3, 4, 5, 1, 1, 5, 4, 4, 4, 4, 2, 4, 2, 5, 2, 4, 4, 5, 3, 4, 5, 2, 2, 4, 2, 3, 4, 2, 2, 3, 3, 3, 4, 1, 3, 3, 3, 3, 4, 3, 5, 2, 3, 3, 3, 2, 4, 4, 4, 4, 3, 3, 3, 3, 5, 3, 4, 2, 5, 2, 4, 2, 2, 2, 5, 4, 3, 4, 4, 3, 3, 5, 3, 2, 1, 4, 4, 3, 4, 3, 4, 4, 4, 3, 3, 2, 4, 2, 4, 3, 2, 3, 3, 2, 3, 1, 3, 3, 4, 3, 3, 3, 2, 3, 2, 5, 3, 4, 4, 3, 3, 4, 3, 3, 3, 4, 3, 3, 3, 4, 2, 4, 4, 2, 3, 3, 2, 3, 3, 3, 3, 3, 3, 3, 3, 2, 2, 5, 5, 2, 4, 3, 4, 5, 3, 3, 3, 1, 4, 2, 4, 3, 3, 1, 5, 5, 1, 3, 3, 5, 3, 4, 3, 3, 3, 2, 3, 4, 3, 3, 2, 4, 3, 3, 4, 3, 2, 3, 4, 4, 3, 2, 3, 4, 3, 4, 2, 3, 2, 2, 4, 2, 1, 3, 3, 2, 3, 4, 2, 4, 3, 4, 3, 3, 5, 4, 5, 2, 3, 4, 1, 2, 4, 2, 3, 2, 4, 5, 4, 2, 4, 4, 3, 3, 3, 3, 2, 4, 3, 2, 1, 4, 4, 3, 4, 3, 4, 2, 1, 3, 3, 2, 3, 5, 5, 4, 3, 2, 4, 3, 2, 3, 1, 4, 4, 4, 3, 2, 3, 2, 2, 5, 3, 3, 2, 3, 4, 3, 5, 3, 3, 4, 4, 3, 2, 5, 3, 2, 4, 4, 3, 3, 4, 4, 3, 3, 3, 3, 3, 3, 3, 4, 3, 4, 4, 3, 3, 2, 1, 3, 4, 3, 3, 4, 2, 3, 2, 2, 4, 3, 1, 3, 1, 3, 1, 3, 4, 1, 4, 5, 3, 3, 4, 5, 4, 5, 2, 4, 4, 2, 5, 1, 4, 4, 3, 3, 4, 4, 3, 5, 2, 1, 5, 3, 4, 3, 3, 4, 4, 5, 3, 4, 3, 2, 2, 4, 4, 4, 2, 3, 3, 3, 5, 4, 3, 4, 2, 3, 4, 3, 4, 5, 4, 5, 2, 4, 3, 3, 4, 3, 3, 4, 2, 1, 3, 4, 4, 5, 4, 4, 3, 2, 3, 2, 3, 2, 4, 4, 3, 3, 4, 3, 3, 4, 3, 1, 1, 3, 3, 4, 3, 2, 3, 3, 3, 5, 2, 4, 2, 1, 1, 1, 1, 1, 2, 2, 1, 5, 4, 3, 3, 2, 3, 1, 3, 3, 1, 4, 2, 1, 5, 3, 1, 1, 4, 1, 5, 3, 4, 4, 5, 3, 5, 3, 4, 2, 5, 5, 3, 3, 2, 4, 4, 4, 5, 3, 4, 4, 5, 4, 5, 3, 4, 3, 4, 5, 4, 2, 5, 3, 2, 5, 4, 3, 4, 4, 3, 4, 3, 3, 1, 5, 2, 3, 4, 3, 4, 5, 2, 3, 2, 1, 5, 2, 5, 3, 3, 2, 3, 3, 3, 3, 3, 2, 3, 2, 2, 2, 2, 3, 4, 5, 4, 3, 3, 4, 1, 5, 2, 4, 4, 3, 4, 3, 5, 4, 4, 3, 1, 4, 4], \"coloraxis\": \"coloraxis\", \"size\": [6, 4, 10, 2, 4, 10, 0, 6, 0, 0, 0, 4, 2, 2, 0, 4, 6, 4, 16, 4, 0, 0, 2, 0, 2, 14, 2, 4, 4, 16, 0, 0, 0, 0, 0, 0, 2, 7, 2, 8, 25, 8, 2, 0, 14, 8, 12, 4, 2, 2, 2, 2, 6, 0, 6, 8, 0, 4, 2, 2, 6, 6, 4, 2, 0, 2, 4, 4, 2, 12, 0, 0, 2, 2, 54, 6, 8, 0, 2, 12, 2, 4, 10, 4, 2, 6, 4, 4, 12, 18, 0, 4, 4, 0, 6, 2, 2, 2, 6, 0, 14, 0, 4, 26, 0, 10, 8, 2, 6, 4, 6, 0, 6, 10, 8, 2, 2, 0, 20, 6, 2, 6, 2, 18, 0, 0, 0, 2, 0, 8, 0, 0, 12, 16, 0, 0, 0, 0, 0, 0, 0, 8, 2, 2, 0, 0, 0, 2, 0, 0, 0, 6, 8, 0, 0, 2, 8, 6, 2, 4, 0, 6, 0, 2, 0, 16, 4, 0, 0, 0, 0, 2, 0, 0, 4, 4, 2, 4, 10, 4, 10, 2, 0, 56, 14, 12, 2, 0, 6, 4, 10, 0, 12, 8, 0, 0, 4, 8, 24, 0, 2, 6, 4, 18, 6, 28, 5, 10, 6, 6, 10, 13, 0, 15, 12, 2, 22, 13, 3, 4, 2, 0, 2, 0, 0, 16, 10, 2, 14, 10, 14, 4, 14, 2, 18, 10, 4, 20, 2, 0, 14, 2, 0, 0, 0, 6, 4, 16, 8, 0, 0, 6, 4, 0, 0, 2, 6, 12, 8, 0, 21, 2, 1, 4, 0, 13, 2, 8, 10, 0, 15, 4, 2, 2, 2, 6, 22, 15, 8, 30, 19, 1, 4, 4, 2, 5, 6, 6, 9, 11, 0, 12, 6, 8, 4, 0, 10, 0, 5, 14, 0, 0, 0, 20, 8, 0, 38, 0, 18, 0, 20, 3, 22, 14, 40, 0, 9, 0, 2, 23, 12, 3, 1, 0, 3, 3, 8, 7, 4, 2, 7, 0, 0, 0, 16, 12, 0, 7, 4, 4, 0, 11, 0, 4, 7, 9, 0, 0, 10, 8, 2, 7, 4, 4, 0, 4, 2, 4, 0, 0, 2, 0, 0, 0, 4, 0, 0, 0, 10, 4, 3, 8, 14, 0, 2, 4, 4, 0, 17, 4, 5, 2, 0, 14, 2, 7, 0, 0, 0, 11, 3, 3, 0, 5, 4, 2, 6, 0, 0, 6, 0, 2, 0, 0, 2, 0, 0, 0, 0, 6, 10, 2, 2, 6, 0, 0, 0, 2, 2, 6, 8, 0, 2, 4, 0, 2, 0, 0, 4, 4, 0, 4, 2, 8, 16, 8, 0, 0, 14, 4, 6, 2, 4, 2, 0, 0, 4, 0, 0, 2, 0, 8, 0, 2, 0, 0, 0, 0, 0, 2, 0, 0, 0, 6, 2, 0, 2, 0, 4, 0, 0, 1, 0, 14, 0, 2, 4, 2, 2, 4, 6, 4, 6, 6, 2, 6, 0, 2, 2, 4, 6, 0, 4, 2, 12, 0, 2, 16, 0, 10, 4, 4, 8, 2, 4, 4, 12, 10, 4, 6, 4, 6, 14, 2, 0, 6, 2, 4, 0, 2, 0, 0, 8, 4, 0, 10, 8, 6, 2, 12, 4, 12, 2, 4, 2, 0, 2, 10, 8, 4, 0, 6, 2, 6, 24, 0, 4, 2, 4, 22, 0, 0, 2, 6, 6, 16, 0, 0, 6, 2, 6, 0, 0, 14, 6, 4, 0, 0, 8, 4, 2, 2, 0, 10, 0, 0, 0, 0, 4, 0, 0, 0, 0, 0, 0, 4, 8, 4, 4, 0, 0, 32, 8, 6, 0, 0, 10, 6, 6, 0, 16, 0, 0, 8, 4, 16, 30, 0, 2, 4, 0, 21, 6, 14, 2, 4, 2, 0, 4, 15, 0, 10, 6, 2, 16, 10, 4, 0, 0, 12, 0, 9, 4, 4, 2, 0, 2, 0, 0, 0, 0, 0, 2, 0, 0, 4, 0, 18, 16, 14, 26, 6, 4, 10, 4, 2, 14, 16, 8, 4, 4, 8, 0, 7, 4, 2, 2, 10, 10, 10, 7, 4, 2, 12, 8, 0, 8, 4, 4, 2, 0, 0, 2, 2, 0, 4, 2, 4, 4, 4, 2, 0, 2, 8, 2, 2, 2, 2, 0, 8, 6, 0, 8, 4, 12, 16, 10, 2, 2, 8, 6, 6, 15, 6, 2, 8, 0, 0, 10, 22, 18, 2, 0, 12, 10, 0, 0, 0, 0, 0, 2, 0, 0, 0, 0, 2, 0, 0, 0, 0, 0, 0, 0, 0, 0, 0, 0, 2, 2, 2, 2, 2, 8, 2, 8, 9, 0, 4, 2, 14, 0, 2, 2, 12, 2, 2, 4, 0, 0, 0, 0, 0, 0, 2, 0, 4, 2, 0, 0, 2, 0, 6, 8, 0, 6, 8, 0, 4, 0, 0, 6, 18, 0, 4, 4, 0, 0, 10, 4, 16, 6, 0, 11, 9, 0, 2, 0, 21, 8, 5, 10, 5, 13, 10, 10, 5, 4, 11, 0, 6, 4, 0, 0, 5, 0, 0, 0, 0, 4, 0, 4, 0, 2, 0, 0, 4, 0, 7, 4, 8, 0, 8, 6, 3, 2, 0, 4, 0, 3, 0, 0, 4, 0, 2, 1, 0, 0, 2, 6, 9, 0, 1, 1, 0, 4, 2, 0, 4, 2, 0, 2, 11, 0, 4, 0, 2, 0, 1, 6, 0, 1, 6, 6, 0, 4, 12, 2, 5, 0, 0, 2, 0, 0, 0, 12, 8, 2, 0, 0, 0, 8, 0, 0, 0, 0, 1, 9, 0, 2, 8, 0, 0, 8, 0, 6, 0, 4, 2, 2, 0, 1, 0, 5, 1, 8, 0, 2, 0, 0, 11, 8, 11, 2, 8, 5, 0, 1, 2, 2, 8, 0, 0, 2, 0, 0, 0, 2, 4, 3, 5, 4, 2, 0, 0, 0, 6, 0, 0, 2, 0, 2, 0, 4, 9, 6, 4, 8, 9, 12, 8, 8, 8, 4, 0, 4, 2, 0, 0, 0, 5, 0, 3, 0, 0, 3, 2, 0, 0, 0, 3, 0, 0, 8, 5, 4, 4, 0, 0, 2, 0, 0, 5, 2, 0, 0, 5, 4, 0, 2, 0, 2, 0, 0, 6, 4, 0, 0, 0, 0, 0, 0, 3, 8, 4, 0, 4, 4, 1, 1, 10, 4, 0, 4, 0, 0, 0, 0, 4, 4, 4, 6, 6, 4], \"sizemode\": \"area\", \"sizeref\": 0.035, \"symbol\": \"circle\"}, \"mode\": \"markers\", \"name\": \"\", \"scene\": \"scene\", \"showlegend\": false, \"type\": \"scatter3d\", \"x\": [\"2\", \"2\", \"3\", \"4\", \"3\", \"4\", \"3\", \"2\", \"5\", \"4\", \"3\", \"3\", \"4\", \"3\", \"4\", \"4\", \"4\", \"3\", \"2\", \"3\", \"4\", \"4\", \"4\", \"3\", \"3\", \"3\", \"3\", \"4\", \"3\", \"3\", \"3\", \"4\", \"4\", \"3\", \"4\", \"2\", \"5\", \"4\", \"3\", \"3\", \"3\", \"3\", \"5\", \"3\", \"3\", \"2\", \"3\", \"5\", \"4\", \"2\", \"3\", \"3\", \"3\", \"3\", \"3\", \"3\", \"4\", \"4\", \"3\", \"4\", \"3\", \"3\", \"3\", \"3\", \"3\", \"4\", \"3\", \"2\", \"3\", \"4\", \"4\", \"3\", \"2\", \"4\", \"3\", \"3\", \"3\", \"3\", \"3\", \"2\", \"3\", \"3\", \"2\", \"4\", \"3\", \"3\", \"2\", \"4\", \"3\", \"2\", \"3\", \"5\", \"2\", \"3\", \"4\", \"3\", \"4\", \"3\", \"4\", \"3\", \"2\", \"4\", \"4\", \"2\", \"5\", \"3\", \"3\", \"5\", \"3\", \"4\", \"5\", \"3\", \"3\", \"5\", \"3\", \"4\", \"4\", \"3\", \"3\", \"3\", \"4\", \"4\", \"3\", \"3\", \"3\", \"3\", \"3\", \"3\", \"2\", \"5\", \"2\", \"2\", \"3\", \"3\", \"2\", \"2\", \"2\", \"2\", \"3\", \"4\", \"2\", \"3\", \"3\", \"3\", \"2\", \"3\", \"2\", \"3\", \"2\", \"3\", \"2\", \"4\", \"3\", \"2\", \"3\", \"3\", \"3\", \"3\", \"4\", \"3\", \"2\", \"2\", \"2\", \"3\", \"2\", \"3\", \"3\", \"4\", \"2\", \"4\", \"2\", \"4\", \"3\", \"2\", \"3\", \"3\", \"3\", \"2\", \"3\", \"3\", \"3\", \"3\", \"4\", \"3\", \"3\", \"3\", \"3\", \"4\", \"3\", \"3\", \"3\", \"3\", \"3\", \"3\", \"4\", \"4\", \"4\", \"3\", \"5\", \"3\", \"4\", \"3\", \"3\", \"2\", \"3\", \"3\", \"2\", \"3\", \"3\", \"2\", \"3\", \"3\", \"4\", \"3\", \"3\", \"4\", \"2\", \"3\", \"3\", \"3\", \"2\", \"2\", \"4\", \"3\", \"4\", \"2\", \"4\", \"3\", \"3\", \"3\", \"4\", \"3\", \"3\", \"3\", \"2\", \"3\", \"3\", \"3\", \"3\", \"2\", \"3\", \"3\", \"2\", \"3\", \"2\", \"5\", \"3\", \"3\", \"2\", \"4\", \"3\", \"3\", \"3\", \"3\", \"3\", \"3\", \"3\", \"3\", \"4\", \"2\", \"5\", \"3\", \"3\", \"3\", \"2\", \"4\", \"3\", \"3\", \"3\", \"2\", \"3\", \"4\", \"3\", \"4\", \"3\", \"3\", \"3\", \"3\", \"3\", \"3\", \"3\", \"3\", \"3\", \"3\", \"3\", \"5\", \"3\", \"4\", \"4\", \"3\", \"4\", \"3\", \"5\", \"4\", \"3\", \"2\", \"3\", \"4\", \"4\", \"3\", \"3\", \"4\", \"5\", \"3\", \"3\", \"5\", \"3\", \"3\", \"3\", \"2\", \"3\", \"3\", \"3\", \"3\", \"3\", \"2\", \"3\", \"3\", \"3\", \"3\", \"3\", \"3\", \"4\", \"4\", \"3\", \"4\", \"3\", \"3\", \"4\", \"3\", \"4\", \"2\", \"2\", \"2\", \"4\", \"3\", \"2\", \"4\", \"3\", \"3\", \"2\", \"4\", \"2\", \"3\", \"4\", \"4\", \"3\", \"4\", \"3\", \"3\", \"3\", \"3\", \"3\", \"3\", \"3\", \"3\", \"3\", \"3\", \"4\", \"3\", \"3\", \"3\", \"4\", \"3\", \"3\", \"3\", \"2\", \"3\", \"3\", \"3\", \"3\", \"3\", \"2\", \"5\", \"3\", \"4\", \"3\", \"4\", \"3\", \"4\", \"2\", \"3\", \"2\", \"2\", \"3\", \"2\", \"2\", \"3\", \"2\", \"3\", \"4\", \"2\", \"3\", \"3\", \"3\", \"3\", \"3\", \"4\", \"3\", \"3\", \"3\", \"3\", \"4\", \"3\", \"4\", \"3\", \"3\", \"3\", \"4\", \"4\", \"4\", \"4\", \"2\", \"3\", \"4\", \"3\", \"4\", \"3\", \"3\", \"3\", \"3\", \"3\", \"3\", \"3\", \"3\", \"4\", \"4\", \"3\", \"3\", \"3\", \"4\", \"3\", \"3\", \"3\", \"3\", \"3\", \"4\", \"3\", \"3\", \"3\", \"3\", \"4\", \"3\", \"3\", \"3\", \"4\", \"3\", \"3\", \"3\", \"3\", \"4\", \"4\", \"4\", \"4\", \"4\", \"4\", \"3\", \"3\", \"3\", \"4\", \"3\", \"3\", \"3\", \"4\", \"3\", \"3\", \"3\", \"4\", \"3\", \"3\", \"3\", \"3\", \"3\", \"3\", \"3\", \"3\", \"3\", \"3\", \"3\", \"3\", \"3\", \"4\", \"3\", \"3\", \"3\", \"3\", \"3\", \"4\", \"3\", \"3\", \"3\", \"3\", \"3\", \"3\", \"3\", \"4\", \"3\", \"3\", \"4\", \"3\", \"3\", \"4\", \"3\", \"4\", \"4\", \"3\", \"3\", \"5\", \"3\", \"4\", \"4\", \"4\", \"3\", \"4\", \"4\", \"3\", \"3\", \"3\", \"3\", \"3\", \"3\", \"3\", \"4\", \"3\", \"3\", \"3\", \"3\", \"3\", \"3\", \"4\", \"3\", \"3\", \"3\", \"4\", \"3\", \"3\", \"3\", \"3\", \"3\", \"3\", \"3\", \"4\", \"3\", \"3\", \"3\", \"3\", \"3\", \"3\", \"3\", \"2\", \"3\", \"3\", \"3\", \"3\", \"3\", \"3\", \"3\", \"2\", \"3\", \"3\", \"3\", \"3\", \"3\", \"3\", \"3\", \"3\", \"2\", \"3\", \"3\", \"3\", \"3\", \"3\", \"3\", \"3\", \"3\", \"5\", \"3\", \"4\", \"3\", \"5\", \"3\", \"3\", \"4\", \"3\", \"4\", \"3\", \"3\", \"3\", \"3\", \"3\", \"4\", \"4\", \"4\", \"4\", \"3\", \"4\", \"4\", \"3\", \"3\", \"3\", \"3\", \"3\", \"3\", \"4\", \"4\", \"3\", \"4\", \"3\", \"4\", \"3\", \"4\", \"3\", \"3\", \"3\", \"3\", \"4\", \"3\", \"3\", \"3\", \"3\", \"3\", \"3\", \"3\", \"4\", \"3\", \"3\", \"3\", \"3\", \"3\", \"3\", \"4\", \"3\", \"4\", \"3\", \"4\", \"3\", \"3\", \"4\", \"3\", \"3\", \"3\", \"4\", \"3\", \"3\", \"4\", \"3\", \"3\", \"3\", \"3\", \"2\", \"3\", \"3\", \"4\", \"3\", \"3\", \"3\", \"3\", \"3\", \"3\", \"4\", \"4\", \"4\", \"3\", \"4\", \"4\", \"3\", \"4\", \"3\", \"3\", \"3\", \"4\", \"3\", \"3\", \"2\", \"3\", \"3\", \"2\", \"3\", \"2\", \"3\", \"3\", \"3\", \"3\", \"4\", \"3\", \"3\", \"4\", \"4\", \"3\", \"4\", \"4\", \"3\", \"3\", \"3\", \"4\", \"3\", \"3\", \"3\", \"3\", \"3\", \"4\", \"4\", \"3\", \"4\", \"3\", \"3\", \"4\", \"3\", \"5\", \"4\", \"4\", \"3\", \"3\", \"3\", \"3\", \"4\", \"3\", \"3\", \"3\", \"3\", \"3\", \"5\", \"3\", \"4\", \"4\", \"3\", \"5\", \"4\", \"4\", \"4\", \"4\", \"5\", \"5\", \"4\", \"4\", \"3\", \"4\", \"4\", \"4\", \"4\", \"3\", \"3\", \"4\", \"5\", \"3\", \"4\", \"3\", \"3\", \"4\", \"4\", \"4\", \"4\", \"4\", \"4\", \"4\", \"3\", \"3\", \"4\", \"4\", \"4\", \"3\", \"4\", \"3\", \"3\", \"3\", \"3\", \"3\", \"3\", \"4\", \"4\", \"4\", \"3\", \"4\", \"3\", \"3\", \"4\", \"3\", \"3\", \"3\", \"3\", \"4\", \"4\", \"3\", \"3\", \"4\", \"4\", \"4\", \"4\", \"4\", \"3\", \"4\", \"4\", \"4\", \"4\", \"4\", \"4\", \"3\", \"4\", \"4\", \"3\", \"3\", \"3\", \"3\", \"4\", \"4\", \"4\", \"4\", \"3\", \"4\", \"3\", \"5\", \"4\", \"4\", \"3\", \"4\", \"3\", \"3\", \"3\", \"3\", \"3\", \"3\", \"4\", \"3\", \"3\", \"3\", \"3\", \"2\", \"4\", \"3\", \"3\", \"3\", \"3\", \"3\", \"4\", \"2\", \"3\", \"4\", \"3\", \"3\", \"3\", \"3\", \"3\", \"4\", \"3\", \"4\", \"3\", \"3\", \"3\", \"3\", \"3\", \"4\", \"3\", \"3\", \"3\", \"3\", \"4\", \"4\", \"3\", \"3\", \"3\", \"3\", \"4\", \"3\", \"3\", \"3\", \"3\", \"4\", \"3\", \"3\", \"4\", \"3\", \"3\", \"3\", \"3\", \"3\", \"3\", \"3\", \"3\", \"3\", \"3\", \"3\", \"3\", \"3\", \"3\", \"3\", \"3\", \"3\", \"3\", \"3\", \"3\", \"4\", \"3\", \"4\", \"4\", \"2\", \"3\", \"3\", \"4\", \"3\", \"3\", \"3\", \"3\", \"3\", \"5\", \"4\", \"3\", \"2\", \"3\", \"2\", \"3\", \"4\", \"4\", \"3\", \"2\", \"3\", \"3\", \"3\", \"2\", \"3\", \"4\", \"4\", \"3\", \"3\", \"3\", \"3\", \"3\", \"3\", \"4\", \"3\", \"3\", \"4\", \"3\", \"3\", \"3\", \"3\", \"3\", \"3\", \"3\", \"3\", \"3\", \"4\", \"3\", \"3\", \"5\", \"3\", \"3\", \"3\", \"3\", \"3\", \"3\", \"3\", \"3\", \"3\", \"3\", \"3\", \"3\", \"3\", \"2\", \"3\", \"3\", \"3\", \"2\", \"3\", \"3\", \"3\", \"3\", \"2\", \"3\", \"3\", \"3\", \"3\", \"3\", \"3\", \"3\", \"3\", \"3\", \"2\", \"2\", \"3\", \"3\", \"2\", \"3\", \"3\", \"3\", \"2\", \"4\", \"3\", \"4\", \"5\", \"4\", \"5\", \"2\", \"3\", \"4\", \"4\", \"3\", \"3\", \"2\", \"3\", \"2\", \"5\", \"3\", \"3\", \"3\", \"2\", \"4\", \"3\", \"3\", \"3\", \"4\", \"4\", \"5\", \"4\", \"3\", \"4\", \"3\", \"3\", \"4\", \"3\", \"3\", \"2\", \"3\", \"3\", \"3\", \"4\", \"3\", \"3\", \"4\", \"4\", \"3\", \"5\", \"2\", \"4\", \"2\", \"2\", \"4\", \"3\", \"3\", \"3\", \"4\", \"3\", \"3\", \"3\"], \"y\": [3, 3, 3, 2, 3, 4, 4, 1, 2, 5, 3, 2, 3, 4, 5, 4, 2, 3, 5, 1, 4, 4, 5, 4, 3, 2, 2, 2, 3, 4, 4, 3, 5, 3, 4, 5, 4, 4, 3, 3, 3, 4, 3, 4, 3, 2, 3, 2, 3, 4, 3, 3, 5, 3, 3, 3, 3, 2, 3, 2, 4, 5, 4, 4, 4, 4, 3, 3, 1, 4, 3, 3, 3, 3, 3, 3, 4, 2, 5, 4, 2, 3, 4, 3, 3, 4, 3, 3, 4, 1, 3, 5, 3, 3, 3, 1, 3, 3, 3, 3, 5, 4, 3, 3, 4, 3, 1, 3, 3, 4, 5, 1, 1, 5, 4, 4, 4, 4, 2, 4, 2, 5, 2, 4, 4, 5, 3, 4, 3, 5, 2, 3, 4, 2, 3, 3, 4, 3, 4, 3, 2, 3, 2, 4, 4, 4, 3, 3, 3, 5, 3, 4, 2, 5, 2, 4, 2, 2, 2, 5, 3, 4, 4, 3, 3, 5, 3, 2, 1, 4, 4, 3, 4, 3, 4, 4, 4, 3, 3, 2, 4, 2, 4, 3, 2, 3, 3, 2, 3, 1, 3, 3, 4, 3, 3, 3, 2, 3, 2, 5, 3, 4, 4, 3, 3, 4, 3, 3, 3, 4, 3, 3, 3, 4, 2, 4, 4, 2, 3, 3, 2, 3, 3, 3, 3, 3, 3, 3, 3, 2, 2, 5, 5, 2, 4, 3, 4, 5, 1, 5, 5, 3, 4, 3, 4, 3, 2, 4, 3, 3, 4, 3, 2, 3, 4, 4, 2, 3, 2, 4, 1, 3, 3, 2, 3, 2, 4, 3, 4, 3, 3, 5, 4, 5, 3, 4, 2, 4, 2, 5, 4, 2, 4, 4, 3, 3, 3, 2, 4, 3, 2, 4, 1, 4, 4, 3, 4, 3, 4, 2, 1, 3, 2, 4, 4, 5, 3, 5, 4, 2, 4, 5, 2, 1, 1, 3, 3, 3, 4, 2, 2, 3, 4, 3, 3, 3, 4, 4, 3, 5, 4, 3, 3, 4, 4, 4, 3, 3, 3, 3, 3, 3, 3, 3, 4, 3, 4, 4, 5, 4, 5, 3, 4, 5, 3, 3, 2, 3, 3, 3, 4, 3, 3, 2, 3, 2, 2, 2, 2, 2, 3, 4, 5, 4, 3, 4, 4, 1, 5, 2, 4, 4, 3, 4, 3, 4, 4, 3, 1, 5, 4, 5, 4, 2, 3, 3, 3, 2, 3, 4, 4, 1, 2, 5, 3, 2, 3, 4, 5, 4, 2, 3, 5, 1, 4, 4, 5, 4, 3, 2, 2, 2, 3, 4, 4, 3, 5, 3, 4, 5, 4, 4, 3, 3, 3, 4, 3, 4, 3, 2, 3, 2, 3, 4, 3, 3, 5, 3, 3, 3, 3, 2, 3, 2, 4, 5, 4, 4, 4, 4, 3, 3, 1, 4, 3, 3, 3, 3, 3, 3, 4, 2, 5, 4, 2, 3, 4, 3, 3, 4, 3, 3, 4, 1, 3, 5, 3, 3, 3, 1, 3, 3, 3, 3, 5, 4, 3, 3, 4, 3, 1, 3, 3, 4, 5, 1, 1, 5, 4, 4, 4, 4, 2, 4, 2, 5, 2, 4, 4, 5, 3, 4, 5, 2, 2, 4, 2, 3, 4, 2, 2, 3, 3, 3, 4, 1, 3, 3, 3, 3, 4, 3, 5, 2, 3, 3, 3, 2, 4, 4, 4, 4, 3, 3, 3, 3, 5, 3, 4, 2, 5, 2, 4, 2, 2, 2, 5, 4, 3, 4, 4, 3, 3, 5, 3, 2, 1, 4, 4, 3, 4, 3, 4, 4, 4, 3, 3, 2, 4, 2, 4, 3, 2, 3, 3, 2, 3, 1, 3, 3, 4, 3, 3, 3, 2, 3, 2, 5, 3, 4, 4, 3, 3, 4, 3, 3, 3, 4, 3, 3, 3, 4, 2, 4, 4, 2, 3, 3, 2, 3, 3, 3, 3, 3, 3, 3, 3, 2, 2, 5, 5, 2, 4, 3, 4, 5, 3, 3, 3, 1, 4, 2, 4, 3, 3, 1, 5, 5, 1, 3, 3, 5, 3, 4, 3, 3, 3, 2, 3, 4, 3, 3, 2, 4, 3, 3, 4, 3, 2, 3, 4, 4, 3, 2, 3, 4, 3, 4, 2, 3, 2, 2, 4, 2, 1, 3, 3, 2, 3, 4, 2, 4, 3, 4, 3, 3, 5, 4, 5, 2, 3, 4, 1, 2, 4, 2, 3, 2, 4, 5, 4, 2, 4, 4, 3, 3, 3, 3, 2, 4, 3, 2, 1, 4, 4, 3, 4, 3, 4, 2, 1, 3, 3, 2, 3, 5, 5, 4, 3, 2, 4, 3, 2, 3, 1, 4, 4, 4, 3, 2, 3, 2, 2, 5, 3, 3, 2, 3, 4, 3, 5, 3, 3, 4, 4, 3, 2, 5, 3, 2, 4, 4, 3, 3, 4, 4, 3, 3, 3, 3, 3, 3, 3, 4, 3, 4, 4, 3, 3, 2, 1, 3, 4, 3, 3, 4, 2, 3, 2, 2, 4, 3, 1, 3, 1, 3, 1, 3, 4, 1, 4, 5, 3, 3, 4, 5, 4, 5, 2, 4, 4, 2, 5, 1, 4, 4, 3, 3, 4, 4, 3, 5, 2, 1, 5, 3, 4, 3, 3, 4, 4, 5, 3, 4, 3, 2, 2, 4, 4, 4, 2, 3, 3, 3, 5, 4, 3, 4, 2, 3, 4, 3, 4, 5, 4, 5, 2, 4, 3, 3, 4, 3, 3, 4, 2, 1, 3, 4, 4, 5, 4, 4, 3, 2, 3, 2, 3, 2, 4, 4, 3, 3, 4, 3, 3, 4, 3, 1, 1, 3, 3, 4, 3, 2, 3, 3, 3, 5, 2, 4, 2, 1, 1, 1, 1, 1, 2, 2, 1, 5, 4, 3, 3, 2, 3, 1, 3, 3, 1, 4, 2, 1, 5, 3, 1, 1, 4, 1, 5, 3, 4, 4, 5, 3, 5, 3, 4, 2, 5, 5, 3, 3, 2, 4, 4, 4, 5, 3, 4, 4, 5, 4, 5, 3, 4, 3, 4, 5, 4, 2, 5, 3, 2, 5, 4, 3, 4, 4, 3, 4, 3, 3, 1, 5, 2, 3, 4, 3, 4, 5, 2, 3, 2, 1, 5, 2, 5, 3, 3, 2, 3, 3, 3, 3, 3, 2, 3, 2, 2, 2, 2, 3, 4, 5, 4, 3, 3, 4, 1, 5, 2, 4, 4, 3, 4, 3, 5, 4, 4, 3, 1, 4, 4], \"z\": [6, 4, 10, 2, 4, 10, 0, 6, 0, 0, 0, 4, 2, 2, 0, 4, 6, 4, 16, 4, 0, 0, 2, 0, 2, 14, 2, 4, 4, 16, 0, 0, 0, 0, 0, 0, 2, 7, 2, 8, 25, 8, 2, 0, 14, 8, 12, 4, 2, 2, 2, 2, 6, 0, 6, 8, 0, 4, 2, 2, 6, 6, 4, 2, 0, 2, 4, 4, 2, 12, 0, 0, 2, 2, 54, 6, 8, 0, 2, 12, 2, 4, 10, 4, 2, 6, 4, 4, 12, 18, 0, 4, 4, 0, 6, 2, 2, 2, 6, 0, 14, 0, 4, 26, 0, 10, 8, 2, 6, 4, 6, 0, 6, 10, 8, 2, 2, 0, 20, 6, 2, 6, 2, 18, 0, 0, 0, 2, 0, 8, 0, 0, 12, 16, 0, 0, 0, 0, 0, 0, 0, 8, 2, 2, 0, 0, 0, 2, 0, 0, 0, 6, 8, 0, 0, 2, 8, 6, 2, 4, 0, 6, 0, 2, 0, 16, 4, 0, 0, 0, 0, 2, 0, 0, 4, 4, 2, 4, 10, 4, 10, 2, 0, 56, 14, 12, 2, 0, 6, 4, 10, 0, 12, 8, 0, 0, 4, 8, 24, 0, 2, 6, 4, 18, 6, 28, 5, 10, 6, 6, 10, 13, 0, 15, 12, 2, 22, 13, 3, 4, 2, 0, 2, 0, 0, 16, 10, 2, 14, 10, 14, 4, 14, 2, 18, 10, 4, 20, 2, 0, 14, 2, 0, 0, 0, 6, 4, 16, 8, 0, 0, 6, 4, 0, 0, 2, 6, 12, 8, 0, 21, 2, 1, 4, 0, 13, 2, 8, 10, 0, 15, 4, 2, 2, 2, 6, 22, 15, 8, 30, 19, 1, 4, 4, 2, 5, 6, 6, 9, 11, 0, 12, 6, 8, 4, 0, 10, 0, 5, 14, 0, 0, 0, 20, 8, 0, 38, 0, 18, 0, 20, 3, 22, 14, 40, 0, 9, 0, 2, 23, 12, 3, 1, 0, 3, 3, 8, 7, 4, 2, 7, 0, 0, 0, 16, 12, 0, 7, 4, 4, 0, 11, 0, 4, 7, 9, 0, 0, 10, 8, 2, 7, 4, 4, 0, 4, 2, 4, 0, 0, 2, 0, 0, 0, 4, 0, 0, 0, 10, 4, 3, 8, 14, 0, 2, 4, 4, 0, 17, 4, 5, 2, 0, 14, 2, 7, 0, 0, 0, 11, 3, 3, 0, 5, 4, 2, 6, 0, 0, 6, 0, 2, 0, 0, 2, 0, 0, 0, 0, 6, 10, 2, 2, 6, 0, 0, 0, 2, 2, 6, 8, 0, 2, 4, 0, 2, 0, 0, 4, 4, 0, 4, 2, 8, 16, 8, 0, 0, 14, 4, 6, 2, 4, 2, 0, 0, 4, 0, 0, 2, 0, 8, 0, 2, 0, 0, 0, 0, 0, 2, 0, 0, 0, 6, 2, 0, 2, 0, 4, 0, 0, 1, 0, 14, 0, 2, 4, 2, 2, 4, 6, 4, 6, 6, 2, 6, 0, 2, 2, 4, 6, 0, 4, 2, 12, 0, 2, 16, 0, 10, 4, 4, 8, 2, 4, 4, 12, 10, 4, 6, 4, 6, 14, 2, 0, 6, 2, 4, 0, 2, 0, 0, 8, 4, 0, 10, 8, 6, 2, 12, 4, 12, 2, 4, 2, 0, 2, 10, 8, 4, 0, 6, 2, 6, 24, 0, 4, 2, 4, 22, 0, 0, 2, 6, 6, 16, 0, 0, 6, 2, 6, 0, 0, 14, 6, 4, 0, 0, 8, 4, 2, 2, 0, 10, 0, 0, 0, 0, 4, 0, 0, 0, 0, 0, 0, 4, 8, 4, 4, 0, 0, 32, 8, 6, 0, 0, 10, 6, 6, 0, 16, 0, 0, 8, 4, 16, 30, 0, 2, 4, 0, 21, 6, 14, 2, 4, 2, 0, 4, 15, 0, 10, 6, 2, 16, 10, 4, 0, 0, 12, 0, 9, 4, 4, 2, 0, 2, 0, 0, 0, 0, 0, 2, 0, 0, 4, 0, 18, 16, 14, 26, 6, 4, 10, 4, 2, 14, 16, 8, 4, 4, 8, 0, 7, 4, 2, 2, 10, 10, 10, 7, 4, 2, 12, 8, 0, 8, 4, 4, 2, 0, 0, 2, 2, 0, 4, 2, 4, 4, 4, 2, 0, 2, 8, 2, 2, 2, 2, 0, 8, 6, 0, 8, 4, 12, 16, 10, 2, 2, 8, 6, 6, 15, 6, 2, 8, 0, 0, 10, 22, 18, 2, 0, 12, 10, 0, 0, 0, 0, 0, 2, 0, 0, 0, 0, 2, 0, 0, 0, 0, 0, 0, 0, 0, 0, 0, 0, 2, 2, 2, 2, 2, 8, 2, 8, 9, 0, 4, 2, 14, 0, 2, 2, 12, 2, 2, 4, 0, 0, 0, 0, 0, 0, 2, 0, 4, 2, 0, 0, 2, 0, 6, 8, 0, 6, 8, 0, 4, 0, 0, 6, 18, 0, 4, 4, 0, 0, 10, 4, 16, 6, 0, 11, 9, 0, 2, 0, 21, 8, 5, 10, 5, 13, 10, 10, 5, 4, 11, 0, 6, 4, 0, 0, 5, 0, 0, 0, 0, 4, 0, 4, 0, 2, 0, 0, 4, 0, 7, 4, 8, 0, 8, 6, 3, 2, 0, 4, 0, 3, 0, 0, 4, 0, 2, 1, 0, 0, 2, 6, 9, 0, 1, 1, 0, 4, 2, 0, 4, 2, 0, 2, 11, 0, 4, 0, 2, 0, 1, 6, 0, 1, 6, 6, 0, 4, 12, 2, 5, 0, 0, 2, 0, 0, 0, 12, 8, 2, 0, 0, 0, 8, 0, 0, 0, 0, 1, 9, 0, 2, 8, 0, 0, 8, 0, 6, 0, 4, 2, 2, 0, 1, 0, 5, 1, 8, 0, 2, 0, 0, 11, 8, 11, 2, 8, 5, 0, 1, 2, 2, 8, 0, 0, 2, 0, 0, 0, 2, 4, 3, 5, 4, 2, 0, 0, 0, 6, 0, 0, 2, 0, 2, 0, 4, 9, 6, 4, 8, 9, 12, 8, 8, 8, 4, 0, 4, 2, 0, 0, 0, 5, 0, 3, 0, 0, 3, 2, 0, 0, 0, 3, 0, 0, 8, 5, 4, 4, 0, 0, 2, 0, 0, 5, 2, 0, 0, 5, 4, 0, 2, 0, 2, 0, 0, 6, 4, 0, 0, 0, 0, 0, 0, 3, 8, 4, 0, 4, 4, 1, 1, 10, 4, 0, 4, 0, 0, 0, 0, 4, 4, 4, 6, 6, 4]}],\n",
              "                        {\"coloraxis\": {\"colorbar\": {\"title\": {\"text\": \"freetime\"}}, \"colorscale\": [[0.0, \"#0d0887\"], [0.1111111111111111, \"#46039f\"], [0.2222222222222222, \"#7201a8\"], [0.3333333333333333, \"#9c179e\"], [0.4444444444444444, \"#bd3786\"], [0.5555555555555556, \"#d8576b\"], [0.6666666666666666, \"#ed7953\"], [0.7777777777777778, \"#fb9f3a\"], [0.8888888888888888, \"#fdca26\"], [1.0, \"#f0f921\"]]}, \"legend\": {\"itemsizing\": \"constant\", \"tracegroupgap\": 0}, \"margin\": {\"t\": 60}, \"scene\": {\"domain\": {\"x\": [0.0, 1.0], \"y\": [0.0, 1.0]}, \"xaxis\": {\"title\": {\"text\": \"G4\"}}, \"yaxis\": {\"title\": {\"text\": \"freetime\"}}, \"zaxis\": {\"title\": {\"text\": \"absences\"}}}, \"template\": {\"data\": {\"bar\": [{\"error_x\": {\"color\": \"#2a3f5f\"}, \"error_y\": {\"color\": \"#2a3f5f\"}, \"marker\": {\"line\": {\"color\": \"#E5ECF6\", \"width\": 0.5}}, \"type\": \"bar\"}], \"barpolar\": [{\"marker\": {\"line\": {\"color\": \"#E5ECF6\", \"width\": 0.5}}, \"type\": \"barpolar\"}], \"carpet\": [{\"aaxis\": {\"endlinecolor\": \"#2a3f5f\", \"gridcolor\": \"white\", \"linecolor\": \"white\", \"minorgridcolor\": \"white\", \"startlinecolor\": \"#2a3f5f\"}, \"baxis\": {\"endlinecolor\": \"#2a3f5f\", \"gridcolor\": \"white\", \"linecolor\": \"white\", \"minorgridcolor\": \"white\", \"startlinecolor\": \"#2a3f5f\"}, \"type\": \"carpet\"}], \"choropleth\": [{\"colorbar\": {\"outlinewidth\": 0, \"ticks\": \"\"}, \"type\": \"choropleth\"}], \"contour\": [{\"colorbar\": {\"outlinewidth\": 0, \"ticks\": \"\"}, \"colorscale\": [[0.0, \"#0d0887\"], [0.1111111111111111, \"#46039f\"], [0.2222222222222222, \"#7201a8\"], [0.3333333333333333, \"#9c179e\"], [0.4444444444444444, \"#bd3786\"], [0.5555555555555556, \"#d8576b\"], [0.6666666666666666, \"#ed7953\"], [0.7777777777777778, \"#fb9f3a\"], [0.8888888888888888, \"#fdca26\"], [1.0, \"#f0f921\"]], \"type\": \"contour\"}], \"contourcarpet\": [{\"colorbar\": {\"outlinewidth\": 0, \"ticks\": \"\"}, \"type\": \"contourcarpet\"}], \"heatmap\": [{\"colorbar\": {\"outlinewidth\": 0, \"ticks\": \"\"}, \"colorscale\": [[0.0, \"#0d0887\"], [0.1111111111111111, \"#46039f\"], [0.2222222222222222, \"#7201a8\"], [0.3333333333333333, \"#9c179e\"], [0.4444444444444444, \"#bd3786\"], [0.5555555555555556, \"#d8576b\"], [0.6666666666666666, \"#ed7953\"], [0.7777777777777778, \"#fb9f3a\"], [0.8888888888888888, \"#fdca26\"], [1.0, \"#f0f921\"]], \"type\": \"heatmap\"}], \"heatmapgl\": [{\"colorbar\": {\"outlinewidth\": 0, \"ticks\": \"\"}, \"colorscale\": [[0.0, \"#0d0887\"], [0.1111111111111111, \"#46039f\"], [0.2222222222222222, \"#7201a8\"], [0.3333333333333333, \"#9c179e\"], [0.4444444444444444, \"#bd3786\"], [0.5555555555555556, \"#d8576b\"], [0.6666666666666666, \"#ed7953\"], [0.7777777777777778, \"#fb9f3a\"], [0.8888888888888888, \"#fdca26\"], [1.0, \"#f0f921\"]], \"type\": \"heatmapgl\"}], \"histogram\": [{\"marker\": {\"colorbar\": {\"outlinewidth\": 0, \"ticks\": \"\"}}, \"type\": \"histogram\"}], \"histogram2d\": [{\"colorbar\": {\"outlinewidth\": 0, \"ticks\": \"\"}, \"colorscale\": [[0.0, \"#0d0887\"], [0.1111111111111111, \"#46039f\"], [0.2222222222222222, \"#7201a8\"], [0.3333333333333333, \"#9c179e\"], [0.4444444444444444, \"#bd3786\"], [0.5555555555555556, \"#d8576b\"], [0.6666666666666666, \"#ed7953\"], [0.7777777777777778, \"#fb9f3a\"], [0.8888888888888888, \"#fdca26\"], [1.0, \"#f0f921\"]], \"type\": \"histogram2d\"}], \"histogram2dcontour\": [{\"colorbar\": {\"outlinewidth\": 0, \"ticks\": \"\"}, \"colorscale\": [[0.0, \"#0d0887\"], [0.1111111111111111, \"#46039f\"], [0.2222222222222222, \"#7201a8\"], [0.3333333333333333, \"#9c179e\"], [0.4444444444444444, \"#bd3786\"], [0.5555555555555556, \"#d8576b\"], [0.6666666666666666, \"#ed7953\"], [0.7777777777777778, \"#fb9f3a\"], [0.8888888888888888, \"#fdca26\"], [1.0, \"#f0f921\"]], \"type\": \"histogram2dcontour\"}], \"mesh3d\": [{\"colorbar\": {\"outlinewidth\": 0, \"ticks\": \"\"}, \"type\": \"mesh3d\"}], \"parcoords\": [{\"line\": {\"colorbar\": {\"outlinewidth\": 0, \"ticks\": \"\"}}, \"type\": \"parcoords\"}], \"pie\": [{\"automargin\": true, \"type\": \"pie\"}], \"scatter\": [{\"marker\": {\"colorbar\": {\"outlinewidth\": 0, \"ticks\": \"\"}}, \"type\": \"scatter\"}], \"scatter3d\": [{\"line\": {\"colorbar\": {\"outlinewidth\": 0, \"ticks\": \"\"}}, \"marker\": {\"colorbar\": {\"outlinewidth\": 0, \"ticks\": \"\"}}, \"type\": \"scatter3d\"}], \"scattercarpet\": [{\"marker\": {\"colorbar\": {\"outlinewidth\": 0, \"ticks\": \"\"}}, \"type\": \"scattercarpet\"}], \"scattergeo\": [{\"marker\": {\"colorbar\": {\"outlinewidth\": 0, \"ticks\": \"\"}}, \"type\": \"scattergeo\"}], \"scattergl\": [{\"marker\": {\"colorbar\": {\"outlinewidth\": 0, \"ticks\": \"\"}}, \"type\": \"scattergl\"}], \"scattermapbox\": [{\"marker\": {\"colorbar\": {\"outlinewidth\": 0, \"ticks\": \"\"}}, \"type\": \"scattermapbox\"}], \"scatterpolar\": [{\"marker\": {\"colorbar\": {\"outlinewidth\": 0, \"ticks\": \"\"}}, \"type\": \"scatterpolar\"}], \"scatterpolargl\": [{\"marker\": {\"colorbar\": {\"outlinewidth\": 0, \"ticks\": \"\"}}, \"type\": \"scatterpolargl\"}], \"scatterternary\": [{\"marker\": {\"colorbar\": {\"outlinewidth\": 0, \"ticks\": \"\"}}, \"type\": \"scatterternary\"}], \"surface\": [{\"colorbar\": {\"outlinewidth\": 0, \"ticks\": \"\"}, \"colorscale\": [[0.0, \"#0d0887\"], [0.1111111111111111, \"#46039f\"], [0.2222222222222222, \"#7201a8\"], [0.3333333333333333, \"#9c179e\"], [0.4444444444444444, \"#bd3786\"], [0.5555555555555556, \"#d8576b\"], [0.6666666666666666, \"#ed7953\"], [0.7777777777777778, \"#fb9f3a\"], [0.8888888888888888, \"#fdca26\"], [1.0, \"#f0f921\"]], \"type\": \"surface\"}], \"table\": [{\"cells\": {\"fill\": {\"color\": \"#EBF0F8\"}, \"line\": {\"color\": \"white\"}}, \"header\": {\"fill\": {\"color\": \"#C8D4E3\"}, \"line\": {\"color\": \"white\"}}, \"type\": \"table\"}]}, \"layout\": {\"annotationdefaults\": {\"arrowcolor\": \"#2a3f5f\", \"arrowhead\": 0, \"arrowwidth\": 1}, \"coloraxis\": {\"colorbar\": {\"outlinewidth\": 0, \"ticks\": \"\"}}, \"colorscale\": {\"diverging\": [[0, \"#8e0152\"], [0.1, \"#c51b7d\"], [0.2, \"#de77ae\"], [0.3, \"#f1b6da\"], [0.4, \"#fde0ef\"], [0.5, \"#f7f7f7\"], [0.6, \"#e6f5d0\"], [0.7, \"#b8e186\"], [0.8, \"#7fbc41\"], [0.9, \"#4d9221\"], [1, \"#276419\"]], \"sequential\": [[0.0, \"#0d0887\"], [0.1111111111111111, \"#46039f\"], [0.2222222222222222, \"#7201a8\"], [0.3333333333333333, \"#9c179e\"], [0.4444444444444444, \"#bd3786\"], [0.5555555555555556, \"#d8576b\"], [0.6666666666666666, \"#ed7953\"], [0.7777777777777778, \"#fb9f3a\"], [0.8888888888888888, \"#fdca26\"], [1.0, \"#f0f921\"]], \"sequentialminus\": [[0.0, \"#0d0887\"], [0.1111111111111111, \"#46039f\"], [0.2222222222222222, \"#7201a8\"], [0.3333333333333333, \"#9c179e\"], [0.4444444444444444, \"#bd3786\"], [0.5555555555555556, \"#d8576b\"], [0.6666666666666666, \"#ed7953\"], [0.7777777777777778, \"#fb9f3a\"], [0.8888888888888888, \"#fdca26\"], [1.0, \"#f0f921\"]]}, \"colorway\": [\"#636efa\", \"#EF553B\", \"#00cc96\", \"#ab63fa\", \"#FFA15A\", \"#19d3f3\", \"#FF6692\", \"#B6E880\", \"#FF97FF\", \"#FECB52\"], \"font\": {\"color\": \"#2a3f5f\"}, \"geo\": {\"bgcolor\": \"white\", \"lakecolor\": \"white\", \"landcolor\": \"#E5ECF6\", \"showlakes\": true, \"showland\": true, \"subunitcolor\": \"white\"}, \"hoverlabel\": {\"align\": \"left\"}, \"hovermode\": \"closest\", \"mapbox\": {\"style\": \"light\"}, \"paper_bgcolor\": \"white\", \"plot_bgcolor\": \"#E5ECF6\", \"polar\": {\"angularaxis\": {\"gridcolor\": \"white\", \"linecolor\": \"white\", \"ticks\": \"\"}, \"bgcolor\": \"#E5ECF6\", \"radialaxis\": {\"gridcolor\": \"white\", \"linecolor\": \"white\", \"ticks\": \"\"}}, \"scene\": {\"xaxis\": {\"backgroundcolor\": \"#E5ECF6\", \"gridcolor\": \"white\", \"gridwidth\": 2, \"linecolor\": \"white\", \"showbackground\": true, \"ticks\": \"\", \"zerolinecolor\": \"white\"}, \"yaxis\": {\"backgroundcolor\": \"#E5ECF6\", \"gridcolor\": \"white\", \"gridwidth\": 2, \"linecolor\": \"white\", \"showbackground\": true, \"ticks\": \"\", \"zerolinecolor\": \"white\"}, \"zaxis\": {\"backgroundcolor\": \"#E5ECF6\", \"gridcolor\": \"white\", \"gridwidth\": 2, \"linecolor\": \"white\", \"showbackground\": true, \"ticks\": \"\", \"zerolinecolor\": \"white\"}}, \"shapedefaults\": {\"line\": {\"color\": \"#2a3f5f\"}}, \"ternary\": {\"aaxis\": {\"gridcolor\": \"white\", \"linecolor\": \"white\", \"ticks\": \"\"}, \"baxis\": {\"gridcolor\": \"white\", \"linecolor\": \"white\", \"ticks\": \"\"}, \"bgcolor\": \"#E5ECF6\", \"caxis\": {\"gridcolor\": \"white\", \"linecolor\": \"white\", \"ticks\": \"\"}}, \"title\": {\"x\": 0.05}, \"xaxis\": {\"automargin\": true, \"gridcolor\": \"white\", \"linecolor\": \"white\", \"ticks\": \"\", \"title\": {\"standoff\": 15}, \"zerolinecolor\": \"white\", \"zerolinewidth\": 2}, \"yaxis\": {\"automargin\": true, \"gridcolor\": \"white\", \"linecolor\": \"white\", \"ticks\": \"\", \"title\": {\"standoff\": 15}, \"zerolinecolor\": \"white\", \"zerolinewidth\": 2}}}},\n",
              "                        {\"responsive\": true}\n",
              "                    ).then(function(){\n",
              "                            \n",
              "var gd = document.getElementById('3748d525-a5ef-4889-8f1e-61999c95b1fd');\n",
              "var x = new MutationObserver(function (mutations, observer) {{\n",
              "        var display = window.getComputedStyle(gd).display;\n",
              "        if (!display || display === 'none') {{\n",
              "            console.log([gd, 'removed!']);\n",
              "            Plotly.purge(gd);\n",
              "            observer.disconnect();\n",
              "        }}\n",
              "}});\n",
              "\n",
              "// Listen for the removal of the full notebook cells\n",
              "var notebookContainer = gd.closest('#notebook-container');\n",
              "if (notebookContainer) {{\n",
              "    x.observe(notebookContainer, {childList: true});\n",
              "}}\n",
              "\n",
              "// Listen for the clearing of the current output cell\n",
              "var outputEl = gd.closest('.output');\n",
              "if (outputEl) {{\n",
              "    x.observe(outputEl, {childList: true});\n",
              "}}\n",
              "\n",
              "                        })\n",
              "                };\n",
              "                \n",
              "            </script>\n",
              "        </div>\n",
              "</body>\n",
              "</html>"
            ]
          },
          "metadata": {}
        }
      ]
    },
    {
      "cell_type": "code",
      "metadata": {
        "id": "CX758gFS-ABy"
      },
      "source": [
        "data_new=data_new.drop(data.loc[data['absences'] == 56].index, axis=0)\n",
        "data_new=data_new.drop(data.loc[data['absences'] == 54].index, axis=0)  #удаляем ещё два больших значения, которые мешают"
      ],
      "execution_count": null,
      "outputs": []
    },
    {
      "cell_type": "code",
      "metadata": {
        "colab": {
          "base_uri": "https://localhost:8080/",
          "height": 542
        },
        "id": "lxeqj0if9__t",
        "outputId": "c0463628-8e68-4fee-f0e0-e67dc35bc267"
      },
      "source": [
        "# fig = px.scatter_3d(data_new, x='G4', y='freetime', z='absences', color='freetime', size='absences', size_max=40)  #строим график по 3 переменным\n",
        "# fig.show()"
      ],
      "execution_count": null,
      "outputs": [
        {
          "output_type": "display_data",
          "data": {
            "text/html": [
              "<html>\n",
              "<head><meta charset=\"utf-8\" /></head>\n",
              "<body>\n",
              "    <div>\n",
              "            <script src=\"https://cdnjs.cloudflare.com/ajax/libs/mathjax/2.7.5/MathJax.js?config=TeX-AMS-MML_SVG\"></script><script type=\"text/javascript\">if (window.MathJax) {MathJax.Hub.Config({SVG: {font: \"STIX-Web\"}});}</script>\n",
              "                <script type=\"text/javascript\">window.PlotlyConfig = {MathJaxConfig: 'local'};</script>\n",
              "        <script src=\"https://cdn.plot.ly/plotly-latest.min.js\"></script>    \n",
              "            <div id=\"34321d21-58c6-4839-a1a1-0b2d51da4d1f\" class=\"plotly-graph-div\" style=\"height:525px; width:100%;\"></div>\n",
              "            <script type=\"text/javascript\">\n",
              "                \n",
              "                    window.PLOTLYENV=window.PLOTLYENV || {};\n",
              "                    \n",
              "                if (document.getElementById(\"34321d21-58c6-4839-a1a1-0b2d51da4d1f\")) {\n",
              "                    Plotly.newPlot(\n",
              "                        '34321d21-58c6-4839-a1a1-0b2d51da4d1f',\n",
              "                        [{\"hoverlabel\": {\"namelength\": 0}, \"hovertemplate\": \"G4=%{x}<br>freetime=%{marker.color}<br>absences=%{marker.size}\", \"legendgroup\": \"\", \"marker\": {\"color\": [3, 3, 3, 2, 3, 4, 4, 1, 2, 5, 3, 2, 3, 4, 5, 4, 2, 3, 5, 1, 4, 4, 5, 4, 3, 2, 2, 2, 3, 4, 4, 3, 5, 3, 4, 5, 4, 4, 3, 3, 3, 4, 3, 4, 3, 2, 3, 2, 3, 4, 3, 3, 5, 3, 3, 3, 3, 2, 3, 2, 4, 5, 4, 4, 4, 4, 3, 3, 1, 4, 3, 3, 3, 3, 3, 4, 2, 5, 4, 2, 3, 4, 3, 3, 4, 3, 3, 4, 1, 3, 5, 3, 3, 3, 1, 3, 3, 3, 3, 5, 4, 3, 3, 4, 3, 1, 3, 3, 4, 5, 1, 1, 5, 4, 4, 4, 4, 2, 4, 2, 5, 2, 4, 4, 5, 3, 4, 3, 5, 2, 3, 4, 2, 3, 3, 4, 3, 4, 3, 2, 3, 2, 4, 4, 4, 3, 3, 3, 5, 3, 4, 2, 5, 2, 4, 2, 2, 2, 5, 3, 4, 4, 3, 3, 5, 3, 2, 1, 4, 4, 3, 4, 3, 4, 4, 4, 3, 3, 2, 4, 2, 4, 2, 3, 3, 2, 3, 1, 3, 3, 4, 3, 3, 3, 2, 3, 2, 5, 3, 4, 4, 3, 3, 4, 3, 3, 3, 4, 3, 3, 3, 4, 2, 4, 4, 2, 3, 3, 2, 3, 3, 3, 3, 3, 3, 3, 3, 2, 2, 5, 5, 2, 4, 3, 4, 5, 1, 5, 5, 3, 4, 3, 4, 3, 2, 4, 3, 3, 4, 3, 2, 3, 4, 4, 2, 3, 2, 4, 1, 3, 3, 2, 3, 2, 4, 3, 4, 3, 3, 5, 4, 5, 3, 4, 2, 4, 2, 5, 4, 2, 4, 4, 3, 3, 3, 2, 4, 3, 2, 4, 1, 4, 4, 3, 4, 3, 4, 2, 1, 3, 2, 4, 4, 5, 3, 5, 4, 2, 4, 5, 2, 1, 1, 3, 3, 3, 4, 2, 2, 3, 4, 3, 3, 3, 4, 4, 3, 5, 4, 3, 3, 4, 4, 4, 3, 3, 3, 3, 3, 3, 3, 3, 4, 3, 4, 4, 5, 4, 5, 3, 4, 5, 3, 3, 2, 3, 3, 3, 4, 3, 3, 2, 3, 2, 2, 2, 2, 2, 3, 4, 5, 4, 3, 4, 4, 1, 5, 2, 4, 4, 3, 4, 3, 4, 4, 3, 1, 5, 4, 5, 4, 2, 3, 3, 3, 2, 3, 4, 4, 1, 2, 5, 3, 2, 3, 4, 5, 4, 2, 3, 5, 1, 4, 4, 5, 4, 3, 2, 2, 2, 3, 4, 4, 3, 5, 3, 4, 5, 4, 4, 3, 3, 3, 4, 3, 4, 3, 2, 3, 2, 3, 4, 3, 3, 5, 3, 3, 3, 3, 2, 3, 2, 4, 5, 4, 4, 4, 4, 3, 3, 1, 4, 3, 3, 3, 3, 3, 3, 4, 2, 5, 4, 2, 3, 4, 3, 3, 4, 3, 3, 4, 1, 3, 5, 3, 3, 3, 1, 3, 3, 3, 3, 5, 4, 3, 3, 4, 3, 1, 3, 3, 4, 5, 1, 1, 5, 4, 4, 4, 4, 2, 4, 2, 5, 2, 4, 4, 5, 3, 4, 5, 2, 2, 4, 2, 3, 4, 2, 2, 3, 3, 3, 4, 1, 3, 3, 3, 3, 4, 3, 5, 2, 3, 3, 3, 2, 4, 4, 4, 4, 3, 3, 3, 3, 5, 3, 4, 2, 5, 2, 4, 2, 2, 2, 5, 4, 3, 4, 4, 3, 3, 5, 3, 2, 1, 4, 4, 3, 4, 3, 4, 4, 4, 3, 3, 2, 4, 2, 4, 3, 2, 3, 3, 2, 3, 1, 3, 3, 4, 3, 3, 3, 2, 3, 2, 5, 3, 4, 4, 3, 3, 4, 3, 3, 3, 4, 3, 3, 3, 4, 2, 4, 4, 2, 3, 3, 2, 3, 3, 3, 3, 3, 3, 3, 3, 2, 2, 5, 5, 2, 4, 3, 4, 5, 3, 3, 3, 1, 4, 2, 4, 3, 3, 1, 5, 5, 1, 3, 3, 5, 3, 4, 3, 3, 3, 2, 3, 4, 3, 3, 2, 4, 3, 3, 4, 3, 2, 3, 4, 4, 3, 2, 3, 4, 3, 4, 2, 3, 2, 2, 4, 2, 1, 3, 3, 2, 3, 4, 2, 4, 3, 4, 3, 3, 5, 4, 5, 2, 3, 4, 1, 2, 4, 2, 3, 2, 4, 5, 4, 2, 4, 4, 3, 3, 3, 3, 2, 4, 3, 2, 1, 4, 4, 3, 4, 3, 4, 2, 1, 3, 3, 2, 3, 5, 5, 4, 3, 2, 4, 3, 2, 3, 1, 4, 4, 4, 3, 2, 3, 2, 2, 5, 3, 3, 2, 3, 4, 3, 5, 3, 3, 4, 4, 3, 2, 5, 3, 2, 4, 4, 3, 3, 4, 4, 3, 3, 3, 3, 3, 3, 3, 4, 3, 4, 4, 3, 3, 2, 1, 3, 4, 3, 3, 4, 2, 3, 2, 2, 4, 3, 1, 3, 1, 3, 1, 3, 4, 1, 4, 5, 3, 3, 4, 5, 4, 5, 2, 4, 4, 2, 5, 1, 4, 4, 3, 3, 4, 4, 3, 5, 2, 1, 5, 3, 4, 3, 3, 4, 4, 5, 3, 4, 3, 2, 2, 4, 4, 4, 2, 3, 3, 3, 5, 4, 3, 4, 2, 3, 4, 3, 4, 5, 4, 5, 2, 4, 3, 3, 4, 3, 3, 4, 2, 1, 3, 4, 4, 5, 4, 4, 3, 2, 3, 2, 3, 2, 4, 4, 3, 3, 4, 3, 3, 4, 3, 1, 1, 3, 3, 4, 3, 2, 3, 3, 3, 5, 2, 4, 2, 1, 1, 1, 1, 1, 2, 2, 1, 5, 4, 3, 3, 2, 3, 1, 3, 3, 1, 4, 2, 1, 5, 3, 1, 1, 4, 1, 5, 3, 4, 4, 5, 3, 5, 3, 4, 2, 5, 5, 3, 3, 2, 4, 4, 4, 5, 3, 4, 4, 5, 4, 5, 3, 4, 3, 4, 5, 4, 2, 5, 3, 2, 5, 4, 3, 4, 4, 3, 4, 3, 3, 1, 5, 2, 3, 4, 3, 4, 5, 2, 3, 2, 1, 5, 2, 5, 3, 3, 2, 3, 3, 3, 3, 3, 2, 3, 2, 2, 2, 2, 3, 4, 5, 4, 3, 3, 4, 1, 5, 2, 4, 4, 3, 4, 3, 5, 4, 4, 3, 1, 4, 4], \"coloraxis\": \"coloraxis\", \"size\": [6, 4, 10, 2, 4, 10, 0, 6, 0, 0, 0, 4, 2, 2, 0, 4, 6, 4, 16, 4, 0, 0, 2, 0, 2, 14, 2, 4, 4, 16, 0, 0, 0, 0, 0, 0, 2, 7, 2, 8, 25, 8, 2, 0, 14, 8, 12, 4, 2, 2, 2, 2, 6, 0, 6, 8, 0, 4, 2, 2, 6, 6, 4, 2, 0, 2, 4, 4, 2, 12, 0, 0, 2, 2, 6, 8, 0, 2, 12, 2, 4, 10, 4, 2, 6, 4, 4, 12, 18, 0, 4, 4, 0, 6, 2, 2, 2, 6, 0, 14, 0, 4, 26, 0, 10, 8, 2, 6, 4, 6, 0, 6, 10, 8, 2, 2, 0, 20, 6, 2, 6, 2, 18, 0, 0, 0, 2, 0, 8, 0, 0, 12, 16, 0, 0, 0, 0, 0, 0, 0, 8, 2, 2, 0, 0, 0, 2, 0, 0, 0, 6, 8, 0, 0, 2, 8, 6, 2, 4, 0, 6, 0, 2, 0, 16, 4, 0, 0, 0, 0, 2, 0, 0, 4, 4, 2, 4, 10, 4, 10, 2, 0, 14, 12, 2, 0, 6, 4, 10, 0, 12, 8, 0, 0, 4, 8, 24, 0, 2, 6, 4, 18, 6, 28, 5, 10, 6, 6, 10, 13, 0, 15, 12, 2, 22, 13, 3, 4, 2, 0, 2, 0, 0, 16, 10, 2, 14, 10, 14, 4, 14, 2, 18, 10, 4, 20, 2, 0, 14, 2, 0, 0, 0, 6, 4, 16, 8, 0, 0, 6, 4, 0, 0, 2, 6, 12, 8, 0, 21, 2, 1, 4, 0, 13, 2, 8, 10, 0, 15, 4, 2, 2, 2, 6, 22, 15, 8, 30, 19, 1, 4, 4, 2, 5, 6, 6, 9, 11, 0, 12, 6, 8, 4, 0, 10, 0, 5, 14, 0, 0, 0, 20, 8, 0, 38, 0, 18, 0, 20, 3, 22, 14, 40, 0, 9, 0, 2, 23, 12, 3, 1, 0, 3, 3, 8, 7, 4, 2, 7, 0, 0, 0, 16, 12, 0, 7, 4, 4, 0, 11, 0, 4, 7, 9, 0, 0, 10, 8, 2, 7, 4, 4, 0, 4, 2, 4, 0, 0, 2, 0, 0, 0, 4, 0, 0, 0, 10, 4, 3, 8, 14, 0, 2, 4, 4, 0, 17, 4, 5, 2, 0, 14, 2, 7, 0, 0, 0, 11, 3, 3, 0, 5, 4, 2, 6, 0, 0, 6, 0, 2, 0, 0, 2, 0, 0, 0, 0, 6, 10, 2, 2, 6, 0, 0, 0, 2, 2, 6, 8, 0, 2, 4, 0, 2, 0, 0, 4, 4, 0, 4, 2, 8, 16, 8, 0, 0, 14, 4, 6, 2, 4, 2, 0, 0, 4, 0, 0, 2, 0, 8, 0, 2, 0, 0, 0, 0, 0, 2, 0, 0, 0, 6, 2, 0, 2, 0, 4, 0, 0, 1, 0, 14, 0, 2, 4, 2, 2, 4, 6, 4, 6, 6, 2, 6, 0, 2, 2, 4, 6, 0, 4, 2, 12, 0, 2, 16, 0, 10, 4, 4, 8, 2, 4, 4, 12, 10, 4, 6, 4, 6, 14, 2, 0, 6, 2, 4, 0, 2, 0, 0, 8, 4, 0, 10, 8, 6, 2, 12, 4, 12, 2, 4, 2, 0, 2, 10, 8, 4, 0, 6, 2, 6, 24, 0, 4, 2, 4, 22, 0, 0, 2, 6, 6, 16, 0, 0, 6, 2, 6, 0, 0, 14, 6, 4, 0, 0, 8, 4, 2, 2, 0, 10, 0, 0, 0, 0, 4, 0, 0, 0, 0, 0, 0, 4, 8, 4, 4, 0, 0, 32, 8, 6, 0, 0, 10, 6, 6, 0, 16, 0, 0, 8, 4, 16, 30, 0, 2, 4, 0, 21, 6, 14, 2, 4, 2, 0, 4, 15, 0, 10, 6, 2, 16, 10, 4, 0, 0, 12, 0, 9, 4, 4, 2, 0, 2, 0, 0, 0, 0, 0, 2, 0, 0, 4, 0, 18, 16, 14, 26, 6, 4, 10, 4, 2, 14, 16, 8, 4, 4, 8, 0, 7, 4, 2, 2, 10, 10, 10, 7, 4, 2, 12, 8, 0, 8, 4, 4, 2, 0, 0, 2, 2, 0, 4, 2, 4, 4, 4, 2, 0, 2, 8, 2, 2, 2, 2, 0, 8, 6, 0, 8, 4, 12, 16, 10, 2, 2, 8, 6, 6, 15, 6, 2, 8, 0, 0, 10, 22, 18, 2, 0, 12, 10, 0, 0, 0, 0, 0, 2, 0, 0, 0, 0, 2, 0, 0, 0, 0, 0, 0, 0, 0, 0, 0, 0, 2, 2, 2, 2, 2, 8, 2, 8, 9, 0, 4, 2, 14, 0, 2, 2, 12, 2, 2, 4, 0, 0, 0, 0, 0, 0, 2, 0, 4, 2, 0, 0, 2, 0, 6, 8, 0, 6, 8, 0, 4, 0, 0, 6, 18, 0, 4, 4, 0, 0, 10, 4, 16, 6, 0, 11, 9, 0, 2, 0, 21, 8, 5, 10, 5, 13, 10, 10, 5, 4, 11, 0, 6, 4, 0, 0, 5, 0, 0, 0, 0, 4, 0, 4, 0, 2, 0, 0, 4, 0, 7, 4, 8, 0, 8, 6, 3, 2, 0, 4, 0, 3, 0, 0, 4, 0, 2, 1, 0, 0, 2, 6, 9, 0, 1, 1, 0, 4, 2, 0, 4, 2, 0, 2, 11, 0, 4, 0, 2, 0, 1, 6, 0, 1, 6, 6, 0, 4, 12, 2, 5, 0, 0, 2, 0, 0, 0, 12, 8, 2, 0, 0, 0, 8, 0, 0, 0, 0, 1, 9, 0, 2, 8, 0, 0, 8, 0, 6, 0, 4, 2, 2, 0, 1, 0, 5, 1, 8, 0, 2, 0, 0, 11, 8, 11, 2, 8, 5, 0, 1, 2, 2, 8, 0, 0, 2, 0, 0, 0, 2, 4, 3, 5, 4, 2, 0, 0, 0, 6, 0, 0, 2, 0, 2, 0, 4, 9, 6, 4, 8, 9, 12, 8, 8, 8, 4, 0, 4, 2, 0, 0, 0, 5, 0, 3, 0, 0, 3, 2, 0, 0, 0, 3, 0, 0, 8, 5, 4, 4, 0, 0, 2, 0, 0, 5, 2, 0, 0, 5, 4, 0, 2, 0, 2, 0, 0, 6, 4, 0, 0, 0, 0, 0, 0, 3, 8, 4, 0, 4, 4, 1, 1, 10, 4, 0, 4, 0, 0, 0, 0, 4, 4, 4, 6, 6, 4], \"sizemode\": \"area\", \"sizeref\": 0.025, \"symbol\": \"circle\"}, \"mode\": \"markers\", \"name\": \"\", \"scene\": \"scene\", \"showlegend\": false, \"type\": \"scatter3d\", \"x\": [\"2\", \"2\", \"3\", \"4\", \"3\", \"4\", \"3\", \"2\", \"5\", \"4\", \"3\", \"3\", \"4\", \"3\", \"4\", \"4\", \"4\", \"3\", \"2\", \"3\", \"4\", \"4\", \"4\", \"3\", \"3\", \"3\", \"3\", \"4\", \"3\", \"3\", \"3\", \"4\", \"4\", \"3\", \"4\", \"2\", \"5\", \"4\", \"3\", \"3\", \"3\", \"3\", \"5\", \"3\", \"3\", \"2\", \"3\", \"5\", \"4\", \"2\", \"3\", \"3\", \"3\", \"3\", \"3\", \"3\", \"4\", \"4\", \"3\", \"4\", \"3\", \"3\", \"3\", \"3\", \"3\", \"4\", \"3\", \"2\", \"3\", \"4\", \"4\", \"3\", \"2\", \"4\", \"3\", \"3\", \"3\", \"3\", \"2\", \"3\", \"3\", \"2\", \"4\", \"3\", \"3\", \"2\", \"4\", \"3\", \"2\", \"3\", \"5\", \"2\", \"3\", \"4\", \"3\", \"4\", \"3\", \"4\", \"3\", \"2\", \"4\", \"4\", \"2\", \"5\", \"3\", \"3\", \"5\", \"3\", \"4\", \"5\", \"3\", \"3\", \"5\", \"3\", \"4\", \"4\", \"3\", \"3\", \"3\", \"4\", \"4\", \"3\", \"3\", \"3\", \"3\", \"3\", \"3\", \"2\", \"5\", \"2\", \"2\", \"3\", \"3\", \"2\", \"2\", \"2\", \"2\", \"3\", \"4\", \"2\", \"3\", \"3\", \"3\", \"2\", \"3\", \"2\", \"3\", \"2\", \"3\", \"2\", \"4\", \"3\", \"2\", \"3\", \"3\", \"3\", \"3\", \"4\", \"3\", \"2\", \"2\", \"2\", \"3\", \"2\", \"3\", \"3\", \"4\", \"2\", \"4\", \"2\", \"4\", \"3\", \"2\", \"3\", \"3\", \"3\", \"2\", \"3\", \"3\", \"3\", \"3\", \"4\", \"3\", \"3\", \"3\", \"4\", \"3\", \"3\", \"3\", \"3\", \"3\", \"3\", \"4\", \"4\", \"4\", \"3\", \"5\", \"3\", \"4\", \"3\", \"3\", \"2\", \"3\", \"3\", \"2\", \"3\", \"3\", \"2\", \"3\", \"3\", \"4\", \"3\", \"3\", \"4\", \"2\", \"3\", \"3\", \"3\", \"2\", \"2\", \"4\", \"3\", \"4\", \"2\", \"4\", \"3\", \"3\", \"3\", \"4\", \"3\", \"3\", \"3\", \"2\", \"3\", \"3\", \"3\", \"3\", \"2\", \"3\", \"3\", \"2\", \"3\", \"2\", \"5\", \"3\", \"3\", \"2\", \"4\", \"3\", \"3\", \"3\", \"3\", \"3\", \"3\", \"3\", \"3\", \"4\", \"2\", \"5\", \"3\", \"3\", \"3\", \"2\", \"4\", \"3\", \"3\", \"3\", \"2\", \"3\", \"4\", \"3\", \"4\", \"3\", \"3\", \"3\", \"3\", \"3\", \"3\", \"3\", \"3\", \"3\", \"3\", \"3\", \"5\", \"3\", \"4\", \"4\", \"3\", \"4\", \"3\", \"5\", \"4\", \"3\", \"2\", \"3\", \"4\", \"4\", \"3\", \"3\", \"4\", \"5\", \"3\", \"3\", \"5\", \"3\", \"3\", \"3\", \"2\", \"3\", \"3\", \"3\", \"3\", \"3\", \"2\", \"3\", \"3\", \"3\", \"3\", \"3\", \"3\", \"4\", \"4\", \"3\", \"4\", \"3\", \"3\", \"4\", \"3\", \"4\", \"2\", \"2\", \"2\", \"4\", \"3\", \"2\", \"4\", \"3\", \"3\", \"2\", \"4\", \"2\", \"3\", \"4\", \"4\", \"3\", \"4\", \"3\", \"3\", \"3\", \"3\", \"3\", \"3\", \"3\", \"3\", \"3\", \"3\", \"4\", \"3\", \"3\", \"3\", \"4\", \"3\", \"3\", \"3\", \"2\", \"3\", \"3\", \"3\", \"3\", \"3\", \"2\", \"5\", \"3\", \"4\", \"3\", \"4\", \"3\", \"4\", \"2\", \"3\", \"2\", \"2\", \"3\", \"2\", \"2\", \"3\", \"2\", \"3\", \"4\", \"2\", \"3\", \"3\", \"3\", \"3\", \"3\", \"4\", \"3\", \"3\", \"3\", \"3\", \"4\", \"3\", \"4\", \"3\", \"3\", \"3\", \"4\", \"4\", \"4\", \"4\", \"2\", \"3\", \"4\", \"3\", \"4\", \"3\", \"3\", \"3\", \"3\", \"3\", \"3\", \"3\", \"3\", \"4\", \"4\", \"3\", \"3\", \"3\", \"4\", \"3\", \"3\", \"3\", \"3\", \"3\", \"4\", \"3\", \"3\", \"3\", \"3\", \"4\", \"3\", \"3\", \"3\", \"4\", \"3\", \"3\", \"3\", \"3\", \"4\", \"4\", \"4\", \"4\", \"4\", \"4\", \"3\", \"3\", \"3\", \"4\", \"3\", \"3\", \"3\", \"4\", \"3\", \"3\", \"3\", \"4\", \"3\", \"3\", \"3\", \"3\", \"3\", \"3\", \"3\", \"3\", \"3\", \"3\", \"3\", \"3\", \"3\", \"4\", \"3\", \"3\", \"3\", \"3\", \"3\", \"4\", \"3\", \"3\", \"3\", \"3\", \"3\", \"3\", \"3\", \"4\", \"3\", \"3\", \"4\", \"3\", \"3\", \"4\", \"3\", \"4\", \"4\", \"3\", \"3\", \"5\", \"3\", \"4\", \"4\", \"4\", \"3\", \"4\", \"4\", \"3\", \"3\", \"3\", \"3\", \"3\", \"3\", \"3\", \"4\", \"3\", \"3\", \"3\", \"3\", \"3\", \"3\", \"4\", \"3\", \"3\", \"3\", \"4\", \"3\", \"3\", \"3\", \"3\", \"3\", \"3\", \"3\", \"4\", \"3\", \"3\", \"3\", \"3\", \"3\", \"3\", \"3\", \"2\", \"3\", \"3\", \"3\", \"3\", \"3\", \"3\", \"3\", \"2\", \"3\", \"3\", \"3\", \"3\", \"3\", \"3\", \"3\", \"3\", \"2\", \"3\", \"3\", \"3\", \"3\", \"3\", \"3\", \"3\", \"3\", \"5\", \"3\", \"4\", \"3\", \"5\", \"3\", \"3\", \"4\", \"3\", \"4\", \"3\", \"3\", \"3\", \"3\", \"3\", \"4\", \"4\", \"4\", \"4\", \"3\", \"4\", \"4\", \"3\", \"3\", \"3\", \"3\", \"3\", \"3\", \"4\", \"4\", \"3\", \"4\", \"3\", \"4\", \"3\", \"4\", \"3\", \"3\", \"3\", \"3\", \"4\", \"3\", \"3\", \"3\", \"3\", \"3\", \"3\", \"3\", \"4\", \"3\", \"3\", \"3\", \"3\", \"3\", \"3\", \"4\", \"3\", \"4\", \"3\", \"4\", \"3\", \"3\", \"4\", \"3\", \"3\", \"3\", \"4\", \"3\", \"3\", \"4\", \"3\", \"3\", \"3\", \"3\", \"2\", \"3\", \"3\", \"4\", \"3\", \"3\", \"3\", \"3\", \"3\", \"3\", \"4\", \"4\", \"4\", \"3\", \"4\", \"4\", \"3\", \"4\", \"3\", \"3\", \"3\", \"4\", \"3\", \"3\", \"2\", \"3\", \"3\", \"2\", \"3\", \"2\", \"3\", \"3\", \"3\", \"3\", \"4\", \"3\", \"3\", \"4\", \"4\", \"3\", \"4\", \"4\", \"3\", \"3\", \"3\", \"4\", \"3\", \"3\", \"3\", \"3\", \"3\", \"4\", \"4\", \"3\", \"4\", \"3\", \"3\", \"4\", \"3\", \"5\", \"4\", \"4\", \"3\", \"3\", \"3\", \"3\", \"4\", \"3\", \"3\", \"3\", \"3\", \"3\", \"5\", \"3\", \"4\", \"4\", \"3\", \"5\", \"4\", \"4\", \"4\", \"4\", \"5\", \"5\", \"4\", \"4\", \"3\", \"4\", \"4\", \"4\", \"4\", \"3\", \"3\", \"4\", \"5\", \"3\", \"4\", \"3\", \"3\", \"4\", \"4\", \"4\", \"4\", \"4\", \"4\", \"4\", \"3\", \"3\", \"4\", \"4\", \"4\", \"3\", \"4\", \"3\", \"3\", \"3\", \"3\", \"3\", \"3\", \"4\", \"4\", \"4\", \"3\", \"4\", \"3\", \"3\", \"4\", \"3\", \"3\", \"3\", \"3\", \"4\", \"4\", \"3\", \"3\", \"4\", \"4\", \"4\", \"4\", \"4\", \"3\", \"4\", \"4\", \"4\", \"4\", \"4\", \"4\", \"3\", \"4\", \"4\", \"3\", \"3\", \"3\", \"3\", \"4\", \"4\", \"4\", \"4\", \"3\", \"4\", \"3\", \"5\", \"4\", \"4\", \"3\", \"4\", \"3\", \"3\", \"3\", \"3\", \"3\", \"3\", \"4\", \"3\", \"3\", \"3\", \"3\", \"2\", \"4\", \"3\", \"3\", \"3\", \"3\", \"3\", \"4\", \"2\", \"3\", \"4\", \"3\", \"3\", \"3\", \"3\", \"3\", \"4\", \"3\", \"4\", \"3\", \"3\", \"3\", \"3\", \"3\", \"4\", \"3\", \"3\", \"3\", \"3\", \"4\", \"4\", \"3\", \"3\", \"3\", \"3\", \"4\", \"3\", \"3\", \"3\", \"3\", \"4\", \"3\", \"3\", \"4\", \"3\", \"3\", \"3\", \"3\", \"3\", \"3\", \"3\", \"3\", \"3\", \"3\", \"3\", \"3\", \"3\", \"3\", \"3\", \"3\", \"3\", \"3\", \"3\", \"3\", \"4\", \"3\", \"4\", \"4\", \"2\", \"3\", \"3\", \"4\", \"3\", \"3\", \"3\", \"3\", \"3\", \"5\", \"4\", \"3\", \"2\", \"3\", \"2\", \"3\", \"4\", \"4\", \"3\", \"2\", \"3\", \"3\", \"3\", \"2\", \"3\", \"4\", \"4\", \"3\", \"3\", \"3\", \"3\", \"3\", \"3\", \"4\", \"3\", \"3\", \"4\", \"3\", \"3\", \"3\", \"3\", \"3\", \"3\", \"3\", \"3\", \"3\", \"4\", \"3\", \"3\", \"5\", \"3\", \"3\", \"3\", \"3\", \"3\", \"3\", \"3\", \"3\", \"3\", \"3\", \"3\", \"3\", \"3\", \"2\", \"3\", \"3\", \"3\", \"2\", \"3\", \"3\", \"3\", \"3\", \"2\", \"3\", \"3\", \"3\", \"3\", \"3\", \"3\", \"3\", \"3\", \"3\", \"2\", \"2\", \"3\", \"3\", \"2\", \"3\", \"3\", \"3\", \"2\", \"4\", \"3\", \"4\", \"5\", \"4\", \"5\", \"2\", \"3\", \"4\", \"4\", \"3\", \"3\", \"2\", \"3\", \"2\", \"5\", \"3\", \"3\", \"3\", \"2\", \"4\", \"3\", \"3\", \"3\", \"4\", \"4\", \"5\", \"4\", \"3\", \"4\", \"3\", \"3\", \"4\", \"3\", \"3\", \"2\", \"3\", \"3\", \"3\", \"4\", \"3\", \"3\", \"4\", \"4\", \"3\", \"5\", \"2\", \"4\", \"2\", \"2\", \"4\", \"3\", \"3\", \"3\", \"4\", \"3\", \"3\", \"3\"], \"y\": [3, 3, 3, 2, 3, 4, 4, 1, 2, 5, 3, 2, 3, 4, 5, 4, 2, 3, 5, 1, 4, 4, 5, 4, 3, 2, 2, 2, 3, 4, 4, 3, 5, 3, 4, 5, 4, 4, 3, 3, 3, 4, 3, 4, 3, 2, 3, 2, 3, 4, 3, 3, 5, 3, 3, 3, 3, 2, 3, 2, 4, 5, 4, 4, 4, 4, 3, 3, 1, 4, 3, 3, 3, 3, 3, 4, 2, 5, 4, 2, 3, 4, 3, 3, 4, 3, 3, 4, 1, 3, 5, 3, 3, 3, 1, 3, 3, 3, 3, 5, 4, 3, 3, 4, 3, 1, 3, 3, 4, 5, 1, 1, 5, 4, 4, 4, 4, 2, 4, 2, 5, 2, 4, 4, 5, 3, 4, 3, 5, 2, 3, 4, 2, 3, 3, 4, 3, 4, 3, 2, 3, 2, 4, 4, 4, 3, 3, 3, 5, 3, 4, 2, 5, 2, 4, 2, 2, 2, 5, 3, 4, 4, 3, 3, 5, 3, 2, 1, 4, 4, 3, 4, 3, 4, 4, 4, 3, 3, 2, 4, 2, 4, 2, 3, 3, 2, 3, 1, 3, 3, 4, 3, 3, 3, 2, 3, 2, 5, 3, 4, 4, 3, 3, 4, 3, 3, 3, 4, 3, 3, 3, 4, 2, 4, 4, 2, 3, 3, 2, 3, 3, 3, 3, 3, 3, 3, 3, 2, 2, 5, 5, 2, 4, 3, 4, 5, 1, 5, 5, 3, 4, 3, 4, 3, 2, 4, 3, 3, 4, 3, 2, 3, 4, 4, 2, 3, 2, 4, 1, 3, 3, 2, 3, 2, 4, 3, 4, 3, 3, 5, 4, 5, 3, 4, 2, 4, 2, 5, 4, 2, 4, 4, 3, 3, 3, 2, 4, 3, 2, 4, 1, 4, 4, 3, 4, 3, 4, 2, 1, 3, 2, 4, 4, 5, 3, 5, 4, 2, 4, 5, 2, 1, 1, 3, 3, 3, 4, 2, 2, 3, 4, 3, 3, 3, 4, 4, 3, 5, 4, 3, 3, 4, 4, 4, 3, 3, 3, 3, 3, 3, 3, 3, 4, 3, 4, 4, 5, 4, 5, 3, 4, 5, 3, 3, 2, 3, 3, 3, 4, 3, 3, 2, 3, 2, 2, 2, 2, 2, 3, 4, 5, 4, 3, 4, 4, 1, 5, 2, 4, 4, 3, 4, 3, 4, 4, 3, 1, 5, 4, 5, 4, 2, 3, 3, 3, 2, 3, 4, 4, 1, 2, 5, 3, 2, 3, 4, 5, 4, 2, 3, 5, 1, 4, 4, 5, 4, 3, 2, 2, 2, 3, 4, 4, 3, 5, 3, 4, 5, 4, 4, 3, 3, 3, 4, 3, 4, 3, 2, 3, 2, 3, 4, 3, 3, 5, 3, 3, 3, 3, 2, 3, 2, 4, 5, 4, 4, 4, 4, 3, 3, 1, 4, 3, 3, 3, 3, 3, 3, 4, 2, 5, 4, 2, 3, 4, 3, 3, 4, 3, 3, 4, 1, 3, 5, 3, 3, 3, 1, 3, 3, 3, 3, 5, 4, 3, 3, 4, 3, 1, 3, 3, 4, 5, 1, 1, 5, 4, 4, 4, 4, 2, 4, 2, 5, 2, 4, 4, 5, 3, 4, 5, 2, 2, 4, 2, 3, 4, 2, 2, 3, 3, 3, 4, 1, 3, 3, 3, 3, 4, 3, 5, 2, 3, 3, 3, 2, 4, 4, 4, 4, 3, 3, 3, 3, 5, 3, 4, 2, 5, 2, 4, 2, 2, 2, 5, 4, 3, 4, 4, 3, 3, 5, 3, 2, 1, 4, 4, 3, 4, 3, 4, 4, 4, 3, 3, 2, 4, 2, 4, 3, 2, 3, 3, 2, 3, 1, 3, 3, 4, 3, 3, 3, 2, 3, 2, 5, 3, 4, 4, 3, 3, 4, 3, 3, 3, 4, 3, 3, 3, 4, 2, 4, 4, 2, 3, 3, 2, 3, 3, 3, 3, 3, 3, 3, 3, 2, 2, 5, 5, 2, 4, 3, 4, 5, 3, 3, 3, 1, 4, 2, 4, 3, 3, 1, 5, 5, 1, 3, 3, 5, 3, 4, 3, 3, 3, 2, 3, 4, 3, 3, 2, 4, 3, 3, 4, 3, 2, 3, 4, 4, 3, 2, 3, 4, 3, 4, 2, 3, 2, 2, 4, 2, 1, 3, 3, 2, 3, 4, 2, 4, 3, 4, 3, 3, 5, 4, 5, 2, 3, 4, 1, 2, 4, 2, 3, 2, 4, 5, 4, 2, 4, 4, 3, 3, 3, 3, 2, 4, 3, 2, 1, 4, 4, 3, 4, 3, 4, 2, 1, 3, 3, 2, 3, 5, 5, 4, 3, 2, 4, 3, 2, 3, 1, 4, 4, 4, 3, 2, 3, 2, 2, 5, 3, 3, 2, 3, 4, 3, 5, 3, 3, 4, 4, 3, 2, 5, 3, 2, 4, 4, 3, 3, 4, 4, 3, 3, 3, 3, 3, 3, 3, 4, 3, 4, 4, 3, 3, 2, 1, 3, 4, 3, 3, 4, 2, 3, 2, 2, 4, 3, 1, 3, 1, 3, 1, 3, 4, 1, 4, 5, 3, 3, 4, 5, 4, 5, 2, 4, 4, 2, 5, 1, 4, 4, 3, 3, 4, 4, 3, 5, 2, 1, 5, 3, 4, 3, 3, 4, 4, 5, 3, 4, 3, 2, 2, 4, 4, 4, 2, 3, 3, 3, 5, 4, 3, 4, 2, 3, 4, 3, 4, 5, 4, 5, 2, 4, 3, 3, 4, 3, 3, 4, 2, 1, 3, 4, 4, 5, 4, 4, 3, 2, 3, 2, 3, 2, 4, 4, 3, 3, 4, 3, 3, 4, 3, 1, 1, 3, 3, 4, 3, 2, 3, 3, 3, 5, 2, 4, 2, 1, 1, 1, 1, 1, 2, 2, 1, 5, 4, 3, 3, 2, 3, 1, 3, 3, 1, 4, 2, 1, 5, 3, 1, 1, 4, 1, 5, 3, 4, 4, 5, 3, 5, 3, 4, 2, 5, 5, 3, 3, 2, 4, 4, 4, 5, 3, 4, 4, 5, 4, 5, 3, 4, 3, 4, 5, 4, 2, 5, 3, 2, 5, 4, 3, 4, 4, 3, 4, 3, 3, 1, 5, 2, 3, 4, 3, 4, 5, 2, 3, 2, 1, 5, 2, 5, 3, 3, 2, 3, 3, 3, 3, 3, 2, 3, 2, 2, 2, 2, 3, 4, 5, 4, 3, 3, 4, 1, 5, 2, 4, 4, 3, 4, 3, 5, 4, 4, 3, 1, 4, 4], \"z\": [6, 4, 10, 2, 4, 10, 0, 6, 0, 0, 0, 4, 2, 2, 0, 4, 6, 4, 16, 4, 0, 0, 2, 0, 2, 14, 2, 4, 4, 16, 0, 0, 0, 0, 0, 0, 2, 7, 2, 8, 25, 8, 2, 0, 14, 8, 12, 4, 2, 2, 2, 2, 6, 0, 6, 8, 0, 4, 2, 2, 6, 6, 4, 2, 0, 2, 4, 4, 2, 12, 0, 0, 2, 2, 6, 8, 0, 2, 12, 2, 4, 10, 4, 2, 6, 4, 4, 12, 18, 0, 4, 4, 0, 6, 2, 2, 2, 6, 0, 14, 0, 4, 26, 0, 10, 8, 2, 6, 4, 6, 0, 6, 10, 8, 2, 2, 0, 20, 6, 2, 6, 2, 18, 0, 0, 0, 2, 0, 8, 0, 0, 12, 16, 0, 0, 0, 0, 0, 0, 0, 8, 2, 2, 0, 0, 0, 2, 0, 0, 0, 6, 8, 0, 0, 2, 8, 6, 2, 4, 0, 6, 0, 2, 0, 16, 4, 0, 0, 0, 0, 2, 0, 0, 4, 4, 2, 4, 10, 4, 10, 2, 0, 14, 12, 2, 0, 6, 4, 10, 0, 12, 8, 0, 0, 4, 8, 24, 0, 2, 6, 4, 18, 6, 28, 5, 10, 6, 6, 10, 13, 0, 15, 12, 2, 22, 13, 3, 4, 2, 0, 2, 0, 0, 16, 10, 2, 14, 10, 14, 4, 14, 2, 18, 10, 4, 20, 2, 0, 14, 2, 0, 0, 0, 6, 4, 16, 8, 0, 0, 6, 4, 0, 0, 2, 6, 12, 8, 0, 21, 2, 1, 4, 0, 13, 2, 8, 10, 0, 15, 4, 2, 2, 2, 6, 22, 15, 8, 30, 19, 1, 4, 4, 2, 5, 6, 6, 9, 11, 0, 12, 6, 8, 4, 0, 10, 0, 5, 14, 0, 0, 0, 20, 8, 0, 38, 0, 18, 0, 20, 3, 22, 14, 40, 0, 9, 0, 2, 23, 12, 3, 1, 0, 3, 3, 8, 7, 4, 2, 7, 0, 0, 0, 16, 12, 0, 7, 4, 4, 0, 11, 0, 4, 7, 9, 0, 0, 10, 8, 2, 7, 4, 4, 0, 4, 2, 4, 0, 0, 2, 0, 0, 0, 4, 0, 0, 0, 10, 4, 3, 8, 14, 0, 2, 4, 4, 0, 17, 4, 5, 2, 0, 14, 2, 7, 0, 0, 0, 11, 3, 3, 0, 5, 4, 2, 6, 0, 0, 6, 0, 2, 0, 0, 2, 0, 0, 0, 0, 6, 10, 2, 2, 6, 0, 0, 0, 2, 2, 6, 8, 0, 2, 4, 0, 2, 0, 0, 4, 4, 0, 4, 2, 8, 16, 8, 0, 0, 14, 4, 6, 2, 4, 2, 0, 0, 4, 0, 0, 2, 0, 8, 0, 2, 0, 0, 0, 0, 0, 2, 0, 0, 0, 6, 2, 0, 2, 0, 4, 0, 0, 1, 0, 14, 0, 2, 4, 2, 2, 4, 6, 4, 6, 6, 2, 6, 0, 2, 2, 4, 6, 0, 4, 2, 12, 0, 2, 16, 0, 10, 4, 4, 8, 2, 4, 4, 12, 10, 4, 6, 4, 6, 14, 2, 0, 6, 2, 4, 0, 2, 0, 0, 8, 4, 0, 10, 8, 6, 2, 12, 4, 12, 2, 4, 2, 0, 2, 10, 8, 4, 0, 6, 2, 6, 24, 0, 4, 2, 4, 22, 0, 0, 2, 6, 6, 16, 0, 0, 6, 2, 6, 0, 0, 14, 6, 4, 0, 0, 8, 4, 2, 2, 0, 10, 0, 0, 0, 0, 4, 0, 0, 0, 0, 0, 0, 4, 8, 4, 4, 0, 0, 32, 8, 6, 0, 0, 10, 6, 6, 0, 16, 0, 0, 8, 4, 16, 30, 0, 2, 4, 0, 21, 6, 14, 2, 4, 2, 0, 4, 15, 0, 10, 6, 2, 16, 10, 4, 0, 0, 12, 0, 9, 4, 4, 2, 0, 2, 0, 0, 0, 0, 0, 2, 0, 0, 4, 0, 18, 16, 14, 26, 6, 4, 10, 4, 2, 14, 16, 8, 4, 4, 8, 0, 7, 4, 2, 2, 10, 10, 10, 7, 4, 2, 12, 8, 0, 8, 4, 4, 2, 0, 0, 2, 2, 0, 4, 2, 4, 4, 4, 2, 0, 2, 8, 2, 2, 2, 2, 0, 8, 6, 0, 8, 4, 12, 16, 10, 2, 2, 8, 6, 6, 15, 6, 2, 8, 0, 0, 10, 22, 18, 2, 0, 12, 10, 0, 0, 0, 0, 0, 2, 0, 0, 0, 0, 2, 0, 0, 0, 0, 0, 0, 0, 0, 0, 0, 0, 2, 2, 2, 2, 2, 8, 2, 8, 9, 0, 4, 2, 14, 0, 2, 2, 12, 2, 2, 4, 0, 0, 0, 0, 0, 0, 2, 0, 4, 2, 0, 0, 2, 0, 6, 8, 0, 6, 8, 0, 4, 0, 0, 6, 18, 0, 4, 4, 0, 0, 10, 4, 16, 6, 0, 11, 9, 0, 2, 0, 21, 8, 5, 10, 5, 13, 10, 10, 5, 4, 11, 0, 6, 4, 0, 0, 5, 0, 0, 0, 0, 4, 0, 4, 0, 2, 0, 0, 4, 0, 7, 4, 8, 0, 8, 6, 3, 2, 0, 4, 0, 3, 0, 0, 4, 0, 2, 1, 0, 0, 2, 6, 9, 0, 1, 1, 0, 4, 2, 0, 4, 2, 0, 2, 11, 0, 4, 0, 2, 0, 1, 6, 0, 1, 6, 6, 0, 4, 12, 2, 5, 0, 0, 2, 0, 0, 0, 12, 8, 2, 0, 0, 0, 8, 0, 0, 0, 0, 1, 9, 0, 2, 8, 0, 0, 8, 0, 6, 0, 4, 2, 2, 0, 1, 0, 5, 1, 8, 0, 2, 0, 0, 11, 8, 11, 2, 8, 5, 0, 1, 2, 2, 8, 0, 0, 2, 0, 0, 0, 2, 4, 3, 5, 4, 2, 0, 0, 0, 6, 0, 0, 2, 0, 2, 0, 4, 9, 6, 4, 8, 9, 12, 8, 8, 8, 4, 0, 4, 2, 0, 0, 0, 5, 0, 3, 0, 0, 3, 2, 0, 0, 0, 3, 0, 0, 8, 5, 4, 4, 0, 0, 2, 0, 0, 5, 2, 0, 0, 5, 4, 0, 2, 0, 2, 0, 0, 6, 4, 0, 0, 0, 0, 0, 0, 3, 8, 4, 0, 4, 4, 1, 1, 10, 4, 0, 4, 0, 0, 0, 0, 4, 4, 4, 6, 6, 4]}],\n",
              "                        {\"coloraxis\": {\"colorbar\": {\"title\": {\"text\": \"freetime\"}}, \"colorscale\": [[0.0, \"#0d0887\"], [0.1111111111111111, \"#46039f\"], [0.2222222222222222, \"#7201a8\"], [0.3333333333333333, \"#9c179e\"], [0.4444444444444444, \"#bd3786\"], [0.5555555555555556, \"#d8576b\"], [0.6666666666666666, \"#ed7953\"], [0.7777777777777778, \"#fb9f3a\"], [0.8888888888888888, \"#fdca26\"], [1.0, \"#f0f921\"]]}, \"legend\": {\"itemsizing\": \"constant\", \"tracegroupgap\": 0}, \"margin\": {\"t\": 60}, \"scene\": {\"domain\": {\"x\": [0.0, 1.0], \"y\": [0.0, 1.0]}, \"xaxis\": {\"title\": {\"text\": \"G4\"}}, \"yaxis\": {\"title\": {\"text\": \"freetime\"}}, \"zaxis\": {\"title\": {\"text\": \"absences\"}}}, \"template\": {\"data\": {\"bar\": [{\"error_x\": {\"color\": \"#2a3f5f\"}, \"error_y\": {\"color\": \"#2a3f5f\"}, \"marker\": {\"line\": {\"color\": \"#E5ECF6\", \"width\": 0.5}}, \"type\": \"bar\"}], \"barpolar\": [{\"marker\": {\"line\": {\"color\": \"#E5ECF6\", \"width\": 0.5}}, \"type\": \"barpolar\"}], \"carpet\": [{\"aaxis\": {\"endlinecolor\": \"#2a3f5f\", \"gridcolor\": \"white\", \"linecolor\": \"white\", \"minorgridcolor\": \"white\", \"startlinecolor\": \"#2a3f5f\"}, \"baxis\": {\"endlinecolor\": \"#2a3f5f\", \"gridcolor\": \"white\", \"linecolor\": \"white\", \"minorgridcolor\": \"white\", \"startlinecolor\": \"#2a3f5f\"}, \"type\": \"carpet\"}], \"choropleth\": [{\"colorbar\": {\"outlinewidth\": 0, \"ticks\": \"\"}, \"type\": \"choropleth\"}], \"contour\": [{\"colorbar\": {\"outlinewidth\": 0, \"ticks\": \"\"}, \"colorscale\": [[0.0, \"#0d0887\"], [0.1111111111111111, \"#46039f\"], [0.2222222222222222, \"#7201a8\"], [0.3333333333333333, \"#9c179e\"], [0.4444444444444444, \"#bd3786\"], [0.5555555555555556, \"#d8576b\"], [0.6666666666666666, \"#ed7953\"], [0.7777777777777778, \"#fb9f3a\"], [0.8888888888888888, \"#fdca26\"], [1.0, \"#f0f921\"]], \"type\": \"contour\"}], \"contourcarpet\": [{\"colorbar\": {\"outlinewidth\": 0, \"ticks\": \"\"}, \"type\": \"contourcarpet\"}], \"heatmap\": [{\"colorbar\": {\"outlinewidth\": 0, \"ticks\": \"\"}, \"colorscale\": [[0.0, \"#0d0887\"], [0.1111111111111111, \"#46039f\"], [0.2222222222222222, \"#7201a8\"], [0.3333333333333333, \"#9c179e\"], [0.4444444444444444, \"#bd3786\"], [0.5555555555555556, \"#d8576b\"], [0.6666666666666666, \"#ed7953\"], [0.7777777777777778, \"#fb9f3a\"], [0.8888888888888888, \"#fdca26\"], [1.0, \"#f0f921\"]], \"type\": \"heatmap\"}], \"heatmapgl\": [{\"colorbar\": {\"outlinewidth\": 0, \"ticks\": \"\"}, \"colorscale\": [[0.0, \"#0d0887\"], [0.1111111111111111, \"#46039f\"], [0.2222222222222222, \"#7201a8\"], [0.3333333333333333, \"#9c179e\"], [0.4444444444444444, \"#bd3786\"], [0.5555555555555556, \"#d8576b\"], [0.6666666666666666, \"#ed7953\"], [0.7777777777777778, \"#fb9f3a\"], [0.8888888888888888, \"#fdca26\"], [1.0, \"#f0f921\"]], \"type\": \"heatmapgl\"}], \"histogram\": [{\"marker\": {\"colorbar\": {\"outlinewidth\": 0, \"ticks\": \"\"}}, \"type\": \"histogram\"}], \"histogram2d\": [{\"colorbar\": {\"outlinewidth\": 0, \"ticks\": \"\"}, \"colorscale\": [[0.0, \"#0d0887\"], [0.1111111111111111, \"#46039f\"], [0.2222222222222222, \"#7201a8\"], [0.3333333333333333, \"#9c179e\"], [0.4444444444444444, \"#bd3786\"], [0.5555555555555556, \"#d8576b\"], [0.6666666666666666, \"#ed7953\"], [0.7777777777777778, \"#fb9f3a\"], [0.8888888888888888, \"#fdca26\"], [1.0, \"#f0f921\"]], \"type\": \"histogram2d\"}], \"histogram2dcontour\": [{\"colorbar\": {\"outlinewidth\": 0, \"ticks\": \"\"}, \"colorscale\": [[0.0, \"#0d0887\"], [0.1111111111111111, \"#46039f\"], [0.2222222222222222, \"#7201a8\"], [0.3333333333333333, \"#9c179e\"], [0.4444444444444444, \"#bd3786\"], [0.5555555555555556, \"#d8576b\"], [0.6666666666666666, \"#ed7953\"], [0.7777777777777778, \"#fb9f3a\"], [0.8888888888888888, \"#fdca26\"], [1.0, \"#f0f921\"]], \"type\": \"histogram2dcontour\"}], \"mesh3d\": [{\"colorbar\": {\"outlinewidth\": 0, \"ticks\": \"\"}, \"type\": \"mesh3d\"}], \"parcoords\": [{\"line\": {\"colorbar\": {\"outlinewidth\": 0, \"ticks\": \"\"}}, \"type\": \"parcoords\"}], \"pie\": [{\"automargin\": true, \"type\": \"pie\"}], \"scatter\": [{\"marker\": {\"colorbar\": {\"outlinewidth\": 0, \"ticks\": \"\"}}, \"type\": \"scatter\"}], \"scatter3d\": [{\"line\": {\"colorbar\": {\"outlinewidth\": 0, \"ticks\": \"\"}}, \"marker\": {\"colorbar\": {\"outlinewidth\": 0, \"ticks\": \"\"}}, \"type\": \"scatter3d\"}], \"scattercarpet\": [{\"marker\": {\"colorbar\": {\"outlinewidth\": 0, \"ticks\": \"\"}}, \"type\": \"scattercarpet\"}], \"scattergeo\": [{\"marker\": {\"colorbar\": {\"outlinewidth\": 0, \"ticks\": \"\"}}, \"type\": \"scattergeo\"}], \"scattergl\": [{\"marker\": {\"colorbar\": {\"outlinewidth\": 0, \"ticks\": \"\"}}, \"type\": \"scattergl\"}], \"scattermapbox\": [{\"marker\": {\"colorbar\": {\"outlinewidth\": 0, \"ticks\": \"\"}}, \"type\": \"scattermapbox\"}], \"scatterpolar\": [{\"marker\": {\"colorbar\": {\"outlinewidth\": 0, \"ticks\": \"\"}}, \"type\": \"scatterpolar\"}], \"scatterpolargl\": [{\"marker\": {\"colorbar\": {\"outlinewidth\": 0, \"ticks\": \"\"}}, \"type\": \"scatterpolargl\"}], \"scatterternary\": [{\"marker\": {\"colorbar\": {\"outlinewidth\": 0, \"ticks\": \"\"}}, \"type\": \"scatterternary\"}], \"surface\": [{\"colorbar\": {\"outlinewidth\": 0, \"ticks\": \"\"}, \"colorscale\": [[0.0, \"#0d0887\"], [0.1111111111111111, \"#46039f\"], [0.2222222222222222, \"#7201a8\"], [0.3333333333333333, \"#9c179e\"], [0.4444444444444444, \"#bd3786\"], [0.5555555555555556, \"#d8576b\"], [0.6666666666666666, \"#ed7953\"], [0.7777777777777778, \"#fb9f3a\"], [0.8888888888888888, \"#fdca26\"], [1.0, \"#f0f921\"]], \"type\": \"surface\"}], \"table\": [{\"cells\": {\"fill\": {\"color\": \"#EBF0F8\"}, \"line\": {\"color\": \"white\"}}, \"header\": {\"fill\": {\"color\": \"#C8D4E3\"}, \"line\": {\"color\": \"white\"}}, \"type\": \"table\"}]}, \"layout\": {\"annotationdefaults\": {\"arrowcolor\": \"#2a3f5f\", \"arrowhead\": 0, \"arrowwidth\": 1}, \"coloraxis\": {\"colorbar\": {\"outlinewidth\": 0, \"ticks\": \"\"}}, \"colorscale\": {\"diverging\": [[0, \"#8e0152\"], [0.1, \"#c51b7d\"], [0.2, \"#de77ae\"], [0.3, \"#f1b6da\"], [0.4, \"#fde0ef\"], [0.5, \"#f7f7f7\"], [0.6, \"#e6f5d0\"], [0.7, \"#b8e186\"], [0.8, \"#7fbc41\"], [0.9, \"#4d9221\"], [1, \"#276419\"]], \"sequential\": [[0.0, \"#0d0887\"], [0.1111111111111111, \"#46039f\"], [0.2222222222222222, \"#7201a8\"], [0.3333333333333333, \"#9c179e\"], [0.4444444444444444, \"#bd3786\"], [0.5555555555555556, \"#d8576b\"], [0.6666666666666666, \"#ed7953\"], [0.7777777777777778, \"#fb9f3a\"], [0.8888888888888888, \"#fdca26\"], [1.0, \"#f0f921\"]], \"sequentialminus\": [[0.0, \"#0d0887\"], [0.1111111111111111, \"#46039f\"], [0.2222222222222222, \"#7201a8\"], [0.3333333333333333, \"#9c179e\"], [0.4444444444444444, \"#bd3786\"], [0.5555555555555556, \"#d8576b\"], [0.6666666666666666, \"#ed7953\"], [0.7777777777777778, \"#fb9f3a\"], [0.8888888888888888, \"#fdca26\"], [1.0, \"#f0f921\"]]}, \"colorway\": [\"#636efa\", \"#EF553B\", \"#00cc96\", \"#ab63fa\", \"#FFA15A\", \"#19d3f3\", \"#FF6692\", \"#B6E880\", \"#FF97FF\", \"#FECB52\"], \"font\": {\"color\": \"#2a3f5f\"}, \"geo\": {\"bgcolor\": \"white\", \"lakecolor\": \"white\", \"landcolor\": \"#E5ECF6\", \"showlakes\": true, \"showland\": true, \"subunitcolor\": \"white\"}, \"hoverlabel\": {\"align\": \"left\"}, \"hovermode\": \"closest\", \"mapbox\": {\"style\": \"light\"}, \"paper_bgcolor\": \"white\", \"plot_bgcolor\": \"#E5ECF6\", \"polar\": {\"angularaxis\": {\"gridcolor\": \"white\", \"linecolor\": \"white\", \"ticks\": \"\"}, \"bgcolor\": \"#E5ECF6\", \"radialaxis\": {\"gridcolor\": \"white\", \"linecolor\": \"white\", \"ticks\": \"\"}}, \"scene\": {\"xaxis\": {\"backgroundcolor\": \"#E5ECF6\", \"gridcolor\": \"white\", \"gridwidth\": 2, \"linecolor\": \"white\", \"showbackground\": true, \"ticks\": \"\", \"zerolinecolor\": \"white\"}, \"yaxis\": {\"backgroundcolor\": \"#E5ECF6\", \"gridcolor\": \"white\", \"gridwidth\": 2, \"linecolor\": \"white\", \"showbackground\": true, \"ticks\": \"\", \"zerolinecolor\": \"white\"}, \"zaxis\": {\"backgroundcolor\": \"#E5ECF6\", \"gridcolor\": \"white\", \"gridwidth\": 2, \"linecolor\": \"white\", \"showbackground\": true, \"ticks\": \"\", \"zerolinecolor\": \"white\"}}, \"shapedefaults\": {\"line\": {\"color\": \"#2a3f5f\"}}, \"ternary\": {\"aaxis\": {\"gridcolor\": \"white\", \"linecolor\": \"white\", \"ticks\": \"\"}, \"baxis\": {\"gridcolor\": \"white\", \"linecolor\": \"white\", \"ticks\": \"\"}, \"bgcolor\": \"#E5ECF6\", \"caxis\": {\"gridcolor\": \"white\", \"linecolor\": \"white\", \"ticks\": \"\"}}, \"title\": {\"x\": 0.05}, \"xaxis\": {\"automargin\": true, \"gridcolor\": \"white\", \"linecolor\": \"white\", \"ticks\": \"\", \"title\": {\"standoff\": 15}, \"zerolinecolor\": \"white\", \"zerolinewidth\": 2}, \"yaxis\": {\"automargin\": true, \"gridcolor\": \"white\", \"linecolor\": \"white\", \"ticks\": \"\", \"title\": {\"standoff\": 15}, \"zerolinecolor\": \"white\", \"zerolinewidth\": 2}}}},\n",
              "                        {\"responsive\": true}\n",
              "                    ).then(function(){\n",
              "                            \n",
              "var gd = document.getElementById('34321d21-58c6-4839-a1a1-0b2d51da4d1f');\n",
              "var x = new MutationObserver(function (mutations, observer) {{\n",
              "        var display = window.getComputedStyle(gd).display;\n",
              "        if (!display || display === 'none') {{\n",
              "            console.log([gd, 'removed!']);\n",
              "            Plotly.purge(gd);\n",
              "            observer.disconnect();\n",
              "        }}\n",
              "}});\n",
              "\n",
              "// Listen for the removal of the full notebook cells\n",
              "var notebookContainer = gd.closest('#notebook-container');\n",
              "if (notebookContainer) {{\n",
              "    x.observe(notebookContainer, {childList: true});\n",
              "}}\n",
              "\n",
              "// Listen for the clearing of the current output cell\n",
              "var outputEl = gd.closest('.output');\n",
              "if (outputEl) {{\n",
              "    x.observe(outputEl, {childList: true});\n",
              "}}\n",
              "\n",
              "                        })\n",
              "                };\n",
              "                \n",
              "            </script>\n",
              "        </div>\n",
              "</body>\n",
              "</html>"
            ]
          },
          "metadata": {}
        }
      ]
    },
    {
      "cell_type": "markdown",
      "metadata": {
        "id": "gGEOBYN6_Wy0"
      },
      "source": [
        "Мы удалили подозрительные значения, которые мешают анализу данных.\n",
        "\n",
        "Можно заметить, что чем, больше свободного времени и меньше пропусков, тем лучше оценка. Также с уменьшением кол-ва свободного времени, пропусков становится явно меньше, а оценка от этого не увеличивается.  "
      ]
    }
  ]
}