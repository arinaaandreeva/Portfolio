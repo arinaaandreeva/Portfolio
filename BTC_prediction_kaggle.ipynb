{
  "nbformat": 4,
  "nbformat_minor": 0,
  "metadata": {
    "colab": {
      "provenance": []
    },
    "kernelspec": {
      "name": "python3",
      "display_name": "Python 3"
    },
    "language_info": {
      "name": "python"
    }
  },
  "cells": [
    {
      "cell_type": "markdown",
      "source": [
        "Загружаем данные.\n",
        "\n",
        "Последние семь дней (это просто продублированные значения из таблицы за последнюю известную дату - 8 дней назад).\n",
        "\n",
        "Вам нужно спрогнозировать цену биткоина (Price) на последние семь дней."
      ],
      "metadata": {
        "id": "4KVDWYeP0c0d"
      }
    },
    {
      "cell_type": "code",
      "execution_count": null,
      "metadata": {
        "colab": {
          "base_uri": "https://localhost:8080/",
          "height": 412
        },
        "id": "XVm2XfwF76m5",
        "outputId": "46bfb5b2-c1da-404f-80f5-8430f55f0300"
      },
      "outputs": [
        {
          "output_type": "stream",
          "name": "stdout",
          "text": [
            "547\n"
          ]
        },
        {
          "output_type": "execute_result",
          "data": {
            "text/plain": [
              "               Price      Open      High       Low    Vol. Change %\n",
              "Date                                                               \n",
              "2023-07-05  30,512.8  30,768.6  30,875.6  30,233.3  43.23K   -0.83%\n",
              "2023-07-06  29,913.1  30,512.8  31,463.6  29,869.0  90.81K   -1.97%\n",
              "2023-07-07  30,346.4  29,912.7  30,442.0  29,757.4  46.42K    1.45%\n",
              "2023-07-08  30,346.4  29,912.7  30,442.0  29,757.4  46.42K    1.45%\n",
              "2023-07-09  30,346.4  29,912.7  30,442.0  29,757.4  46.42K    1.45%\n",
              "2023-07-10  30,346.4  29,912.7  30,442.0  29,757.4  46.42K    1.45%\n",
              "2023-07-11  30,346.4  29,912.7  30,442.0  29,757.4  46.42K    1.45%\n",
              "2023-07-12  30,346.4  29,912.7  30,442.0  29,757.4  46.42K    1.45%\n",
              "2023-07-13  30,346.4  29,912.7  30,442.0  29,757.4  46.42K    1.45%\n",
              "2023-07-14  30,346.4  29,912.7  30,442.0  29,757.4  46.42K    1.45%"
            ],
            "text/html": [
              "\n",
              "\n",
              "  <div id=\"df-c4fff1c2-6862-4e5c-a0f3-4110cc1472d9\">\n",
              "    <div class=\"colab-df-container\">\n",
              "      <div>\n",
              "<style scoped>\n",
              "    .dataframe tbody tr th:only-of-type {\n",
              "        vertical-align: middle;\n",
              "    }\n",
              "\n",
              "    .dataframe tbody tr th {\n",
              "        vertical-align: top;\n",
              "    }\n",
              "\n",
              "    .dataframe thead th {\n",
              "        text-align: right;\n",
              "    }\n",
              "</style>\n",
              "<table border=\"1\" class=\"dataframe\">\n",
              "  <thead>\n",
              "    <tr style=\"text-align: right;\">\n",
              "      <th></th>\n",
              "      <th>Price</th>\n",
              "      <th>Open</th>\n",
              "      <th>High</th>\n",
              "      <th>Low</th>\n",
              "      <th>Vol.</th>\n",
              "      <th>Change %</th>\n",
              "    </tr>\n",
              "    <tr>\n",
              "      <th>Date</th>\n",
              "      <th></th>\n",
              "      <th></th>\n",
              "      <th></th>\n",
              "      <th></th>\n",
              "      <th></th>\n",
              "      <th></th>\n",
              "    </tr>\n",
              "  </thead>\n",
              "  <tbody>\n",
              "    <tr>\n",
              "      <th>2023-07-05</th>\n",
              "      <td>30,512.8</td>\n",
              "      <td>30,768.6</td>\n",
              "      <td>30,875.6</td>\n",
              "      <td>30,233.3</td>\n",
              "      <td>43.23K</td>\n",
              "      <td>-0.83%</td>\n",
              "    </tr>\n",
              "    <tr>\n",
              "      <th>2023-07-06</th>\n",
              "      <td>29,913.1</td>\n",
              "      <td>30,512.8</td>\n",
              "      <td>31,463.6</td>\n",
              "      <td>29,869.0</td>\n",
              "      <td>90.81K</td>\n",
              "      <td>-1.97%</td>\n",
              "    </tr>\n",
              "    <tr>\n",
              "      <th>2023-07-07</th>\n",
              "      <td>30,346.4</td>\n",
              "      <td>29,912.7</td>\n",
              "      <td>30,442.0</td>\n",
              "      <td>29,757.4</td>\n",
              "      <td>46.42K</td>\n",
              "      <td>1.45%</td>\n",
              "    </tr>\n",
              "    <tr>\n",
              "      <th>2023-07-08</th>\n",
              "      <td>30,346.4</td>\n",
              "      <td>29,912.7</td>\n",
              "      <td>30,442.0</td>\n",
              "      <td>29,757.4</td>\n",
              "      <td>46.42K</td>\n",
              "      <td>1.45%</td>\n",
              "    </tr>\n",
              "    <tr>\n",
              "      <th>2023-07-09</th>\n",
              "      <td>30,346.4</td>\n",
              "      <td>29,912.7</td>\n",
              "      <td>30,442.0</td>\n",
              "      <td>29,757.4</td>\n",
              "      <td>46.42K</td>\n",
              "      <td>1.45%</td>\n",
              "    </tr>\n",
              "    <tr>\n",
              "      <th>2023-07-10</th>\n",
              "      <td>30,346.4</td>\n",
              "      <td>29,912.7</td>\n",
              "      <td>30,442.0</td>\n",
              "      <td>29,757.4</td>\n",
              "      <td>46.42K</td>\n",
              "      <td>1.45%</td>\n",
              "    </tr>\n",
              "    <tr>\n",
              "      <th>2023-07-11</th>\n",
              "      <td>30,346.4</td>\n",
              "      <td>29,912.7</td>\n",
              "      <td>30,442.0</td>\n",
              "      <td>29,757.4</td>\n",
              "      <td>46.42K</td>\n",
              "      <td>1.45%</td>\n",
              "    </tr>\n",
              "    <tr>\n",
              "      <th>2023-07-12</th>\n",
              "      <td>30,346.4</td>\n",
              "      <td>29,912.7</td>\n",
              "      <td>30,442.0</td>\n",
              "      <td>29,757.4</td>\n",
              "      <td>46.42K</td>\n",
              "      <td>1.45%</td>\n",
              "    </tr>\n",
              "    <tr>\n",
              "      <th>2023-07-13</th>\n",
              "      <td>30,346.4</td>\n",
              "      <td>29,912.7</td>\n",
              "      <td>30,442.0</td>\n",
              "      <td>29,757.4</td>\n",
              "      <td>46.42K</td>\n",
              "      <td>1.45%</td>\n",
              "    </tr>\n",
              "    <tr>\n",
              "      <th>2023-07-14</th>\n",
              "      <td>30,346.4</td>\n",
              "      <td>29,912.7</td>\n",
              "      <td>30,442.0</td>\n",
              "      <td>29,757.4</td>\n",
              "      <td>46.42K</td>\n",
              "      <td>1.45%</td>\n",
              "    </tr>\n",
              "  </tbody>\n",
              "</table>\n",
              "</div>\n",
              "      <button class=\"colab-df-convert\" onclick=\"convertToInteractive('df-c4fff1c2-6862-4e5c-a0f3-4110cc1472d9')\"\n",
              "              title=\"Convert this dataframe to an interactive table.\"\n",
              "              style=\"display:none;\">\n",
              "\n",
              "  <svg xmlns=\"http://www.w3.org/2000/svg\" height=\"24px\"viewBox=\"0 0 24 24\"\n",
              "       width=\"24px\">\n",
              "    <path d=\"M0 0h24v24H0V0z\" fill=\"none\"/>\n",
              "    <path d=\"M18.56 5.44l.94 2.06.94-2.06 2.06-.94-2.06-.94-.94-2.06-.94 2.06-2.06.94zm-11 1L8.5 8.5l.94-2.06 2.06-.94-2.06-.94L8.5 2.5l-.94 2.06-2.06.94zm10 10l.94 2.06.94-2.06 2.06-.94-2.06-.94-.94-2.06-.94 2.06-2.06.94z\"/><path d=\"M17.41 7.96l-1.37-1.37c-.4-.4-.92-.59-1.43-.59-.52 0-1.04.2-1.43.59L10.3 9.45l-7.72 7.72c-.78.78-.78 2.05 0 2.83L4 21.41c.39.39.9.59 1.41.59.51 0 1.02-.2 1.41-.59l7.78-7.78 2.81-2.81c.8-.78.8-2.07 0-2.86zM5.41 20L4 18.59l7.72-7.72 1.47 1.35L5.41 20z\"/>\n",
              "  </svg>\n",
              "      </button>\n",
              "\n",
              "\n",
              "\n",
              "    <div id=\"df-224594df-22f2-4460-8e58-c2d0ff3b3ddf\">\n",
              "      <button class=\"colab-df-quickchart\" onclick=\"quickchart('df-224594df-22f2-4460-8e58-c2d0ff3b3ddf')\"\n",
              "              title=\"Suggest charts.\"\n",
              "              style=\"display:none;\">\n",
              "\n",
              "<svg xmlns=\"http://www.w3.org/2000/svg\" height=\"24px\"viewBox=\"0 0 24 24\"\n",
              "     width=\"24px\">\n",
              "    <g>\n",
              "        <path d=\"M19 3H5c-1.1 0-2 .9-2 2v14c0 1.1.9 2 2 2h14c1.1 0 2-.9 2-2V5c0-1.1-.9-2-2-2zM9 17H7v-7h2v7zm4 0h-2V7h2v10zm4 0h-2v-4h2v4z\"/>\n",
              "    </g>\n",
              "</svg>\n",
              "      </button>\n",
              "    </div>\n",
              "\n",
              "<style>\n",
              "  .colab-df-quickchart {\n",
              "    background-color: #E8F0FE;\n",
              "    border: none;\n",
              "    border-radius: 50%;\n",
              "    cursor: pointer;\n",
              "    display: none;\n",
              "    fill: #1967D2;\n",
              "    height: 32px;\n",
              "    padding: 0 0 0 0;\n",
              "    width: 32px;\n",
              "  }\n",
              "\n",
              "  .colab-df-quickchart:hover {\n",
              "    background-color: #E2EBFA;\n",
              "    box-shadow: 0px 1px 2px rgba(60, 64, 67, 0.3), 0px 1px 3px 1px rgba(60, 64, 67, 0.15);\n",
              "    fill: #174EA6;\n",
              "  }\n",
              "\n",
              "  [theme=dark] .colab-df-quickchart {\n",
              "    background-color: #3B4455;\n",
              "    fill: #D2E3FC;\n",
              "  }\n",
              "\n",
              "  [theme=dark] .colab-df-quickchart:hover {\n",
              "    background-color: #434B5C;\n",
              "    box-shadow: 0px 1px 3px 1px rgba(0, 0, 0, 0.15);\n",
              "    filter: drop-shadow(0px 1px 2px rgba(0, 0, 0, 0.3));\n",
              "    fill: #FFFFFF;\n",
              "  }\n",
              "</style>\n",
              "\n",
              "    <script>\n",
              "      async function quickchart(key) {\n",
              "        const containerElement = document.querySelector('#' + key);\n",
              "        const charts = await google.colab.kernel.invokeFunction(\n",
              "            'suggestCharts', [key], {});\n",
              "      }\n",
              "    </script>\n",
              "\n",
              "      <script>\n",
              "\n",
              "function displayQuickchartButton(domScope) {\n",
              "  let quickchartButtonEl =\n",
              "    domScope.querySelector('#df-224594df-22f2-4460-8e58-c2d0ff3b3ddf button.colab-df-quickchart');\n",
              "  quickchartButtonEl.style.display =\n",
              "    google.colab.kernel.accessAllowed ? 'block' : 'none';\n",
              "}\n",
              "\n",
              "        displayQuickchartButton(document);\n",
              "      </script>\n",
              "      <style>\n",
              "    .colab-df-container {\n",
              "      display:flex;\n",
              "      flex-wrap:wrap;\n",
              "      gap: 12px;\n",
              "    }\n",
              "\n",
              "    .colab-df-convert {\n",
              "      background-color: #E8F0FE;\n",
              "      border: none;\n",
              "      border-radius: 50%;\n",
              "      cursor: pointer;\n",
              "      display: none;\n",
              "      fill: #1967D2;\n",
              "      height: 32px;\n",
              "      padding: 0 0 0 0;\n",
              "      width: 32px;\n",
              "    }\n",
              "\n",
              "    .colab-df-convert:hover {\n",
              "      background-color: #E2EBFA;\n",
              "      box-shadow: 0px 1px 2px rgba(60, 64, 67, 0.3), 0px 1px 3px 1px rgba(60, 64, 67, 0.15);\n",
              "      fill: #174EA6;\n",
              "    }\n",
              "\n",
              "    [theme=dark] .colab-df-convert {\n",
              "      background-color: #3B4455;\n",
              "      fill: #D2E3FC;\n",
              "    }\n",
              "\n",
              "    [theme=dark] .colab-df-convert:hover {\n",
              "      background-color: #434B5C;\n",
              "      box-shadow: 0px 1px 3px 1px rgba(0, 0, 0, 0.15);\n",
              "      filter: drop-shadow(0px 1px 2px rgba(0, 0, 0, 0.3));\n",
              "      fill: #FFFFFF;\n",
              "    }\n",
              "  </style>\n",
              "\n",
              "      <script>\n",
              "        const buttonEl =\n",
              "          document.querySelector('#df-c4fff1c2-6862-4e5c-a0f3-4110cc1472d9 button.colab-df-convert');\n",
              "        buttonEl.style.display =\n",
              "          google.colab.kernel.accessAllowed ? 'block' : 'none';\n",
              "\n",
              "        async function convertToInteractive(key) {\n",
              "          const element = document.querySelector('#df-c4fff1c2-6862-4e5c-a0f3-4110cc1472d9');\n",
              "          const dataTable =\n",
              "            await google.colab.kernel.invokeFunction('convertToInteractive',\n",
              "                                                     [key], {});\n",
              "          if (!dataTable) return;\n",
              "\n",
              "          const docLinkHtml = 'Like what you see? Visit the ' +\n",
              "            '<a target=\"_blank\" href=https://colab.research.google.com/notebooks/data_table.ipynb>data table notebook</a>'\n",
              "            + ' to learn more about interactive tables.';\n",
              "          element.innerHTML = '';\n",
              "          dataTable['output_type'] = 'display_data';\n",
              "          await google.colab.output.renderOutput(dataTable, element);\n",
              "          const docLink = document.createElement('div');\n",
              "          docLink.innerHTML = docLinkHtml;\n",
              "          element.appendChild(docLink);\n",
              "        }\n",
              "      </script>\n",
              "    </div>\n",
              "  </div>\n"
            ]
          },
          "metadata": {},
          "execution_count": 112
        }
      ],
      "source": [
        "import pandas as pd\n",
        "from matplotlib import pyplot as plt\n",
        "from sklearn.metrics import mean_squared_error as MSE, mean_absolute_error\n",
        "\n",
        "data = pd.read_csv(\"Bitcoin_kaggle.csv\",\n",
        "                  delimiter=';',\n",
        "                  parse_dates=True,\n",
        "                  index_col='Date'\n",
        "                  )\n",
        "\n",
        "print(len(data))\n",
        "\n",
        "data = data.sort_index()\n",
        "\n",
        "data.tail(10)"
      ]
    },
    {
      "cell_type": "markdown",
      "source": [
        "Преобразуем Price в нужный формат."
      ],
      "metadata": {
        "id": "cIT52Gca0r6-"
      }
    },
    {
      "cell_type": "code",
      "source": [
        "data['Price'] = data['Price'].apply(lambda x: float(x.replace(\",\",\"\")))"
      ],
      "metadata": {
        "id": "ME_iTcgfB1RX"
      },
      "execution_count": null,
      "outputs": []
    },
    {
      "cell_type": "code",
      "source": [
        "data"
      ],
      "metadata": {
        "colab": {
          "base_uri": "https://localhost:8080/",
          "height": 455
        },
        "id": "JJ9N8pf8dK3i",
        "outputId": "26d5c2bc-f2ed-44ae-b1e8-6ec5f269b663"
      },
      "execution_count": null,
      "outputs": [
        {
          "output_type": "execute_result",
          "data": {
            "text/plain": [
              "              Price      Open      High       Low    Vol. Change %\n",
              "Date                                                              \n",
              "2022-01-14  43073.3  42,562.2  43,435.1  41,848.7  50.50K    1.21%\n",
              "2022-01-15  43097.0  43,073.6  43,777.9  42,586.1  31.44K    0.06%\n",
              "2022-01-16  43079.1  43,079.2  43,462.0  42,643.3  28.66K   -0.04%\n",
              "2022-01-17  42209.3  43,080.5  43,179.6  41,559.4  41.44K   -2.02%\n",
              "2022-01-18  42364.6  42,209.9  42,674.2  41,300.7  47.32K    0.37%\n",
              "...             ...       ...       ...       ...     ...      ...\n",
              "2023-07-10  30346.4  29,912.7  30,442.0  29,757.4  46.42K    1.45%\n",
              "2023-07-11  30346.4  29,912.7  30,442.0  29,757.4  46.42K    1.45%\n",
              "2023-07-12  30346.4  29,912.7  30,442.0  29,757.4  46.42K    1.45%\n",
              "2023-07-13  30346.4  29,912.7  30,442.0  29,757.4  46.42K    1.45%\n",
              "2023-07-14  30346.4  29,912.7  30,442.0  29,757.4  46.42K    1.45%\n",
              "\n",
              "[547 rows x 6 columns]"
            ],
            "text/html": [
              "\n",
              "\n",
              "  <div id=\"df-b4921998-9ebf-4d81-86b5-5a7807f02b61\">\n",
              "    <div class=\"colab-df-container\">\n",
              "      <div>\n",
              "<style scoped>\n",
              "    .dataframe tbody tr th:only-of-type {\n",
              "        vertical-align: middle;\n",
              "    }\n",
              "\n",
              "    .dataframe tbody tr th {\n",
              "        vertical-align: top;\n",
              "    }\n",
              "\n",
              "    .dataframe thead th {\n",
              "        text-align: right;\n",
              "    }\n",
              "</style>\n",
              "<table border=\"1\" class=\"dataframe\">\n",
              "  <thead>\n",
              "    <tr style=\"text-align: right;\">\n",
              "      <th></th>\n",
              "      <th>Price</th>\n",
              "      <th>Open</th>\n",
              "      <th>High</th>\n",
              "      <th>Low</th>\n",
              "      <th>Vol.</th>\n",
              "      <th>Change %</th>\n",
              "    </tr>\n",
              "    <tr>\n",
              "      <th>Date</th>\n",
              "      <th></th>\n",
              "      <th></th>\n",
              "      <th></th>\n",
              "      <th></th>\n",
              "      <th></th>\n",
              "      <th></th>\n",
              "    </tr>\n",
              "  </thead>\n",
              "  <tbody>\n",
              "    <tr>\n",
              "      <th>2022-01-14</th>\n",
              "      <td>43073.3</td>\n",
              "      <td>42,562.2</td>\n",
              "      <td>43,435.1</td>\n",
              "      <td>41,848.7</td>\n",
              "      <td>50.50K</td>\n",
              "      <td>1.21%</td>\n",
              "    </tr>\n",
              "    <tr>\n",
              "      <th>2022-01-15</th>\n",
              "      <td>43097.0</td>\n",
              "      <td>43,073.6</td>\n",
              "      <td>43,777.9</td>\n",
              "      <td>42,586.1</td>\n",
              "      <td>31.44K</td>\n",
              "      <td>0.06%</td>\n",
              "    </tr>\n",
              "    <tr>\n",
              "      <th>2022-01-16</th>\n",
              "      <td>43079.1</td>\n",
              "      <td>43,079.2</td>\n",
              "      <td>43,462.0</td>\n",
              "      <td>42,643.3</td>\n",
              "      <td>28.66K</td>\n",
              "      <td>-0.04%</td>\n",
              "    </tr>\n",
              "    <tr>\n",
              "      <th>2022-01-17</th>\n",
              "      <td>42209.3</td>\n",
              "      <td>43,080.5</td>\n",
              "      <td>43,179.6</td>\n",
              "      <td>41,559.4</td>\n",
              "      <td>41.44K</td>\n",
              "      <td>-2.02%</td>\n",
              "    </tr>\n",
              "    <tr>\n",
              "      <th>2022-01-18</th>\n",
              "      <td>42364.6</td>\n",
              "      <td>42,209.9</td>\n",
              "      <td>42,674.2</td>\n",
              "      <td>41,300.7</td>\n",
              "      <td>47.32K</td>\n",
              "      <td>0.37%</td>\n",
              "    </tr>\n",
              "    <tr>\n",
              "      <th>...</th>\n",
              "      <td>...</td>\n",
              "      <td>...</td>\n",
              "      <td>...</td>\n",
              "      <td>...</td>\n",
              "      <td>...</td>\n",
              "      <td>...</td>\n",
              "    </tr>\n",
              "    <tr>\n",
              "      <th>2023-07-10</th>\n",
              "      <td>30346.4</td>\n",
              "      <td>29,912.7</td>\n",
              "      <td>30,442.0</td>\n",
              "      <td>29,757.4</td>\n",
              "      <td>46.42K</td>\n",
              "      <td>1.45%</td>\n",
              "    </tr>\n",
              "    <tr>\n",
              "      <th>2023-07-11</th>\n",
              "      <td>30346.4</td>\n",
              "      <td>29,912.7</td>\n",
              "      <td>30,442.0</td>\n",
              "      <td>29,757.4</td>\n",
              "      <td>46.42K</td>\n",
              "      <td>1.45%</td>\n",
              "    </tr>\n",
              "    <tr>\n",
              "      <th>2023-07-12</th>\n",
              "      <td>30346.4</td>\n",
              "      <td>29,912.7</td>\n",
              "      <td>30,442.0</td>\n",
              "      <td>29,757.4</td>\n",
              "      <td>46.42K</td>\n",
              "      <td>1.45%</td>\n",
              "    </tr>\n",
              "    <tr>\n",
              "      <th>2023-07-13</th>\n",
              "      <td>30346.4</td>\n",
              "      <td>29,912.7</td>\n",
              "      <td>30,442.0</td>\n",
              "      <td>29,757.4</td>\n",
              "      <td>46.42K</td>\n",
              "      <td>1.45%</td>\n",
              "    </tr>\n",
              "    <tr>\n",
              "      <th>2023-07-14</th>\n",
              "      <td>30346.4</td>\n",
              "      <td>29,912.7</td>\n",
              "      <td>30,442.0</td>\n",
              "      <td>29,757.4</td>\n",
              "      <td>46.42K</td>\n",
              "      <td>1.45%</td>\n",
              "    </tr>\n",
              "  </tbody>\n",
              "</table>\n",
              "<p>547 rows × 6 columns</p>\n",
              "</div>\n",
              "      <button class=\"colab-df-convert\" onclick=\"convertToInteractive('df-b4921998-9ebf-4d81-86b5-5a7807f02b61')\"\n",
              "              title=\"Convert this dataframe to an interactive table.\"\n",
              "              style=\"display:none;\">\n",
              "\n",
              "  <svg xmlns=\"http://www.w3.org/2000/svg\" height=\"24px\"viewBox=\"0 0 24 24\"\n",
              "       width=\"24px\">\n",
              "    <path d=\"M0 0h24v24H0V0z\" fill=\"none\"/>\n",
              "    <path d=\"M18.56 5.44l.94 2.06.94-2.06 2.06-.94-2.06-.94-.94-2.06-.94 2.06-2.06.94zm-11 1L8.5 8.5l.94-2.06 2.06-.94-2.06-.94L8.5 2.5l-.94 2.06-2.06.94zm10 10l.94 2.06.94-2.06 2.06-.94-2.06-.94-.94-2.06-.94 2.06-2.06.94z\"/><path d=\"M17.41 7.96l-1.37-1.37c-.4-.4-.92-.59-1.43-.59-.52 0-1.04.2-1.43.59L10.3 9.45l-7.72 7.72c-.78.78-.78 2.05 0 2.83L4 21.41c.39.39.9.59 1.41.59.51 0 1.02-.2 1.41-.59l7.78-7.78 2.81-2.81c.8-.78.8-2.07 0-2.86zM5.41 20L4 18.59l7.72-7.72 1.47 1.35L5.41 20z\"/>\n",
              "  </svg>\n",
              "      </button>\n",
              "\n",
              "\n",
              "\n",
              "    <div id=\"df-a0529f83-9a91-49d6-a814-e6ba2879b21b\">\n",
              "      <button class=\"colab-df-quickchart\" onclick=\"quickchart('df-a0529f83-9a91-49d6-a814-e6ba2879b21b')\"\n",
              "              title=\"Suggest charts.\"\n",
              "              style=\"display:none;\">\n",
              "\n",
              "<svg xmlns=\"http://www.w3.org/2000/svg\" height=\"24px\"viewBox=\"0 0 24 24\"\n",
              "     width=\"24px\">\n",
              "    <g>\n",
              "        <path d=\"M19 3H5c-1.1 0-2 .9-2 2v14c0 1.1.9 2 2 2h14c1.1 0 2-.9 2-2V5c0-1.1-.9-2-2-2zM9 17H7v-7h2v7zm4 0h-2V7h2v10zm4 0h-2v-4h2v4z\"/>\n",
              "    </g>\n",
              "</svg>\n",
              "      </button>\n",
              "    </div>\n",
              "\n",
              "<style>\n",
              "  .colab-df-quickchart {\n",
              "    background-color: #E8F0FE;\n",
              "    border: none;\n",
              "    border-radius: 50%;\n",
              "    cursor: pointer;\n",
              "    display: none;\n",
              "    fill: #1967D2;\n",
              "    height: 32px;\n",
              "    padding: 0 0 0 0;\n",
              "    width: 32px;\n",
              "  }\n",
              "\n",
              "  .colab-df-quickchart:hover {\n",
              "    background-color: #E2EBFA;\n",
              "    box-shadow: 0px 1px 2px rgba(60, 64, 67, 0.3), 0px 1px 3px 1px rgba(60, 64, 67, 0.15);\n",
              "    fill: #174EA6;\n",
              "  }\n",
              "\n",
              "  [theme=dark] .colab-df-quickchart {\n",
              "    background-color: #3B4455;\n",
              "    fill: #D2E3FC;\n",
              "  }\n",
              "\n",
              "  [theme=dark] .colab-df-quickchart:hover {\n",
              "    background-color: #434B5C;\n",
              "    box-shadow: 0px 1px 3px 1px rgba(0, 0, 0, 0.15);\n",
              "    filter: drop-shadow(0px 1px 2px rgba(0, 0, 0, 0.3));\n",
              "    fill: #FFFFFF;\n",
              "  }\n",
              "</style>\n",
              "\n",
              "    <script>\n",
              "      async function quickchart(key) {\n",
              "        const containerElement = document.querySelector('#' + key);\n",
              "        const charts = await google.colab.kernel.invokeFunction(\n",
              "            'suggestCharts', [key], {});\n",
              "      }\n",
              "    </script>\n",
              "\n",
              "      <script>\n",
              "\n",
              "function displayQuickchartButton(domScope) {\n",
              "  let quickchartButtonEl =\n",
              "    domScope.querySelector('#df-a0529f83-9a91-49d6-a814-e6ba2879b21b button.colab-df-quickchart');\n",
              "  quickchartButtonEl.style.display =\n",
              "    google.colab.kernel.accessAllowed ? 'block' : 'none';\n",
              "}\n",
              "\n",
              "        displayQuickchartButton(document);\n",
              "      </script>\n",
              "      <style>\n",
              "    .colab-df-container {\n",
              "      display:flex;\n",
              "      flex-wrap:wrap;\n",
              "      gap: 12px;\n",
              "    }\n",
              "\n",
              "    .colab-df-convert {\n",
              "      background-color: #E8F0FE;\n",
              "      border: none;\n",
              "      border-radius: 50%;\n",
              "      cursor: pointer;\n",
              "      display: none;\n",
              "      fill: #1967D2;\n",
              "      height: 32px;\n",
              "      padding: 0 0 0 0;\n",
              "      width: 32px;\n",
              "    }\n",
              "\n",
              "    .colab-df-convert:hover {\n",
              "      background-color: #E2EBFA;\n",
              "      box-shadow: 0px 1px 2px rgba(60, 64, 67, 0.3), 0px 1px 3px 1px rgba(60, 64, 67, 0.15);\n",
              "      fill: #174EA6;\n",
              "    }\n",
              "\n",
              "    [theme=dark] .colab-df-convert {\n",
              "      background-color: #3B4455;\n",
              "      fill: #D2E3FC;\n",
              "    }\n",
              "\n",
              "    [theme=dark] .colab-df-convert:hover {\n",
              "      background-color: #434B5C;\n",
              "      box-shadow: 0px 1px 3px 1px rgba(0, 0, 0, 0.15);\n",
              "      filter: drop-shadow(0px 1px 2px rgba(0, 0, 0, 0.3));\n",
              "      fill: #FFFFFF;\n",
              "    }\n",
              "  </style>\n",
              "\n",
              "      <script>\n",
              "        const buttonEl =\n",
              "          document.querySelector('#df-b4921998-9ebf-4d81-86b5-5a7807f02b61 button.colab-df-convert');\n",
              "        buttonEl.style.display =\n",
              "          google.colab.kernel.accessAllowed ? 'block' : 'none';\n",
              "\n",
              "        async function convertToInteractive(key) {\n",
              "          const element = document.querySelector('#df-b4921998-9ebf-4d81-86b5-5a7807f02b61');\n",
              "          const dataTable =\n",
              "            await google.colab.kernel.invokeFunction('convertToInteractive',\n",
              "                                                     [key], {});\n",
              "          if (!dataTable) return;\n",
              "\n",
              "          const docLinkHtml = 'Like what you see? Visit the ' +\n",
              "            '<a target=\"_blank\" href=https://colab.research.google.com/notebooks/data_table.ipynb>data table notebook</a>'\n",
              "            + ' to learn more about interactive tables.';\n",
              "          element.innerHTML = '';\n",
              "          dataTable['output_type'] = 'display_data';\n",
              "          await google.colab.output.renderOutput(dataTable, element);\n",
              "          const docLink = document.createElement('div');\n",
              "          docLink.innerHTML = docLinkHtml;\n",
              "          element.appendChild(docLink);\n",
              "        }\n",
              "      </script>\n",
              "    </div>\n",
              "  </div>\n"
            ]
          },
          "metadata": {},
          "execution_count": 114
        }
      ]
    },
    {
      "cell_type": "code",
      "source": [
        "data = data[['Price']]\n",
        "\n",
        "data.plot()"
      ],
      "metadata": {
        "colab": {
          "base_uri": "https://localhost:8080/",
          "height": 484
        },
        "id": "FIhcQ3z_8TZh",
        "outputId": "e585c803-4baf-4514-f1fa-004b6dd771cf"
      },
      "execution_count": null,
      "outputs": [
        {
          "output_type": "execute_result",
          "data": {
            "text/plain": [
              "<Axes: xlabel='Date'>"
            ]
          },
          "metadata": {},
          "execution_count": 115
        },
        {
          "output_type": "display_data",
          "data": {
            "text/plain": [
              "<Figure size 640x480 with 1 Axes>"
            ],
            "image/png": "[encoded data removed]"
          },
          "metadata": {}
        }
      ]
    },
    {
      "cell_type": "code",
      "source": [],
      "metadata": {
        "id": "O-_80xnpndnw"
      },
      "execution_count": null,
      "outputs": []
    },
    {
      "cell_type": "code",
      "source": [
        "!pip install yfinance\n",
        "import yfinance as yf\n",
        "data_sp = yf.download(\"^GSPC\", start=\"2022-01-14\", end=\"2023-07-14\")\n",
        "data_eth = yf.download(\"ETH-USD\", start=\"2022-01-14\", end=\"2023-07-14\")\n",
        "\n",
        "data_oil = yf.download(\"CL=F\", start=\"2022-01-14\", end=\"2023-07-14\")"
      ],
      "metadata": {
        "colab": {
          "base_uri": "https://localhost:8080/"
        },
        "outputId": "dcfd773d-048f-4424-d46e-ae79e962651b",
        "id": "luEiJJD8ndsJ"
      },
      "execution_count": null,
      "outputs": [
        {
          "output_type": "stream",
          "name": "stdout",
          "text": [
            "Requirement already satisfied: yfinance in /usr/local/lib/python3.10/dist-packages (0.2.27)\n",
            "Requirement already satisfied: pandas>=1.3.0 in /usr/local/lib/python3.10/dist-packages (from yfinance) (1.5.3)\n",
            "Requirement already satisfied: numpy>=1.16.5 in /usr/local/lib/python3.10/dist-packages (from yfinance) (1.23.5)\n",
            "Requirement already satisfied: requests>=2.31 in /usr/local/lib/python3.10/dist-packages (from yfinance) (2.31.0)\n",
            "Requirement already satisfied: multitasking>=0.0.7 in /usr/local/lib/python3.10/dist-packages (from yfinance) (0.0.11)\n",
            "Requirement already satisfied: lxml>=4.9.1 in /usr/local/lib/python3.10/dist-packages (from yfinance) (4.9.3)\n",
            "Requirement already satisfied: appdirs>=1.4.4 in /usr/local/lib/python3.10/dist-packages (from yfinance) (1.4.4)\n",
            "Requirement already satisfied: pytz>=2022.5 in /usr/local/lib/python3.10/dist-packages (from yfinance) (2022.7.1)\n",
            "Requirement already satisfied: frozendict>=2.3.4 in /usr/local/lib/python3.10/dist-packages (from yfinance) (2.3.8)\n",
            "Requirement already satisfied: beautifulsoup4>=4.11.1 in /usr/local/lib/python3.10/dist-packages (from yfinance) (4.11.2)\n",
            "Requirement already satisfied: html5lib>=1.1 in /usr/local/lib/python3.10/dist-packages (from yfinance) (1.1)\n",
            "Requirement already satisfied: soupsieve>1.2 in /usr/local/lib/python3.10/dist-packages (from beautifulsoup4>=4.11.1->yfinance) (2.4.1)\n",
            "Requirement already satisfied: six>=1.9 in /usr/local/lib/python3.10/dist-packages (from html5lib>=1.1->yfinance) (1.16.0)\n",
            "Requirement already satisfied: webencodings in /usr/local/lib/python3.10/dist-packages (from html5lib>=1.1->yfinance) (0.5.1)\n",
            "Requirement already satisfied: python-dateutil>=2.8.1 in /usr/local/lib/python3.10/dist-packages (from pandas>=1.3.0->yfinance) (2.8.2)\n",
            "Requirement already satisfied: charset-normalizer<4,>=2 in /usr/local/lib/python3.10/dist-packages (from requests>=2.31->yfinance) (3.2.0)\n",
            "Requirement already satisfied: idna<4,>=2.5 in /usr/local/lib/python3.10/dist-packages (from requests>=2.31->yfinance) (3.4)\n",
            "Requirement already satisfied: urllib3<3,>=1.21.1 in /usr/local/lib/python3.10/dist-packages (from requests>=2.31->yfinance) (1.26.16)\n",
            "Requirement already satisfied: certifi>=2017.4.17 in /usr/local/lib/python3.10/dist-packages (from requests>=2.31->yfinance) (2023.7.22)\n",
            "[*********************100%***********************]  1 of 1 completed\n",
            "[*********************100%***********************]  1 of 1 completed\n",
            "[*********************100%***********************]  1 of 1 completed\n"
          ]
        }
      ]
    },
    {
      "cell_type": "code",
      "source": [
        "#data_sp = data_sp['Adj Close']\n",
        "data_eth = data_eth['Adj Close']\n",
        "#data_oil = data_oil['Adj Close']"
      ],
      "metadata": {
        "id": "sAgCtgXQndsJ"
      },
      "execution_count": null,
      "outputs": []
    },
    {
      "cell_type": "code",
      "source": [
        "data1 = pd.merge(data, data_eth, on='Date', how = 'outer')"
      ],
      "metadata": {
        "id": "QIdmof13npE6"
      },
      "execution_count": null,
      "outputs": []
    },
    {
      "cell_type": "code",
      "source": [
        "data1 = data1.head(540)"
      ],
      "metadata": {
        "id": "ZY2XwYplGuNV"
      },
      "execution_count": null,
      "outputs": []
    },
    {
      "cell_type": "code",
      "source": [
        "!pip install etna -q\n",
        "from etna.datasets.tsdataset import TSDataset\n"
      ],
      "metadata": {
        "id": "aGrMFtXpmZ_M"
      },
      "execution_count": null,
      "outputs": []
    },
    {
      "cell_type": "code",
      "source": [
        "from statsmodels.tsa.arima_model import ARIMA\n",
        "import pmdarima as pm"
      ],
      "metadata": {
        "id": "76iOmkNAFyHs"
      },
      "execution_count": null,
      "outputs": []
    },
    {
      "cell_type": "code",
      "source": [
        "sxmodel = pm.auto_arima(data1[['Price']], exogenous=data1[['Adj Close']],\n",
        "                           start_p=1, start_q=1,\n",
        "                           test='adf',\n",
        "                           max_p=3, max_q=3, m=10,\n",
        "                           start_P=0, seasonal=True,\n",
        "                           d=None, D=1, trace=True,\n",
        "                           error_action='ignore',\n",
        "                           suppress_warnings=True,\n",
        "                           stepwise=True)\n",
        "\n",
        "sxmodel.summary()"
      ],
      "metadata": {
        "colab": {
          "base_uri": "https://localhost:8080/",
          "height": 951
        },
        "id": "fEcU7JFjFnWG",
        "outputId": "c60533de-6d45-4b48-f8d3-9b161099e4e7"
      },
      "execution_count": null,
      "outputs": [
        {
          "output_type": "stream",
          "name": "stdout",
          "text": [
            "Performing stepwise search to minimize aic\n",
            " ARIMA(1,0,1)(0,1,1)[10] intercept   : AIC=9360.684, Time=2.54 sec\n",
            " ARIMA(0,0,0)(0,1,0)[10] intercept   : AIC=9958.168, Time=0.06 sec\n",
            " ARIMA(1,0,0)(1,1,0)[10] intercept   : AIC=9343.257, Time=2.17 sec\n",
            " ARIMA(0,0,1)(0,1,1)[10] intercept   : AIC=9667.546, Time=1.44 sec\n",
            " ARIMA(0,0,0)(0,1,0)[10]             : AIC=9958.464, Time=0.09 sec\n",
            " ARIMA(1,0,0)(0,1,0)[10] intercept   : AIC=9492.794, Time=0.73 sec\n",
            " ARIMA(1,0,0)(2,1,0)[10] intercept   : AIC=9338.719, Time=4.75 sec\n",
            " ARIMA(1,0,0)(2,1,1)[10] intercept   : AIC=9340.629, Time=7.91 sec\n",
            " ARIMA(1,0,0)(1,1,1)[10] intercept   : AIC=9338.748, Time=3.90 sec\n",
            " ARIMA(0,0,0)(2,1,0)[10] intercept   : AIC=9932.087, Time=1.90 sec\n",
            " ARIMA(2,0,0)(2,1,0)[10] intercept   : AIC=9340.718, Time=5.09 sec\n",
            " ARIMA(1,0,1)(2,1,0)[10] intercept   : AIC=9340.729, Time=8.53 sec\n",
            " ARIMA(0,0,1)(2,1,0)[10] intercept   : AIC=9595.732, Time=4.23 sec\n",
            " ARIMA(2,0,1)(2,1,0)[10] intercept   : AIC=inf, Time=11.46 sec\n",
            " ARIMA(1,0,0)(2,1,0)[10]             : AIC=9337.247, Time=3.71 sec\n",
            " ARIMA(1,0,0)(1,1,0)[10]             : AIC=9341.981, Time=1.48 sec\n",
            " ARIMA(1,0,0)(2,1,1)[10]             : AIC=9339.175, Time=8.28 sec\n",
            " ARIMA(1,0,0)(1,1,1)[10]             : AIC=9337.290, Time=1.93 sec\n",
            " ARIMA(0,0,0)(2,1,0)[10]             : AIC=9931.535, Time=1.34 sec\n",
            " ARIMA(2,0,0)(2,1,0)[10]             : AIC=9339.233, Time=5.67 sec\n",
            " ARIMA(1,0,1)(2,1,0)[10]             : AIC=9339.231, Time=6.47 sec\n",
            " ARIMA(0,0,1)(2,1,0)[10]             : AIC=9595.085, Time=3.64 sec\n",
            " ARIMA(2,0,1)(2,1,0)[10]             : AIC=inf, Time=9.40 sec\n",
            "\n",
            "Best model:  ARIMA(1,0,0)(2,1,0)[10]          \n",
            "Total fit time: 96.768 seconds\n"
          ]
        },
        {
          "output_type": "execute_result",
          "data": {
            "text/plain": [
              "<class 'statsmodels.iolib.summary.Summary'>\n",
              "\"\"\"\n",
              "                                     SARIMAX Results                                      \n",
              "==========================================================================================\n",
              "Dep. Variable:                                  y   No. Observations:                  540\n",
              "Model:             SARIMAX(1, 0, 0)x(2, 1, 0, 10)   Log Likelihood               -4664.623\n",
              "Date:                            Fri, 11 Aug 2023   AIC                           9337.247\n",
              "Time:                                    10:20:41   BIC                           9354.338\n",
              "Sample:                                01-14-2022   HQIC                          9343.937\n",
              "                                     - 07-07-2023                                         \n",
              "Covariance Type:                              opg                                         \n",
              "==============================================================================\n",
              "                 coef    std err          z      P>|z|      [0.025      0.975]\n",
              "------------------------------------------------------------------------------\n",
              "ar.L1          0.8036      0.007    118.730      0.000       0.790       0.817\n",
              "ar.S.L10      -0.5398      0.019    -28.039      0.000      -0.578      -0.502\n",
              "ar.S.L20      -0.1035      0.022     -4.724      0.000      -0.146      -0.061\n",
              "sigma2      2.271e+06   3.36e-09   6.75e+14      0.000    2.27e+06    2.27e+06\n",
              "===================================================================================\n",
              "Ljung-Box (L1) (Q):                  11.83   Jarque-Bera (JB):             31498.89\n",
              "Prob(Q):                              0.00   Prob(JB):                         0.00\n",
              "Heteroskedasticity (H):               0.12   Skew:                            -3.29\n",
              "Prob(H) (two-sided):                  0.00   Kurtosis:                        40.19\n",
              "===================================================================================\n",
              "\n",
              "Warnings:\n",
              "[1] Covariance matrix calculated using the outer product of gradients (complex-step).\n",
              "[2] Covariance matrix is singular or near-singular, with condition number 1.03e+30. Standard errors may be unstable.\n",
              "\"\"\""
            ],
            "text/html": [
              "<table class=\"simpletable\">\n",
              "<caption>SARIMAX Results</caption>\n",
              "<tr>\n",
              "  <th>Dep. Variable:</th>                  <td>y</td>               <th>  No. Observations:  </th>    <td>540</td>   \n",
              "</tr>\n",
              "<tr>\n",
              "  <th>Model:</th>           <td>SARIMAX(1, 0, 0)x(2, 1, 0, 10)</td> <th>  Log Likelihood     </th> <td>-4664.623</td>\n",
              "</tr>\n",
              "<tr>\n",
              "  <th>Date:</th>                   <td>Fri, 11 Aug 2023</td>        <th>  AIC                </th> <td>9337.247</td> \n",
              "</tr>\n",
              "<tr>\n",
              "  <th>Time:</th>                       <td>10:20:41</td>            <th>  BIC                </th> <td>9354.338</td> \n",
              "</tr>\n",
              "<tr>\n",
              "  <th>Sample:</th>                    <td>01-14-2022</td>           <th>  HQIC               </th> <td>9343.937</td> \n",
              "</tr>\n",
              "<tr>\n",
              "  <th></th>                          <td>- 07-07-2023</td>          <th>                     </th>     <td> </td>    \n",
              "</tr>\n",
              "<tr>\n",
              "  <th>Covariance Type:</th>               <td>opg</td>              <th>                     </th>     <td> </td>    \n",
              "</tr>\n",
              "</table>\n",
              "<table class=\"simpletable\">\n",
              "<tr>\n",
              "      <td></td>        <th>coef</th>     <th>std err</th>      <th>z</th>      <th>P>|z|</th>  <th>[0.025</th>    <th>0.975]</th>  \n",
              "</tr>\n",
              "<tr>\n",
              "  <th>ar.L1</th>    <td>    0.8036</td> <td>    0.007</td> <td>  118.730</td> <td> 0.000</td> <td>    0.790</td> <td>    0.817</td>\n",
              "</tr>\n",
              "<tr>\n",
              "  <th>ar.S.L10</th> <td>   -0.5398</td> <td>    0.019</td> <td>  -28.039</td> <td> 0.000</td> <td>   -0.578</td> <td>   -0.502</td>\n",
              "</tr>\n",
              "<tr>\n",
              "  <th>ar.S.L20</th> <td>   -0.1035</td> <td>    0.022</td> <td>   -4.724</td> <td> 0.000</td> <td>   -0.146</td> <td>   -0.061</td>\n",
              "</tr>\n",
              "<tr>\n",
              "  <th>sigma2</th>   <td> 2.271e+06</td> <td> 3.36e-09</td> <td> 6.75e+14</td> <td> 0.000</td> <td> 2.27e+06</td> <td> 2.27e+06</td>\n",
              "</tr>\n",
              "</table>\n",
              "<table class=\"simpletable\">\n",
              "<tr>\n",
              "  <th>Ljung-Box (L1) (Q):</th>     <td>11.83</td> <th>  Jarque-Bera (JB):  </th> <td>31498.89</td>\n",
              "</tr>\n",
              "<tr>\n",
              "  <th>Prob(Q):</th>                <td>0.00</td>  <th>  Prob(JB):          </th>   <td>0.00</td>  \n",
              "</tr>\n",
              "<tr>\n",
              "  <th>Heteroskedasticity (H):</th> <td>0.12</td>  <th>  Skew:              </th>   <td>-3.29</td> \n",
              "</tr>\n",
              "<tr>\n",
              "  <th>Prob(H) (two-sided):</th>    <td>0.00</td>  <th>  Kurtosis:          </th>   <td>40.19</td> \n",
              "</tr>\n",
              "</table><br/><br/>Warnings:<br/>[1] Covariance matrix calculated using the outer product of gradients (complex-step).<br/>[2] Covariance matrix is singular or near-singular, with condition number 1.03e+30. Standard errors may be unstable."
            ]
          },
          "metadata": {},
          "execution_count": 160
        }
      ]
    },
    {
      "cell_type": "code",
      "source": [
        "n_periods = 7\n",
        "fitted, confint = sxmodel.predict(n_periods=n_periods,\n",
        "                                  exogenous=data1[['Adj Close']],\n",
        "                                  return_conf_int=True)\n",
        "\n",
        "index_of_fc = pd.Series(pd.date_range(\"2022-07-14\", periods=n_periods, freq=\"D\"))\n",
        "\n",
        "# make series for plotting purpose\n",
        "fitted_series = pd.Series(fitted, index=index_of_fc)\n",
        "lower_series = pd.Series(confint[:, 0], index=index_of_fc)\n",
        "upper_series = pd.Series(confint[:, 1], index=index_of_fc)\n",
        "\n",
        "# Plot\n",
        "plt.plot(data1.Price)\n",
        "plt.plot(-fitted_series, color='darkgreen')\n",
        "plt.fill_between(lower_series.index,\n",
        "                 -lower_series,\n",
        "                 -upper_series,\n",
        "                 color='k', alpha=.15)\n",
        "\n",
        "plt.title(\"SARIMAX Forecast of Global Wood Demand (with GDP)\")\n",
        "plt.show()"
      ],
      "metadata": {
        "colab": {
          "base_uri": "https://localhost:8080/",
          "height": 452
        },
        "id": "CFGIVG8CFpyX",
        "outputId": "46341ea0-9e1a-407b-e536-62ad98b6c91e"
      },
      "execution_count": null,
      "outputs": [
        {
          "output_type": "display_data",
          "data": {
            "text/plain": [
              "<Figure size 640x480 with 1 Axes>"
            ],
            "image/png": "[encoded data removed]"
          },
          "metadata": {}
        }
      ]
    },
    {
      "cell_type": "code",
      "source": [
        "pd.DataFrame(fitted).to_csv('sarimax.csv')"
      ],
      "metadata": {
        "id": "RkmPd5XVFqdL"
      },
      "execution_count": null,
      "outputs": []
    },
    {
      "cell_type": "code",
      "source": [
        "df = data\n",
        "df = df.reset_index()\n",
        "df[\"timestamp\"] = pd.to_datetime(df['Date'])\n",
        "df[\"target\"] = df[\"Price\"]\n",
        "df.drop(columns=[\"Date\", 'Price'], inplace=True)\n",
        "df[\"segment\"] = \"main\""
      ],
      "metadata": {
        "id": "18O_oPwyn8Hi"
      },
      "execution_count": null,
      "outputs": []
    },
    {
      "cell_type": "code",
      "source": [
        "df"
      ],
      "metadata": {
        "colab": {
          "base_uri": "https://localhost:8080/",
          "height": 423
        },
        "id": "hA3e-JPYpSS2",
        "outputId": "7e20e84e-a680-46a7-b0dd-f21997c0aca5"
      },
      "execution_count": null,
      "outputs": [
        {
          "output_type": "execute_result",
          "data": {
            "text/plain": [
              "     timestamp   target segment\n",
              "0   2022-01-14  43073.3    main\n",
              "1   2022-01-15  43097.0    main\n",
              "2   2022-01-16  43079.1    main\n",
              "3   2022-01-17  42209.3    main\n",
              "4   2022-01-18  42364.6    main\n",
              "..         ...      ...     ...\n",
              "542 2023-07-10  30346.4    main\n",
              "543 2023-07-11  30346.4    main\n",
              "544 2023-07-12  30346.4    main\n",
              "545 2023-07-13  30346.4    main\n",
              "546 2023-07-14  30346.4    main\n",
              "\n",
              "[547 rows x 3 columns]"
            ],
            "text/html": [
              "\n",
              "\n",
              "  <div id=\"df-1ad9b558-5ed4-49c6-b6e6-3217d1f3c4bb\">\n",
              "    <div class=\"colab-df-container\">\n",
              "      <div>\n",
              "<style scoped>\n",
              "    .dataframe tbody tr th:only-of-type {\n",
              "        vertical-align: middle;\n",
              "    }\n",
              "\n",
              "    .dataframe tbody tr th {\n",
              "        vertical-align: top;\n",
              "    }\n",
              "\n",
              "    .dataframe thead th {\n",
              "        text-align: right;\n",
              "    }\n",
              "</style>\n",
              "<table border=\"1\" class=\"dataframe\">\n",
              "  <thead>\n",
              "    <tr style=\"text-align: right;\">\n",
              "      <th></th>\n",
              "      <th>timestamp</th>\n",
              "      <th>target</th>\n",
              "      <th>segment</th>\n",
              "    </tr>\n",
              "  </thead>\n",
              "  <tbody>\n",
              "    <tr>\n",
              "      <th>0</th>\n",
              "      <td>2022-01-14</td>\n",
              "      <td>43073.3</td>\n",
              "      <td>main</td>\n",
              "    </tr>\n",
              "    <tr>\n",
              "      <th>1</th>\n",
              "      <td>2022-01-15</td>\n",
              "      <td>43097.0</td>\n",
              "      <td>main</td>\n",
              "    </tr>\n",
              "    <tr>\n",
              "      <th>2</th>\n",
              "      <td>2022-01-16</td>\n",
              "      <td>43079.1</td>\n",
              "      <td>main</td>\n",
              "    </tr>\n",
              "    <tr>\n",
              "      <th>3</th>\n",
              "      <td>2022-01-17</td>\n",
              "      <td>42209.3</td>\n",
              "      <td>main</td>\n",
              "    </tr>\n",
              "    <tr>\n",
              "      <th>4</th>\n",
              "      <td>2022-01-18</td>\n",
              "      <td>42364.6</td>\n",
              "      <td>main</td>\n",
              "    </tr>\n",
              "    <tr>\n",
              "      <th>...</th>\n",
              "      <td>...</td>\n",
              "      <td>...</td>\n",
              "      <td>...</td>\n",
              "    </tr>\n",
              "    <tr>\n",
              "      <th>542</th>\n",
              "      <td>2023-07-10</td>\n",
              "      <td>30346.4</td>\n",
              "      <td>main</td>\n",
              "    </tr>\n",
              "    <tr>\n",
              "      <th>543</th>\n",
              "      <td>2023-07-11</td>\n",
              "      <td>30346.4</td>\n",
              "      <td>main</td>\n",
              "    </tr>\n",
              "    <tr>\n",
              "      <th>544</th>\n",
              "      <td>2023-07-12</td>\n",
              "      <td>30346.4</td>\n",
              "      <td>main</td>\n",
              "    </tr>\n",
              "    <tr>\n",
              "      <th>545</th>\n",
              "      <td>2023-07-13</td>\n",
              "      <td>30346.4</td>\n",
              "      <td>main</td>\n",
              "    </tr>\n",
              "    <tr>\n",
              "      <th>546</th>\n",
              "      <td>2023-07-14</td>\n",
              "      <td>30346.4</td>\n",
              "      <td>main</td>\n",
              "    </tr>\n",
              "  </tbody>\n",
              "</table>\n",
              "<p>547 rows × 3 columns</p>\n",
              "</div>\n",
              "      <button class=\"colab-df-convert\" onclick=\"convertToInteractive('df-1ad9b558-5ed4-49c6-b6e6-3217d1f3c4bb')\"\n",
              "              title=\"Convert this dataframe to an interactive table.\"\n",
              "              style=\"display:none;\">\n",
              "\n",
              "  <svg xmlns=\"http://www.w3.org/2000/svg\" height=\"24px\"viewBox=\"0 0 24 24\"\n",
              "       width=\"24px\">\n",
              "    <path d=\"M0 0h24v24H0V0z\" fill=\"none\"/>\n",
              "    <path d=\"M18.56 5.44l.94 2.06.94-2.06 2.06-.94-2.06-.94-.94-2.06-.94 2.06-2.06.94zm-11 1L8.5 8.5l.94-2.06 2.06-.94-2.06-.94L8.5 2.5l-.94 2.06-2.06.94zm10 10l.94 2.06.94-2.06 2.06-.94-2.06-.94-.94-2.06-.94 2.06-2.06.94z\"/><path d=\"M17.41 7.96l-1.37-1.37c-.4-.4-.92-.59-1.43-.59-.52 0-1.04.2-1.43.59L10.3 9.45l-7.72 7.72c-.78.78-.78 2.05 0 2.83L4 21.41c.39.39.9.59 1.41.59.51 0 1.02-.2 1.41-.59l7.78-7.78 2.81-2.81c.8-.78.8-2.07 0-2.86zM5.41 20L4 18.59l7.72-7.72 1.47 1.35L5.41 20z\"/>\n",
              "  </svg>\n",
              "      </button>\n",
              "\n",
              "\n",
              "\n",
              "    <div id=\"df-15417b10-17d5-4980-9468-92e164476c68\">\n",
              "      <button class=\"colab-df-quickchart\" onclick=\"quickchart('df-15417b10-17d5-4980-9468-92e164476c68')\"\n",
              "              title=\"Suggest charts.\"\n",
              "              style=\"display:none;\">\n",
              "\n",
              "<svg xmlns=\"http://www.w3.org/2000/svg\" height=\"24px\"viewBox=\"0 0 24 24\"\n",
              "     width=\"24px\">\n",
              "    <g>\n",
              "        <path d=\"M19 3H5c-1.1 0-2 .9-2 2v14c0 1.1.9 2 2 2h14c1.1 0 2-.9 2-2V5c0-1.1-.9-2-2-2zM9 17H7v-7h2v7zm4 0h-2V7h2v10zm4 0h-2v-4h2v4z\"/>\n",
              "    </g>\n",
              "</svg>\n",
              "      </button>\n",
              "    </div>\n",
              "\n",
              "<style>\n",
              "  .colab-df-quickchart {\n",
              "    background-color: #E8F0FE;\n",
              "    border: none;\n",
              "    border-radius: 50%;\n",
              "    cursor: pointer;\n",
              "    display: none;\n",
              "    fill: #1967D2;\n",
              "    height: 32px;\n",
              "    padding: 0 0 0 0;\n",
              "    width: 32px;\n",
              "  }\n",
              "\n",
              "  .colab-df-quickchart:hover {\n",
              "    background-color: #E2EBFA;\n",
              "    box-shadow: 0px 1px 2px rgba(60, 64, 67, 0.3), 0px 1px 3px 1px rgba(60, 64, 67, 0.15);\n",
              "    fill: #174EA6;\n",
              "  }\n",
              "\n",
              "  [theme=dark] .colab-df-quickchart {\n",
              "    background-color: #3B4455;\n",
              "    fill: #D2E3FC;\n",
              "  }\n",
              "\n",
              "  [theme=dark] .colab-df-quickchart:hover {\n",
              "    background-color: #434B5C;\n",
              "    box-shadow: 0px 1px 3px 1px rgba(0, 0, 0, 0.15);\n",
              "    filter: drop-shadow(0px 1px 2px rgba(0, 0, 0, 0.3));\n",
              "    fill: #FFFFFF;\n",
              "  }\n",
              "</style>\n",
              "\n",
              "    <script>\n",
              "      async function quickchart(key) {\n",
              "        const containerElement = document.querySelector('#' + key);\n",
              "        const charts = await google.colab.kernel.invokeFunction(\n",
              "            'suggestCharts', [key], {});\n",
              "      }\n",
              "    </script>\n",
              "\n",
              "      <script>\n",
              "\n",
              "function displayQuickchartButton(domScope) {\n",
              "  let quickchartButtonEl =\n",
              "    domScope.querySelector('#df-15417b10-17d5-4980-9468-92e164476c68 button.colab-df-quickchart');\n",
              "  quickchartButtonEl.style.display =\n",
              "    google.colab.kernel.accessAllowed ? 'block' : 'none';\n",
              "}\n",
              "\n",
              "        displayQuickchartButton(document);\n",
              "      </script>\n",
              "      <style>\n",
              "    .colab-df-container {\n",
              "      display:flex;\n",
              "      flex-wrap:wrap;\n",
              "      gap: 12px;\n",
              "    }\n",
              "\n",
              "    .colab-df-convert {\n",
              "      background-color: #E8F0FE;\n",
              "      border: none;\n",
              "      border-radius: 50%;\n",
              "      cursor: pointer;\n",
              "      display: none;\n",
              "      fill: #1967D2;\n",
              "      height: 32px;\n",
              "      padding: 0 0 0 0;\n",
              "      width: 32px;\n",
              "    }\n",
              "\n",
              "    .colab-df-convert:hover {\n",
              "      background-color: #E2EBFA;\n",
              "      box-shadow: 0px 1px 2px rgba(60, 64, 67, 0.3), 0px 1px 3px 1px rgba(60, 64, 67, 0.15);\n",
              "      fill: #174EA6;\n",
              "    }\n",
              "\n",
              "    [theme=dark] .colab-df-convert {\n",
              "      background-color: #3B4455;\n",
              "      fill: #D2E3FC;\n",
              "    }\n",
              "\n",
              "    [theme=dark] .colab-df-convert:hover {\n",
              "      background-color: #434B5C;\n",
              "      box-shadow: 0px 1px 3px 1px rgba(0, 0, 0, 0.15);\n",
              "      filter: drop-shadow(0px 1px 2px rgba(0, 0, 0, 0.3));\n",
              "      fill: #FFFFFF;\n",
              "    }\n",
              "  </style>\n",
              "\n",
              "      <script>\n",
              "        const buttonEl =\n",
              "          document.querySelector('#df-1ad9b558-5ed4-49c6-b6e6-3217d1f3c4bb button.colab-df-convert');\n",
              "        buttonEl.style.display =\n",
              "          google.colab.kernel.accessAllowed ? 'block' : 'none';\n",
              "\n",
              "        async function convertToInteractive(key) {\n",
              "          const element = document.querySelector('#df-1ad9b558-5ed4-49c6-b6e6-3217d1f3c4bb');\n",
              "          const dataTable =\n",
              "            await google.colab.kernel.invokeFunction('convertToInteractive',\n",
              "                                                     [key], {});\n",
              "          if (!dataTable) return;\n",
              "\n",
              "          const docLinkHtml = 'Like what you see? Visit the ' +\n",
              "            '<a target=\"_blank\" href=https://colab.research.google.com/notebooks/data_table.ipynb>data table notebook</a>'\n",
              "            + ' to learn more about interactive tables.';\n",
              "          element.innerHTML = '';\n",
              "          dataTable['output_type'] = 'display_data';\n",
              "          await google.colab.output.renderOutput(dataTable, element);\n",
              "          const docLink = document.createElement('div');\n",
              "          docLink.innerHTML = docLinkHtml;\n",
              "          element.appendChild(docLink);\n",
              "        }\n",
              "      </script>\n",
              "    </div>\n",
              "  </div>\n"
            ]
          },
          "metadata": {},
          "execution_count": 121
        }
      ]
    },
    {
      "cell_type": "code",
      "source": [
        "df = TSDataset.to_dataset(df)\n",
        "ts = TSDataset(df, freq=\"D\")\n"
      ],
      "metadata": {
        "id": "MJqvog3emm_e"
      },
      "execution_count": null,
      "outputs": []
    },
    {
      "cell_type": "code",
      "source": [
        "df"
      ],
      "metadata": {
        "colab": {
          "base_uri": "https://localhost:8080/",
          "height": 486
        },
        "id": "KKVj_AMYonH6",
        "outputId": "305d0321-5bc8-4969-b664-e645300f6fe2"
      },
      "execution_count": null,
      "outputs": [
        {
          "output_type": "execute_result",
          "data": {
            "text/plain": [
              "segment        main\n",
              "feature      target\n",
              "timestamp          \n",
              "2022-01-14  43073.3\n",
              "2022-01-15  43097.0\n",
              "2022-01-16  43079.1\n",
              "2022-01-17  42209.3\n",
              "2022-01-18  42364.6\n",
              "...             ...\n",
              "2023-07-10  30346.4\n",
              "2023-07-11  30346.4\n",
              "2023-07-12  30346.4\n",
              "2023-07-13  30346.4\n",
              "2023-07-14  30346.4\n",
              "\n",
              "[547 rows x 1 columns]"
            ],
            "text/html": [
              "\n",
              "\n",
              "  <div id=\"df-aeb9cad1-fe3b-4afb-ab0b-126160f1099a\">\n",
              "    <div class=\"colab-df-container\">\n",
              "      <div>\n",
              "<style scoped>\n",
              "    .dataframe tbody tr th:only-of-type {\n",
              "        vertical-align: middle;\n",
              "    }\n",
              "\n",
              "    .dataframe tbody tr th {\n",
              "        vertical-align: top;\n",
              "    }\n",
              "\n",
              "    .dataframe thead tr th {\n",
              "        text-align: left;\n",
              "    }\n",
              "\n",
              "    .dataframe thead tr:last-of-type th {\n",
              "        text-align: right;\n",
              "    }\n",
              "</style>\n",
              "<table border=\"1\" class=\"dataframe\">\n",
              "  <thead>\n",
              "    <tr>\n",
              "      <th>segment</th>\n",
              "      <th>main</th>\n",
              "    </tr>\n",
              "    <tr>\n",
              "      <th>feature</th>\n",
              "      <th>target</th>\n",
              "    </tr>\n",
              "    <tr>\n",
              "      <th>timestamp</th>\n",
              "      <th></th>\n",
              "    </tr>\n",
              "  </thead>\n",
              "  <tbody>\n",
              "    <tr>\n",
              "      <th>2022-01-14</th>\n",
              "      <td>43073.3</td>\n",
              "    </tr>\n",
              "    <tr>\n",
              "      <th>2022-01-15</th>\n",
              "      <td>43097.0</td>\n",
              "    </tr>\n",
              "    <tr>\n",
              "      <th>2022-01-16</th>\n",
              "      <td>43079.1</td>\n",
              "    </tr>\n",
              "    <tr>\n",
              "      <th>2022-01-17</th>\n",
              "      <td>42209.3</td>\n",
              "    </tr>\n",
              "    <tr>\n",
              "      <th>2022-01-18</th>\n",
              "      <td>42364.6</td>\n",
              "    </tr>\n",
              "    <tr>\n",
              "      <th>...</th>\n",
              "      <td>...</td>\n",
              "    </tr>\n",
              "    <tr>\n",
              "      <th>2023-07-10</th>\n",
              "      <td>30346.4</td>\n",
              "    </tr>\n",
              "    <tr>\n",
              "      <th>2023-07-11</th>\n",
              "      <td>30346.4</td>\n",
              "    </tr>\n",
              "    <tr>\n",
              "      <th>2023-07-12</th>\n",
              "      <td>30346.4</td>\n",
              "    </tr>\n",
              "    <tr>\n",
              "      <th>2023-07-13</th>\n",
              "      <td>30346.4</td>\n",
              "    </tr>\n",
              "    <tr>\n",
              "      <th>2023-07-14</th>\n",
              "      <td>30346.4</td>\n",
              "    </tr>\n",
              "  </tbody>\n",
              "</table>\n",
              "<p>547 rows × 1 columns</p>\n",
              "</div>\n",
              "      <button class=\"colab-df-convert\" onclick=\"convertToInteractive('df-aeb9cad1-fe3b-4afb-ab0b-126160f1099a')\"\n",
              "              title=\"Convert this dataframe to an interactive table.\"\n",
              "              style=\"display:none;\">\n",
              "\n",
              "  <svg xmlns=\"http://www.w3.org/2000/svg\" height=\"24px\"viewBox=\"0 0 24 24\"\n",
              "       width=\"24px\">\n",
              "    <path d=\"M0 0h24v24H0V0z\" fill=\"none\"/>\n",
              "    <path d=\"M18.56 5.44l.94 2.06.94-2.06 2.06-.94-2.06-.94-.94-2.06-.94 2.06-2.06.94zm-11 1L8.5 8.5l.94-2.06 2.06-.94-2.06-.94L8.5 2.5l-.94 2.06-2.06.94zm10 10l.94 2.06.94-2.06 2.06-.94-2.06-.94-.94-2.06-.94 2.06-2.06.94z\"/><path d=\"M17.41 7.96l-1.37-1.37c-.4-.4-.92-.59-1.43-.59-.52 0-1.04.2-1.43.59L10.3 9.45l-7.72 7.72c-.78.78-.78 2.05 0 2.83L4 21.41c.39.39.9.59 1.41.59.51 0 1.02-.2 1.41-.59l7.78-7.78 2.81-2.81c.8-.78.8-2.07 0-2.86zM5.41 20L4 18.59l7.72-7.72 1.47 1.35L5.41 20z\"/>\n",
              "  </svg>\n",
              "      </button>\n",
              "\n",
              "\n",
              "\n",
              "    <div id=\"df-9f71e0f7-edb9-4a44-bee9-d8d509cda0c9\">\n",
              "      <button class=\"colab-df-quickchart\" onclick=\"quickchart('df-9f71e0f7-edb9-4a44-bee9-d8d509cda0c9')\"\n",
              "              title=\"Suggest charts.\"\n",
              "              style=\"display:none;\">\n",
              "\n",
              "<svg xmlns=\"http://www.w3.org/2000/svg\" height=\"24px\"viewBox=\"0 0 24 24\"\n",
              "     width=\"24px\">\n",
              "    <g>\n",
              "        <path d=\"M19 3H5c-1.1 0-2 .9-2 2v14c0 1.1.9 2 2 2h14c1.1 0 2-.9 2-2V5c0-1.1-.9-2-2-2zM9 17H7v-7h2v7zm4 0h-2V7h2v10zm4 0h-2v-4h2v4z\"/>\n",
              "    </g>\n",
              "</svg>\n",
              "      </button>\n",
              "    </div>\n",
              "\n",
              "<style>\n",
              "  .colab-df-quickchart {\n",
              "    background-color: #E8F0FE;\n",
              "    border: none;\n",
              "    border-radius: 50%;\n",
              "    cursor: pointer;\n",
              "    display: none;\n",
              "    fill: #1967D2;\n",
              "    height: 32px;\n",
              "    padding: 0 0 0 0;\n",
              "    width: 32px;\n",
              "  }\n",
              "\n",
              "  .colab-df-quickchart:hover {\n",
              "    background-color: #E2EBFA;\n",
              "    box-shadow: 0px 1px 2px rgba(60, 64, 67, 0.3), 0px 1px 3px 1px rgba(60, 64, 67, 0.15);\n",
              "    fill: #174EA6;\n",
              "  }\n",
              "\n",
              "  [theme=dark] .colab-df-quickchart {\n",
              "    background-color: #3B4455;\n",
              "    fill: #D2E3FC;\n",
              "  }\n",
              "\n",
              "  [theme=dark] .colab-df-quickchart:hover {\n",
              "    background-color: #434B5C;\n",
              "    box-shadow: 0px 1px 3px 1px rgba(0, 0, 0, 0.15);\n",
              "    filter: drop-shadow(0px 1px 2px rgba(0, 0, 0, 0.3));\n",
              "    fill: #FFFFFF;\n",
              "  }\n",
              "</style>\n",
              "\n",
              "    <script>\n",
              "      async function quickchart(key) {\n",
              "        const containerElement = document.querySelector('#' + key);\n",
              "        const charts = await google.colab.kernel.invokeFunction(\n",
              "            'suggestCharts', [key], {});\n",
              "      }\n",
              "    </script>\n",
              "\n",
              "      <script>\n",
              "\n",
              "function displayQuickchartButton(domScope) {\n",
              "  let quickchartButtonEl =\n",
              "    domScope.querySelector('#df-9f71e0f7-edb9-4a44-bee9-d8d509cda0c9 button.colab-df-quickchart');\n",
              "  quickchartButtonEl.style.display =\n",
              "    google.colab.kernel.accessAllowed ? 'block' : 'none';\n",
              "}\n",
              "\n",
              "        displayQuickchartButton(document);\n",
              "      </script>\n",
              "      <style>\n",
              "    .colab-df-container {\n",
              "      display:flex;\n",
              "      flex-wrap:wrap;\n",
              "      gap: 12px;\n",
              "    }\n",
              "\n",
              "    .colab-df-convert {\n",
              "      background-color: #E8F0FE;\n",
              "      border: none;\n",
              "      border-radius: 50%;\n",
              "      cursor: pointer;\n",
              "      display: none;\n",
              "      fill: #1967D2;\n",
              "      height: 32px;\n",
              "      padding: 0 0 0 0;\n",
              "      width: 32px;\n",
              "    }\n",
              "\n",
              "    .colab-df-convert:hover {\n",
              "      background-color: #E2EBFA;\n",
              "      box-shadow: 0px 1px 2px rgba(60, 64, 67, 0.3), 0px 1px 3px 1px rgba(60, 64, 67, 0.15);\n",
              "      fill: #174EA6;\n",
              "    }\n",
              "\n",
              "    [theme=dark] .colab-df-convert {\n",
              "      background-color: #3B4455;\n",
              "      fill: #D2E3FC;\n",
              "    }\n",
              "\n",
              "    [theme=dark] .colab-df-convert:hover {\n",
              "      background-color: #434B5C;\n",
              "      box-shadow: 0px 1px 3px 1px rgba(0, 0, 0, 0.15);\n",
              "      filter: drop-shadow(0px 1px 2px rgba(0, 0, 0, 0.3));\n",
              "      fill: #FFFFFF;\n",
              "    }\n",
              "  </style>\n",
              "\n",
              "      <script>\n",
              "        const buttonEl =\n",
              "          document.querySelector('#df-aeb9cad1-fe3b-4afb-ab0b-126160f1099a button.colab-df-convert');\n",
              "        buttonEl.style.display =\n",
              "          google.colab.kernel.accessAllowed ? 'block' : 'none';\n",
              "\n",
              "        async function convertToInteractive(key) {\n",
              "          const element = document.querySelector('#df-aeb9cad1-fe3b-4afb-ab0b-126160f1099a');\n",
              "          const dataTable =\n",
              "            await google.colab.kernel.invokeFunction('convertToInteractive',\n",
              "                                                     [key], {});\n",
              "          if (!dataTable) return;\n",
              "\n",
              "          const docLinkHtml = 'Like what you see? Visit the ' +\n",
              "            '<a target=\"_blank\" href=https://colab.research.google.com/notebooks/data_table.ipynb>data table notebook</a>'\n",
              "            + ' to learn more about interactive tables.';\n",
              "          element.innerHTML = '';\n",
              "          dataTable['output_type'] = 'display_data';\n",
              "          await google.colab.output.renderOutput(dataTable, element);\n",
              "          const docLink = document.createElement('div');\n",
              "          docLink.innerHTML = docLinkHtml;\n",
              "          element.appendChild(docLink);\n",
              "        }\n",
              "      </script>\n",
              "    </div>\n",
              "  </div>\n"
            ]
          },
          "metadata": {},
          "execution_count": 123
        }
      ]
    },
    {
      "cell_type": "code",
      "source": [
        "train_ts, test_ts = ts.train_test_split(\n",
        "    train_start=\"2022-01-14\",\n",
        "    train_end=\"2023-07-07\",\n",
        "    test_start=\"2023-07-08\",\n",
        "    test_end=\"2023-07-14\",\n",
        ")"
      ],
      "metadata": {
        "id": "4K0pjlUGohoa"
      },
      "execution_count": null,
      "outputs": []
    },
    {
      "cell_type": "code",
      "source": [
        "HORIZON = 7\n",
        "from etna.models import NaiveModel\n",
        "\n",
        "# Fit the model\n",
        "model = NaiveModel(lag=12)\n",
        "model.fit(train_ts)\n",
        "\n",
        "# Make the forecast\n",
        "future_ts = train_ts.make_future(future_steps=HORIZON, tail_steps=model.context_size)\n",
        "forecast_ts = model.forecast(future_ts, prediction_size=HORIZON)"
      ],
      "metadata": {
        "colab": {
          "base_uri": "https://localhost:8080/"
        },
        "id": "9kidvEnErikB",
        "outputId": "9b6118a6-c7b1-4855-ba9a-5719e213ad79"
      },
      "execution_count": null,
      "outputs": [
        {
          "output_type": "stream",
          "name": "stderr",
          "text": [
            "/usr/local/lib/python3.10/dist-packages/etna/models/seasonal_ma.py:64: UserWarning: This model doesn't work with exogenous features. Columns {\"LagTransform(in_column = 'target', lags = [20], out_column = None, )\", \"LagTransform(in_column = 'target', lags = [17], out_column = None, )\", \"LagTransform(in_column = 'target', lags = [11], out_column = None, )\", \"LagTransform(in_column = 'target', lags = [23], out_column = None, )\", \"LagTransform(in_column = 'target', lags = [16], out_column = None, )\", \"LagTransform(in_column = 'target', lags = [9], out_column = None, )\", \"LagTransform(in_column = 'target', lags = [18], out_column = None, )\", \"LagTransform(in_column = 'target', lags = [22], out_column = None, )\", \"LagTransform(in_column = 'target', lags = [10], out_column = None, )\", \"LagTransform(in_column = 'target', lags = [12], out_column = None, )\", \"LagTransform(in_column = 'target', lags = [19], out_column = None, )\", \"LagTransform(in_column = 'target', lags = [21], out_column = None, )\", \"LagTransform(in_column = 'target', lags = [14], out_column = None, )\", \"LagTransform(in_column = 'target', lags = [13], out_column = None, )\", \"LagTransform(in_column = 'target', lags = [8], out_column = None, )\", \"LagTransform(in_column = 'target', lags = [15], out_column = None, )\"} won't be used.\n",
            "  warnings.warn(\n",
            "/usr/local/lib/python3.10/dist-packages/etna/datasets/tsdataset.py:279: FutureWarning: Argument `closed` is deprecated in favor of `inclusive`.\n",
            "  future_dates = pd.date_range(\n"
          ]
        }
      ]
    },
    {
      "cell_type": "code",
      "source": [
        "from etna.metrics import SMAPE"
      ],
      "metadata": {
        "id": "0LTRedSVrzAI"
      },
      "execution_count": null,
      "outputs": []
    },
    {
      "cell_type": "code",
      "source": [
        "smape = SMAPE()\n",
        "smape(y_true=test_ts, y_pred=forecast_ts)"
      ],
      "metadata": {
        "colab": {
          "base_uri": "https://localhost:8080/"
        },
        "id": "ZKqYYYgssTyG",
        "outputId": "3ac2a52e-c6d6-418e-b86c-f922219752d3"
      },
      "execution_count": null,
      "outputs": [
        {
          "output_type": "execute_result",
          "data": {
            "text/plain": [
              "{'main': 0.6704422515135386}"
            ]
          },
          "metadata": {},
          "execution_count": 147
        }
      ]
    },
    {
      "cell_type": "code",
      "source": [
        "forecast_ts"
      ],
      "metadata": {
        "colab": {
          "base_uri": "https://localhost:8080/",
          "height": 331
        },
        "id": "vVbwqo7Bswa6",
        "outputId": "855c0cb3-6b38-422e-a195-aa858a4fc8b2"
      },
      "execution_count": null,
      "outputs": [
        {
          "output_type": "execute_result",
          "data": {
            "text/plain": [
              "segment        main\n",
              "feature      target\n",
              "timestamp          \n",
              "2023-07-08  30267.0\n",
              "2023-07-09  30689.1\n",
              "2023-07-10  30078.6\n",
              "2023-07-11  30445.7\n",
              "2023-07-12  30472.9\n",
              "2023-07-13  30586.8\n",
              "2023-07-14  30617.7"
            ],
            "text/html": [
              "<div>\n",
              "<style scoped>\n",
              "    .dataframe tbody tr th:only-of-type {\n",
              "        vertical-align: middle;\n",
              "    }\n",
              "\n",
              "    .dataframe tbody tr th {\n",
              "        vertical-align: top;\n",
              "    }\n",
              "\n",
              "    .dataframe thead tr th {\n",
              "        text-align: left;\n",
              "    }\n",
              "\n",
              "    .dataframe thead tr:last-of-type th {\n",
              "        text-align: right;\n",
              "    }\n",
              "</style>\n",
              "<table border=\"1\" class=\"dataframe\">\n",
              "  <thead>\n",
              "    <tr>\n",
              "      <th>segment</th>\n",
              "      <th>main</th>\n",
              "    </tr>\n",
              "    <tr>\n",
              "      <th>feature</th>\n",
              "      <th>target</th>\n",
              "    </tr>\n",
              "    <tr>\n",
              "      <th>timestamp</th>\n",
              "      <th></th>\n",
              "    </tr>\n",
              "  </thead>\n",
              "  <tbody>\n",
              "    <tr>\n",
              "      <th>2023-07-08</th>\n",
              "      <td>30267.0</td>\n",
              "    </tr>\n",
              "    <tr>\n",
              "      <th>2023-07-09</th>\n",
              "      <td>30689.1</td>\n",
              "    </tr>\n",
              "    <tr>\n",
              "      <th>2023-07-10</th>\n",
              "      <td>30078.6</td>\n",
              "    </tr>\n",
              "    <tr>\n",
              "      <th>2023-07-11</th>\n",
              "      <td>30445.7</td>\n",
              "    </tr>\n",
              "    <tr>\n",
              "      <th>2023-07-12</th>\n",
              "      <td>30472.9</td>\n",
              "    </tr>\n",
              "    <tr>\n",
              "      <th>2023-07-13</th>\n",
              "      <td>30586.8</td>\n",
              "    </tr>\n",
              "    <tr>\n",
              "      <th>2023-07-14</th>\n",
              "      <td>30617.7</td>\n",
              "    </tr>\n",
              "  </tbody>\n",
              "</table>\n",
              "</div>"
            ]
          },
          "metadata": {},
          "execution_count": 148
        }
      ]
    },
    {
      "cell_type": "code",
      "source": [],
      "metadata": {
        "id": "5krvjiYzvzkJ"
      },
      "execution_count": null,
      "outputs": []
    },
    {
      "cell_type": "code",
      "source": [
        "from etna.transforms import LagTransform, LogTransform\n",
        "\n",
        "lags = LagTransform(in_column=\"target\", lags=list(range(8, 24, 1)))\n",
        "log = LogTransform(in_column=\"target\")\n",
        "transforms = [log, lags]\n",
        "train_ts.fit_transform(transforms)"
      ],
      "metadata": {
        "id": "HysqP5UwvF0L"
      },
      "execution_count": null,
      "outputs": []
    },
    {
      "cell_type": "code",
      "source": [],
      "metadata": {
        "id": "-QSEC7qB64fX"
      },
      "execution_count": null,
      "outputs": []
    },
    {
      "cell_type": "code",
      "source": [
        "from etna.models import CatBoostMultiSegmentModel\n",
        "\n",
        "model = CatBoostMultiSegmentModel()\n",
        "model.fit(train_ts)\n",
        "future_ts = train_ts.make_future(future_steps=HORIZON, transforms=transforms)\n",
        "forecast_ts = model.forecast(future_ts)\n",
        "forecast_ts.inverse_transform(transforms)"
      ],
      "metadata": {
        "colab": {
          "base_uri": "https://localhost:8080/"
        },
        "id": "wiR3HuyuvJnB",
        "outputId": "a4b5803a-d131-4340-eb63-66ee91e55ebe"
      },
      "execution_count": null,
      "outputs": [
        {
          "output_type": "stream",
          "name": "stderr",
          "text": [
            "/usr/local/lib/python3.10/dist-packages/etna/datasets/tsdataset.py:279: FutureWarning: Argument `closed` is deprecated in favor of `inclusive`.\n",
            "  future_dates = pd.date_range(\n",
            "/usr/local/lib/python3.10/dist-packages/pandas/core/internals/blocks.py:351: RuntimeWarning: overflow encountered in expm1\n",
            "  result = func(self.values, **kwargs)\n"
          ]
        }
      ]
    },
    {
      "cell_type": "code",
      "source": [
        "from etna.metrics import SMAPE\n",
        "\n",
        "smape = SMAPE()\n",
        "smape(y_true=test_ts, y_pred=forecast_ts)"
      ],
      "metadata": {
        "colab": {
          "base_uri": "https://localhost:8080/"
        },
        "id": "xqj_oeOovMmS",
        "outputId": "39f4ff5b-53de-4554-8eee-92f408862050"
      },
      "execution_count": null,
      "outputs": [
        {
          "output_type": "stream",
          "name": "stderr",
          "text": [
            "/usr/local/lib/python3.10/dist-packages/etna/metrics/functional_metrics.py:131: RuntimeWarning: invalid value encountered in divide\n",
            "  2 * np.abs(y_pred_array - y_true_array) / (np.abs(y_true_array) + np.abs(y_pred_array)).clip(eps), axis=axis\n"
          ]
        },
        {
          "output_type": "execute_result",
          "data": {
            "text/plain": [
              "{'main': nan}"
            ]
          },
          "metadata": {},
          "execution_count": 141
        }
      ]
    },
    {
      "cell_type": "code",
      "source": [
        "from etna.analysis import plot_forecast\n",
        "\n",
        "train_ts.inverse_transform(transforms)\n",
        "plot_forecast(forecast_ts, test_ts, train_ts, n_train_samples=10)"
      ],
      "metadata": {
        "colab": {
          "base_uri": "https://localhost:8080/",
          "height": 528
        },
        "id": "VWvuxltevPrB",
        "outputId": "a877f467-740e-4834-fd94-e2a16872c4c2"
      },
      "execution_count": null,
      "outputs": [
        {
          "output_type": "display_data",
          "data": {
            "text/plain": [
              "<Figure size 1000x500 with 1 Axes>"
            ],
            "image/png": "[encoded data removed]"
          },
          "metadata": {}
        }
      ]
    },
    {
      "cell_type": "code",
      "source": [],
      "metadata": {
        "id": "o55mTLimveGh"
      },
      "execution_count": null,
      "outputs": []
    },
    {
      "cell_type": "code",
      "source": [
        "from etna.analysis import plot_forecast"
      ],
      "metadata": {
        "id": "1lqCzM8msfhL"
      },
      "execution_count": null,
      "outputs": []
    },
    {
      "cell_type": "code",
      "source": [
        "plot_forecast(forecast_ts, test_ts, train_ts, n_train_samples=10)"
      ],
      "metadata": {
        "colab": {
          "base_uri": "https://localhost:8080/",
          "height": 528
        },
        "id": "S7brxFDJsfza",
        "outputId": "ed9023b6-eabb-43c9-8c9f-51cb5745a2b1"
      },
      "execution_count": null,
      "outputs": [
        {
          "output_type": "display_data",
          "data": {
            "text/plain": [
              "<Figure size 1000x500 with 1 Axes>"
            ],
            "image/png": "[encoded data removed]"
          },
          "metadata": {}
        }
      ]
    },
    {
      "cell_type": "code",
      "source": [
        "from etna.models import ProphetModel\n",
        "\n",
        "model = ProphetModel()\n",
        "model.fit(train_ts)\n",
        "\n",
        "# Make the forecast\n",
        "future_ts = train_ts.make_future(HORIZON)\n",
        "forecast_ts = model.forecast(future_ts)"
      ],
      "metadata": {
        "colab": {
          "base_uri": "https://localhost:8080/",
          "height": 404
        },
        "id": "Y3l6Sih_snGB",
        "outputId": "a922c866-9125-4d1c-df81-f831b000066c"
      },
      "execution_count": null,
      "outputs": [
        {
          "output_type": "error",
          "ename": "ValueError",
          "evalue": "ignored",
          "traceback": [
            "\u001b[0;31m---------------------------------------------------------------------------\u001b[0m",
            "\u001b[0;31mValueError\u001b[0m                                Traceback (most recent call last)",
            "\u001b[0;32m<ipython-input-149-49cd9a2b3c44>\u001b[0m in \u001b[0;36m<cell line: 4>\u001b[0;34m()\u001b[0m\n\u001b[1;32m      2\u001b[0m \u001b[0;34m\u001b[0m\u001b[0m\n\u001b[1;32m      3\u001b[0m \u001b[0mmodel\u001b[0m \u001b[0;34m=\u001b[0m \u001b[0mProphetModel\u001b[0m\u001b[0;34m(\u001b[0m\u001b[0;34m)\u001b[0m\u001b[0;34m\u001b[0m\u001b[0;34m\u001b[0m\u001b[0m\n\u001b[0;32m----> 4\u001b[0;31m \u001b[0mmodel\u001b[0m\u001b[0;34m.\u001b[0m\u001b[0mfit\u001b[0m\u001b[0;34m(\u001b[0m\u001b[0mtrain_ts\u001b[0m\u001b[0;34m)\u001b[0m\u001b[0;34m\u001b[0m\u001b[0;34m\u001b[0m\u001b[0m\n\u001b[0m\u001b[1;32m      5\u001b[0m \u001b[0;34m\u001b[0m\u001b[0m\n\u001b[1;32m      6\u001b[0m \u001b[0;31m# Make the forecast\u001b[0m\u001b[0;34m\u001b[0m\u001b[0;34m\u001b[0m\u001b[0m\n",
            "\u001b[0;32m/usr/local/lib/python3.10/dist-packages/etna/models/decorators.py\u001b[0m in \u001b[0;36mwrapper\u001b[0;34m(self, *args, **kwargs)\u001b[0m\n\u001b[1;32m     13\u001b[0m     \u001b[0;32mdef\u001b[0m \u001b[0mwrapper\u001b[0m\u001b[0;34m(\u001b[0m\u001b[0mself\u001b[0m\u001b[0;34m,\u001b[0m \u001b[0;34m*\u001b[0m\u001b[0margs\u001b[0m\u001b[0;34m,\u001b[0m \u001b[0;34m**\u001b[0m\u001b[0mkwargs\u001b[0m\u001b[0;34m)\u001b[0m\u001b[0;34m:\u001b[0m\u001b[0;34m\u001b[0m\u001b[0;34m\u001b[0m\u001b[0m\n\u001b[1;32m     14\u001b[0m         \u001b[0mtslogger\u001b[0m\u001b[0;34m.\u001b[0m\u001b[0mlog\u001b[0m\u001b[0;34m(\u001b[0m\u001b[0;34mf\"Calling method {f.__name__} of {self.__class__.__name__}\"\u001b[0m\u001b[0;34m,\u001b[0m \u001b[0;34m**\u001b[0m\u001b[0mpatch_dict\u001b[0m\u001b[0;34m)\u001b[0m\u001b[0;34m\u001b[0m\u001b[0;34m\u001b[0m\u001b[0m\n\u001b[0;32m---> 15\u001b[0;31m         \u001b[0mresult\u001b[0m \u001b[0;34m=\u001b[0m \u001b[0mf\u001b[0m\u001b[0;34m(\u001b[0m\u001b[0mself\u001b[0m\u001b[0;34m,\u001b[0m \u001b[0;34m*\u001b[0m\u001b[0margs\u001b[0m\u001b[0;34m,\u001b[0m \u001b[0;34m**\u001b[0m\u001b[0mkwargs\u001b[0m\u001b[0;34m)\u001b[0m\u001b[0;34m\u001b[0m\u001b[0;34m\u001b[0m\u001b[0m\n\u001b[0m\u001b[1;32m     16\u001b[0m         \u001b[0;32mreturn\u001b[0m \u001b[0mresult\u001b[0m\u001b[0;34m\u001b[0m\u001b[0;34m\u001b[0m\u001b[0m\n\u001b[1;32m     17\u001b[0m \u001b[0;34m\u001b[0m\u001b[0m\n",
            "\u001b[0;32m/usr/local/lib/python3.10/dist-packages/etna/models/mixins.py\u001b[0m in \u001b[0;36mfit\u001b[0;34m(self, ts)\u001b[0m\n\u001b[1;32m    350\u001b[0m             \u001b[0msegment_features\u001b[0m \u001b[0;34m=\u001b[0m \u001b[0msegment_features\u001b[0m\u001b[0;34m.\u001b[0m\u001b[0mdroplevel\u001b[0m\u001b[0;34m(\u001b[0m\u001b[0;34m\"segment\"\u001b[0m\u001b[0;34m,\u001b[0m \u001b[0maxis\u001b[0m\u001b[0;34m=\u001b[0m\u001b[0;36m1\u001b[0m\u001b[0;34m)\u001b[0m\u001b[0;34m\u001b[0m\u001b[0;34m\u001b[0m\u001b[0m\n\u001b[1;32m    351\u001b[0m             \u001b[0msegment_features\u001b[0m \u001b[0;34m=\u001b[0m \u001b[0msegment_features\u001b[0m\u001b[0;34m.\u001b[0m\u001b[0mreset_index\u001b[0m\u001b[0;34m(\u001b[0m\u001b[0;34m)\u001b[0m\u001b[0;34m\u001b[0m\u001b[0;34m\u001b[0m\u001b[0m\n\u001b[0;32m--> 352\u001b[0;31m             \u001b[0mmodel\u001b[0m\u001b[0;34m.\u001b[0m\u001b[0mfit\u001b[0m\u001b[0;34m(\u001b[0m\u001b[0mdf\u001b[0m\u001b[0;34m=\u001b[0m\u001b[0msegment_features\u001b[0m\u001b[0;34m,\u001b[0m \u001b[0mregressors\u001b[0m\u001b[0;34m=\u001b[0m\u001b[0mts\u001b[0m\u001b[0;34m.\u001b[0m\u001b[0mregressors\u001b[0m\u001b[0;34m)\u001b[0m\u001b[0;34m\u001b[0m\u001b[0;34m\u001b[0m\u001b[0m\n\u001b[0m\u001b[1;32m    353\u001b[0m         \u001b[0;32mreturn\u001b[0m \u001b[0mself\u001b[0m\u001b[0;34m\u001b[0m\u001b[0;34m\u001b[0m\u001b[0m\n\u001b[1;32m    354\u001b[0m \u001b[0;34m\u001b[0m\u001b[0m\n",
            "\u001b[0;32m/usr/local/lib/python3.10/dist-packages/etna/models/prophet.py\u001b[0m in \u001b[0;36mfit\u001b[0;34m(self, df, regressors)\u001b[0m\n\u001b[1;32m    155\u001b[0m         \u001b[0mself\u001b[0m\u001b[0;34m.\u001b[0m\u001b[0m_check_not_used_columns\u001b[0m\u001b[0;34m(\u001b[0m\u001b[0mdf\u001b[0m\u001b[0;34m)\u001b[0m\u001b[0;34m\u001b[0m\u001b[0;34m\u001b[0m\u001b[0m\n\u001b[1;32m    156\u001b[0m \u001b[0;34m\u001b[0m\u001b[0m\n\u001b[0;32m--> 157\u001b[0;31m         \u001b[0mprophet_df\u001b[0m \u001b[0;34m=\u001b[0m \u001b[0mself\u001b[0m\u001b[0;34m.\u001b[0m\u001b[0m_prepare_prophet_df\u001b[0m\u001b[0;34m(\u001b[0m\u001b[0mdf\u001b[0m\u001b[0;34m=\u001b[0m\u001b[0mdf\u001b[0m\u001b[0;34m)\u001b[0m\u001b[0;34m\u001b[0m\u001b[0;34m\u001b[0m\u001b[0m\n\u001b[0m\u001b[1;32m    158\u001b[0m         \u001b[0;32mfor\u001b[0m \u001b[0mregressor\u001b[0m \u001b[0;32min\u001b[0m \u001b[0mself\u001b[0m\u001b[0;34m.\u001b[0m\u001b[0mregressor_columns\u001b[0m\u001b[0;34m:\u001b[0m\u001b[0;34m\u001b[0m\u001b[0;34m\u001b[0m\u001b[0m\n\u001b[1;32m    159\u001b[0m             \u001b[0;32mif\u001b[0m \u001b[0mregressor\u001b[0m \u001b[0;32mnot\u001b[0m \u001b[0;32min\u001b[0m \u001b[0mself\u001b[0m\u001b[0;34m.\u001b[0m\u001b[0mpredefined_regressors_names\u001b[0m\u001b[0;34m:\u001b[0m\u001b[0;34m\u001b[0m\u001b[0;34m\u001b[0m\u001b[0m\n",
            "\u001b[0;32m/usr/local/lib/python3.10/dist-packages/etna/models/prophet.py\u001b[0m in \u001b[0;36m_prepare_prophet_df\u001b[0;34m(self, df)\u001b[0m\n\u001b[1;32m    205\u001b[0m         \u001b[0mprophet_df\u001b[0m\u001b[0;34m[\u001b[0m\u001b[0;34m\"ds\"\u001b[0m\u001b[0;34m]\u001b[0m \u001b[0;34m=\u001b[0m \u001b[0mdf\u001b[0m\u001b[0;34m[\u001b[0m\u001b[0;34m\"timestamp\"\u001b[0m\u001b[0;34m]\u001b[0m\u001b[0;34m\u001b[0m\u001b[0;34m\u001b[0m\u001b[0m\n\u001b[1;32m    206\u001b[0m \u001b[0;34m\u001b[0m\u001b[0m\n\u001b[0;32m--> 207\u001b[0;31m         \u001b[0mregressors_data\u001b[0m \u001b[0;34m=\u001b[0m \u001b[0mself\u001b[0m\u001b[0;34m.\u001b[0m\u001b[0m_select_regressors\u001b[0m\u001b[0;34m(\u001b[0m\u001b[0mdf\u001b[0m\u001b[0;34m)\u001b[0m\u001b[0;34m\u001b[0m\u001b[0;34m\u001b[0m\u001b[0m\n\u001b[0m\u001b[1;32m    208\u001b[0m         \u001b[0;32mif\u001b[0m \u001b[0mregressors_data\u001b[0m \u001b[0;32mis\u001b[0m \u001b[0;32mnot\u001b[0m \u001b[0;32mNone\u001b[0m\u001b[0;34m:\u001b[0m\u001b[0;34m\u001b[0m\u001b[0;34m\u001b[0m\u001b[0m\n\u001b[1;32m    209\u001b[0m             \u001b[0mprophet_df\u001b[0m\u001b[0;34m[\u001b[0m\u001b[0mself\u001b[0m\u001b[0;34m.\u001b[0m\u001b[0mregressor_columns\u001b[0m\u001b[0;34m]\u001b[0m \u001b[0;34m=\u001b[0m \u001b[0mregressors_data\u001b[0m\u001b[0;34m[\u001b[0m\u001b[0mself\u001b[0m\u001b[0;34m.\u001b[0m\u001b[0mregressor_columns\u001b[0m\u001b[0;34m]\u001b[0m\u001b[0;34m\u001b[0m\u001b[0;34m\u001b[0m\u001b[0m\n",
            "\u001b[0;32m/usr/local/lib/python3.10/dist-packages/etna/models/prophet.py\u001b[0m in \u001b[0;36m_select_regressors\u001b[0;34m(self, df)\u001b[0m\n\u001b[1;32m    124\u001b[0m             \u001b[0;32mraise\u001b[0m \u001b[0mValueError\u001b[0m\u001b[0;34m(\u001b[0m\u001b[0;34m\"Something went wrong, regressor_columns is None!\"\u001b[0m\u001b[0;34m)\u001b[0m\u001b[0;34m\u001b[0m\u001b[0;34m\u001b[0m\u001b[0m\n\u001b[1;32m    125\u001b[0m \u001b[0;34m\u001b[0m\u001b[0m\n\u001b[0;32m--> 126\u001b[0;31m         \u001b[0mregressors_with_nans\u001b[0m \u001b[0;34m=\u001b[0m \u001b[0;34m[\u001b[0m\u001b[0mregressor\u001b[0m \u001b[0;32mfor\u001b[0m \u001b[0mregressor\u001b[0m \u001b[0;32min\u001b[0m \u001b[0mself\u001b[0m\u001b[0;34m.\u001b[0m\u001b[0mregressor_columns\u001b[0m \u001b[0;32mif\u001b[0m \u001b[0mdf\u001b[0m\u001b[0;34m[\u001b[0m\u001b[0mregressor\u001b[0m\u001b[0;34m]\u001b[0m\u001b[0;34m.\u001b[0m\u001b[0misna\u001b[0m\u001b[0;34m(\u001b[0m\u001b[0;34m)\u001b[0m\u001b[0;34m.\u001b[0m\u001b[0msum\u001b[0m\u001b[0;34m(\u001b[0m\u001b[0;34m)\u001b[0m \u001b[0;34m>\u001b[0m \u001b[0;36m0\u001b[0m\u001b[0;34m]\u001b[0m\u001b[0;34m\u001b[0m\u001b[0;34m\u001b[0m\u001b[0m\n\u001b[0m\u001b[1;32m    127\u001b[0m         \u001b[0;32mif\u001b[0m \u001b[0mregressors_with_nans\u001b[0m\u001b[0;34m:\u001b[0m\u001b[0;34m\u001b[0m\u001b[0;34m\u001b[0m\u001b[0m\n\u001b[1;32m    128\u001b[0m             raise ValueError(\n",
            "\u001b[0;32m/usr/local/lib/python3.10/dist-packages/etna/models/prophet.py\u001b[0m in \u001b[0;36m<listcomp>\u001b[0;34m(.0)\u001b[0m\n\u001b[1;32m    124\u001b[0m             \u001b[0;32mraise\u001b[0m \u001b[0mValueError\u001b[0m\u001b[0;34m(\u001b[0m\u001b[0;34m\"Something went wrong, regressor_columns is None!\"\u001b[0m\u001b[0;34m)\u001b[0m\u001b[0;34m\u001b[0m\u001b[0;34m\u001b[0m\u001b[0m\n\u001b[1;32m    125\u001b[0m \u001b[0;34m\u001b[0m\u001b[0m\n\u001b[0;32m--> 126\u001b[0;31m         \u001b[0mregressors_with_nans\u001b[0m \u001b[0;34m=\u001b[0m \u001b[0;34m[\u001b[0m\u001b[0mregressor\u001b[0m \u001b[0;32mfor\u001b[0m \u001b[0mregressor\u001b[0m \u001b[0;32min\u001b[0m \u001b[0mself\u001b[0m\u001b[0;34m.\u001b[0m\u001b[0mregressor_columns\u001b[0m \u001b[0;32mif\u001b[0m \u001b[0mdf\u001b[0m\u001b[0;34m[\u001b[0m\u001b[0mregressor\u001b[0m\u001b[0;34m]\u001b[0m\u001b[0;34m.\u001b[0m\u001b[0misna\u001b[0m\u001b[0;34m(\u001b[0m\u001b[0;34m)\u001b[0m\u001b[0;34m.\u001b[0m\u001b[0msum\u001b[0m\u001b[0;34m(\u001b[0m\u001b[0;34m)\u001b[0m \u001b[0;34m>\u001b[0m \u001b[0;36m0\u001b[0m\u001b[0;34m]\u001b[0m\u001b[0;34m\u001b[0m\u001b[0;34m\u001b[0m\u001b[0m\n\u001b[0m\u001b[1;32m    127\u001b[0m         \u001b[0;32mif\u001b[0m \u001b[0mregressors_with_nans\u001b[0m\u001b[0;34m:\u001b[0m\u001b[0;34m\u001b[0m\u001b[0;34m\u001b[0m\u001b[0m\n\u001b[1;32m    128\u001b[0m             raise ValueError(\n",
            "\u001b[0;32m/usr/local/lib/python3.10/dist-packages/pandas/core/generic.py\u001b[0m in \u001b[0;36m__nonzero__\u001b[0;34m(self)\u001b[0m\n\u001b[1;32m   1525\u001b[0m     \u001b[0;34m@\u001b[0m\u001b[0mfinal\u001b[0m\u001b[0;34m\u001b[0m\u001b[0;34m\u001b[0m\u001b[0m\n\u001b[1;32m   1526\u001b[0m     \u001b[0;32mdef\u001b[0m \u001b[0m__nonzero__\u001b[0m\u001b[0;34m(\u001b[0m\u001b[0mself\u001b[0m\u001b[0;34m)\u001b[0m \u001b[0;34m->\u001b[0m \u001b[0mNoReturn\u001b[0m\u001b[0;34m:\u001b[0m\u001b[0;34m\u001b[0m\u001b[0;34m\u001b[0m\u001b[0m\n\u001b[0;32m-> 1527\u001b[0;31m         raise ValueError(\n\u001b[0m\u001b[1;32m   1528\u001b[0m             \u001b[0;34mf\"The truth value of a {type(self).__name__} is ambiguous. \"\u001b[0m\u001b[0;34m\u001b[0m\u001b[0;34m\u001b[0m\u001b[0m\n\u001b[1;32m   1529\u001b[0m             \u001b[0;34m\"Use a.empty, a.bool(), a.item(), a.any() or a.all().\"\u001b[0m\u001b[0;34m\u001b[0m\u001b[0;34m\u001b[0m\u001b[0m\n",
            "\u001b[0;31mValueError\u001b[0m: The truth value of a Series is ambiguous. Use a.empty, a.bool(), a.item(), a.any() or a.all()."
          ]
        }
      ]
    },
    {
      "cell_type": "code",
      "source": [
        "smape(y_true=test_ts, y_pred=forecast_ts)"
      ],
      "metadata": {
        "colab": {
          "base_uri": "https://localhost:8080/"
        },
        "id": "vcy54WqrsoyJ",
        "outputId": "084db3ea-ff2b-4990-acce-1a2aabbf6c92"
      },
      "execution_count": null,
      "outputs": [
        {
          "output_type": "execute_result",
          "data": {
            "text/plain": [
              "{'main': 2.4279840214467168}"
            ]
          },
          "metadata": {},
          "execution_count": 106
        }
      ]
    },
    {
      "cell_type": "code",
      "source": [
        "# импортируем необходимую функцию\n",
        "from statsmodels.tsa.stattools import adfuller\n",
        "\n",
        "# передадим ей столбец с данными о перевозках и поместим результат в adf_test\n",
        "adf_test = adfuller(data['Price'])\n",
        "\n",
        "# выведем p-value\n",
        "print('p-value = ' + str(adf_test[1]))"
      ],
      "metadata": {
        "id": "PDm7gRgqxtwE",
        "colab": {
          "base_uri": "https://localhost:8080/"
        },
        "outputId": "7a6c1ce9-b5d0-4558-e908-2c8261cbb864"
      },
      "execution_count": null,
      "outputs": [
        {
          "output_type": "stream",
          "name": "stdout",
          "text": [
            "p-value = 0.5306397656942439\n"
          ]
        }
      ]
    },
    {
      "cell_type": "code",
      "source": [
        "from statsmodels.graphics.tsaplots import plot_acf\n",
        "\n",
        "# применим функцию к нашему набору данных\n",
        "plot_acf(data, alpha = None)\n",
        "plt.show()"
      ],
      "metadata": {
        "colab": {
          "base_uri": "https://localhost:8080/",
          "height": 452
        },
        "id": "L7IAeJQpxxWa",
        "outputId": "fd08f0fe-86d3-4efd-df90-5bebf258c023"
      },
      "execution_count": null,
      "outputs": [
        {
          "output_type": "display_data",
          "data": {
            "text/plain": [
              "<Figure size 640x480 with 1 Axes>"
            ],
            "image/png": "[encoded data removed]"
          },
          "metadata": {}
        }
      ]
    },
    {
      "cell_type": "code",
      "source": [
        "#data = data[:-7]"
      ],
      "metadata": {
        "id": "Au0_QzzQ00fW"
      },
      "execution_count": null,
      "outputs": []
    },
    {
      "cell_type": "code",
      "source": [
        "'''alpha = 0.2\n",
        "\n",
        "# первое значение совпадает со значением временного ряда\n",
        "exp_smoothing = [data['Price'][0]]\n",
        "\n",
        "# в цикле for последовательно применяем формулу ко всем элементам ряда\n",
        "for i in range(1, len(data['Price'])):\n",
        "  exp_smoothing.append(alpha * data['Price'][i] + (1 - alpha) * exp_smoothing[i - 1])\n",
        "\n",
        "# выведем прогнозное значение для 366-го дня (1 января 1960 года)\n",
        "exp_smoothing[-1]'''"
      ],
      "metadata": {
        "colab": {
          "base_uri": "https://localhost:8080/",
          "height": 72
        },
        "id": "e_rR6r1TyyTq",
        "outputId": "59c1d0f4-763d-49f2-a12f-9edb4366931c"
      },
      "execution_count": null,
      "outputs": [
        {
          "output_type": "execute_result",
          "data": {
            "text/plain": [
              "\"alpha = 0.2\\n \\n# первое значение совпадает со значением временного ряда\\nexp_smoothing = [data['Price'][0]]\\n \\n# в цикле for последовательно применяем формулу ко всем элементам ряда\\nfor i in range(1, len(data['Price'])):\\n  exp_smoothing.append(alpha * data['Price'][i] + (1 - alpha) * exp_smoothing[i - 1])\\n \\n# выведем прогнозное значение для 366-го дня (1 января 1960 года)\\nexp_smoothing[-1]\""
            ],
            "application/vnd.google.colaboratory.intrinsic+json": {
              "type": "string"
            }
          },
          "metadata": {},
          "execution_count": 138
        }
      ]
    },
    {
      "cell_type": "code",
      "source": [
        "#exp_smoothing[-7:]"
      ],
      "metadata": {
        "id": "FKDdVy1kzFy9"
      },
      "execution_count": null,
      "outputs": []
    },
    {
      "cell_type": "code",
      "source": [
        "'''data['Exp_smoothing'] = exp_smoothing'''"
      ],
      "metadata": {
        "colab": {
          "base_uri": "https://localhost:8080/",
          "height": 36
        },
        "id": "pMSRTSA3zeFr",
        "outputId": "e67a7ec8-a80d-45ee-949c-95f118bc4db4"
      },
      "execution_count": null,
      "outputs": [
        {
          "output_type": "execute_result",
          "data": {
            "text/plain": [
              "\"data['Exp_smoothing'] = exp_smoothing\""
            ],
            "application/vnd.google.colaboratory.intrinsic+json": {
              "type": "string"
            }
          },
          "metadata": {},
          "execution_count": 140
        }
      ]
    },
    {
      "cell_type": "code",
      "source": [
        "'''# зададим размер\n",
        "plt.figure(figsize = (15,8))\n",
        "\n",
        "# выведем данные о рождаемости и кривую экспоненциального сглаживания\n",
        "plt.plot(data['Price'], label = 'Данные', color = 'steelblue')\n",
        "plt.plot(data['Exp_smoothing'], label = 'Экспоненциальное сглаживание', color = 'orange')\n",
        "\n",
        "# добавим легенду, ее положение на графике и размер шрифта\n",
        "plt.legend(title = '', loc = 'upper left', fontsize = 14)\n",
        "\n",
        "# добавим подписи к осям и заголовки\n",
        "plt.ylabel('Цена', fontsize = 14)\n",
        "plt.xlabel('Месяцы', fontsize = 14)\n",
        "plt.title('Цена биткоин', fontsize = 16)\n",
        "\n",
        "plt.show()'''"
      ],
      "metadata": {
        "colab": {
          "base_uri": "https://localhost:8080/",
          "height": 90
        },
        "id": "kAxSt2PSzfxL",
        "outputId": "5c81e0ea-adec-41de-f5f5-a9b3328dcfb1"
      },
      "execution_count": null,
      "outputs": [
        {
          "output_type": "execute_result",
          "data": {
            "text/plain": [
              "\"# зададим размер\\nplt.figure(figsize = (15,8))\\n \\n# выведем данные о рождаемости и кривую экспоненциального сглаживания\\nplt.plot(data['Price'], label = 'Данные', color = 'steelblue')\\nplt.plot(data['Exp_smoothing'], label = 'Экспоненциальное сглаживание', color = 'orange')\\n \\n# добавим легенду, ее положение на графике и размер шрифта\\nplt.legend(title = '', loc = 'upper left', fontsize = 14)\\n \\n# добавим подписи к осям и заголовки\\nplt.ylabel('Цена', fontsize = 14)\\nplt.xlabel('Месяцы', fontsize = 14)\\nplt.title('Цена биткоин', fontsize = 16)\\n \\nplt.show()\""
            ],
            "application/vnd.google.colaboratory.intrinsic+json": {
              "type": "string"
            }
          },
          "metadata": {},
          "execution_count": 141
        }
      ]
    },
    {
      "cell_type": "code",
      "source": [
        "!pip install yfinance\n",
        "import yfinance as yf\n",
        "data_sp = yf.download(\"^GSPC\", start=\"2022-01-14\", end=\"2023-07-14\")\n",
        "data_eth = yf.download(\"ETH-USD\", start=\"2022-01-14\", end=\"2023-07-14\")\n",
        "\n",
        "data_oil = yf.download(\"CL=F\", start=\"2022-01-14\", end=\"2023-07-14\")"
      ],
      "metadata": {
        "colab": {
          "base_uri": "https://localhost:8080/"
        },
        "id": "_yNMte9-rSLq",
        "outputId": "a601fb9c-d250-4666-f3c7-6a61ea4a8471"
      },
      "execution_count": null,
      "outputs": [
        {
          "output_type": "stream",
          "name": "stdout",
          "text": [
            "Requirement already satisfied: yfinance in /usr/local/lib/python3.10/dist-packages (0.2.27)\n",
            "Requirement already satisfied: pandas>=1.3.0 in /usr/local/lib/python3.10/dist-packages (from yfinance) (1.5.3)\n",
            "Requirement already satisfied: numpy>=1.16.5 in /usr/local/lib/python3.10/dist-packages (from yfinance) (1.23.5)\n",
            "Requirement already satisfied: requests>=2.31 in /usr/local/lib/python3.10/dist-packages (from yfinance) (2.31.0)\n",
            "Requirement already satisfied: multitasking>=0.0.7 in /usr/local/lib/python3.10/dist-packages (from yfinance) (0.0.11)\n",
            "Requirement already satisfied: lxml>=4.9.1 in /usr/local/lib/python3.10/dist-packages (from yfinance) (4.9.3)\n",
            "Requirement already satisfied: appdirs>=1.4.4 in /usr/local/lib/python3.10/dist-packages (from yfinance) (1.4.4)\n",
            "Requirement already satisfied: pytz>=2022.5 in /usr/local/lib/python3.10/dist-packages (from yfinance) (2022.7.1)\n",
            "Requirement already satisfied: frozendict>=2.3.4 in /usr/local/lib/python3.10/dist-packages (from yfinance) (2.3.8)\n",
            "Requirement already satisfied: beautifulsoup4>=4.11.1 in /usr/local/lib/python3.10/dist-packages (from yfinance) (4.11.2)\n",
            "Requirement already satisfied: html5lib>=1.1 in /usr/local/lib/python3.10/dist-packages (from yfinance) (1.1)\n",
            "Requirement already satisfied: soupsieve>1.2 in /usr/local/lib/python3.10/dist-packages (from beautifulsoup4>=4.11.1->yfinance) (2.4.1)\n",
            "Requirement already satisfied: six>=1.9 in /usr/local/lib/python3.10/dist-packages (from html5lib>=1.1->yfinance) (1.16.0)\n",
            "Requirement already satisfied: webencodings in /usr/local/lib/python3.10/dist-packages (from html5lib>=1.1->yfinance) (0.5.1)\n",
            "Requirement already satisfied: python-dateutil>=2.8.1 in /usr/local/lib/python3.10/dist-packages (from pandas>=1.3.0->yfinance) (2.8.2)\n",
            "Requirement already satisfied: charset-normalizer<4,>=2 in /usr/local/lib/python3.10/dist-packages (from requests>=2.31->yfinance) (3.2.0)\n",
            "Requirement already satisfied: idna<4,>=2.5 in /usr/local/lib/python3.10/dist-packages (from requests>=2.31->yfinance) (3.4)\n",
            "Requirement already satisfied: urllib3<3,>=1.21.1 in /usr/local/lib/python3.10/dist-packages (from requests>=2.31->yfinance) (1.26.16)\n",
            "Requirement already satisfied: certifi>=2017.4.17 in /usr/local/lib/python3.10/dist-packages (from requests>=2.31->yfinance) (2023.7.22)\n",
            "[*********************100%***********************]  1 of 1 completed\n",
            "[*********************100%***********************]  1 of 1 completed\n",
            "[*********************100%***********************]  1 of 1 completed\n"
          ]
        }
      ]
    },
    {
      "cell_type": "code",
      "source": [
        "data_sp = data_sp['Adj Close']\n",
        "data_eth = data_eth['Adj Close']\n",
        "data_oil = data_oil['Adj Close']"
      ],
      "metadata": {
        "id": "yUm4VDBWxeNx"
      },
      "execution_count": null,
      "outputs": []
    },
    {
      "cell_type": "code",
      "source": [
        "data_eth"
      ],
      "metadata": {
        "colab": {
          "base_uri": "https://localhost:8080/"
        },
        "id": "Z62l5W7nx8FS",
        "outputId": "a94e05de-e763-4aca-81ed-9154b4bb71f0"
      },
      "execution_count": null,
      "outputs": [
        {
          "output_type": "execute_result",
          "data": {
            "text/plain": [
              "Date\n",
              "2022-01-14    3310.001465\n",
              "2022-01-15    3330.530762\n",
              "2022-01-16    3350.921875\n",
              "2022-01-17    3212.304932\n",
              "2022-01-18    3164.025146\n",
              "                 ...     \n",
              "2023-07-09    1863.009766\n",
              "2023-07-10    1880.556396\n",
              "2023-07-11    1878.336060\n",
              "2023-07-12    1872.113770\n",
              "2023-07-13    2006.511475\n",
              "Name: Adj Close, Length: 546, dtype: float64"
            ]
          },
          "metadata": {},
          "execution_count": 144
        }
      ]
    },
    {
      "cell_type": "code",
      "source": [
        "def code_mean(data, cat_feature, real_feature):\n",
        "    return dict(data.groupby(cat_feature)[real_feature].mean())"
      ],
      "metadata": {
        "id": "Xa06z3pX8nZf"
      },
      "execution_count": null,
      "outputs": []
    },
    {
      "cell_type": "code",
      "source": [
        "#data = pd.merge(data, df, on='Date')\n",
        "data = pd.merge(data, data_sp, on='Date')\n",
        "data = pd.merge(data, data_eth, on='Date')\n",
        "data = pd.merge(data, data_oil, on='Date')"
      ],
      "metadata": {
        "id": "1lMNwUwSwygf"
      },
      "execution_count": null,
      "outputs": []
    },
    {
      "cell_type": "code",
      "source": [
        "data"
      ],
      "metadata": {
        "colab": {
          "base_uri": "https://localhost:8080/",
          "height": 455
        },
        "id": "MgG-VzTB6_M4",
        "outputId": "840f6c02-24c9-4789-d3c8-03b14b252cbb"
      },
      "execution_count": null,
      "outputs": [
        {
          "output_type": "execute_result",
          "data": {
            "text/plain": [
              "              Price  Adj Close_x  Adj Close_y  Adj Close\n",
              "Date                                                    \n",
              "2022-01-14  43073.3  4662.850098  3310.001465  83.820000\n",
              "2022-01-18  42364.6  4577.109863  3164.025146  85.430000\n",
              "2022-01-19  41677.8  4532.759766  3095.825928  86.959999\n",
              "2022-01-20  40715.9  4482.729980  3001.120117  86.900002\n",
              "2022-01-21  36475.5  4397.939941  2557.931641  85.139999\n",
              "...             ...          ...          ...        ...\n",
              "2023-07-07  30346.4  4398.950195  1870.602539  73.860001\n",
              "2023-07-10  30346.4  4409.529785  1880.556396  72.989998\n",
              "2023-07-11  30346.4  4439.259766  1878.336060  74.830002\n",
              "2023-07-12  30346.4  4472.160156  1872.113770  75.750000\n",
              "2023-07-13  30346.4  4510.040039  2006.511475  76.889999\n",
              "\n",
              "[374 rows x 4 columns]"
            ],
            "text/html": [
              "\n",
              "\n",
              "  <div id=\"df-fd036437-f466-4767-9f7e-7bd75e68b4fd\">\n",
              "    <div class=\"colab-df-container\">\n",
              "      <div>\n",
              "<style scoped>\n",
              "    .dataframe tbody tr th:only-of-type {\n",
              "        vertical-align: middle;\n",
              "    }\n",
              "\n",
              "    .dataframe tbody tr th {\n",
              "        vertical-align: top;\n",
              "    }\n",
              "\n",
              "    .dataframe thead th {\n",
              "        text-align: right;\n",
              "    }\n",
              "</style>\n",
              "<table border=\"1\" class=\"dataframe\">\n",
              "  <thead>\n",
              "    <tr style=\"text-align: right;\">\n",
              "      <th></th>\n",
              "      <th>Price</th>\n",
              "      <th>Adj Close_x</th>\n",
              "      <th>Adj Close_y</th>\n",
              "      <th>Adj Close</th>\n",
              "    </tr>\n",
              "    <tr>\n",
              "      <th>Date</th>\n",
              "      <th></th>\n",
              "      <th></th>\n",
              "      <th></th>\n",
              "      <th></th>\n",
              "    </tr>\n",
              "  </thead>\n",
              "  <tbody>\n",
              "    <tr>\n",
              "      <th>2022-01-14</th>\n",
              "      <td>43073.3</td>\n",
              "      <td>4662.850098</td>\n",
              "      <td>3310.001465</td>\n",
              "      <td>83.820000</td>\n",
              "    </tr>\n",
              "    <tr>\n",
              "      <th>2022-01-18</th>\n",
              "      <td>42364.6</td>\n",
              "      <td>4577.109863</td>\n",
              "      <td>3164.025146</td>\n",
              "      <td>85.430000</td>\n",
              "    </tr>\n",
              "    <tr>\n",
              "      <th>2022-01-19</th>\n",
              "      <td>41677.8</td>\n",
              "      <td>4532.759766</td>\n",
              "      <td>3095.825928</td>\n",
              "      <td>86.959999</td>\n",
              "    </tr>\n",
              "    <tr>\n",
              "      <th>2022-01-20</th>\n",
              "      <td>40715.9</td>\n",
              "      <td>4482.729980</td>\n",
              "      <td>3001.120117</td>\n",
              "      <td>86.900002</td>\n",
              "    </tr>\n",
              "    <tr>\n",
              "      <th>2022-01-21</th>\n",
              "      <td>36475.5</td>\n",
              "      <td>4397.939941</td>\n",
              "      <td>2557.931641</td>\n",
              "      <td>85.139999</td>\n",
              "    </tr>\n",
              "    <tr>\n",
              "      <th>...</th>\n",
              "      <td>...</td>\n",
              "      <td>...</td>\n",
              "      <td>...</td>\n",
              "      <td>...</td>\n",
              "    </tr>\n",
              "    <tr>\n",
              "      <th>2023-07-07</th>\n",
              "      <td>30346.4</td>\n",
              "      <td>4398.950195</td>\n",
              "      <td>1870.602539</td>\n",
              "      <td>73.860001</td>\n",
              "    </tr>\n",
              "    <tr>\n",
              "      <th>2023-07-10</th>\n",
              "      <td>30346.4</td>\n",
              "      <td>4409.529785</td>\n",
              "      <td>1880.556396</td>\n",
              "      <td>72.989998</td>\n",
              "    </tr>\n",
              "    <tr>\n",
              "      <th>2023-07-11</th>\n",
              "      <td>30346.4</td>\n",
              "      <td>4439.259766</td>\n",
              "      <td>1878.336060</td>\n",
              "      <td>74.830002</td>\n",
              "    </tr>\n",
              "    <tr>\n",
              "      <th>2023-07-12</th>\n",
              "      <td>30346.4</td>\n",
              "      <td>4472.160156</td>\n",
              "      <td>1872.113770</td>\n",
              "      <td>75.750000</td>\n",
              "    </tr>\n",
              "    <tr>\n",
              "      <th>2023-07-13</th>\n",
              "      <td>30346.4</td>\n",
              "      <td>4510.040039</td>\n",
              "      <td>2006.511475</td>\n",
              "      <td>76.889999</td>\n",
              "    </tr>\n",
              "  </tbody>\n",
              "</table>\n",
              "<p>374 rows × 4 columns</p>\n",
              "</div>\n",
              "      <button class=\"colab-df-convert\" onclick=\"convertToInteractive('df-fd036437-f466-4767-9f7e-7bd75e68b4fd')\"\n",
              "              title=\"Convert this dataframe to an interactive table.\"\n",
              "              style=\"display:none;\">\n",
              "\n",
              "  <svg xmlns=\"http://www.w3.org/2000/svg\" height=\"24px\"viewBox=\"0 0 24 24\"\n",
              "       width=\"24px\">\n",
              "    <path d=\"M0 0h24v24H0V0z\" fill=\"none\"/>\n",
              "    <path d=\"M18.56 5.44l.94 2.06.94-2.06 2.06-.94-2.06-.94-.94-2.06-.94 2.06-2.06.94zm-11 1L8.5 8.5l.94-2.06 2.06-.94-2.06-.94L8.5 2.5l-.94 2.06-2.06.94zm10 10l.94 2.06.94-2.06 2.06-.94-2.06-.94-.94-2.06-.94 2.06-2.06.94z\"/><path d=\"M17.41 7.96l-1.37-1.37c-.4-.4-.92-.59-1.43-.59-.52 0-1.04.2-1.43.59L10.3 9.45l-7.72 7.72c-.78.78-.78 2.05 0 2.83L4 21.41c.39.39.9.59 1.41.59.51 0 1.02-.2 1.41-.59l7.78-7.78 2.81-2.81c.8-.78.8-2.07 0-2.86zM5.41 20L4 18.59l7.72-7.72 1.47 1.35L5.41 20z\"/>\n",
              "  </svg>\n",
              "      </button>\n",
              "\n",
              "\n",
              "\n",
              "    <div id=\"df-42010329-b6cc-415f-a136-74c4fa915974\">\n",
              "      <button class=\"colab-df-quickchart\" onclick=\"quickchart('df-42010329-b6cc-415f-a136-74c4fa915974')\"\n",
              "              title=\"Suggest charts.\"\n",
              "              style=\"display:none;\">\n",
              "\n",
              "<svg xmlns=\"http://www.w3.org/2000/svg\" height=\"24px\"viewBox=\"0 0 24 24\"\n",
              "     width=\"24px\">\n",
              "    <g>\n",
              "        <path d=\"M19 3H5c-1.1 0-2 .9-2 2v14c0 1.1.9 2 2 2h14c1.1 0 2-.9 2-2V5c0-1.1-.9-2-2-2zM9 17H7v-7h2v7zm4 0h-2V7h2v10zm4 0h-2v-4h2v4z\"/>\n",
              "    </g>\n",
              "</svg>\n",
              "      </button>\n",
              "    </div>\n",
              "\n",
              "<style>\n",
              "  .colab-df-quickchart {\n",
              "    background-color: #E8F0FE;\n",
              "    border: none;\n",
              "    border-radius: 50%;\n",
              "    cursor: pointer;\n",
              "    display: none;\n",
              "    fill: #1967D2;\n",
              "    height: 32px;\n",
              "    padding: 0 0 0 0;\n",
              "    width: 32px;\n",
              "  }\n",
              "\n",
              "  .colab-df-quickchart:hover {\n",
              "    background-color: #E2EBFA;\n",
              "    box-shadow: 0px 1px 2px rgba(60, 64, 67, 0.3), 0px 1px 3px 1px rgba(60, 64, 67, 0.15);\n",
              "    fill: #174EA6;\n",
              "  }\n",
              "\n",
              "  [theme=dark] .colab-df-quickchart {\n",
              "    background-color: #3B4455;\n",
              "    fill: #D2E3FC;\n",
              "  }\n",
              "\n",
              "  [theme=dark] .colab-df-quickchart:hover {\n",
              "    background-color: #434B5C;\n",
              "    box-shadow: 0px 1px 3px 1px rgba(0, 0, 0, 0.15);\n",
              "    filter: drop-shadow(0px 1px 2px rgba(0, 0, 0, 0.3));\n",
              "    fill: #FFFFFF;\n",
              "  }\n",
              "</style>\n",
              "\n",
              "    <script>\n",
              "      async function quickchart(key) {\n",
              "        const containerElement = document.querySelector('#' + key);\n",
              "        const charts = await google.colab.kernel.invokeFunction(\n",
              "            'suggestCharts', [key], {});\n",
              "      }\n",
              "    </script>\n",
              "\n",
              "      <script>\n",
              "\n",
              "function displayQuickchartButton(domScope) {\n",
              "  let quickchartButtonEl =\n",
              "    domScope.querySelector('#df-42010329-b6cc-415f-a136-74c4fa915974 button.colab-df-quickchart');\n",
              "  quickchartButtonEl.style.display =\n",
              "    google.colab.kernel.accessAllowed ? 'block' : 'none';\n",
              "}\n",
              "\n",
              "        displayQuickchartButton(document);\n",
              "      </script>\n",
              "      <style>\n",
              "    .colab-df-container {\n",
              "      display:flex;\n",
              "      flex-wrap:wrap;\n",
              "      gap: 12px;\n",
              "    }\n",
              "\n",
              "    .colab-df-convert {\n",
              "      background-color: #E8F0FE;\n",
              "      border: none;\n",
              "      border-radius: 50%;\n",
              "      cursor: pointer;\n",
              "      display: none;\n",
              "      fill: #1967D2;\n",
              "      height: 32px;\n",
              "      padding: 0 0 0 0;\n",
              "      width: 32px;\n",
              "    }\n",
              "\n",
              "    .colab-df-convert:hover {\n",
              "      background-color: #E2EBFA;\n",
              "      box-shadow: 0px 1px 2px rgba(60, 64, 67, 0.3), 0px 1px 3px 1px rgba(60, 64, 67, 0.15);\n",
              "      fill: #174EA6;\n",
              "    }\n",
              "\n",
              "    [theme=dark] .colab-df-convert {\n",
              "      background-color: #3B4455;\n",
              "      fill: #D2E3FC;\n",
              "    }\n",
              "\n",
              "    [theme=dark] .colab-df-convert:hover {\n",
              "      background-color: #434B5C;\n",
              "      box-shadow: 0px 1px 3px 1px rgba(0, 0, 0, 0.15);\n",
              "      filter: drop-shadow(0px 1px 2px rgba(0, 0, 0, 0.3));\n",
              "      fill: #FFFFFF;\n",
              "    }\n",
              "  </style>\n",
              "\n",
              "      <script>\n",
              "        const buttonEl =\n",
              "          document.querySelector('#df-fd036437-f466-4767-9f7e-7bd75e68b4fd button.colab-df-convert');\n",
              "        buttonEl.style.display =\n",
              "          google.colab.kernel.accessAllowed ? 'block' : 'none';\n",
              "\n",
              "        async function convertToInteractive(key) {\n",
              "          const element = document.querySelector('#df-fd036437-f466-4767-9f7e-7bd75e68b4fd');\n",
              "          const dataTable =\n",
              "            await google.colab.kernel.invokeFunction('convertToInteractive',\n",
              "                                                     [key], {});\n",
              "          if (!dataTable) return;\n",
              "\n",
              "          const docLinkHtml = 'Like what you see? Visit the ' +\n",
              "            '<a target=\"_blank\" href=https://colab.research.google.com/notebooks/data_table.ipynb>data table notebook</a>'\n",
              "            + ' to learn more about interactive tables.';\n",
              "          element.innerHTML = '';\n",
              "          dataTable['output_type'] = 'display_data';\n",
              "          await google.colab.output.renderOutput(dataTable, element);\n",
              "          const docLink = document.createElement('div');\n",
              "          docLink.innerHTML = docLinkHtml;\n",
              "          element.appendChild(docLink);\n",
              "        }\n",
              "      </script>\n",
              "    </div>\n",
              "  </div>\n"
            ]
          },
          "metadata": {},
          "execution_count": 147
        }
      ]
    },
    {
      "cell_type": "code",
      "source": [
        "target = \"Price\"\n",
        "\n",
        "def preprocess_data(data, lag_start=7, lag_end=20, test_size=0.05):\n",
        "\n",
        "    data = pd.DataFrame(data.copy())\n",
        "\n",
        "    # считаем индекс в датафрейме, после которого начинается тестовый отрезок\n",
        "   # test_index = int(len(data) * (1 - test_size))\n",
        "    # добавляем лаги исходного ряда в качестве признаков\n",
        "    for i in range(lag_start, lag_end):\n",
        "        data[f\"lag_{i}\"] = data[target].shift(i)\n",
        "\n",
        "    for i in range(1, lag_end):\n",
        "        #data[f\"lag_USRECD_{i}\"] = data['USRECD'].shift(i)\n",
        "        #data[f\"lag_NROU_{i}\"] = data['NROU'].shift(i)\n",
        "        #data[f\"lag_DFF_{i}\"] = data['DFF'].shift(i)\n",
        "        data[f\"lag_SP_{i}\"] = data['Adj Close_x'].shift(i)\n",
        "        data[f\"lag_eth_{i}\"] = data['Adj Close_y'].shift(i)\n",
        "        data[f\"lag_oil_{i}\"] = data['Adj Close'].shift(i)\n",
        "\n",
        "    data[\"day\"] = data.index.day\n",
        "    data[\"month\"] = data.index.month\n",
        "    data[\"year\"] = data.index.year\n",
        "\n",
        "    test_index = 7\n",
        "    # считаем средние только по тренировочной части, чтобы избежать лика\n",
        "    data[\"day_average\"] = list(map(code_mean(data[:test_index], \"day\", target).get, data.day))\n",
        "    data[\"month_average\"] = list(map(code_mean(data[:test_index], \"month\", target).get, data.month))\n",
        "    data[\"year_average\"] = list(map(code_mean(data[:test_index], \"year\", target).get, data.year))\n",
        "\n",
        "    # выкидываем закодированные средними признаки\n",
        "    data.drop([\"day\"], axis=1, inplace=True)\n",
        "    data.drop([\"month\"], axis=1, inplace=True)\n",
        "    data.drop([\"year\"], axis=1, inplace=True)\n",
        "\n",
        "    data = data.dropna()\n",
        "    data = data.reset_index(drop=True)\n",
        "\n",
        "    # разбиваем весь датасет на тренировочную и тестовую выборку\n",
        "    X_train = data.loc[:test_index].drop([target], axis=1)\n",
        "    y_train = data.loc[:test_index][target]\n",
        "    X_test = data.loc[test_index:].drop([target], axis=1)\n",
        "    y_test = data.loc[test_index:][target]\n",
        "\n",
        "    '''df_full_train = data.loc[:test_index]\n",
        "    df_train, df_val = train_test_split(df_full_train, test_size=0.25, random_state=1)\n",
        "\n",
        "    X_train = df_train.drop([target], axis=1)\n",
        "    y_train = df_train[target]\n",
        "    X_val = df_val.drop([target], axis=1)\n",
        "    y_val = df_val[target]'''\n",
        "\n",
        "    sc = MinMaxScaler()\n",
        "    X_train = pd.DataFrame(data=sc.fit_transform(X_train), columns=X_train.columns)\n",
        "    X_test = pd.DataFrame(data=sc.transform(X_test), columns=X_test.columns)\n",
        "    #X_val = pd.DataFrame(data=sc.transform(X_val), columns=X_val.columns)\n",
        "\n",
        "    return X_train, X_test, y_train, y_test"
      ],
      "metadata": {
        "id": "pMPRyHh-9JKC"
      },
      "execution_count": null,
      "outputs": []
    },
    {
      "cell_type": "code",
      "source": [
        "from sklearn.preprocessing import MinMaxScaler\n",
        "from sklearn.model_selection import train_test_split"
      ],
      "metadata": {
        "id": "yWQ4o4Nowygm"
      },
      "execution_count": null,
      "outputs": []
    },
    {
      "cell_type": "markdown",
      "source": [
        "Обучим линейную регрессию (подберем размер теста так, чтобы в него попали ровно те 7 дней, для которых мы делаем прогноз)"
      ],
      "metadata": {
        "id": "rY7GN-Kxwygo"
      }
    },
    {
      "cell_type": "code",
      "source": [
        "X_train, X_test,  y_train, y_test = preprocess_data(data, lag_start=7, lag_end=14)"
      ],
      "metadata": {
        "colab": {
          "base_uri": "https://localhost:8080/",
          "height": 350
        },
        "id": "9LzavAh9wygo",
        "outputId": "8192c7bd-ed1a-4979-a3f2-d475aca487ab"
      },
      "execution_count": null,
      "outputs": [
        {
          "output_type": "error",
          "ename": "ValueError",
          "evalue": "ignored",
          "traceback": [
            "\u001b[0;31m---------------------------------------------------------------------------\u001b[0m",
            "\u001b[0;31mValueError\u001b[0m                                Traceback (most recent call last)",
            "\u001b[0;32m<ipython-input-176-921ebdbbfe39>\u001b[0m in \u001b[0;36m<cell line: 1>\u001b[0;34m()\u001b[0m\n\u001b[0;32m----> 1\u001b[0;31m \u001b[0mX_train\u001b[0m\u001b[0;34m,\u001b[0m \u001b[0mX_test\u001b[0m\u001b[0;34m,\u001b[0m  \u001b[0my_train\u001b[0m\u001b[0;34m,\u001b[0m \u001b[0my_test\u001b[0m \u001b[0;34m=\u001b[0m \u001b[0mpreprocess_data\u001b[0m\u001b[0;34m(\u001b[0m\u001b[0mdata\u001b[0m\u001b[0;34m,\u001b[0m \u001b[0mlag_start\u001b[0m\u001b[0;34m=\u001b[0m\u001b[0;36m7\u001b[0m\u001b[0;34m,\u001b[0m \u001b[0mlag_end\u001b[0m\u001b[0;34m=\u001b[0m\u001b[0;36m14\u001b[0m\u001b[0;34m)\u001b[0m\u001b[0;34m\u001b[0m\u001b[0;34m\u001b[0m\u001b[0m\n\u001b[0m",
            "\u001b[0;32m<ipython-input-174-cfac0e77761c>\u001b[0m in \u001b[0;36mpreprocess_data\u001b[0;34m(data, lag_start, lag_end, test_size)\u001b[0m\n\u001b[1;32m     52\u001b[0m \u001b[0;34m\u001b[0m\u001b[0m\n\u001b[1;32m     53\u001b[0m     \u001b[0msc\u001b[0m \u001b[0;34m=\u001b[0m \u001b[0mMinMaxScaler\u001b[0m\u001b[0;34m(\u001b[0m\u001b[0;34m)\u001b[0m\u001b[0;34m\u001b[0m\u001b[0;34m\u001b[0m\u001b[0m\n\u001b[0;32m---> 54\u001b[0;31m     \u001b[0mX_train\u001b[0m \u001b[0;34m=\u001b[0m \u001b[0mpd\u001b[0m\u001b[0;34m.\u001b[0m\u001b[0mDataFrame\u001b[0m\u001b[0;34m(\u001b[0m\u001b[0mdata\u001b[0m\u001b[0;34m=\u001b[0m\u001b[0msc\u001b[0m\u001b[0;34m.\u001b[0m\u001b[0mfit_transform\u001b[0m\u001b[0;34m(\u001b[0m\u001b[0mX_train\u001b[0m\u001b[0;34m)\u001b[0m\u001b[0;34m,\u001b[0m \u001b[0mcolumns\u001b[0m\u001b[0;34m=\u001b[0m\u001b[0mX_train\u001b[0m\u001b[0;34m.\u001b[0m\u001b[0mcolumns\u001b[0m\u001b[0;34m)\u001b[0m\u001b[0;34m\u001b[0m\u001b[0;34m\u001b[0m\u001b[0m\n\u001b[0m\u001b[1;32m     55\u001b[0m     \u001b[0mX_test\u001b[0m \u001b[0;34m=\u001b[0m \u001b[0mpd\u001b[0m\u001b[0;34m.\u001b[0m\u001b[0mDataFrame\u001b[0m\u001b[0;34m(\u001b[0m\u001b[0mdata\u001b[0m\u001b[0;34m=\u001b[0m\u001b[0msc\u001b[0m\u001b[0;34m.\u001b[0m\u001b[0mtransform\u001b[0m\u001b[0;34m(\u001b[0m\u001b[0mX_test\u001b[0m\u001b[0;34m)\u001b[0m\u001b[0;34m,\u001b[0m \u001b[0mcolumns\u001b[0m\u001b[0;34m=\u001b[0m\u001b[0mX_test\u001b[0m\u001b[0;34m.\u001b[0m\u001b[0mcolumns\u001b[0m\u001b[0;34m)\u001b[0m\u001b[0;34m\u001b[0m\u001b[0;34m\u001b[0m\u001b[0m\n\u001b[1;32m     56\u001b[0m     \u001b[0;31m#X_val = pd.DataFrame(data=sc.transform(X_val), columns=X_val.columns)\u001b[0m\u001b[0;34m\u001b[0m\u001b[0;34m\u001b[0m\u001b[0m\n",
            "\u001b[0;32m/usr/local/lib/python3.10/dist-packages/sklearn/utils/_set_output.py\u001b[0m in \u001b[0;36mwrapped\u001b[0;34m(self, X, *args, **kwargs)\u001b[0m\n\u001b[1;32m    138\u001b[0m     \u001b[0;34m@\u001b[0m\u001b[0mwraps\u001b[0m\u001b[0;34m(\u001b[0m\u001b[0mf\u001b[0m\u001b[0;34m)\u001b[0m\u001b[0;34m\u001b[0m\u001b[0;34m\u001b[0m\u001b[0m\n\u001b[1;32m    139\u001b[0m     \u001b[0;32mdef\u001b[0m \u001b[0mwrapped\u001b[0m\u001b[0;34m(\u001b[0m\u001b[0mself\u001b[0m\u001b[0;34m,\u001b[0m \u001b[0mX\u001b[0m\u001b[0;34m,\u001b[0m \u001b[0;34m*\u001b[0m\u001b[0margs\u001b[0m\u001b[0;34m,\u001b[0m \u001b[0;34m**\u001b[0m\u001b[0mkwargs\u001b[0m\u001b[0;34m)\u001b[0m\u001b[0;34m:\u001b[0m\u001b[0;34m\u001b[0m\u001b[0;34m\u001b[0m\u001b[0m\n\u001b[0;32m--> 140\u001b[0;31m         \u001b[0mdata_to_wrap\u001b[0m \u001b[0;34m=\u001b[0m \u001b[0mf\u001b[0m\u001b[0;34m(\u001b[0m\u001b[0mself\u001b[0m\u001b[0;34m,\u001b[0m \u001b[0mX\u001b[0m\u001b[0;34m,\u001b[0m \u001b[0;34m*\u001b[0m\u001b[0margs\u001b[0m\u001b[0;34m,\u001b[0m \u001b[0;34m**\u001b[0m\u001b[0mkwargs\u001b[0m\u001b[0;34m)\u001b[0m\u001b[0;34m\u001b[0m\u001b[0;34m\u001b[0m\u001b[0m\n\u001b[0m\u001b[1;32m    141\u001b[0m         \u001b[0;32mif\u001b[0m \u001b[0misinstance\u001b[0m\u001b[0;34m(\u001b[0m\u001b[0mdata_to_wrap\u001b[0m\u001b[0;34m,\u001b[0m \u001b[0mtuple\u001b[0m\u001b[0;34m)\u001b[0m\u001b[0;34m:\u001b[0m\u001b[0;34m\u001b[0m\u001b[0;34m\u001b[0m\u001b[0m\n\u001b[1;32m    142\u001b[0m             \u001b[0;31m# only wrap the first output for cross decomposition\u001b[0m\u001b[0;34m\u001b[0m\u001b[0;34m\u001b[0m\u001b[0m\n",
            "\u001b[0;32m/usr/local/lib/python3.10/dist-packages/sklearn/base.py\u001b[0m in \u001b[0;36mfit_transform\u001b[0;34m(self, X, y, **fit_params)\u001b[0m\n\u001b[1;32m    876\u001b[0m         \u001b[0;32mif\u001b[0m \u001b[0my\u001b[0m \u001b[0;32mis\u001b[0m \u001b[0;32mNone\u001b[0m\u001b[0;34m:\u001b[0m\u001b[0;34m\u001b[0m\u001b[0;34m\u001b[0m\u001b[0m\n\u001b[1;32m    877\u001b[0m             \u001b[0;31m# fit method of arity 1 (unsupervised transformation)\u001b[0m\u001b[0;34m\u001b[0m\u001b[0;34m\u001b[0m\u001b[0m\n\u001b[0;32m--> 878\u001b[0;31m             \u001b[0;32mreturn\u001b[0m \u001b[0mself\u001b[0m\u001b[0;34m.\u001b[0m\u001b[0mfit\u001b[0m\u001b[0;34m(\u001b[0m\u001b[0mX\u001b[0m\u001b[0;34m,\u001b[0m \u001b[0;34m**\u001b[0m\u001b[0mfit_params\u001b[0m\u001b[0;34m)\u001b[0m\u001b[0;34m.\u001b[0m\u001b[0mtransform\u001b[0m\u001b[0;34m(\u001b[0m\u001b[0mX\u001b[0m\u001b[0;34m)\u001b[0m\u001b[0;34m\u001b[0m\u001b[0;34m\u001b[0m\u001b[0m\n\u001b[0m\u001b[1;32m    879\u001b[0m         \u001b[0;32melse\u001b[0m\u001b[0;34m:\u001b[0m\u001b[0;34m\u001b[0m\u001b[0;34m\u001b[0m\u001b[0m\n\u001b[1;32m    880\u001b[0m             \u001b[0;31m# fit method of arity 2 (supervised transformation)\u001b[0m\u001b[0;34m\u001b[0m\u001b[0;34m\u001b[0m\u001b[0m\n",
            "\u001b[0;32m/usr/local/lib/python3.10/dist-packages/sklearn/preprocessing/_data.py\u001b[0m in \u001b[0;36mfit\u001b[0;34m(self, X, y)\u001b[0m\n\u001b[1;32m    425\u001b[0m         \u001b[0;31m# Reset internal state before fitting\u001b[0m\u001b[0;34m\u001b[0m\u001b[0;34m\u001b[0m\u001b[0m\n\u001b[1;32m    426\u001b[0m         \u001b[0mself\u001b[0m\u001b[0;34m.\u001b[0m\u001b[0m_reset\u001b[0m\u001b[0;34m(\u001b[0m\u001b[0;34m)\u001b[0m\u001b[0;34m\u001b[0m\u001b[0;34m\u001b[0m\u001b[0m\n\u001b[0;32m--> 427\u001b[0;31m         \u001b[0;32mreturn\u001b[0m \u001b[0mself\u001b[0m\u001b[0;34m.\u001b[0m\u001b[0mpartial_fit\u001b[0m\u001b[0;34m(\u001b[0m\u001b[0mX\u001b[0m\u001b[0;34m,\u001b[0m \u001b[0my\u001b[0m\u001b[0;34m)\u001b[0m\u001b[0;34m\u001b[0m\u001b[0;34m\u001b[0m\u001b[0m\n\u001b[0m\u001b[1;32m    428\u001b[0m \u001b[0;34m\u001b[0m\u001b[0m\n\u001b[1;32m    429\u001b[0m     \u001b[0;32mdef\u001b[0m \u001b[0mpartial_fit\u001b[0m\u001b[0;34m(\u001b[0m\u001b[0mself\u001b[0m\u001b[0;34m,\u001b[0m \u001b[0mX\u001b[0m\u001b[0;34m,\u001b[0m \u001b[0my\u001b[0m\u001b[0;34m=\u001b[0m\u001b[0;32mNone\u001b[0m\u001b[0;34m)\u001b[0m\u001b[0;34m:\u001b[0m\u001b[0;34m\u001b[0m\u001b[0;34m\u001b[0m\u001b[0m\n",
            "\u001b[0;32m/usr/local/lib/python3.10/dist-packages/sklearn/preprocessing/_data.py\u001b[0m in \u001b[0;36mpartial_fit\u001b[0;34m(self, X, y)\u001b[0m\n\u001b[1;32m    464\u001b[0m \u001b[0;34m\u001b[0m\u001b[0m\n\u001b[1;32m    465\u001b[0m         \u001b[0mfirst_pass\u001b[0m \u001b[0;34m=\u001b[0m \u001b[0;32mnot\u001b[0m \u001b[0mhasattr\u001b[0m\u001b[0;34m(\u001b[0m\u001b[0mself\u001b[0m\u001b[0;34m,\u001b[0m \u001b[0;34m\"n_samples_seen_\"\u001b[0m\u001b[0;34m)\u001b[0m\u001b[0;34m\u001b[0m\u001b[0;34m\u001b[0m\u001b[0m\n\u001b[0;32m--> 466\u001b[0;31m         X = self._validate_data(\n\u001b[0m\u001b[1;32m    467\u001b[0m             \u001b[0mX\u001b[0m\u001b[0;34m,\u001b[0m\u001b[0;34m\u001b[0m\u001b[0;34m\u001b[0m\u001b[0m\n\u001b[1;32m    468\u001b[0m             \u001b[0mreset\u001b[0m\u001b[0;34m=\u001b[0m\u001b[0mfirst_pass\u001b[0m\u001b[0;34m,\u001b[0m\u001b[0;34m\u001b[0m\u001b[0;34m\u001b[0m\u001b[0m\n",
            "\u001b[0;32m/usr/local/lib/python3.10/dist-packages/sklearn/base.py\u001b[0m in \u001b[0;36m_validate_data\u001b[0;34m(self, X, y, reset, validate_separately, **check_params)\u001b[0m\n\u001b[1;32m    563\u001b[0m             \u001b[0;32mraise\u001b[0m \u001b[0mValueError\u001b[0m\u001b[0;34m(\u001b[0m\u001b[0;34m\"Validation should be done on X, y or both.\"\u001b[0m\u001b[0;34m)\u001b[0m\u001b[0;34m\u001b[0m\u001b[0;34m\u001b[0m\u001b[0m\n\u001b[1;32m    564\u001b[0m         \u001b[0;32melif\u001b[0m \u001b[0;32mnot\u001b[0m \u001b[0mno_val_X\u001b[0m \u001b[0;32mand\u001b[0m \u001b[0mno_val_y\u001b[0m\u001b[0;34m:\u001b[0m\u001b[0;34m\u001b[0m\u001b[0;34m\u001b[0m\u001b[0m\n\u001b[0;32m--> 565\u001b[0;31m             \u001b[0mX\u001b[0m \u001b[0;34m=\u001b[0m \u001b[0mcheck_array\u001b[0m\u001b[0;34m(\u001b[0m\u001b[0mX\u001b[0m\u001b[0;34m,\u001b[0m \u001b[0minput_name\u001b[0m\u001b[0;34m=\u001b[0m\u001b[0;34m\"X\"\u001b[0m\u001b[0;34m,\u001b[0m \u001b[0;34m**\u001b[0m\u001b[0mcheck_params\u001b[0m\u001b[0;34m)\u001b[0m\u001b[0;34m\u001b[0m\u001b[0;34m\u001b[0m\u001b[0m\n\u001b[0m\u001b[1;32m    566\u001b[0m             \u001b[0mout\u001b[0m \u001b[0;34m=\u001b[0m \u001b[0mX\u001b[0m\u001b[0;34m\u001b[0m\u001b[0;34m\u001b[0m\u001b[0m\n\u001b[1;32m    567\u001b[0m         \u001b[0;32melif\u001b[0m \u001b[0mno_val_X\u001b[0m \u001b[0;32mand\u001b[0m \u001b[0;32mnot\u001b[0m \u001b[0mno_val_y\u001b[0m\u001b[0;34m:\u001b[0m\u001b[0;34m\u001b[0m\u001b[0;34m\u001b[0m\u001b[0m\n",
            "\u001b[0;32m/usr/local/lib/python3.10/dist-packages/sklearn/utils/validation.py\u001b[0m in \u001b[0;36mcheck_array\u001b[0;34m(array, accept_sparse, accept_large_sparse, dtype, order, copy, force_all_finite, ensure_2d, allow_nd, ensure_min_samples, ensure_min_features, estimator, input_name)\u001b[0m\n\u001b[1;32m    929\u001b[0m         \u001b[0mn_samples\u001b[0m \u001b[0;34m=\u001b[0m \u001b[0m_num_samples\u001b[0m\u001b[0;34m(\u001b[0m\u001b[0marray\u001b[0m\u001b[0;34m)\u001b[0m\u001b[0;34m\u001b[0m\u001b[0;34m\u001b[0m\u001b[0m\n\u001b[1;32m    930\u001b[0m         \u001b[0;32mif\u001b[0m \u001b[0mn_samples\u001b[0m \u001b[0;34m<\u001b[0m \u001b[0mensure_min_samples\u001b[0m\u001b[0;34m:\u001b[0m\u001b[0;34m\u001b[0m\u001b[0;34m\u001b[0m\u001b[0m\n\u001b[0;32m--> 931\u001b[0;31m             raise ValueError(\n\u001b[0m\u001b[1;32m    932\u001b[0m                 \u001b[0;34m\"Found array with %d sample(s) (shape=%s) while a\"\u001b[0m\u001b[0;34m\u001b[0m\u001b[0;34m\u001b[0m\u001b[0m\n\u001b[1;32m    933\u001b[0m                 \u001b[0;34m\" minimum of %d is required%s.\"\u001b[0m\u001b[0;34m\u001b[0m\u001b[0;34m\u001b[0m\u001b[0m\n",
            "\u001b[0;31mValueError\u001b[0m: Found array with 0 sample(s) (shape=(0, 52)) while a minimum of 1 is required by MinMaxScaler."
          ]
        }
      ]
    },
    {
      "cell_type": "code",
      "source": [],
      "metadata": {
        "id": "dy-BkL_N_crs"
      },
      "execution_count": null,
      "outputs": []
    },
    {
      "cell_type": "code",
      "source": [
        "xgb_r = xg.XGBRegressor(learning_rate = 0.1, n_estimators = 200, seed = 25)\n",
        "\n",
        "xgb_r.fit(X_train, y_train)\n",
        "\n",
        "preds = xgb_r.predict(X_test)\n",
        "\n",
        "rmse= MSE(y_test,preds, squared=False)\n",
        "print(f\"MSE: {rmse.round(3)}\")"
      ],
      "metadata": {
        "colab": {
          "base_uri": "https://localhost:8080/"
        },
        "id": "-CqFWhVn7Ss_",
        "outputId": "2e0f5ee8-11c9-40f6-bb66-cf4fe7a0f015"
      },
      "execution_count": null,
      "outputs": [
        {
          "output_type": "stream",
          "name": "stdout",
          "text": [
            "MSE: 2015.455\n"
          ]
        }
      ]
    },
    {
      "cell_type": "code",
      "source": [],
      "metadata": {
        "id": "JX72oz8Z_QAH"
      },
      "execution_count": null,
      "outputs": []
    },
    {
      "cell_type": "code",
      "source": [
        "X_test['Date'] = data.index[-7:]\n",
        "X_test['Price'] = preds\n",
        "\n",
        "X_test.set_index('Date', inplace=True)"
      ],
      "metadata": {
        "colab": {
          "base_uri": "https://localhost:8080/",
          "height": 386
        },
        "id": "u_754Bi8-Qug",
        "outputId": "48fd5e9c-7fc5-4b10-e68f-60b5302c612c"
      },
      "execution_count": null,
      "outputs": [
        {
          "output_type": "error",
          "ename": "ValueError",
          "evalue": "ignored",
          "traceback": [
            "\u001b[0;31m---------------------------------------------------------------------------\u001b[0m",
            "\u001b[0;31mValueError\u001b[0m                                Traceback (most recent call last)",
            "\u001b[0;32m<ipython-input-167-dc0367a42350>\u001b[0m in \u001b[0;36m<cell line: 1>\u001b[0;34m()\u001b[0m\n\u001b[0;32m----> 1\u001b[0;31m \u001b[0mX_test\u001b[0m\u001b[0;34m[\u001b[0m\u001b[0;34m'Date'\u001b[0m\u001b[0;34m]\u001b[0m \u001b[0;34m=\u001b[0m \u001b[0mdata\u001b[0m\u001b[0;34m.\u001b[0m\u001b[0mindex\u001b[0m\u001b[0;34m[\u001b[0m\u001b[0;34m-\u001b[0m\u001b[0;36m7\u001b[0m\u001b[0;34m:\u001b[0m\u001b[0;34m]\u001b[0m\u001b[0;34m\u001b[0m\u001b[0;34m\u001b[0m\u001b[0m\n\u001b[0m\u001b[1;32m      2\u001b[0m \u001b[0mX_test\u001b[0m\u001b[0;34m[\u001b[0m\u001b[0;34m'Price'\u001b[0m\u001b[0;34m]\u001b[0m \u001b[0;34m=\u001b[0m \u001b[0mpreds\u001b[0m\u001b[0;34m\u001b[0m\u001b[0;34m\u001b[0m\u001b[0m\n\u001b[1;32m      3\u001b[0m \u001b[0;34m\u001b[0m\u001b[0m\n\u001b[1;32m      4\u001b[0m \u001b[0mX_test\u001b[0m\u001b[0;34m.\u001b[0m\u001b[0mset_index\u001b[0m\u001b[0;34m(\u001b[0m\u001b[0;34m'Date'\u001b[0m\u001b[0;34m,\u001b[0m \u001b[0minplace\u001b[0m\u001b[0;34m=\u001b[0m\u001b[0;32mTrue\u001b[0m\u001b[0;34m)\u001b[0m\u001b[0;34m\u001b[0m\u001b[0;34m\u001b[0m\u001b[0m\n",
            "\u001b[0;32m/usr/local/lib/python3.10/dist-packages/pandas/core/frame.py\u001b[0m in \u001b[0;36m__setitem__\u001b[0;34m(self, key, value)\u001b[0m\n\u001b[1;32m   3978\u001b[0m         \u001b[0;32melse\u001b[0m\u001b[0;34m:\u001b[0m\u001b[0;34m\u001b[0m\u001b[0;34m\u001b[0m\u001b[0m\n\u001b[1;32m   3979\u001b[0m             \u001b[0;31m# set column\u001b[0m\u001b[0;34m\u001b[0m\u001b[0;34m\u001b[0m\u001b[0m\n\u001b[0;32m-> 3980\u001b[0;31m             \u001b[0mself\u001b[0m\u001b[0;34m.\u001b[0m\u001b[0m_set_item\u001b[0m\u001b[0;34m(\u001b[0m\u001b[0mkey\u001b[0m\u001b[0;34m,\u001b[0m \u001b[0mvalue\u001b[0m\u001b[0;34m)\u001b[0m\u001b[0;34m\u001b[0m\u001b[0;34m\u001b[0m\u001b[0m\n\u001b[0m\u001b[1;32m   3981\u001b[0m \u001b[0;34m\u001b[0m\u001b[0m\n\u001b[1;32m   3982\u001b[0m     \u001b[0;32mdef\u001b[0m \u001b[0m_setitem_slice\u001b[0m\u001b[0;34m(\u001b[0m\u001b[0mself\u001b[0m\u001b[0;34m,\u001b[0m \u001b[0mkey\u001b[0m\u001b[0;34m:\u001b[0m \u001b[0mslice\u001b[0m\u001b[0;34m,\u001b[0m \u001b[0mvalue\u001b[0m\u001b[0;34m)\u001b[0m\u001b[0;34m:\u001b[0m\u001b[0;34m\u001b[0m\u001b[0;34m\u001b[0m\u001b[0m\n",
            "\u001b[0;32m/usr/local/lib/python3.10/dist-packages/pandas/core/frame.py\u001b[0m in \u001b[0;36m_set_item\u001b[0;34m(self, key, value)\u001b[0m\n\u001b[1;32m   4172\u001b[0m         \u001b[0mensure\u001b[0m \u001b[0mhomogeneity\u001b[0m\u001b[0;34m.\u001b[0m\u001b[0;34m\u001b[0m\u001b[0;34m\u001b[0m\u001b[0m\n\u001b[1;32m   4173\u001b[0m         \"\"\"\n\u001b[0;32m-> 4174\u001b[0;31m         \u001b[0mvalue\u001b[0m \u001b[0;34m=\u001b[0m \u001b[0mself\u001b[0m\u001b[0;34m.\u001b[0m\u001b[0m_sanitize_column\u001b[0m\u001b[0;34m(\u001b[0m\u001b[0mvalue\u001b[0m\u001b[0;34m)\u001b[0m\u001b[0;34m\u001b[0m\u001b[0;34m\u001b[0m\u001b[0m\n\u001b[0m\u001b[1;32m   4175\u001b[0m \u001b[0;34m\u001b[0m\u001b[0m\n\u001b[1;32m   4176\u001b[0m         if (\n",
            "\u001b[0;32m/usr/local/lib/python3.10/dist-packages/pandas/core/frame.py\u001b[0m in \u001b[0;36m_sanitize_column\u001b[0;34m(self, value)\u001b[0m\n\u001b[1;32m   4913\u001b[0m \u001b[0;34m\u001b[0m\u001b[0m\n\u001b[1;32m   4914\u001b[0m         \u001b[0;32mif\u001b[0m \u001b[0mis_list_like\u001b[0m\u001b[0;34m(\u001b[0m\u001b[0mvalue\u001b[0m\u001b[0;34m)\u001b[0m\u001b[0;34m:\u001b[0m\u001b[0;34m\u001b[0m\u001b[0;34m\u001b[0m\u001b[0m\n\u001b[0;32m-> 4915\u001b[0;31m             \u001b[0mcom\u001b[0m\u001b[0;34m.\u001b[0m\u001b[0mrequire_length_match\u001b[0m\u001b[0;34m(\u001b[0m\u001b[0mvalue\u001b[0m\u001b[0;34m,\u001b[0m \u001b[0mself\u001b[0m\u001b[0;34m.\u001b[0m\u001b[0mindex\u001b[0m\u001b[0;34m)\u001b[0m\u001b[0;34m\u001b[0m\u001b[0;34m\u001b[0m\u001b[0m\n\u001b[0m\u001b[1;32m   4916\u001b[0m         \u001b[0;32mreturn\u001b[0m \u001b[0msanitize_array\u001b[0m\u001b[0;34m(\u001b[0m\u001b[0mvalue\u001b[0m\u001b[0;34m,\u001b[0m \u001b[0mself\u001b[0m\u001b[0;34m.\u001b[0m\u001b[0mindex\u001b[0m\u001b[0;34m,\u001b[0m \u001b[0mcopy\u001b[0m\u001b[0;34m=\u001b[0m\u001b[0;32mTrue\u001b[0m\u001b[0;34m,\u001b[0m \u001b[0mallow_2d\u001b[0m\u001b[0;34m=\u001b[0m\u001b[0;32mTrue\u001b[0m\u001b[0;34m)\u001b[0m\u001b[0;34m\u001b[0m\u001b[0;34m\u001b[0m\u001b[0m\n\u001b[1;32m   4917\u001b[0m \u001b[0;34m\u001b[0m\u001b[0m\n",
            "\u001b[0;32m/usr/local/lib/python3.10/dist-packages/pandas/core/common.py\u001b[0m in \u001b[0;36mrequire_length_match\u001b[0;34m(data, index)\u001b[0m\n\u001b[1;32m    569\u001b[0m     \"\"\"\n\u001b[1;32m    570\u001b[0m     \u001b[0;32mif\u001b[0m \u001b[0mlen\u001b[0m\u001b[0;34m(\u001b[0m\u001b[0mdata\u001b[0m\u001b[0;34m)\u001b[0m \u001b[0;34m!=\u001b[0m \u001b[0mlen\u001b[0m\u001b[0;34m(\u001b[0m\u001b[0mindex\u001b[0m\u001b[0;34m)\u001b[0m\u001b[0;34m:\u001b[0m\u001b[0;34m\u001b[0m\u001b[0;34m\u001b[0m\u001b[0m\n\u001b[0;32m--> 571\u001b[0;31m         raise ValueError(\n\u001b[0m\u001b[1;32m    572\u001b[0m             \u001b[0;34m\"Length of values \"\u001b[0m\u001b[0;34m\u001b[0m\u001b[0;34m\u001b[0m\u001b[0m\n\u001b[1;32m    573\u001b[0m             \u001b[0;34mf\"({len(data)}) \"\u001b[0m\u001b[0;34m\u001b[0m\u001b[0;34m\u001b[0m\u001b[0m\n",
            "\u001b[0;31mValueError\u001b[0m: Length of values (7) does not match length of index (59)"
          ]
        }
      ]
    },
    {
      "cell_type": "markdown",
      "source": [
        "#OLD"
      ],
      "metadata": {
        "id": "mVVnW2vMwlFo"
      }
    },
    {
      "cell_type": "markdown",
      "source": [
        "Извлечем признаки"
      ],
      "metadata": {
        "id": "ESSNiH9d0yiE"
      }
    },
    {
      "cell_type": "code",
      "source": [
        "! pip install fredapi -q\n",
        "from fredapi import Fred"
      ],
      "metadata": {
        "id": "yFHlt4DZ4RYl"
      },
      "execution_count": null,
      "outputs": []
    },
    {
      "cell_type": "code",
      "source": [
        "'''# Это я получил ключик чтобы качать все с фреда автоматом\n",
        "fred = Fred(api_key='4a43ed227995d2bd3d39b3d81ed3c5f4')\n",
        "\n",
        "# Список индикаторов для загрузки\n",
        "indicators = ['USRECD', 'SAHMCURRENT', 'UNRATE', 'NROU', 'T10Y3M', 'T10Y2Y', 'BAA10YM', 'DFF', 'EXPINF2YR', 'TEDRATE', 'TCU', 'SP500']\n",
        "\n",
        "# Скачивание данных по индикаторам и объединение данных в один DataFrame\n",
        "# загрузка ежедневных данных\n",
        "df = pd.concat([fred.get_series(i, observation_start='2022-01-14',observation_end='2023-07-14') for i in indicators], axis=1)\n",
        "\n",
        "# преобразование в месячные данные\n",
        "df = df.resample('D').last()\n",
        "\n",
        "# Переименование столбцов\n",
        "df.columns = indicators'''"
      ],
      "metadata": {
        "colab": {
          "base_uri": "https://localhost:8080/",
          "height": 90
        },
        "id": "5k-AgXVN2bhG",
        "outputId": "4ded4e34-6107-433b-aae1-74206facb5c2"
      },
      "execution_count": null,
      "outputs": [
        {
          "output_type": "execute_result",
          "data": {
            "text/plain": [
              "\"# Это я получил ключик чтобы качать все с фреда автоматом\\nfred = Fred(api_key='4a43ed227995d2bd3d39b3d81ed3c5f4')\\n\\n# Список индикаторов для загрузки\\nindicators = ['USRECD', 'SAHMCURRENT', 'UNRATE', 'NROU', 'T10Y3M', 'T10Y2Y', 'BAA10YM', 'DFF', 'EXPINF2YR', 'TEDRATE', 'TCU', 'SP500']\\n\\n# Скачивание данных по индикаторам и объединение данных в один DataFrame\\n# загрузка ежедневных данных\\ndf = pd.concat([fred.get_series(i, observation_start='2022-01-14',observation_end='2023-07-14') for i in indicators], axis=1)\\n\\n# преобразование в месячные данные\\ndf = df.resample('D').last()\\n\\n# Переименование столбцов\\ndf.columns = indicators\""
            ],
            "application/vnd.google.colaboratory.intrinsic+json": {
              "type": "string"
            }
          },
          "metadata": {},
          "execution_count": 73
        }
      ]
    },
    {
      "cell_type": "code",
      "source": [
        "#df.reset_index(inplace=True)"
      ],
      "metadata": {
        "id": "OQKSq4wn4tEb"
      },
      "execution_count": null,
      "outputs": []
    },
    {
      "cell_type": "code",
      "source": [
        "#df.rename(columns = {'index' : 'Date'}, inplace = True)"
      ],
      "metadata": {
        "id": "Yfk2j9-x47eZ"
      },
      "execution_count": null,
      "outputs": []
    },
    {
      "cell_type": "code",
      "source": [
        "#data = pd.merge(data, df, on='Date')\n",
        "data = pd.merge(data, data_sp, on='Date')"
      ],
      "metadata": {
        "id": "-73S2aYD5i1B"
      },
      "execution_count": null,
      "outputs": []
    },
    {
      "cell_type": "code",
      "source": [
        "data.shape"
      ],
      "metadata": {
        "colab": {
          "base_uri": "https://localhost:8080/"
        },
        "id": "rGEajtGqcjBP",
        "outputId": "7042c514-5538-4a97-c334-39ee5b57cab1"
      },
      "execution_count": null,
      "outputs": [
        {
          "output_type": "execute_result",
          "data": {
            "text/plain": [
              "(374, 2)"
            ]
          },
          "metadata": {},
          "execution_count": 77
        }
      ]
    },
    {
      "cell_type": "code",
      "source": [
        "data.isna().sum()"
      ],
      "metadata": {
        "colab": {
          "base_uri": "https://localhost:8080/"
        },
        "id": "6xPdOawi5nr5",
        "outputId": "8e0eba37-92aa-4b32-8111-56faef932ae1"
      },
      "execution_count": null,
      "outputs": [
        {
          "output_type": "execute_result",
          "data": {
            "text/plain": [
              "Price        0\n",
              "Adj Close    0\n",
              "dtype: int64"
            ]
          },
          "metadata": {},
          "execution_count": 78
        }
      ]
    },
    {
      "cell_type": "code",
      "source": [
        "data.dropna(axis =1, inplace =True)\n",
        "#data = data[['Date','Price', 'USRECD', 'DFF', 'SP500']]"
      ],
      "metadata": {
        "id": "OskrztVP79nR"
      },
      "execution_count": null,
      "outputs": []
    },
    {
      "cell_type": "code",
      "source": [
        "from sklearn.preprocessing import MinMaxScaler\n",
        "from sklearn.model_selection import train_test_split"
      ],
      "metadata": {
        "id": "jyA2pCL5193M"
      },
      "execution_count": null,
      "outputs": []
    },
    {
      "cell_type": "code",
      "source": [
        "#data.set_index('Date', inplace = True)"
      ],
      "metadata": {
        "id": "wHz7Rt_J8QkZ"
      },
      "execution_count": null,
      "outputs": []
    },
    {
      "cell_type": "code",
      "source": [
        "data"
      ],
      "metadata": {
        "colab": {
          "base_uri": "https://localhost:8080/",
          "height": 455
        },
        "id": "bTNuWMT7pg9V",
        "outputId": "9a0642a9-2237-4ea8-ae4d-19e6fc5eab8e"
      },
      "execution_count": null,
      "outputs": [
        {
          "output_type": "execute_result",
          "data": {
            "text/plain": [
              "              Price    Adj Close\n",
              "Date                            \n",
              "2022-01-14  43073.3  4662.850098\n",
              "2022-01-18  42364.6  4577.109863\n",
              "2022-01-19  41677.8  4532.759766\n",
              "2022-01-20  40715.9  4482.729980\n",
              "2022-01-21  36475.5  4397.939941\n",
              "...             ...          ...\n",
              "2023-07-07  30346.4  4398.950195\n",
              "2023-07-10  30346.4  4409.529785\n",
              "2023-07-11  30346.4  4439.259766\n",
              "2023-07-12  30346.4  4472.160156\n",
              "2023-07-13  30346.4  4510.040039\n",
              "\n",
              "[374 rows x 2 columns]"
            ],
            "text/html": [
              "\n",
              "\n",
              "  <div id=\"df-4f6eb838-4d4c-4125-8cfc-540f270906fa\">\n",
              "    <div class=\"colab-df-container\">\n",
              "      <div>\n",
              "<style scoped>\n",
              "    .dataframe tbody tr th:only-of-type {\n",
              "        vertical-align: middle;\n",
              "    }\n",
              "\n",
              "    .dataframe tbody tr th {\n",
              "        vertical-align: top;\n",
              "    }\n",
              "\n",
              "    .dataframe thead th {\n",
              "        text-align: right;\n",
              "    }\n",
              "</style>\n",
              "<table border=\"1\" class=\"dataframe\">\n",
              "  <thead>\n",
              "    <tr style=\"text-align: right;\">\n",
              "      <th></th>\n",
              "      <th>Price</th>\n",
              "      <th>Adj Close</th>\n",
              "    </tr>\n",
              "    <tr>\n",
              "      <th>Date</th>\n",
              "      <th></th>\n",
              "      <th></th>\n",
              "    </tr>\n",
              "  </thead>\n",
              "  <tbody>\n",
              "    <tr>\n",
              "      <th>2022-01-14</th>\n",
              "      <td>43073.3</td>\n",
              "      <td>4662.850098</td>\n",
              "    </tr>\n",
              "    <tr>\n",
              "      <th>2022-01-18</th>\n",
              "      <td>42364.6</td>\n",
              "      <td>4577.109863</td>\n",
              "    </tr>\n",
              "    <tr>\n",
              "      <th>2022-01-19</th>\n",
              "      <td>41677.8</td>\n",
              "      <td>4532.759766</td>\n",
              "    </tr>\n",
              "    <tr>\n",
              "      <th>2022-01-20</th>\n",
              "      <td>40715.9</td>\n",
              "      <td>4482.729980</td>\n",
              "    </tr>\n",
              "    <tr>\n",
              "      <th>2022-01-21</th>\n",
              "      <td>36475.5</td>\n",
              "      <td>4397.939941</td>\n",
              "    </tr>\n",
              "    <tr>\n",
              "      <th>...</th>\n",
              "      <td>...</td>\n",
              "      <td>...</td>\n",
              "    </tr>\n",
              "    <tr>\n",
              "      <th>2023-07-07</th>\n",
              "      <td>30346.4</td>\n",
              "      <td>4398.950195</td>\n",
              "    </tr>\n",
              "    <tr>\n",
              "      <th>2023-07-10</th>\n",
              "      <td>30346.4</td>\n",
              "      <td>4409.529785</td>\n",
              "    </tr>\n",
              "    <tr>\n",
              "      <th>2023-07-11</th>\n",
              "      <td>30346.4</td>\n",
              "      <td>4439.259766</td>\n",
              "    </tr>\n",
              "    <tr>\n",
              "      <th>2023-07-12</th>\n",
              "      <td>30346.4</td>\n",
              "      <td>4472.160156</td>\n",
              "    </tr>\n",
              "    <tr>\n",
              "      <th>2023-07-13</th>\n",
              "      <td>30346.4</td>\n",
              "      <td>4510.040039</td>\n",
              "    </tr>\n",
              "  </tbody>\n",
              "</table>\n",
              "<p>374 rows × 2 columns</p>\n",
              "</div>\n",
              "      <button class=\"colab-df-convert\" onclick=\"convertToInteractive('df-4f6eb838-4d4c-4125-8cfc-540f270906fa')\"\n",
              "              title=\"Convert this dataframe to an interactive table.\"\n",
              "              style=\"display:none;\">\n",
              "\n",
              "  <svg xmlns=\"http://www.w3.org/2000/svg\" height=\"24px\"viewBox=\"0 0 24 24\"\n",
              "       width=\"24px\">\n",
              "    <path d=\"M0 0h24v24H0V0z\" fill=\"none\"/>\n",
              "    <path d=\"M18.56 5.44l.94 2.06.94-2.06 2.06-.94-2.06-.94-.94-2.06-.94 2.06-2.06.94zm-11 1L8.5 8.5l.94-2.06 2.06-.94-2.06-.94L8.5 2.5l-.94 2.06-2.06.94zm10 10l.94 2.06.94-2.06 2.06-.94-2.06-.94-.94-2.06-.94 2.06-2.06.94z\"/><path d=\"M17.41 7.96l-1.37-1.37c-.4-.4-.92-.59-1.43-.59-.52 0-1.04.2-1.43.59L10.3 9.45l-7.72 7.72c-.78.78-.78 2.05 0 2.83L4 21.41c.39.39.9.59 1.41.59.51 0 1.02-.2 1.41-.59l7.78-7.78 2.81-2.81c.8-.78.8-2.07 0-2.86zM5.41 20L4 18.59l7.72-7.72 1.47 1.35L5.41 20z\"/>\n",
              "  </svg>\n",
              "      </button>\n",
              "\n",
              "\n",
              "\n",
              "    <div id=\"df-2f93e516-debe-4128-8bdf-ffb3a727592c\">\n",
              "      <button class=\"colab-df-quickchart\" onclick=\"quickchart('df-2f93e516-debe-4128-8bdf-ffb3a727592c')\"\n",
              "              title=\"Suggest charts.\"\n",
              "              style=\"display:none;\">\n",
              "\n",
              "<svg xmlns=\"http://www.w3.org/2000/svg\" height=\"24px\"viewBox=\"0 0 24 24\"\n",
              "     width=\"24px\">\n",
              "    <g>\n",
              "        <path d=\"M19 3H5c-1.1 0-2 .9-2 2v14c0 1.1.9 2 2 2h14c1.1 0 2-.9 2-2V5c0-1.1-.9-2-2-2zM9 17H7v-7h2v7zm4 0h-2V7h2v10zm4 0h-2v-4h2v4z\"/>\n",
              "    </g>\n",
              "</svg>\n",
              "      </button>\n",
              "    </div>\n",
              "\n",
              "<style>\n",
              "  .colab-df-quickchart {\n",
              "    background-color: #E8F0FE;\n",
              "    border: none;\n",
              "    border-radius: 50%;\n",
              "    cursor: pointer;\n",
              "    display: none;\n",
              "    fill: #1967D2;\n",
              "    height: 32px;\n",
              "    padding: 0 0 0 0;\n",
              "    width: 32px;\n",
              "  }\n",
              "\n",
              "  .colab-df-quickchart:hover {\n",
              "    background-color: #E2EBFA;\n",
              "    box-shadow: 0px 1px 2px rgba(60, 64, 67, 0.3), 0px 1px 3px 1px rgba(60, 64, 67, 0.15);\n",
              "    fill: #174EA6;\n",
              "  }\n",
              "\n",
              "  [theme=dark] .colab-df-quickchart {\n",
              "    background-color: #3B4455;\n",
              "    fill: #D2E3FC;\n",
              "  }\n",
              "\n",
              "  [theme=dark] .colab-df-quickchart:hover {\n",
              "    background-color: #434B5C;\n",
              "    box-shadow: 0px 1px 3px 1px rgba(0, 0, 0, 0.15);\n",
              "    filter: drop-shadow(0px 1px 2px rgba(0, 0, 0, 0.3));\n",
              "    fill: #FFFFFF;\n",
              "  }\n",
              "</style>\n",
              "\n",
              "    <script>\n",
              "      async function quickchart(key) {\n",
              "        const containerElement = document.querySelector('#' + key);\n",
              "        const charts = await google.colab.kernel.invokeFunction(\n",
              "            'suggestCharts', [key], {});\n",
              "      }\n",
              "    </script>\n",
              "\n",
              "      <script>\n",
              "\n",
              "function displayQuickchartButton(domScope) {\n",
              "  let quickchartButtonEl =\n",
              "    domScope.querySelector('#df-2f93e516-debe-4128-8bdf-ffb3a727592c button.colab-df-quickchart');\n",
              "  quickchartButtonEl.style.display =\n",
              "    google.colab.kernel.accessAllowed ? 'block' : 'none';\n",
              "}\n",
              "\n",
              "        displayQuickchartButton(document);\n",
              "      </script>\n",
              "      <style>\n",
              "    .colab-df-container {\n",
              "      display:flex;\n",
              "      flex-wrap:wrap;\n",
              "      gap: 12px;\n",
              "    }\n",
              "\n",
              "    .colab-df-convert {\n",
              "      background-color: #E8F0FE;\n",
              "      border: none;\n",
              "      border-radius: 50%;\n",
              "      cursor: pointer;\n",
              "      display: none;\n",
              "      fill: #1967D2;\n",
              "      height: 32px;\n",
              "      padding: 0 0 0 0;\n",
              "      width: 32px;\n",
              "    }\n",
              "\n",
              "    .colab-df-convert:hover {\n",
              "      background-color: #E2EBFA;\n",
              "      box-shadow: 0px 1px 2px rgba(60, 64, 67, 0.3), 0px 1px 3px 1px rgba(60, 64, 67, 0.15);\n",
              "      fill: #174EA6;\n",
              "    }\n",
              "\n",
              "    [theme=dark] .colab-df-convert {\n",
              "      background-color: #3B4455;\n",
              "      fill: #D2E3FC;\n",
              "    }\n",
              "\n",
              "    [theme=dark] .colab-df-convert:hover {\n",
              "      background-color: #434B5C;\n",
              "      box-shadow: 0px 1px 3px 1px rgba(0, 0, 0, 0.15);\n",
              "      filter: drop-shadow(0px 1px 2px rgba(0, 0, 0, 0.3));\n",
              "      fill: #FFFFFF;\n",
              "    }\n",
              "  </style>\n",
              "\n",
              "      <script>\n",
              "        const buttonEl =\n",
              "          document.querySelector('#df-4f6eb838-4d4c-4125-8cfc-540f270906fa button.colab-df-convert');\n",
              "        buttonEl.style.display =\n",
              "          google.colab.kernel.accessAllowed ? 'block' : 'none';\n",
              "\n",
              "        async function convertToInteractive(key) {\n",
              "          const element = document.querySelector('#df-4f6eb838-4d4c-4125-8cfc-540f270906fa');\n",
              "          const dataTable =\n",
              "            await google.colab.kernel.invokeFunction('convertToInteractive',\n",
              "                                                     [key], {});\n",
              "          if (!dataTable) return;\n",
              "\n",
              "          const docLinkHtml = 'Like what you see? Visit the ' +\n",
              "            '<a target=\"_blank\" href=https://colab.research.google.com/notebooks/data_table.ipynb>data table notebook</a>'\n",
              "            + ' to learn more about interactive tables.';\n",
              "          element.innerHTML = '';\n",
              "          dataTable['output_type'] = 'display_data';\n",
              "          await google.colab.output.renderOutput(dataTable, element);\n",
              "          const docLink = document.createElement('div');\n",
              "          docLink.innerHTML = docLinkHtml;\n",
              "          element.appendChild(docLink);\n",
              "        }\n",
              "      </script>\n",
              "    </div>\n",
              "  </div>\n"
            ]
          },
          "metadata": {},
          "execution_count": 82
        }
      ]
    },
    {
      "cell_type": "markdown",
      "source": [
        "Обучим линейную регрессию (подберем размер теста так, чтобы в него попали ровно те 7 дней, для которых мы делаем прогноз)"
      ],
      "metadata": {
        "id": "8Vbk6Pg600mn"
      }
    },
    {
      "cell_type": "code",
      "source": [
        "!pip install catboost -q\n",
        "from catboost import CatBoostRegressor"
      ],
      "metadata": {
        "id": "EDNkieuK2Qoa",
        "colab": {
          "base_uri": "https://localhost:8080/"
        },
        "outputId": "1e16922c-f583-4d3f-d869-2cbc40ab33b5"
      },
      "execution_count": null,
      "outputs": [
        {
          "output_type": "stream",
          "name": "stdout",
          "text": [
            "\u001b[2K     \u001b[90m━━━━━━━━━━━━━━━━━━━━━━━━━━━━━━━━━━━━━━━━\u001b[0m \u001b[32m98.6/98.6 MB\u001b[0m \u001b[31m3.9 MB/s\u001b[0m eta \u001b[36m0:00:00\u001b[0m\n",
            "\u001b[?25h"
          ]
        }
      ]
    },
    {
      "cell_type": "code",
      "source": [
        "!pip install xgboost -q\n",
        "import xgboost as xg"
      ],
      "metadata": {
        "id": "3ycv_kUzdmI6"
      },
      "execution_count": null,
      "outputs": []
    },
    {
      "cell_type": "code",
      "source": [
        "from sklearn.model_selection import GridSearchCV"
      ],
      "metadata": {
        "id": "qPGX3sOod1Vs"
      },
      "execution_count": null,
      "outputs": []
    },
    {
      "cell_type": "code",
      "source": [
        "xgb_r = xg.XGBRegressor(learning_rate = 0.1, n_estimators = 200, seed = 25)\n",
        "\n",
        "xgb_r.fit(X_train, y_train)\n",
        "\n",
        "y_pred = xgb_r.predict(X_test)\n",
        "\n",
        "rmse= MSE(y_test,y_pred, squared=False)\n",
        "print(f\"MSE: {rmse.round(3)}\")"
      ],
      "metadata": {
        "colab": {
          "base_uri": "https://localhost:8080/"
        },
        "id": "OmmR0jfPd7Wf",
        "outputId": "d944c61c-290f-402d-d585-ca4d563578b3"
      },
      "execution_count": null,
      "outputs": [
        {
          "output_type": "stream",
          "name": "stdout",
          "text": [
            "MSE: 17.592\n"
          ]
        }
      ]
    },
    {
      "cell_type": "code",
      "source": [
        "xgb_r_parameters = {'n_estimators': [100, 200],\n",
        "                'seed': [25, 50, 100, 150],\n",
        "                'learning_rate': [0.01, 0.1, 0.5]\n",
        "                }\n",
        "\n",
        "xgb_r_v2 = GridSearchCV(xgb_r, xgb_r_parameters, cv=10, n_jobs=-1)\n",
        "\n",
        "\n",
        "xgb_r_v2.fit(X_train, y_train)\n",
        "\n",
        "print('Best results with Parameters', xgb_r_v2.best_params_)\n",
        "\n",
        "y_pred = xgb_r_v2.best_estimator_.predict(X_val)\n",
        "\n",
        "\n",
        "rmse= MSE(y_val,y_pred, squared=False)\n",
        "print(f\"MSE: {rmse.round(3)}\")"
      ],
      "metadata": {
        "colab": {
          "base_uri": "https://localhost:8080/"
        },
        "id": "JbbaZhFHdtb1",
        "outputId": "02f6d03e-a5b0-47c0-ddae-4784ba429f9b"
      },
      "execution_count": null,
      "outputs": [
        {
          "output_type": "stream",
          "name": "stdout",
          "text": [
            "Best results with Parameters {'learning_rate': 0.1, 'n_estimators': 200, 'seed': 25}\n",
            "MSE: 935.05\n"
          ]
        }
      ]
    },
    {
      "cell_type": "code",
      "source": [
        "preds = xgb_r_v2.best_estimator_.predict(X_test)"
      ],
      "metadata": {
        "id": "sMy0X1J3lwuw"
      },
      "execution_count": null,
      "outputs": []
    },
    {
      "cell_type": "code",
      "source": [
        "cb = CatBoostRegressor(n_estimators=300)\n",
        "cb.fit(X_train, y_train)\n",
        "preds = cb.predict(X_test)\n",
        "\n",
        "plt.figure(figsize=(10, 5))\n",
        "plt.plot(preds, \"r\", label=\"prediction\")\n",
        "plt.plot(y_test.values, label=\"actual\")\n",
        "plt.grid(True)\n",
        "plt.legend(loc=\"best\")\n",
        "plt.title(f\"Linear regression\\n Mean absolute error {mean_absolute_error(preds, y_test)} degrees\");"
      ],
      "metadata": {
        "colab": {
          "base_uri": "https://localhost:8080/",
          "height": 1000
        },
        "id": "4VxPJeZP2MMM",
        "outputId": "992810c7-d051-4e7f-a35e-a141400505cb"
      },
      "execution_count": null,
      "outputs": [
        {
          "output_type": "stream",
          "name": "stdout",
          "text": [
            "Learning rate set to 0.08764\n",
            "0:\tlearn: 8005.8207784\ttotal: 50.9ms\tremaining: 15.2s\n",
            "1:\tlearn: 7454.9716987\ttotal: 54.3ms\tremaining: 8.09s\n",
            "2:\tlearn: 6957.4143422\ttotal: 58ms\tremaining: 5.74s\n",
            "3:\tlearn: 6480.8040653\ttotal: 61.6ms\tremaining: 4.55s\n",
            "4:\tlearn: 6042.2890234\ttotal: 67.8ms\tremaining: 4s\n",
            "5:\tlearn: 5661.7699078\ttotal: 72.4ms\tremaining: 3.55s\n",
            "6:\tlearn: 5290.5203487\ttotal: 79.5ms\tremaining: 3.33s\n",
            "7:\tlearn: 4945.3977096\ttotal: 83.1ms\tremaining: 3.03s\n",
            "8:\tlearn: 4651.9998541\ttotal: 87.1ms\tremaining: 2.82s\n",
            "9:\tlearn: 4355.3194818\ttotal: 91.2ms\tremaining: 2.65s\n",
            "10:\tlearn: 4102.4285670\ttotal: 96.7ms\tremaining: 2.54s\n",
            "11:\tlearn: 3868.6194516\ttotal: 100ms\tremaining: 2.4s\n",
            "12:\tlearn: 3646.0551166\ttotal: 104ms\tremaining: 2.29s\n",
            "13:\tlearn: 3444.2387734\ttotal: 108ms\tremaining: 2.2s\n",
            "14:\tlearn: 3260.5517119\ttotal: 112ms\tremaining: 2.12s\n",
            "15:\tlearn: 3107.4073126\ttotal: 115ms\tremaining: 2.04s\n",
            "16:\tlearn: 2958.3041730\ttotal: 119ms\tremaining: 1.97s\n",
            "17:\tlearn: 2827.5688171\ttotal: 122ms\tremaining: 1.91s\n",
            "18:\tlearn: 2708.8261204\ttotal: 126ms\tremaining: 1.86s\n",
            "19:\tlearn: 2603.5515877\ttotal: 129ms\tremaining: 1.81s\n",
            "20:\tlearn: 2486.6911819\ttotal: 133ms\tremaining: 1.76s\n",
            "21:\tlearn: 2379.1852753\ttotal: 136ms\tremaining: 1.72s\n",
            "22:\tlearn: 2290.8848554\ttotal: 140ms\tremaining: 1.69s\n",
            "23:\tlearn: 2212.6778679\ttotal: 143ms\tremaining: 1.65s\n",
            "24:\tlearn: 2130.1150715\ttotal: 152ms\tremaining: 1.67s\n",
            "25:\tlearn: 2070.5350202\ttotal: 156ms\tremaining: 1.64s\n",
            "26:\tlearn: 2005.3945374\ttotal: 159ms\tremaining: 1.61s\n",
            "27:\tlearn: 1947.1701443\ttotal: 163ms\tremaining: 1.58s\n",
            "28:\tlearn: 1899.3687839\ttotal: 167ms\tremaining: 1.56s\n",
            "29:\tlearn: 1854.0066202\ttotal: 170ms\tremaining: 1.53s\n",
            "30:\tlearn: 1797.4910222\ttotal: 174ms\tremaining: 1.51s\n",
            "31:\tlearn: 1757.9583291\ttotal: 178ms\tremaining: 1.49s\n",
            "32:\tlearn: 1706.0215550\ttotal: 181ms\tremaining: 1.46s\n",
            "33:\tlearn: 1674.5108314\ttotal: 185ms\tremaining: 1.45s\n",
            "34:\tlearn: 1623.7855679\ttotal: 188ms\tremaining: 1.43s\n",
            "35:\tlearn: 1588.6312318\ttotal: 193ms\tremaining: 1.42s\n",
            "36:\tlearn: 1554.8807159\ttotal: 198ms\tremaining: 1.41s\n",
            "37:\tlearn: 1515.7999364\ttotal: 202ms\tremaining: 1.39s\n",
            "38:\tlearn: 1480.2172318\ttotal: 205ms\tremaining: 1.37s\n",
            "39:\tlearn: 1449.6262681\ttotal: 208ms\tremaining: 1.35s\n",
            "40:\tlearn: 1425.4477213\ttotal: 213ms\tremaining: 1.35s\n",
            "41:\tlearn: 1397.3628282\ttotal: 217ms\tremaining: 1.33s\n",
            "42:\tlearn: 1370.6033570\ttotal: 221ms\tremaining: 1.32s\n",
            "43:\tlearn: 1347.2115466\ttotal: 228ms\tremaining: 1.33s\n",
            "44:\tlearn: 1326.7273761\ttotal: 232ms\tremaining: 1.31s\n",
            "45:\tlearn: 1305.2598820\ttotal: 236ms\tremaining: 1.3s\n",
            "46:\tlearn: 1284.8101853\ttotal: 239ms\tremaining: 1.29s\n",
            "47:\tlearn: 1264.5820989\ttotal: 243ms\tremaining: 1.27s\n",
            "48:\tlearn: 1244.4040721\ttotal: 247ms\tremaining: 1.26s\n",
            "49:\tlearn: 1229.5293169\ttotal: 250ms\tremaining: 1.25s\n",
            "50:\tlearn: 1207.5026322\ttotal: 256ms\tremaining: 1.25s\n",
            "51:\tlearn: 1191.0169915\ttotal: 260ms\tremaining: 1.24s\n",
            "52:\tlearn: 1178.4211049\ttotal: 263ms\tremaining: 1.23s\n",
            "53:\tlearn: 1165.9210061\ttotal: 267ms\tremaining: 1.21s\n",
            "54:\tlearn: 1155.3620597\ttotal: 270ms\tremaining: 1.2s\n",
            "55:\tlearn: 1142.1557594\ttotal: 274ms\tremaining: 1.19s\n",
            "56:\tlearn: 1127.9694699\ttotal: 278ms\tremaining: 1.18s\n",
            "57:\tlearn: 1117.0426503\ttotal: 281ms\tremaining: 1.17s\n",
            "58:\tlearn: 1103.2335472\ttotal: 285ms\tremaining: 1.16s\n",
            "59:\tlearn: 1087.4829880\ttotal: 288ms\tremaining: 1.15s\n",
            "60:\tlearn: 1075.3686833\ttotal: 292ms\tremaining: 1.14s\n",
            "61:\tlearn: 1067.3169419\ttotal: 296ms\tremaining: 1.13s\n",
            "62:\tlearn: 1054.4328861\ttotal: 299ms\tremaining: 1.13s\n",
            "63:\tlearn: 1041.2774994\ttotal: 303ms\tremaining: 1.12s\n",
            "64:\tlearn: 1033.0411274\ttotal: 307ms\tremaining: 1.11s\n",
            "65:\tlearn: 1022.4554642\ttotal: 310ms\tremaining: 1.1s\n",
            "66:\tlearn: 1013.7216963\ttotal: 314ms\tremaining: 1.09s\n",
            "67:\tlearn: 1004.6680029\ttotal: 318ms\tremaining: 1.08s\n",
            "68:\tlearn: 993.7639368\ttotal: 322ms\tremaining: 1.08s\n",
            "69:\tlearn: 983.5248893\ttotal: 325ms\tremaining: 1.07s\n",
            "70:\tlearn: 976.2220244\ttotal: 329ms\tremaining: 1.06s\n",
            "71:\tlearn: 966.7323030\ttotal: 333ms\tremaining: 1.05s\n",
            "72:\tlearn: 960.0434320\ttotal: 336ms\tremaining: 1.04s\n",
            "73:\tlearn: 952.7474291\ttotal: 340ms\tremaining: 1.04s\n",
            "74:\tlearn: 946.2282142\ttotal: 346ms\tremaining: 1.04s\n",
            "75:\tlearn: 936.1243551\ttotal: 351ms\tremaining: 1.03s\n",
            "76:\tlearn: 930.0020360\ttotal: 354ms\tremaining: 1.03s\n",
            "77:\tlearn: 916.0413386\ttotal: 358ms\tremaining: 1.02s\n",
            "78:\tlearn: 903.2204749\ttotal: 362ms\tremaining: 1.01s\n",
            "79:\tlearn: 895.1218188\ttotal: 366ms\tremaining: 1.01s\n",
            "80:\tlearn: 891.0586541\ttotal: 370ms\tremaining: 999ms\n",
            "81:\tlearn: 878.4700843\ttotal: 373ms\tremaining: 993ms\n",
            "82:\tlearn: 867.6446588\ttotal: 377ms\tremaining: 986ms\n",
            "83:\tlearn: 855.4310458\ttotal: 381ms\tremaining: 979ms\n",
            "84:\tlearn: 843.7792472\ttotal: 384ms\tremaining: 972ms\n",
            "85:\tlearn: 842.3119327\ttotal: 391ms\tremaining: 973ms\n",
            "86:\tlearn: 839.2736464\ttotal: 395ms\tremaining: 966ms\n",
            "87:\tlearn: 830.2204971\ttotal: 398ms\tremaining: 959ms\n",
            "88:\tlearn: 823.3061370\ttotal: 402ms\tremaining: 953ms\n",
            "89:\tlearn: 813.5580122\ttotal: 406ms\tremaining: 946ms\n",
            "90:\tlearn: 804.3326103\ttotal: 409ms\tremaining: 940ms\n",
            "91:\tlearn: 801.7238386\ttotal: 413ms\tremaining: 933ms\n",
            "92:\tlearn: 794.8005258\ttotal: 417ms\tremaining: 927ms\n",
            "93:\tlearn: 792.3552279\ttotal: 420ms\tremaining: 920ms\n",
            "94:\tlearn: 784.7992190\ttotal: 424ms\tremaining: 915ms\n",
            "95:\tlearn: 780.7214530\ttotal: 427ms\tremaining: 908ms\n",
            "96:\tlearn: 779.4982680\ttotal: 431ms\tremaining: 902ms\n",
            "97:\tlearn: 768.0664083\ttotal: 435ms\tremaining: 896ms\n",
            "98:\tlearn: 763.4149396\ttotal: 438ms\tremaining: 889ms\n",
            "99:\tlearn: 758.2276085\ttotal: 442ms\tremaining: 883ms\n",
            "100:\tlearn: 756.7701995\ttotal: 445ms\tremaining: 877ms\n",
            "101:\tlearn: 749.3852258\ttotal: 449ms\tremaining: 872ms\n",
            "102:\tlearn: 748.0576904\ttotal: 452ms\tremaining: 865ms\n",
            "103:\tlearn: 743.2914118\ttotal: 458ms\tremaining: 863ms\n",
            "104:\tlearn: 734.1999562\ttotal: 462ms\tremaining: 857ms\n",
            "105:\tlearn: 727.5620449\ttotal: 465ms\tremaining: 851ms\n",
            "106:\tlearn: 723.2144205\ttotal: 469ms\tremaining: 846ms\n",
            "107:\tlearn: 716.3730698\ttotal: 473ms\tremaining: 841ms\n",
            "108:\tlearn: 708.7583062\ttotal: 477ms\tremaining: 836ms\n",
            "109:\tlearn: 701.5694784\ttotal: 481ms\tremaining: 831ms\n",
            "110:\tlearn: 700.2345624\ttotal: 484ms\tremaining: 825ms\n",
            "111:\tlearn: 695.3661204\ttotal: 488ms\tremaining: 819ms\n",
            "112:\tlearn: 693.9814483\ttotal: 492ms\tremaining: 814ms\n",
            "113:\tlearn: 691.3334277\ttotal: 495ms\tremaining: 808ms\n",
            "114:\tlearn: 690.5079503\ttotal: 499ms\tremaining: 803ms\n",
            "115:\tlearn: 684.2969675\ttotal: 503ms\tremaining: 798ms\n",
            "116:\tlearn: 683.2373092\ttotal: 507ms\tremaining: 792ms\n",
            "117:\tlearn: 679.9322105\ttotal: 510ms\tremaining: 787ms\n",
            "118:\tlearn: 673.7478046\ttotal: 514ms\tremaining: 782ms\n",
            "119:\tlearn: 668.5123239\ttotal: 517ms\tremaining: 776ms\n",
            "120:\tlearn: 663.6053647\ttotal: 521ms\tremaining: 771ms\n",
            "121:\tlearn: 659.6533940\ttotal: 525ms\tremaining: 766ms\n",
            "122:\tlearn: 652.1736452\ttotal: 529ms\tremaining: 761ms\n",
            "123:\tlearn: 648.4275186\ttotal: 532ms\tremaining: 756ms\n",
            "124:\tlearn: 647.7404154\ttotal: 536ms\tremaining: 750ms\n",
            "125:\tlearn: 641.4819252\ttotal: 544ms\tremaining: 751ms\n",
            "126:\tlearn: 638.2267132\ttotal: 548ms\tremaining: 747ms\n",
            "127:\tlearn: 626.1541459\ttotal: 552ms\tremaining: 742ms\n",
            "128:\tlearn: 625.5420785\ttotal: 555ms\tremaining: 736ms\n",
            "129:\tlearn: 623.7506382\ttotal: 559ms\tremaining: 731ms\n",
            "130:\tlearn: 611.2205000\ttotal: 564ms\tremaining: 727ms\n",
            "131:\tlearn: 608.6614258\ttotal: 568ms\tremaining: 722ms\n",
            "132:\tlearn: 604.2603067\ttotal: 571ms\tremaining: 717ms\n",
            "133:\tlearn: 596.6433647\ttotal: 575ms\tremaining: 712ms\n",
            "134:\tlearn: 591.3654751\ttotal: 579ms\tremaining: 707ms\n",
            "135:\tlearn: 587.6373336\ttotal: 583ms\tremaining: 703ms\n",
            "136:\tlearn: 586.7022215\ttotal: 590ms\tremaining: 702ms\n",
            "137:\tlearn: 580.5388783\ttotal: 594ms\tremaining: 697ms\n",
            "138:\tlearn: 573.2834931\ttotal: 598ms\tremaining: 692ms\n",
            "139:\tlearn: 563.3863908\ttotal: 601ms\tremaining: 687ms\n",
            "140:\tlearn: 562.2098358\ttotal: 605ms\tremaining: 682ms\n",
            "141:\tlearn: 557.9069282\ttotal: 611ms\tremaining: 680ms\n",
            "142:\tlearn: 554.3789556\ttotal: 618ms\tremaining: 679ms\n",
            "143:\tlearn: 552.1792391\ttotal: 622ms\tremaining: 674ms\n",
            "144:\tlearn: 543.9043042\ttotal: 626ms\tremaining: 669ms\n",
            "145:\tlearn: 540.6391538\ttotal: 629ms\tremaining: 664ms\n",
            "146:\tlearn: 537.4370600\ttotal: 633ms\tremaining: 659ms\n",
            "147:\tlearn: 533.9385169\ttotal: 637ms\tremaining: 654ms\n",
            "148:\tlearn: 531.5882633\ttotal: 641ms\tremaining: 649ms\n",
            "149:\tlearn: 530.1349274\ttotal: 644ms\tremaining: 644ms\n",
            "150:\tlearn: 527.3714953\ttotal: 648ms\tremaining: 639ms\n",
            "151:\tlearn: 522.5659973\ttotal: 652ms\tremaining: 634ms\n",
            "152:\tlearn: 522.2497452\ttotal: 655ms\tremaining: 629ms\n",
            "153:\tlearn: 519.3104468\ttotal: 659ms\tremaining: 624ms\n",
            "154:\tlearn: 515.5624898\ttotal: 662ms\tremaining: 620ms\n",
            "155:\tlearn: 504.9035186\ttotal: 666ms\tremaining: 615ms\n",
            "156:\tlearn: 503.4081668\ttotal: 670ms\tremaining: 610ms\n",
            "157:\tlearn: 500.1532053\ttotal: 673ms\tremaining: 605ms\n",
            "158:\tlearn: 499.6148537\ttotal: 677ms\tremaining: 600ms\n",
            "159:\tlearn: 494.7787280\ttotal: 680ms\tremaining: 595ms\n",
            "160:\tlearn: 491.8193866\ttotal: 684ms\tremaining: 590ms\n",
            "161:\tlearn: 487.2121649\ttotal: 688ms\tremaining: 586ms\n",
            "162:\tlearn: 484.7788477\ttotal: 691ms\tremaining: 581ms\n",
            "163:\tlearn: 481.5215543\ttotal: 695ms\tremaining: 577ms\n",
            "164:\tlearn: 473.7691749\ttotal: 699ms\tremaining: 572ms\n",
            "165:\tlearn: 473.0629609\ttotal: 702ms\tremaining: 567ms\n",
            "166:\tlearn: 471.0462161\ttotal: 706ms\tremaining: 562ms\n",
            "167:\tlearn: 465.7252610\ttotal: 710ms\tremaining: 558ms\n",
            "168:\tlearn: 460.7775917\ttotal: 713ms\tremaining: 553ms\n",
            "169:\tlearn: 455.2875167\ttotal: 717ms\tremaining: 548ms\n",
            "170:\tlearn: 451.8990894\ttotal: 721ms\tremaining: 544ms\n",
            "171:\tlearn: 449.5731372\ttotal: 726ms\tremaining: 540ms\n",
            "172:\tlearn: 443.6934674\ttotal: 733ms\tremaining: 538ms\n",
            "173:\tlearn: 440.1802547\ttotal: 739ms\tremaining: 535ms\n",
            "174:\tlearn: 433.8521895\ttotal: 743ms\tremaining: 531ms\n",
            "175:\tlearn: 431.1775859\ttotal: 747ms\tremaining: 526ms\n",
            "176:\tlearn: 426.3126248\ttotal: 750ms\tremaining: 521ms\n",
            "177:\tlearn: 424.9493238\ttotal: 754ms\tremaining: 517ms\n",
            "178:\tlearn: 423.9048783\ttotal: 757ms\tremaining: 512ms\n",
            "179:\tlearn: 422.7271621\ttotal: 761ms\tremaining: 507ms\n",
            "180:\tlearn: 420.4496942\ttotal: 765ms\tremaining: 503ms\n",
            "181:\tlearn: 419.0697885\ttotal: 768ms\tremaining: 498ms\n",
            "182:\tlearn: 418.7768432\ttotal: 772ms\tremaining: 493ms\n",
            "183:\tlearn: 416.1133110\ttotal: 775ms\tremaining: 489ms\n",
            "184:\tlearn: 412.2816394\ttotal: 779ms\tremaining: 484ms\n",
            "185:\tlearn: 405.3781584\ttotal: 786ms\tremaining: 482ms\n",
            "186:\tlearn: 403.2116382\ttotal: 790ms\tremaining: 477ms\n",
            "187:\tlearn: 401.1929621\ttotal: 794ms\tremaining: 473ms\n",
            "188:\tlearn: 399.8420672\ttotal: 797ms\tremaining: 468ms\n",
            "189:\tlearn: 399.2162470\ttotal: 801ms\tremaining: 464ms\n",
            "190:\tlearn: 396.6678050\ttotal: 805ms\tremaining: 459ms\n",
            "191:\tlearn: 392.0948839\ttotal: 809ms\tremaining: 455ms\n",
            "192:\tlearn: 386.8929129\ttotal: 812ms\tremaining: 450ms\n",
            "193:\tlearn: 386.0832127\ttotal: 816ms\tremaining: 446ms\n",
            "194:\tlearn: 381.0229982\ttotal: 820ms\tremaining: 441ms\n",
            "195:\tlearn: 379.0783195\ttotal: 824ms\tremaining: 437ms\n",
            "196:\tlearn: 377.9256111\ttotal: 828ms\tremaining: 433ms\n",
            "197:\tlearn: 375.6425140\ttotal: 832ms\tremaining: 428ms\n",
            "198:\tlearn: 369.1199272\ttotal: 835ms\tremaining: 424ms\n",
            "199:\tlearn: 366.9164424\ttotal: 840ms\tremaining: 420ms\n",
            "200:\tlearn: 362.3315323\ttotal: 844ms\tremaining: 416ms\n",
            "201:\tlearn: 360.3045157\ttotal: 848ms\tremaining: 411ms\n",
            "202:\tlearn: 356.2498711\ttotal: 852ms\tremaining: 407ms\n",
            "203:\tlearn: 350.6259473\ttotal: 855ms\tremaining: 402ms\n",
            "204:\tlearn: 350.0305906\ttotal: 859ms\tremaining: 398ms\n",
            "205:\tlearn: 345.4576552\ttotal: 862ms\tremaining: 393ms\n",
            "206:\tlearn: 343.8032625\ttotal: 866ms\tremaining: 389ms\n",
            "207:\tlearn: 343.0829717\ttotal: 869ms\tremaining: 385ms\n",
            "208:\tlearn: 340.3051925\ttotal: 873ms\tremaining: 380ms\n",
            "209:\tlearn: 338.1257914\ttotal: 877ms\tremaining: 376ms\n",
            "210:\tlearn: 335.2074931\ttotal: 881ms\tremaining: 371ms\n",
            "211:\tlearn: 334.5331722\ttotal: 884ms\tremaining: 367ms\n",
            "212:\tlearn: 331.2349817\ttotal: 888ms\tremaining: 363ms\n",
            "213:\tlearn: 330.5366520\ttotal: 891ms\tremaining: 358ms\n",
            "214:\tlearn: 328.5140224\ttotal: 895ms\tremaining: 354ms\n",
            "215:\tlearn: 327.4157547\ttotal: 898ms\tremaining: 349ms\n",
            "216:\tlearn: 323.4560440\ttotal: 902ms\tremaining: 345ms\n",
            "217:\tlearn: 320.4616871\ttotal: 905ms\tremaining: 341ms\n",
            "218:\tlearn: 320.2974281\ttotal: 909ms\tremaining: 336ms\n",
            "219:\tlearn: 317.6836434\ttotal: 913ms\tremaining: 332ms\n",
            "220:\tlearn: 316.3752551\ttotal: 917ms\tremaining: 328ms\n",
            "221:\tlearn: 314.2425692\ttotal: 921ms\tremaining: 323ms\n",
            "222:\tlearn: 312.6059924\ttotal: 924ms\tremaining: 319ms\n",
            "223:\tlearn: 311.3416711\ttotal: 928ms\tremaining: 315ms\n",
            "224:\tlearn: 307.3908578\ttotal: 932ms\tremaining: 311ms\n",
            "225:\tlearn: 303.6757250\ttotal: 958ms\tremaining: 314ms\n",
            "226:\tlearn: 303.3093940\ttotal: 970ms\tremaining: 312ms\n",
            "227:\tlearn: 301.8169177\ttotal: 977ms\tremaining: 308ms\n",
            "228:\tlearn: 299.9725564\ttotal: 987ms\tremaining: 306ms\n",
            "229:\tlearn: 299.2732484\ttotal: 997ms\tremaining: 304ms\n",
            "230:\tlearn: 298.7121921\ttotal: 1.01s\tremaining: 302ms\n",
            "231:\tlearn: 298.1684137\ttotal: 1.02s\tremaining: 298ms\n",
            "232:\tlearn: 293.9290617\ttotal: 1.03s\tremaining: 295ms\n",
            "233:\tlearn: 293.5935987\ttotal: 1.04s\tremaining: 293ms\n",
            "234:\tlearn: 288.4244475\ttotal: 1.04s\tremaining: 289ms\n",
            "235:\tlearn: 283.9571368\ttotal: 1.05s\tremaining: 286ms\n",
            "236:\tlearn: 282.4820684\ttotal: 1.06s\tremaining: 282ms\n",
            "237:\tlearn: 280.7826881\ttotal: 1.07s\tremaining: 278ms\n",
            "238:\tlearn: 279.7203926\ttotal: 1.08s\tremaining: 275ms\n",
            "239:\tlearn: 278.1068949\ttotal: 1.09s\tremaining: 272ms\n",
            "240:\tlearn: 276.7567789\ttotal: 1.1s\tremaining: 268ms\n",
            "241:\tlearn: 274.5241091\ttotal: 1.1s\tremaining: 265ms\n",
            "242:\tlearn: 274.0865661\ttotal: 1.11s\tremaining: 261ms\n",
            "243:\tlearn: 272.4627124\ttotal: 1.12s\tremaining: 257ms\n",
            "244:\tlearn: 269.5440228\ttotal: 1.13s\tremaining: 253ms\n",
            "245:\tlearn: 268.2342564\ttotal: 1.14s\tremaining: 249ms\n",
            "246:\tlearn: 267.4830643\ttotal: 1.15s\tremaining: 246ms\n",
            "247:\tlearn: 263.9863776\ttotal: 1.15s\tremaining: 242ms\n",
            "248:\tlearn: 263.2674235\ttotal: 1.16s\tremaining: 238ms\n",
            "249:\tlearn: 261.9787239\ttotal: 1.17s\tremaining: 234ms\n",
            "250:\tlearn: 258.7842364\ttotal: 1.18s\tremaining: 230ms\n",
            "251:\tlearn: 257.3675620\ttotal: 1.19s\tremaining: 226ms\n",
            "252:\tlearn: 255.7969650\ttotal: 1.19s\tremaining: 222ms\n",
            "253:\tlearn: 253.3544908\ttotal: 1.2s\tremaining: 217ms\n",
            "254:\tlearn: 250.7870257\ttotal: 1.2s\tremaining: 212ms\n",
            "255:\tlearn: 247.9274928\ttotal: 1.2s\tremaining: 207ms\n",
            "256:\tlearn: 246.1735794\ttotal: 1.21s\tremaining: 202ms\n",
            "257:\tlearn: 243.7701340\ttotal: 1.21s\tremaining: 197ms\n",
            "258:\tlearn: 241.8734806\ttotal: 1.21s\tremaining: 192ms\n",
            "259:\tlearn: 238.9227908\ttotal: 1.22s\tremaining: 187ms\n",
            "260:\tlearn: 238.4923014\ttotal: 1.22s\tremaining: 183ms\n",
            "261:\tlearn: 237.5466677\ttotal: 1.23s\tremaining: 178ms\n",
            "262:\tlearn: 236.9789840\ttotal: 1.23s\tremaining: 173ms\n",
            "263:\tlearn: 234.7774337\ttotal: 1.23s\tremaining: 168ms\n",
            "264:\tlearn: 234.0704310\ttotal: 1.24s\tremaining: 163ms\n",
            "265:\tlearn: 232.0350139\ttotal: 1.24s\tremaining: 158ms\n",
            "266:\tlearn: 230.7856438\ttotal: 1.24s\tremaining: 154ms\n",
            "267:\tlearn: 228.6532396\ttotal: 1.25s\tremaining: 149ms\n",
            "268:\tlearn: 228.2557103\ttotal: 1.25s\tremaining: 144ms\n",
            "269:\tlearn: 227.4049898\ttotal: 1.25s\tremaining: 139ms\n",
            "270:\tlearn: 225.9968323\ttotal: 1.26s\tremaining: 135ms\n",
            "271:\tlearn: 224.5502424\ttotal: 1.26s\tremaining: 130ms\n",
            "272:\tlearn: 223.5199724\ttotal: 1.26s\tremaining: 125ms\n",
            "273:\tlearn: 221.7447686\ttotal: 1.27s\tremaining: 120ms\n",
            "274:\tlearn: 221.4801611\ttotal: 1.27s\tremaining: 116ms\n",
            "275:\tlearn: 218.8230653\ttotal: 1.27s\tremaining: 111ms\n",
            "276:\tlearn: 215.2269713\ttotal: 1.28s\tremaining: 106ms\n",
            "277:\tlearn: 214.4885193\ttotal: 1.28s\tremaining: 101ms\n",
            "278:\tlearn: 213.3675939\ttotal: 1.28s\tremaining: 96.8ms\n",
            "279:\tlearn: 211.3774095\ttotal: 1.29s\tremaining: 92.1ms\n",
            "280:\tlearn: 210.0949190\ttotal: 1.29s\tremaining: 87.5ms\n",
            "281:\tlearn: 209.0086435\ttotal: 1.3s\tremaining: 82.8ms\n",
            "282:\tlearn: 208.5142846\ttotal: 1.3s\tremaining: 78.2ms\n",
            "283:\tlearn: 206.4881311\ttotal: 1.3s\tremaining: 73.5ms\n",
            "284:\tlearn: 205.6515822\ttotal: 1.31s\tremaining: 69ms\n",
            "285:\tlearn: 205.2428367\ttotal: 1.31s\tremaining: 64.4ms\n",
            "286:\tlearn: 203.6261326\ttotal: 1.32s\tremaining: 59.8ms\n",
            "287:\tlearn: 202.4149601\ttotal: 1.32s\tremaining: 55.1ms\n",
            "288:\tlearn: 201.1604159\ttotal: 1.33s\tremaining: 50.5ms\n",
            "289:\tlearn: 197.8872373\ttotal: 1.33s\tremaining: 45.9ms\n",
            "290:\tlearn: 197.6154979\ttotal: 1.33s\tremaining: 41.3ms\n",
            "291:\tlearn: 197.0413161\ttotal: 1.34s\tremaining: 36.7ms\n",
            "292:\tlearn: 195.2668357\ttotal: 1.34s\tremaining: 32.1ms\n",
            "293:\tlearn: 193.5730209\ttotal: 1.35s\tremaining: 27.6ms\n",
            "294:\tlearn: 192.8714753\ttotal: 1.35s\tremaining: 22.9ms\n",
            "295:\tlearn: 190.5026266\ttotal: 1.36s\tremaining: 18.3ms\n",
            "296:\tlearn: 190.0701317\ttotal: 1.36s\tremaining: 13.8ms\n",
            "297:\tlearn: 187.8822005\ttotal: 1.36s\tremaining: 9.16ms\n",
            "298:\tlearn: 185.6767244\ttotal: 1.37s\tremaining: 4.58ms\n",
            "299:\tlearn: 184.6802446\ttotal: 1.37s\tremaining: 0us\n"
          ]
        },
        {
          "output_type": "display_data",
          "data": {
            "text/plain": [
              "<Figure size 1000x500 with 1 Axes>"
            ],
            "image/png": "[encoded data removed]"
          },
          "metadata": {}
        }
      ]
    },
    {
      "cell_type": "markdown",
      "source": [
        "Сохраним прогноз в файл и отправим на kaggle."
      ],
      "metadata": {
        "id": "YsaQVeCA077J"
      }
    },
    {
      "cell_type": "code",
      "source": [
        "X_test"
      ],
      "metadata": {
        "colab": {
          "base_uri": "https://localhost:8080/",
          "height": 191
        },
        "id": "iBC-u0ZsjKbG",
        "outputId": "06d714a8-7b29-4194-dab1-04e30fee24be"
      },
      "execution_count": null,
      "outputs": [
        {
          "output_type": "execute_result",
          "data": {
            "text/plain": [
              "   Adj Close_x  Adj Close_y  Adj Close     lag_7     lag_8     lag_9  \\\n",
              "0      0.88473     0.389972   0.178195  0.485435  0.464016  0.463158   \n",
              "\n",
              "     lag_10    lag_11    lag_12    lag_13  ...  lag_oil_11  lag_SP_12  \\\n",
              "0  0.451567  0.470842  0.457516  0.470536  ...    0.016854   0.712887   \n",
              "\n",
              "   lag_eth_12  lag_oil_12  lag_SP_13  lag_eth_13  lag_oil_13  day_average  \\\n",
              "0    0.330739    0.046173   0.710339    0.344202    0.042486     0.015855   \n",
              "\n",
              "   month_average  year_average  \n",
              "0       0.253139           0.0  \n",
              "\n",
              "[1 rows x 52 columns]"
            ],
            "text/html": [
              "\n",
              "\n",
              "  <div id=\"df-8ac8c200-adb4-4ae7-ae31-b84567163685\">\n",
              "    <div class=\"colab-df-container\">\n",
              "      <div>\n",
              "<style scoped>\n",
              "    .dataframe tbody tr th:only-of-type {\n",
              "        vertical-align: middle;\n",
              "    }\n",
              "\n",
              "    .dataframe tbody tr th {\n",
              "        vertical-align: top;\n",
              "    }\n",
              "\n",
              "    .dataframe thead th {\n",
              "        text-align: right;\n",
              "    }\n",
              "</style>\n",
              "<table border=\"1\" class=\"dataframe\">\n",
              "  <thead>\n",
              "    <tr style=\"text-align: right;\">\n",
              "      <th></th>\n",
              "      <th>Adj Close_x</th>\n",
              "      <th>Adj Close_y</th>\n",
              "      <th>Adj Close</th>\n",
              "      <th>lag_7</th>\n",
              "      <th>lag_8</th>\n",
              "      <th>lag_9</th>\n",
              "      <th>lag_10</th>\n",
              "      <th>lag_11</th>\n",
              "      <th>lag_12</th>\n",
              "      <th>lag_13</th>\n",
              "      <th>...</th>\n",
              "      <th>lag_oil_11</th>\n",
              "      <th>lag_SP_12</th>\n",
              "      <th>lag_eth_12</th>\n",
              "      <th>lag_oil_12</th>\n",
              "      <th>lag_SP_13</th>\n",
              "      <th>lag_eth_13</th>\n",
              "      <th>lag_oil_13</th>\n",
              "      <th>day_average</th>\n",
              "      <th>month_average</th>\n",
              "      <th>year_average</th>\n",
              "    </tr>\n",
              "  </thead>\n",
              "  <tbody>\n",
              "    <tr>\n",
              "      <th>0</th>\n",
              "      <td>0.88473</td>\n",
              "      <td>0.389972</td>\n",
              "      <td>0.178195</td>\n",
              "      <td>0.485435</td>\n",
              "      <td>0.464016</td>\n",
              "      <td>0.463158</td>\n",
              "      <td>0.451567</td>\n",
              "      <td>0.470842</td>\n",
              "      <td>0.457516</td>\n",
              "      <td>0.470536</td>\n",
              "      <td>...</td>\n",
              "      <td>0.016854</td>\n",
              "      <td>0.712887</td>\n",
              "      <td>0.330739</td>\n",
              "      <td>0.046173</td>\n",
              "      <td>0.710339</td>\n",
              "      <td>0.344202</td>\n",
              "      <td>0.042486</td>\n",
              "      <td>0.015855</td>\n",
              "      <td>0.253139</td>\n",
              "      <td>0.0</td>\n",
              "    </tr>\n",
              "  </tbody>\n",
              "</table>\n",
              "<p>1 rows × 52 columns</p>\n",
              "</div>\n",
              "      <button class=\"colab-df-convert\" onclick=\"convertToInteractive('df-8ac8c200-adb4-4ae7-ae31-b84567163685')\"\n",
              "              title=\"Convert this dataframe to an interactive table.\"\n",
              "              style=\"display:none;\">\n",
              "\n",
              "  <svg xmlns=\"http://www.w3.org/2000/svg\" height=\"24px\"viewBox=\"0 0 24 24\"\n",
              "       width=\"24px\">\n",
              "    <path d=\"M0 0h24v24H0V0z\" fill=\"none\"/>\n",
              "    <path d=\"M18.56 5.44l.94 2.06.94-2.06 2.06-.94-2.06-.94-.94-2.06-.94 2.06-2.06.94zm-11 1L8.5 8.5l.94-2.06 2.06-.94-2.06-.94L8.5 2.5l-.94 2.06-2.06.94zm10 10l.94 2.06.94-2.06 2.06-.94-2.06-.94-.94-2.06-.94 2.06-2.06.94z\"/><path d=\"M17.41 7.96l-1.37-1.37c-.4-.4-.92-.59-1.43-.59-.52 0-1.04.2-1.43.59L10.3 9.45l-7.72 7.72c-.78.78-.78 2.05 0 2.83L4 21.41c.39.39.9.59 1.41.59.51 0 1.02-.2 1.41-.59l7.78-7.78 2.81-2.81c.8-.78.8-2.07 0-2.86zM5.41 20L4 18.59l7.72-7.72 1.47 1.35L5.41 20z\"/>\n",
              "  </svg>\n",
              "      </button>\n",
              "\n",
              "\n",
              "\n",
              "    <div id=\"df-14e01aff-095e-413f-a8ee-8e170a7b90d8\">\n",
              "      <button class=\"colab-df-quickchart\" onclick=\"quickchart('df-14e01aff-095e-413f-a8ee-8e170a7b90d8')\"\n",
              "              title=\"Suggest charts.\"\n",
              "              style=\"display:none;\">\n",
              "\n",
              "<svg xmlns=\"http://www.w3.org/2000/svg\" height=\"24px\"viewBox=\"0 0 24 24\"\n",
              "     width=\"24px\">\n",
              "    <g>\n",
              "        <path d=\"M19 3H5c-1.1 0-2 .9-2 2v14c0 1.1.9 2 2 2h14c1.1 0 2-.9 2-2V5c0-1.1-.9-2-2-2zM9 17H7v-7h2v7zm4 0h-2V7h2v10zm4 0h-2v-4h2v4z\"/>\n",
              "    </g>\n",
              "</svg>\n",
              "      </button>\n",
              "    </div>\n",
              "\n",
              "<style>\n",
              "  .colab-df-quickchart {\n",
              "    background-color: #E8F0FE;\n",
              "    border: none;\n",
              "    border-radius: 50%;\n",
              "    cursor: pointer;\n",
              "    display: none;\n",
              "    fill: #1967D2;\n",
              "    height: 32px;\n",
              "    padding: 0 0 0 0;\n",
              "    width: 32px;\n",
              "  }\n",
              "\n",
              "  .colab-df-quickchart:hover {\n",
              "    background-color: #E2EBFA;\n",
              "    box-shadow: 0px 1px 2px rgba(60, 64, 67, 0.3), 0px 1px 3px 1px rgba(60, 64, 67, 0.15);\n",
              "    fill: #174EA6;\n",
              "  }\n",
              "\n",
              "  [theme=dark] .colab-df-quickchart {\n",
              "    background-color: #3B4455;\n",
              "    fill: #D2E3FC;\n",
              "  }\n",
              "\n",
              "  [theme=dark] .colab-df-quickchart:hover {\n",
              "    background-color: #434B5C;\n",
              "    box-shadow: 0px 1px 3px 1px rgba(0, 0, 0, 0.15);\n",
              "    filter: drop-shadow(0px 1px 2px rgba(0, 0, 0, 0.3));\n",
              "    fill: #FFFFFF;\n",
              "  }\n",
              "</style>\n",
              "\n",
              "    <script>\n",
              "      async function quickchart(key) {\n",
              "        const containerElement = document.querySelector('#' + key);\n",
              "        const charts = await google.colab.kernel.invokeFunction(\n",
              "            'suggestCharts', [key], {});\n",
              "      }\n",
              "    </script>\n",
              "\n",
              "      <script>\n",
              "\n",
              "function displayQuickchartButton(domScope) {\n",
              "  let quickchartButtonEl =\n",
              "    domScope.querySelector('#df-14e01aff-095e-413f-a8ee-8e170a7b90d8 button.colab-df-quickchart');\n",
              "  quickchartButtonEl.style.display =\n",
              "    google.colab.kernel.accessAllowed ? 'block' : 'none';\n",
              "}\n",
              "\n",
              "        displayQuickchartButton(document);\n",
              "      </script>\n",
              "      <style>\n",
              "    .colab-df-container {\n",
              "      display:flex;\n",
              "      flex-wrap:wrap;\n",
              "      gap: 12px;\n",
              "    }\n",
              "\n",
              "    .colab-df-convert {\n",
              "      background-color: #E8F0FE;\n",
              "      border: none;\n",
              "      border-radius: 50%;\n",
              "      cursor: pointer;\n",
              "      display: none;\n",
              "      fill: #1967D2;\n",
              "      height: 32px;\n",
              "      padding: 0 0 0 0;\n",
              "      width: 32px;\n",
              "    }\n",
              "\n",
              "    .colab-df-convert:hover {\n",
              "      background-color: #E2EBFA;\n",
              "      box-shadow: 0px 1px 2px rgba(60, 64, 67, 0.3), 0px 1px 3px 1px rgba(60, 64, 67, 0.15);\n",
              "      fill: #174EA6;\n",
              "    }\n",
              "\n",
              "    [theme=dark] .colab-df-convert {\n",
              "      background-color: #3B4455;\n",
              "      fill: #D2E3FC;\n",
              "    }\n",
              "\n",
              "    [theme=dark] .colab-df-convert:hover {\n",
              "      background-color: #434B5C;\n",
              "      box-shadow: 0px 1px 3px 1px rgba(0, 0, 0, 0.15);\n",
              "      filter: drop-shadow(0px 1px 2px rgba(0, 0, 0, 0.3));\n",
              "      fill: #FFFFFF;\n",
              "    }\n",
              "  </style>\n",
              "\n",
              "      <script>\n",
              "        const buttonEl =\n",
              "          document.querySelector('#df-8ac8c200-adb4-4ae7-ae31-b84567163685 button.colab-df-convert');\n",
              "        buttonEl.style.display =\n",
              "          google.colab.kernel.accessAllowed ? 'block' : 'none';\n",
              "\n",
              "        async function convertToInteractive(key) {\n",
              "          const element = document.querySelector('#df-8ac8c200-adb4-4ae7-ae31-b84567163685');\n",
              "          const dataTable =\n",
              "            await google.colab.kernel.invokeFunction('convertToInteractive',\n",
              "                                                     [key], {});\n",
              "          if (!dataTable) return;\n",
              "\n",
              "          const docLinkHtml = 'Like what you see? Visit the ' +\n",
              "            '<a target=\"_blank\" href=https://colab.research.google.com/notebooks/data_table.ipynb>data table notebook</a>'\n",
              "            + ' to learn more about interactive tables.';\n",
              "          element.innerHTML = '';\n",
              "          dataTable['output_type'] = 'display_data';\n",
              "          await google.colab.output.renderOutput(dataTable, element);\n",
              "          const docLink = document.createElement('div');\n",
              "          docLink.innerHTML = docLinkHtml;\n",
              "          element.appendChild(docLink);\n",
              "        }\n",
              "      </script>\n",
              "    </div>\n",
              "  </div>\n"
            ]
          },
          "metadata": {},
          "execution_count": 106
        }
      ]
    },
    {
      "cell_type": "code",
      "source": [
        "X_test['Date'] = data.index[-7:]\n",
        "X_test['Price'] = preds[-7:]\n",
        "\n",
        "X_test.set_index('Date', inplace=True)"
      ],
      "metadata": {
        "id": "SyBIk5JWxFIW",
        "colab": {
          "base_uri": "https://localhost:8080/",
          "height": 386
        },
        "outputId": "8196bd67-8aab-4ce8-97d0-4ad89fdae063"
      },
      "execution_count": null,
      "outputs": [
        {
          "output_type": "error",
          "ename": "ValueError",
          "evalue": "ignored",
          "traceback": [
            "\u001b[0;31m---------------------------------------------------------------------------\u001b[0m",
            "\u001b[0;31mValueError\u001b[0m                                Traceback (most recent call last)",
            "\u001b[0;32m<ipython-input-104-4ad6a8e99c5d>\u001b[0m in \u001b[0;36m<cell line: 1>\u001b[0;34m()\u001b[0m\n\u001b[0;32m----> 1\u001b[0;31m \u001b[0mX_test\u001b[0m\u001b[0;34m[\u001b[0m\u001b[0;34m'Date'\u001b[0m\u001b[0;34m]\u001b[0m \u001b[0;34m=\u001b[0m \u001b[0mdata\u001b[0m\u001b[0;34m.\u001b[0m\u001b[0mindex\u001b[0m\u001b[0;34m[\u001b[0m\u001b[0;34m-\u001b[0m\u001b[0;36m7\u001b[0m\u001b[0;34m:\u001b[0m\u001b[0;34m]\u001b[0m\u001b[0;34m\u001b[0m\u001b[0;34m\u001b[0m\u001b[0m\n\u001b[0m\u001b[1;32m      2\u001b[0m \u001b[0mX_test\u001b[0m\u001b[0;34m[\u001b[0m\u001b[0;34m'Price'\u001b[0m\u001b[0;34m]\u001b[0m \u001b[0;34m=\u001b[0m \u001b[0mpreds\u001b[0m\u001b[0;34m[\u001b[0m\u001b[0;34m-\u001b[0m\u001b[0;36m7\u001b[0m\u001b[0;34m:\u001b[0m\u001b[0;34m]\u001b[0m\u001b[0;34m\u001b[0m\u001b[0;34m\u001b[0m\u001b[0m\n\u001b[1;32m      3\u001b[0m \u001b[0;34m\u001b[0m\u001b[0m\n\u001b[1;32m      4\u001b[0m \u001b[0mX_test\u001b[0m\u001b[0;34m.\u001b[0m\u001b[0mset_index\u001b[0m\u001b[0;34m(\u001b[0m\u001b[0;34m'Date'\u001b[0m\u001b[0;34m,\u001b[0m \u001b[0minplace\u001b[0m\u001b[0;34m=\u001b[0m\u001b[0;32mTrue\u001b[0m\u001b[0;34m)\u001b[0m\u001b[0;34m\u001b[0m\u001b[0;34m\u001b[0m\u001b[0m\n",
            "\u001b[0;32m/usr/local/lib/python3.10/dist-packages/pandas/core/frame.py\u001b[0m in \u001b[0;36m__setitem__\u001b[0;34m(self, key, value)\u001b[0m\n\u001b[1;32m   3978\u001b[0m         \u001b[0;32melse\u001b[0m\u001b[0;34m:\u001b[0m\u001b[0;34m\u001b[0m\u001b[0;34m\u001b[0m\u001b[0m\n\u001b[1;32m   3979\u001b[0m             \u001b[0;31m# set column\u001b[0m\u001b[0;34m\u001b[0m\u001b[0;34m\u001b[0m\u001b[0m\n\u001b[0;32m-> 3980\u001b[0;31m             \u001b[0mself\u001b[0m\u001b[0;34m.\u001b[0m\u001b[0m_set_item\u001b[0m\u001b[0;34m(\u001b[0m\u001b[0mkey\u001b[0m\u001b[0;34m,\u001b[0m \u001b[0mvalue\u001b[0m\u001b[0;34m)\u001b[0m\u001b[0;34m\u001b[0m\u001b[0;34m\u001b[0m\u001b[0m\n\u001b[0m\u001b[1;32m   3981\u001b[0m \u001b[0;34m\u001b[0m\u001b[0m\n\u001b[1;32m   3982\u001b[0m     \u001b[0;32mdef\u001b[0m \u001b[0m_setitem_slice\u001b[0m\u001b[0;34m(\u001b[0m\u001b[0mself\u001b[0m\u001b[0;34m,\u001b[0m \u001b[0mkey\u001b[0m\u001b[0;34m:\u001b[0m \u001b[0mslice\u001b[0m\u001b[0;34m,\u001b[0m \u001b[0mvalue\u001b[0m\u001b[0;34m)\u001b[0m\u001b[0;34m:\u001b[0m\u001b[0;34m\u001b[0m\u001b[0;34m\u001b[0m\u001b[0m\n",
            "\u001b[0;32m/usr/local/lib/python3.10/dist-packages/pandas/core/frame.py\u001b[0m in \u001b[0;36m_set_item\u001b[0;34m(self, key, value)\u001b[0m\n\u001b[1;32m   4172\u001b[0m         \u001b[0mensure\u001b[0m \u001b[0mhomogeneity\u001b[0m\u001b[0;34m.\u001b[0m\u001b[0;34m\u001b[0m\u001b[0;34m\u001b[0m\u001b[0m\n\u001b[1;32m   4173\u001b[0m         \"\"\"\n\u001b[0;32m-> 4174\u001b[0;31m         \u001b[0mvalue\u001b[0m \u001b[0;34m=\u001b[0m \u001b[0mself\u001b[0m\u001b[0;34m.\u001b[0m\u001b[0m_sanitize_column\u001b[0m\u001b[0;34m(\u001b[0m\u001b[0mvalue\u001b[0m\u001b[0;34m)\u001b[0m\u001b[0;34m\u001b[0m\u001b[0;34m\u001b[0m\u001b[0m\n\u001b[0m\u001b[1;32m   4175\u001b[0m \u001b[0;34m\u001b[0m\u001b[0m\n\u001b[1;32m   4176\u001b[0m         if (\n",
            "\u001b[0;32m/usr/local/lib/python3.10/dist-packages/pandas/core/frame.py\u001b[0m in \u001b[0;36m_sanitize_column\u001b[0;34m(self, value)\u001b[0m\n\u001b[1;32m   4913\u001b[0m \u001b[0;34m\u001b[0m\u001b[0m\n\u001b[1;32m   4914\u001b[0m         \u001b[0;32mif\u001b[0m \u001b[0mis_list_like\u001b[0m\u001b[0;34m(\u001b[0m\u001b[0mvalue\u001b[0m\u001b[0;34m)\u001b[0m\u001b[0;34m:\u001b[0m\u001b[0;34m\u001b[0m\u001b[0;34m\u001b[0m\u001b[0m\n\u001b[0;32m-> 4915\u001b[0;31m             \u001b[0mcom\u001b[0m\u001b[0;34m.\u001b[0m\u001b[0mrequire_length_match\u001b[0m\u001b[0;34m(\u001b[0m\u001b[0mvalue\u001b[0m\u001b[0;34m,\u001b[0m \u001b[0mself\u001b[0m\u001b[0;34m.\u001b[0m\u001b[0mindex\u001b[0m\u001b[0;34m)\u001b[0m\u001b[0;34m\u001b[0m\u001b[0;34m\u001b[0m\u001b[0m\n\u001b[0m\u001b[1;32m   4916\u001b[0m         \u001b[0;32mreturn\u001b[0m \u001b[0msanitize_array\u001b[0m\u001b[0;34m(\u001b[0m\u001b[0mvalue\u001b[0m\u001b[0;34m,\u001b[0m \u001b[0mself\u001b[0m\u001b[0;34m.\u001b[0m\u001b[0mindex\u001b[0m\u001b[0;34m,\u001b[0m \u001b[0mcopy\u001b[0m\u001b[0;34m=\u001b[0m\u001b[0;32mTrue\u001b[0m\u001b[0;34m,\u001b[0m \u001b[0mallow_2d\u001b[0m\u001b[0;34m=\u001b[0m\u001b[0;32mTrue\u001b[0m\u001b[0;34m)\u001b[0m\u001b[0;34m\u001b[0m\u001b[0;34m\u001b[0m\u001b[0m\n\u001b[1;32m   4917\u001b[0m \u001b[0;34m\u001b[0m\u001b[0m\n",
            "\u001b[0;32m/usr/local/lib/python3.10/dist-packages/pandas/core/common.py\u001b[0m in \u001b[0;36mrequire_length_match\u001b[0;34m(data, index)\u001b[0m\n\u001b[1;32m    569\u001b[0m     \"\"\"\n\u001b[1;32m    570\u001b[0m     \u001b[0;32mif\u001b[0m \u001b[0mlen\u001b[0m\u001b[0;34m(\u001b[0m\u001b[0mdata\u001b[0m\u001b[0;34m)\u001b[0m \u001b[0;34m!=\u001b[0m \u001b[0mlen\u001b[0m\u001b[0;34m(\u001b[0m\u001b[0mindex\u001b[0m\u001b[0;34m)\u001b[0m\u001b[0;34m:\u001b[0m\u001b[0;34m\u001b[0m\u001b[0;34m\u001b[0m\u001b[0m\n\u001b[0;32m--> 571\u001b[0;31m         raise ValueError(\n\u001b[0m\u001b[1;32m    572\u001b[0m             \u001b[0;34m\"Length of values \"\u001b[0m\u001b[0;34m\u001b[0m\u001b[0;34m\u001b[0m\u001b[0m\n\u001b[1;32m    573\u001b[0m             \u001b[0;34mf\"({len(data)}) \"\u001b[0m\u001b[0;34m\u001b[0m\u001b[0;34m\u001b[0m\u001b[0m\n",
            "\u001b[0;31mValueError\u001b[0m: Length of values (7) does not match length of index (1)"
          ]
        }
      ]
    },
    {
      "cell_type": "code",
      "source": [
        "X_test[['Price']]"
      ],
      "metadata": {
        "id": "9L32oQuLVlIm",
        "colab": {
          "base_uri": "https://localhost:8080/",
          "height": 300
        },
        "outputId": "e696a1af-8258-444c-ba73-aaf92c86f535"
      },
      "execution_count": null,
      "outputs": [
        {
          "output_type": "execute_result",
          "data": {
            "text/plain": [
              "                   Price\n",
              "Date                    \n",
              "2023-07-05  31171.701172\n",
              "2023-07-06  31025.164062\n",
              "2023-07-07  31069.500000\n",
              "2023-07-10  31224.878906\n",
              "2023-07-11  32383.947266\n",
              "2023-07-12  33025.753906\n",
              "2023-07-13  36895.925781"
            ],
            "text/html": [
              "\n",
              "\n",
              "  <div id=\"df-de665579-64e9-4927-868d-815192f0700a\">\n",
              "    <div class=\"colab-df-container\">\n",
              "      <div>\n",
              "<style scoped>\n",
              "    .dataframe tbody tr th:only-of-type {\n",
              "        vertical-align: middle;\n",
              "    }\n",
              "\n",
              "    .dataframe tbody tr th {\n",
              "        vertical-align: top;\n",
              "    }\n",
              "\n",
              "    .dataframe thead th {\n",
              "        text-align: right;\n",
              "    }\n",
              "</style>\n",
              "<table border=\"1\" class=\"dataframe\">\n",
              "  <thead>\n",
              "    <tr style=\"text-align: right;\">\n",
              "      <th></th>\n",
              "      <th>Price</th>\n",
              "    </tr>\n",
              "    <tr>\n",
              "      <th>Date</th>\n",
              "      <th></th>\n",
              "    </tr>\n",
              "  </thead>\n",
              "  <tbody>\n",
              "    <tr>\n",
              "      <th>2023-07-05</th>\n",
              "      <td>31171.701172</td>\n",
              "    </tr>\n",
              "    <tr>\n",
              "      <th>2023-07-06</th>\n",
              "      <td>31025.164062</td>\n",
              "    </tr>\n",
              "    <tr>\n",
              "      <th>2023-07-07</th>\n",
              "      <td>31069.500000</td>\n",
              "    </tr>\n",
              "    <tr>\n",
              "      <th>2023-07-10</th>\n",
              "      <td>31224.878906</td>\n",
              "    </tr>\n",
              "    <tr>\n",
              "      <th>2023-07-11</th>\n",
              "      <td>32383.947266</td>\n",
              "    </tr>\n",
              "    <tr>\n",
              "      <th>2023-07-12</th>\n",
              "      <td>33025.753906</td>\n",
              "    </tr>\n",
              "    <tr>\n",
              "      <th>2023-07-13</th>\n",
              "      <td>36895.925781</td>\n",
              "    </tr>\n",
              "  </tbody>\n",
              "</table>\n",
              "</div>\n",
              "      <button class=\"colab-df-convert\" onclick=\"convertToInteractive('df-de665579-64e9-4927-868d-815192f0700a')\"\n",
              "              title=\"Convert this dataframe to an interactive table.\"\n",
              "              style=\"display:none;\">\n",
              "\n",
              "  <svg xmlns=\"http://www.w3.org/2000/svg\" height=\"24px\"viewBox=\"0 0 24 24\"\n",
              "       width=\"24px\">\n",
              "    <path d=\"M0 0h24v24H0V0z\" fill=\"none\"/>\n",
              "    <path d=\"M18.56 5.44l.94 2.06.94-2.06 2.06-.94-2.06-.94-.94-2.06-.94 2.06-2.06.94zm-11 1L8.5 8.5l.94-2.06 2.06-.94-2.06-.94L8.5 2.5l-.94 2.06-2.06.94zm10 10l.94 2.06.94-2.06 2.06-.94-2.06-.94-.94-2.06-.94 2.06-2.06.94z\"/><path d=\"M17.41 7.96l-1.37-1.37c-.4-.4-.92-.59-1.43-.59-.52 0-1.04.2-1.43.59L10.3 9.45l-7.72 7.72c-.78.78-.78 2.05 0 2.83L4 21.41c.39.39.9.59 1.41.59.51 0 1.02-.2 1.41-.59l7.78-7.78 2.81-2.81c.8-.78.8-2.07 0-2.86zM5.41 20L4 18.59l7.72-7.72 1.47 1.35L5.41 20z\"/>\n",
              "  </svg>\n",
              "      </button>\n",
              "\n",
              "\n",
              "\n",
              "    <div id=\"df-ac9a3927-bb6b-4701-b27d-58aa4d305873\">\n",
              "      <button class=\"colab-df-quickchart\" onclick=\"quickchart('df-ac9a3927-bb6b-4701-b27d-58aa4d305873')\"\n",
              "              title=\"Suggest charts.\"\n",
              "              style=\"display:none;\">\n",
              "\n",
              "<svg xmlns=\"http://www.w3.org/2000/svg\" height=\"24px\"viewBox=\"0 0 24 24\"\n",
              "     width=\"24px\">\n",
              "    <g>\n",
              "        <path d=\"M19 3H5c-1.1 0-2 .9-2 2v14c0 1.1.9 2 2 2h14c1.1 0 2-.9 2-2V5c0-1.1-.9-2-2-2zM9 17H7v-7h2v7zm4 0h-2V7h2v10zm4 0h-2v-4h2v4z\"/>\n",
              "    </g>\n",
              "</svg>\n",
              "      </button>\n",
              "    </div>\n",
              "\n",
              "<style>\n",
              "  .colab-df-quickchart {\n",
              "    background-color: #E8F0FE;\n",
              "    border: none;\n",
              "    border-radius: 50%;\n",
              "    cursor: pointer;\n",
              "    display: none;\n",
              "    fill: #1967D2;\n",
              "    height: 32px;\n",
              "    padding: 0 0 0 0;\n",
              "    width: 32px;\n",
              "  }\n",
              "\n",
              "  .colab-df-quickchart:hover {\n",
              "    background-color: #E2EBFA;\n",
              "    box-shadow: 0px 1px 2px rgba(60, 64, 67, 0.3), 0px 1px 3px 1px rgba(60, 64, 67, 0.15);\n",
              "    fill: #174EA6;\n",
              "  }\n",
              "\n",
              "  [theme=dark] .colab-df-quickchart {\n",
              "    background-color: #3B4455;\n",
              "    fill: #D2E3FC;\n",
              "  }\n",
              "\n",
              "  [theme=dark] .colab-df-quickchart:hover {\n",
              "    background-color: #434B5C;\n",
              "    box-shadow: 0px 1px 3px 1px rgba(0, 0, 0, 0.15);\n",
              "    filter: drop-shadow(0px 1px 2px rgba(0, 0, 0, 0.3));\n",
              "    fill: #FFFFFF;\n",
              "  }\n",
              "</style>\n",
              "\n",
              "    <script>\n",
              "      async function quickchart(key) {\n",
              "        const containerElement = document.querySelector('#' + key);\n",
              "        const charts = await google.colab.kernel.invokeFunction(\n",
              "            'suggestCharts', [key], {});\n",
              "      }\n",
              "    </script>\n",
              "\n",
              "      <script>\n",
              "\n",
              "function displayQuickchartButton(domScope) {\n",
              "  let quickchartButtonEl =\n",
              "    domScope.querySelector('#df-ac9a3927-bb6b-4701-b27d-58aa4d305873 button.colab-df-quickchart');\n",
              "  quickchartButtonEl.style.display =\n",
              "    google.colab.kernel.accessAllowed ? 'block' : 'none';\n",
              "}\n",
              "\n",
              "        displayQuickchartButton(document);\n",
              "      </script>\n",
              "      <style>\n",
              "    .colab-df-container {\n",
              "      display:flex;\n",
              "      flex-wrap:wrap;\n",
              "      gap: 12px;\n",
              "    }\n",
              "\n",
              "    .colab-df-convert {\n",
              "      background-color: #E8F0FE;\n",
              "      border: none;\n",
              "      border-radius: 50%;\n",
              "      cursor: pointer;\n",
              "      display: none;\n",
              "      fill: #1967D2;\n",
              "      height: 32px;\n",
              "      padding: 0 0 0 0;\n",
              "      width: 32px;\n",
              "    }\n",
              "\n",
              "    .colab-df-convert:hover {\n",
              "      background-color: #E2EBFA;\n",
              "      box-shadow: 0px 1px 2px rgba(60, 64, 67, 0.3), 0px 1px 3px 1px rgba(60, 64, 67, 0.15);\n",
              "      fill: #174EA6;\n",
              "    }\n",
              "\n",
              "    [theme=dark] .colab-df-convert {\n",
              "      background-color: #3B4455;\n",
              "      fill: #D2E3FC;\n",
              "    }\n",
              "\n",
              "    [theme=dark] .colab-df-convert:hover {\n",
              "      background-color: #434B5C;\n",
              "      box-shadow: 0px 1px 3px 1px rgba(0, 0, 0, 0.15);\n",
              "      filter: drop-shadow(0px 1px 2px rgba(0, 0, 0, 0.3));\n",
              "      fill: #FFFFFF;\n",
              "    }\n",
              "  </style>\n",
              "\n",
              "      <script>\n",
              "        const buttonEl =\n",
              "          document.querySelector('#df-de665579-64e9-4927-868d-815192f0700a button.colab-df-convert');\n",
              "        buttonEl.style.display =\n",
              "          google.colab.kernel.accessAllowed ? 'block' : 'none';\n",
              "\n",
              "        async function convertToInteractive(key) {\n",
              "          const element = document.querySelector('#df-de665579-64e9-4927-868d-815192f0700a');\n",
              "          const dataTable =\n",
              "            await google.colab.kernel.invokeFunction('convertToInteractive',\n",
              "                                                     [key], {});\n",
              "          if (!dataTable) return;\n",
              "\n",
              "          const docLinkHtml = 'Like what you see? Visit the ' +\n",
              "            '<a target=\"_blank\" href=https://colab.research.google.com/notebooks/data_table.ipynb>data table notebook</a>'\n",
              "            + ' to learn more about interactive tables.';\n",
              "          element.innerHTML = '';\n",
              "          dataTable['output_type'] = 'display_data';\n",
              "          await google.colab.output.renderOutput(dataTable, element);\n",
              "          const docLink = document.createElement('div');\n",
              "          docLink.innerHTML = docLinkHtml;\n",
              "          element.appendChild(docLink);\n",
              "        }\n",
              "      </script>\n",
              "    </div>\n",
              "  </div>\n"
            ]
          },
          "metadata": {},
          "execution_count": 61
        }
      ]
    },
    {
      "cell_type": "code",
      "source": [
        "X_test[['Price']].to_csv(\"pred_xgb2.csv\")"
      ],
      "metadata": {
        "id": "9z7pGvxSxFyJ"
      },
      "execution_count": null,
      "outputs": []
    },
    {
      "cell_type": "code",
      "source": [
        "from sklearn.ensemble import RandomForestRegressor\n",
        "\n",
        "rf = RandomForestRegressor()\n",
        "rf.fit(X_train, y_train)\n",
        "preds = rf.predict(X_test)\n",
        "\n",
        "plt.figure(figsize=(10, 5))\n",
        "plt.plot(preds, \"r\", label=\"prediction\")\n",
        "plt.plot(y_test.values, label=\"actual\")\n",
        "plt.grid(True)\n",
        "plt.legend(loc=\"best\")\n",
        "plt.title(f\"Linear regression\\n Mean absolute error {mean_absolute_error(preds, y_test)} degrees\");"
      ],
      "metadata": {
        "id": "m5r_ni1811Yq",
        "colab": {
          "base_uri": "https://localhost:8080/",
          "height": 488
        },
        "outputId": "cd82bf8e-a111-4c9e-de98-d329fd01ecc2"
      },
      "execution_count": null,
      "outputs": [
        {
          "output_type": "display_data",
          "data": {
            "text/plain": [
              "<Figure size 1000x500 with 1 Axes>"
            ],
            "image/png": "[encoded data removed]"
          },
          "metadata": {}
        }
      ]
    }
  ]
}